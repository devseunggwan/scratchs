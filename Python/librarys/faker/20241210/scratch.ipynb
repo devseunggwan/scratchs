{
 "cells": [
  {
   "cell_type": "code",
   "execution_count": null,
   "metadata": {},
   "outputs": [],
   "source": [
    "import base64\n",
    "import hashlib\n",
    "import re\n",
    "import secrets\n",
    "\n",
    "from faker import Faker\n"
   ]
  },
  {
   "cell_type": "code",
   "execution_count": 3,
   "metadata": {},
   "outputs": [],
   "source": [
    "fake = Faker(locale=\"ko_KR\")"
   ]
  },
  {
   "cell_type": "code",
   "execution_count": 44,
   "metadata": {},
   "outputs": [
    {
     "name": "stdout",
     "output_type": "stream",
     "text": [
      "대구광역시 성동구\n"
     ]
    }
   ],
   "source": [
    "address_pattern = r\"([가-힣]+(시|도))\\s*([가-힣]+(시|군|구))\"\n",
    "f_address = fake.address()\n",
    "\n",
    "match = re.search(address_pattern, f_address)\n",
    "\n",
    "if match:\n",
    "    print(match.group(0))"
   ]
  },
  {
   "cell_type": "code",
   "execution_count": 52,
   "metadata": {},
   "outputs": [],
   "source": [
    "def transfer_address(address: str):\n",
    "    return \" \".join(address.strip().split()[:2])\n",
    "\n",
    "\n",
    "def transfer_hash(value: str, salt: str):\n",
    "    return hashlib.sha256((value + salt).encode(\"utf-8\")).hexdigest()"
   ]
  },
  {
   "cell_type": "code",
   "execution_count": 48,
   "metadata": {},
   "outputs": [
    {
     "data": {
      "text/plain": [
       "'/B+uONLRUdkuz+4QrhuiPA=='"
      ]
     },
     "execution_count": 48,
     "metadata": {},
     "output_type": "execute_result"
    }
   ],
   "source": [
    "salt = secrets.token_bytes(16)\n",
    "salt = base64.b64encode(salt).decode(\"utf-8\")\n",
    "salt"
   ]
  },
  {
   "cell_type": "code",
   "execution_count": 63,
   "metadata": {},
   "outputs": [
    {
     "data": {
      "text/plain": [
       "{'job': '도시 및 교통설계 전문가',\n",
       " 'company': '(유) 김오양',\n",
       " 'ssn': '460801-2353222',\n",
       " 'residence': '전라남도 청주시 청원구 언주길 지하### (준영이김마을)',\n",
       " 'current_location': (Decimal('-86.9895545'), Decimal('29.853485')),\n",
       " 'blood_group': 'A-',\n",
       " 'website': ['https://www.ju.com/', 'https://www.simbagi.kr/'],\n",
       " 'username': 'junhyeogbag',\n",
       " 'name': '윤유진',\n",
       " 'sex': 'F',\n",
       " 'address': '광주광역시 관악구 잠실62가 ### (정자박이동)',\n",
       " 'mail': 'mi@hotmail.com',\n",
       " 'birthdate': datetime.date(1990, 8, 17)}"
      ]
     },
     "execution_count": 63,
     "metadata": {},
     "output_type": "execute_result"
    }
   ],
   "source": [
    "profile = fake.profile()\n",
    "profile"
   ]
  },
  {
   "cell_type": "code",
   "execution_count": null,
   "metadata": {},
   "outputs": [
    {
     "data": {
      "text/plain": [
       "{'job': '도시 및 교통설계 전문가',\n",
       " 'company': '(유) 김오양',\n",
       " 'ssn': '1977939d05130f6a286e117d08c85131f5ec94a009cba274fcc7c27507363334',\n",
       " 'residence': '전라남도 청주시',\n",
       " 'username': 'bb0474f82deff266a99d4dd274ea2831caf533a01e3eccd3e19acfefc21f63e1',\n",
       " 'name': '7bfefa4ace34b1ab9ca666bcea7e394f6ac0b4310b4aadaf3f5036eb424fe7c6',\n",
       " 'sex': 'F',\n",
       " 'address': '68223e08b17f4a32f029d1e004833182667b9f2a7b084aad6f5446451b029e62',\n",
       " 'mail': '7f5fa4f46bacb772741fe021795a7d74c4e8976803e1050c09468a4c4a618e24'}"
      ]
     },
     "execution_count": 64,
     "metadata": {},
     "output_type": "execute_result"
    }
   ],
   "source": [
    "profile[\"ssn\"] = transfer_hash(profile[\"ssn\"], salt)\n",
    "profile[\"residence\"] = transfer_address(profile[\"residence\"])\n",
    "profile[\"username\"] = transfer_hash(profile[\"username\"], salt)\n",
    "profile[\"name\"] = transfer_hash(profile[\"name\"], salt)\n",
    "profile[\"address\"] = transfer_hash(profile[\"address\"], salt)\n",
    "profile[\"mail\"] = transfer_hash(profile[\"mail\"], salt)\n",
    "\n",
    "del (\n",
    "    profile[\"current_location\"],\n",
    "    profile[\"blood_group\"],\n",
    "    profile[\"website\"],\n",
    "    profile[\"birthdate\"],\n",
    ")\n",
    "\n",
    "profile"
   ]
  },
  {
   "cell_type": "code",
   "execution_count": 113,
   "metadata": {},
   "outputs": [
    {
     "data": {
      "text/plain": [
       "{'card_name': 'VISA 16 digit',\n",
       " 'last_name': '민석',\n",
       " 'first_name': '이',\n",
       " 'card_number': '4629167282865849',\n",
       " 'card_expire': '06/30',\n",
       " 'security_type': 'CVC',\n",
       " 'security_number': '395'}"
      ]
     },
     "execution_count": 113,
     "metadata": {},
     "output_type": "execute_result"
    }
   ],
   "source": [
    "card_profile = fake.credit_card_full().strip().split(\"\\n\")\n",
    "\n",
    "card_name = card_profile[0]\n",
    "last_name, first_name = card_profile[1].strip().split()\n",
    "card_number, card_expire = card_profile[2].strip().split()\n",
    "security_type, security_number = card_profile[3].strip().split(\": \")\n",
    "\n",
    "card_profile = {\n",
    "    \"card_name\": card_name,\n",
    "    \"last_name\": last_name,\n",
    "    \"first_name\": first_name,\n",
    "    \"card_number\": card_number,\n",
    "    \"card_expire\": card_expire,\n",
    "    \"security_type\": security_type,\n",
    "    \"security_number\": security_number,\n",
    "}\n",
    "card_profile"
   ]
  },
  {
   "cell_type": "code",
   "execution_count": 114,
   "metadata": {},
   "outputs": [
    {
     "data": {
      "text/plain": [
       "{'card_name': 'VISA 16 digit',\n",
       " 'card_number': '2d9ff9f245ccde589e3e1613abfc9ef9da1bd30ebbc8f84f4a560039dd1fcab5',\n",
       " 'card_expire': '06/30',\n",
       " 'security_type': 'CVC',\n",
       " 'security_number': '6970505280450471f8bbb60f04d0e22d6bdca493aeb16b0f4d203727101e8be9',\n",
       " 'name': 'cc8bcd2b0ea991a9426adcb519b568c4b0f0c99c4799ab7225b3e45092400932'}"
      ]
     },
     "execution_count": 114,
     "metadata": {},
     "output_type": "execute_result"
    }
   ],
   "source": [
    "card_profile[\"name\"] = transfer_hash(\n",
    "    card_profile[\"first_name\"] + card_profile[\"last_name\"], salt\n",
    ")\n",
    "card_profile[\"card_number\"] = transfer_hash(card_profile[\"card_number\"], salt)\n",
    "card_profile[\"security_number\"] = transfer_hash(card_profile[\"security_number\"], salt)\n",
    "\n",
    "del card_profile[\"first_name\"], card_profile[\"last_name\"]\n",
    "\n",
    "\n",
    "card_profile"
   ]
  }
 ],
 "metadata": {
  "kernelspec": {
   "display_name": "study",
   "language": "python",
   "name": "python3"
  },
  "language_info": {
   "codemirror_mode": {
    "name": "ipython",
    "version": 3
   },
   "file_extension": ".py",
   "mimetype": "text/x-python",
   "name": "python",
   "nbconvert_exporter": "python",
   "pygments_lexer": "ipython3",
   "version": "3.13.0"
  }
 },
 "nbformat": 4,
 "nbformat_minor": 2
}
