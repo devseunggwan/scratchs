{
 "cells": [
  {
   "cell_type": "code",
   "execution_count": null,
   "metadata": {},
   "outputs": [],
   "source": [
    "import os\n",
    "\n",
    "import loguru\n",
    "import polars as pl\n",
    "from polars.exceptions import ComputeError\n",
    "from sqlalchemy import create_engine, text\n",
    "from sqlalchemy.exc import SQLAlchemyError, OperationalError, DataError\n",
    "from dotenv import load_dotenv\n",
    "\n",
    "load_dotenv()\n",
    "logger = loguru.logger"
   ]
  },
  {
   "cell_type": "code",
   "execution_count": null,
   "metadata": {},
   "outputs": [],
   "source": [
    "__thick_mode = os.getenv(\"THICK_MODE\")\n",
    "__connect_args = {\n",
    "    \"user\": os.getenv(\"DB_USER\"),\n",
    "    \"password\": os.getenv(\"DB_PASSWORD\"),\n",
    "    \"host\": os.getenv(\"DB_HOST\"),\n",
    "    \"port\": os.getenv(\"DB_PORT\"),\n",
    "    \"service_name\": os.getenv(\"DB_SERVICE_NAME\"),\n",
    "}"
   ]
  },
  {
   "cell_type": "code",
   "execution_count": null,
   "metadata": {},
   "outputs": [],
   "source": [
    "class OracleConnector:\n",
    "    def __init__(self, thick_mode: bool, connection_args: dict):\n",
    "        self.__thick_mode = thick_mode\n",
    "        self.__connect_args = connection_args\n",
    "\n",
    "        self.__engine = create_engine(\n",
    "            \"oracle+oracledb://:@\",\n",
    "            thick_mode=self.__thick_mode,\n",
    "            connect_args=self.__connect_args\n",
    "        )\n",
    "        \n",
    "    def execute(self, query: str) -> pl.DataFrame | None:\n",
    "        result = None\n",
    "        \n",
    "        try:\n",
    "            with self.__engine.connect() as connection:\n",
    "                result = pl.read_database(query=text(query), connection=connection)\n",
    "        except OperationalError as e:\n",
    "            logger.error(f\"데이터베이스 연결 오류: {e}\")\n",
    "        except DataError as e:\n",
    "            logger.error(f\"데이터 형식 오류: {e}\")\n",
    "        except ComputeError as e:\n",
    "            logger.error(f\"Polars 계산 오류: {e}\")\n",
    "        except SQLAlchemyError as e:\n",
    "            logger.error(f\"SQLAlchemy 오류: {e}\")\n",
    "        except Exception as e:\n",
    "            logger.error(f\"Error while executing query: {e}\")\n",
    "        \n",
    "        return result"
   ]
  },
  {
   "cell_type": "code",
   "execution_count": null,
   "metadata": {},
   "outputs": [],
   "source": [
    "connector = OracleConnector(__thick_mode, __connect_args)"
   ]
  },
  {
   "cell_type": "code",
   "execution_count": null,
   "metadata": {},
   "outputs": [],
   "source": [
    "connector.execute(\"SELECT * FROM MY_TABLE\")"
   ]
  }
 ],
 "metadata": {
  "kernelspec": {
   "display_name": "privacy",
   "language": "python",
   "name": "python3"
  },
  "language_info": {
   "codemirror_mode": {
    "name": "ipython",
    "version": 3
   },
   "file_extension": ".py",
   "mimetype": "text/x-python",
   "name": "python",
   "nbconvert_exporter": "python",
   "pygments_lexer": "ipython3",
   "version": "3.13.0"
  }
 },
 "nbformat": 4,
 "nbformat_minor": 2
}
