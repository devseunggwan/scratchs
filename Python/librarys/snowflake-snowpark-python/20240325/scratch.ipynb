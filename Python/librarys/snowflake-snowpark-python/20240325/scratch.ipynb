{
 "cells": [
  {
   "cell_type": "code",
   "execution_count": 2,
   "metadata": {},
   "outputs": [
    {
     "data": {
      "text/plain": [
       "True"
      ]
     },
     "execution_count": 2,
     "metadata": {},
     "output_type": "execute_result"
    }
   ],
   "source": [
    "import asyncio\n",
    "import os\n",
    "\n",
    "from dotenv import load_dotenv\n",
    "from snowflake.snowpark import Session\n",
    "\n",
    "load_dotenv()"
   ]
  },
  {
   "cell_type": "code",
   "execution_count": 3,
   "metadata": {},
   "outputs": [],
   "source": [
    "connection_parameters = {\n",
    "    \"account\": os.getenv(\"SNOWFLAKE_ACCOUNT\"),\n",
    "    \"user\": os.getenv(\"SNOWFLAKE_USER\"),\n",
    "    \"password\": os.getenv(\"SNOWFLAKE_PASSWORD\"),\n",
    "    \"role\": os.getenv(\"SNOWFLAKE_ROLE\"),  # optional\n",
    "    \"warehouse\": os.getenv(\"SNOWFLAKE_WH\"),  # optional\n",
    "    \"database\": os.getenv(\"SNOWFLAKE_DATABASE\"),  # optional\n",
    "    \"schema\": os.getenv(\"SNOWFLAKE_SCHEMA\"),  # optional\n",
    "}\n",
    "new_session = Session.builder.configs(connection_parameters).create()"
   ]
  },
  {
   "cell_type": "code",
   "execution_count": 4,
   "metadata": {},
   "outputs": [
    {
     "name": "stdout",
     "output_type": "stream",
     "text": [
      "IS DONE?\n"
     ]
    }
   ],
   "source": [
    "async_job = new_session.table(\"LOCATION\").collect_nowait().to_df()"
   ]
  },
  {
   "cell_type": "code",
   "execution_count": 5,
   "metadata": {},
   "outputs": [
    {
     "data": {
      "text/html": [
       "<div>\n",
       "<style scoped>\n",
       "    .dataframe tbody tr th:only-of-type {\n",
       "        vertical-align: middle;\n",
       "    }\n",
       "\n",
       "    .dataframe tbody tr th {\n",
       "        vertical-align: top;\n",
       "    }\n",
       "\n",
       "    .dataframe thead th {\n",
       "        text-align: right;\n",
       "    }\n",
       "</style>\n",
       "<table border=\"1\" class=\"dataframe\">\n",
       "  <thead>\n",
       "    <tr style=\"text-align: right;\">\n",
       "      <th></th>\n",
       "      <th>START_IP_INT</th>\n",
       "      <th>END_IP_INT</th>\n",
       "      <th>JOIN_KEY</th>\n",
       "      <th>START_IP</th>\n",
       "      <th>END_IP</th>\n",
       "      <th>CITY</th>\n",
       "      <th>REGION</th>\n",
       "      <th>COUNTRY</th>\n",
       "      <th>LAT</th>\n",
       "      <th>LNG</th>\n",
       "      <th>POSTAL</th>\n",
       "      <th>TIMEZONE</th>\n",
       "    </tr>\n",
       "  </thead>\n",
       "  <tbody>\n",
       "    <tr>\n",
       "      <th>0</th>\n",
       "      <td>3162291694</td>\n",
       "      <td>3162291707</td>\n",
       "      <td>3162243072</td>\n",
       "      <td>188.124.189.238</td>\n",
       "      <td>188.124.189.251</td>\n",
       "      <td>Gdańsk</td>\n",
       "      <td>Pomerania</td>\n",
       "      <td>PL</td>\n",
       "      <td>54.35227</td>\n",
       "      <td>18.64912</td>\n",
       "      <td>80-101</td>\n",
       "      <td>Europe/Warsaw</td>\n",
       "    </tr>\n",
       "    <tr>\n",
       "      <th>1</th>\n",
       "      <td>3162485509</td>\n",
       "      <td>3162485511</td>\n",
       "      <td>3162439680</td>\n",
       "      <td>188.127.179.5</td>\n",
       "      <td>188.127.179.7</td>\n",
       "      <td>Madrid</td>\n",
       "      <td>Madrid</td>\n",
       "      <td>ES</td>\n",
       "      <td>40.41650</td>\n",
       "      <td>-3.70256</td>\n",
       "      <td>28004</td>\n",
       "      <td>Europe/Madrid</td>\n",
       "    </tr>\n",
       "    <tr>\n",
       "      <th>2</th>\n",
       "      <td>3163684868</td>\n",
       "      <td>3163684869</td>\n",
       "      <td>3163684864</td>\n",
       "      <td>188.146.0.4</td>\n",
       "      <td>188.146.0.5</td>\n",
       "      <td>Warsaw</td>\n",
       "      <td>Mazovia</td>\n",
       "      <td>PL</td>\n",
       "      <td>52.22977</td>\n",
       "      <td>21.01178</td>\n",
       "      <td>00-002</td>\n",
       "      <td>Europe/Warsaw</td>\n",
       "    </tr>\n",
       "    <tr>\n",
       "      <th>3</th>\n",
       "      <td>3163744948</td>\n",
       "      <td>3163744951</td>\n",
       "      <td>3163684864</td>\n",
       "      <td>188.146.234.180</td>\n",
       "      <td>188.146.234.183</td>\n",
       "      <td>Warsaw</td>\n",
       "      <td>Mazovia</td>\n",
       "      <td>PL</td>\n",
       "      <td>52.22977</td>\n",
       "      <td>21.01178</td>\n",
       "      <td>00-002</td>\n",
       "      <td>Europe/Warsaw</td>\n",
       "    </tr>\n",
       "    <tr>\n",
       "      <th>4</th>\n",
       "      <td>3159624762</td>\n",
       "      <td>3159624805</td>\n",
       "      <td>3159621632</td>\n",
       "      <td>188.84.12.58</td>\n",
       "      <td>188.84.12.101</td>\n",
       "      <td>Madrid</td>\n",
       "      <td>Madrid</td>\n",
       "      <td>ES</td>\n",
       "      <td>40.41650</td>\n",
       "      <td>-3.70256</td>\n",
       "      <td>28004</td>\n",
       "      <td>Europe/Madrid</td>\n",
       "    </tr>\n",
       "    <tr>\n",
       "      <th>...</th>\n",
       "      <td>...</td>\n",
       "      <td>...</td>\n",
       "      <td>...</td>\n",
       "      <td>...</td>\n",
       "      <td>...</td>\n",
       "      <td>...</td>\n",
       "      <td>...</td>\n",
       "      <td>...</td>\n",
       "      <td>...</td>\n",
       "      <td>...</td>\n",
       "      <td>...</td>\n",
       "      <td>...</td>\n",
       "    </tr>\n",
       "    <tr>\n",
       "      <th>674427</th>\n",
       "      <td>3648943234</td>\n",
       "      <td>3648943241</td>\n",
       "      <td>3648913408</td>\n",
       "      <td>217.126.116.130</td>\n",
       "      <td>217.126.116.137</td>\n",
       "      <td>Madrid</td>\n",
       "      <td>Madrid</td>\n",
       "      <td>ES</td>\n",
       "      <td>40.41650</td>\n",
       "      <td>-3.70256</td>\n",
       "      <td>28004</td>\n",
       "      <td>Europe/Madrid</td>\n",
       "    </tr>\n",
       "    <tr>\n",
       "      <th>674428</th>\n",
       "      <td>1062147336</td>\n",
       "      <td>1062147343</td>\n",
       "      <td>1062141952</td>\n",
       "      <td>63.79.21.8</td>\n",
       "      <td>63.79.21.15</td>\n",
       "      <td>Denver</td>\n",
       "      <td>Colorado</td>\n",
       "      <td>US</td>\n",
       "      <td>39.78780</td>\n",
       "      <td>-104.82880</td>\n",
       "      <td>80239</td>\n",
       "      <td>America/Denver</td>\n",
       "    </tr>\n",
       "    <tr>\n",
       "      <th>674429</th>\n",
       "      <td>3651166464</td>\n",
       "      <td>3651166719</td>\n",
       "      <td>3651141632</td>\n",
       "      <td>217.160.97.0</td>\n",
       "      <td>217.160.97.255</td>\n",
       "      <td>Madrid</td>\n",
       "      <td>Madrid</td>\n",
       "      <td>ES</td>\n",
       "      <td>40.41650</td>\n",
       "      <td>-3.70256</td>\n",
       "      <td>28004</td>\n",
       "      <td>Europe/Madrid</td>\n",
       "    </tr>\n",
       "    <tr>\n",
       "      <th>674430</th>\n",
       "      <td>3260501504</td>\n",
       "      <td>3260501759</td>\n",
       "      <td>3260481536</td>\n",
       "      <td>194.87.78.0</td>\n",
       "      <td>194.87.78.255</td>\n",
       "      <td>Madrid</td>\n",
       "      <td>Madrid</td>\n",
       "      <td>ES</td>\n",
       "      <td>40.41650</td>\n",
       "      <td>-3.70256</td>\n",
       "      <td>28004</td>\n",
       "      <td>Europe/Madrid</td>\n",
       "    </tr>\n",
       "    <tr>\n",
       "      <th>674431</th>\n",
       "      <td>1361810176</td>\n",
       "      <td>1361810431</td>\n",
       "      <td>1361772544</td>\n",
       "      <td>81.43.147.0</td>\n",
       "      <td>81.43.147.255</td>\n",
       "      <td>Madrid</td>\n",
       "      <td>Madrid</td>\n",
       "      <td>ES</td>\n",
       "      <td>40.41650</td>\n",
       "      <td>-3.70256</td>\n",
       "      <td>28004</td>\n",
       "      <td>Europe/Madrid</td>\n",
       "    </tr>\n",
       "  </tbody>\n",
       "</table>\n",
       "<p>674432 rows × 12 columns</p>\n",
       "</div>"
      ],
      "text/plain": [
       "       START_IP_INT  END_IP_INT    JOIN_KEY         START_IP           END_IP  \\\n",
       "0        3162291694  3162291707  3162243072  188.124.189.238  188.124.189.251   \n",
       "1        3162485509  3162485511  3162439680    188.127.179.5    188.127.179.7   \n",
       "2        3163684868  3163684869  3163684864      188.146.0.4      188.146.0.5   \n",
       "3        3163744948  3163744951  3163684864  188.146.234.180  188.146.234.183   \n",
       "4        3159624762  3159624805  3159621632     188.84.12.58    188.84.12.101   \n",
       "...             ...         ...         ...              ...              ...   \n",
       "674427   3648943234  3648943241  3648913408  217.126.116.130  217.126.116.137   \n",
       "674428   1062147336  1062147343  1062141952       63.79.21.8      63.79.21.15   \n",
       "674429   3651166464  3651166719  3651141632     217.160.97.0   217.160.97.255   \n",
       "674430   3260501504  3260501759  3260481536      194.87.78.0    194.87.78.255   \n",
       "674431   1361810176  1361810431  1361772544      81.43.147.0    81.43.147.255   \n",
       "\n",
       "          CITY     REGION COUNTRY       LAT        LNG  POSTAL        TIMEZONE  \n",
       "0       Gdańsk  Pomerania      PL  54.35227   18.64912  80-101   Europe/Warsaw  \n",
       "1       Madrid     Madrid      ES  40.41650   -3.70256   28004   Europe/Madrid  \n",
       "2       Warsaw    Mazovia      PL  52.22977   21.01178  00-002   Europe/Warsaw  \n",
       "3       Warsaw    Mazovia      PL  52.22977   21.01178  00-002   Europe/Warsaw  \n",
       "4       Madrid     Madrid      ES  40.41650   -3.70256   28004   Europe/Madrid  \n",
       "...        ...        ...     ...       ...        ...     ...             ...  \n",
       "674427  Madrid     Madrid      ES  40.41650   -3.70256   28004   Europe/Madrid  \n",
       "674428  Denver   Colorado      US  39.78780 -104.82880   80239  America/Denver  \n",
       "674429  Madrid     Madrid      ES  40.41650   -3.70256   28004   Europe/Madrid  \n",
       "674430  Madrid     Madrid      ES  40.41650   -3.70256   28004   Europe/Madrid  \n",
       "674431  Madrid     Madrid      ES  40.41650   -3.70256   28004   Europe/Madrid  \n",
       "\n",
       "[674432 rows x 12 columns]"
      ]
     },
     "execution_count": 5,
     "metadata": {},
     "output_type": "execute_result"
    }
   ],
   "source": [
    "async_job.to_pandas()"
   ]
  },
  {
   "cell_type": "code",
   "execution_count": 8,
   "metadata": {},
   "outputs": [
    {
     "name": "stdout",
     "output_type": "stream",
     "text": [
      "------------------\n",
      "|\"START_IP_INT\"  |\n",
      "------------------\n",
      "|2960736480      |\n",
      "|2961077958      |\n",
      "|1607610624      |\n",
      "|1595314252      |\n",
      "|1636541292      |\n",
      "|1636544598      |\n",
      "|1636545707      |\n",
      "|1636546704      |\n",
      "|1636550240      |\n",
      "|1636552259      |\n",
      "------------------\n",
      "\n"
     ]
    }
   ],
   "source": [
    "[async_job.select(\"START_IP_INT\").show(), async_job.select(\"END_IP_INT\").show()]"
   ]
  },
  {
   "cell_type": "code",
   "execution_count": 12,
   "metadata": {},
   "outputs": [
    {
     "ename": "TypeError",
     "evalue": "An asyncio.Future, a coroutine or an awaitable is required",
     "output_type": "error",
     "traceback": [
      "\u001b[0;31m---------------------------------------------------------------------------\u001b[0m",
      "\u001b[0;31mTypeError\u001b[0m                                 Traceback (most recent call last)",
      "Cell \u001b[0;32mIn[12], line 1\u001b[0m\n\u001b[0;32m----> 1\u001b[0m resp \u001b[38;5;241m=\u001b[39m \u001b[43masyncio\u001b[49m\u001b[38;5;241;43m.\u001b[39;49m\u001b[43mgather\u001b[49m\u001b[43m(\u001b[49m\n\u001b[1;32m      2\u001b[0m \u001b[43m    \u001b[49m\u001b[38;5;241;43m*\u001b[39;49m\u001b[43m[\u001b[49m\u001b[43masync_job\u001b[49m\u001b[38;5;241;43m.\u001b[39;49m\u001b[43mselect\u001b[49m\u001b[43m(\u001b[49m\u001b[38;5;124;43m\"\u001b[39;49m\u001b[38;5;124;43mSTART_IP_INT\u001b[39;49m\u001b[38;5;124;43m\"\u001b[39;49m\u001b[43m)\u001b[49m\u001b[43m,\u001b[49m\u001b[43m \u001b[49m\u001b[43masync_job\u001b[49m\u001b[38;5;241;43m.\u001b[39;49m\u001b[43mselect\u001b[49m\u001b[43m(\u001b[49m\u001b[38;5;124;43m\"\u001b[39;49m\u001b[38;5;124;43mEND_IP_INT\u001b[39;49m\u001b[38;5;124;43m\"\u001b[39;49m\u001b[43m)\u001b[49m\u001b[43m]\u001b[49m\n\u001b[1;32m      3\u001b[0m \u001b[43m)\u001b[49m\n",
      "File \u001b[0;32m~/.pyenv/versions/3.11.5/lib/python3.11/asyncio/tasks.py:817\u001b[0m, in \u001b[0;36mgather\u001b[0;34m(return_exceptions, *coros_or_futures)\u001b[0m\n\u001b[1;32m    815\u001b[0m \u001b[38;5;28;01mfor\u001b[39;00m arg \u001b[38;5;129;01min\u001b[39;00m coros_or_futures:\n\u001b[1;32m    816\u001b[0m     \u001b[38;5;28;01mif\u001b[39;00m arg \u001b[38;5;129;01mnot\u001b[39;00m \u001b[38;5;129;01min\u001b[39;00m arg_to_fut:\n\u001b[0;32m--> 817\u001b[0m         fut \u001b[38;5;241m=\u001b[39m \u001b[43m_ensure_future\u001b[49m\u001b[43m(\u001b[49m\u001b[43marg\u001b[49m\u001b[43m,\u001b[49m\u001b[43m \u001b[49m\u001b[43mloop\u001b[49m\u001b[38;5;241;43m=\u001b[39;49m\u001b[43mloop\u001b[49m\u001b[43m)\u001b[49m\n\u001b[1;32m    818\u001b[0m         \u001b[38;5;28;01mif\u001b[39;00m loop \u001b[38;5;129;01mis\u001b[39;00m \u001b[38;5;28;01mNone\u001b[39;00m:\n\u001b[1;32m    819\u001b[0m             loop \u001b[38;5;241m=\u001b[39m futures\u001b[38;5;241m.\u001b[39m_get_loop(fut)\n",
      "File \u001b[0;32m~/.pyenv/versions/3.11.5/lib/python3.11/asyncio/tasks.py:664\u001b[0m, in \u001b[0;36m_ensure_future\u001b[0;34m(coro_or_future, loop)\u001b[0m\n\u001b[1;32m    662\u001b[0m         called_wrap_awaitable \u001b[38;5;241m=\u001b[39m \u001b[38;5;28;01mTrue\u001b[39;00m\n\u001b[1;32m    663\u001b[0m     \u001b[38;5;28;01melse\u001b[39;00m:\n\u001b[0;32m--> 664\u001b[0m         \u001b[38;5;28;01mraise\u001b[39;00m \u001b[38;5;167;01mTypeError\u001b[39;00m(\u001b[38;5;124m'\u001b[39m\u001b[38;5;124mAn asyncio.Future, a coroutine or an awaitable \u001b[39m\u001b[38;5;124m'\u001b[39m\n\u001b[1;32m    665\u001b[0m                         \u001b[38;5;124m'\u001b[39m\u001b[38;5;124mis required\u001b[39m\u001b[38;5;124m'\u001b[39m)\n\u001b[1;32m    667\u001b[0m \u001b[38;5;28;01mif\u001b[39;00m loop \u001b[38;5;129;01mis\u001b[39;00m \u001b[38;5;28;01mNone\u001b[39;00m:\n\u001b[1;32m    668\u001b[0m     loop \u001b[38;5;241m=\u001b[39m events\u001b[38;5;241m.\u001b[39m_get_event_loop(stacklevel\u001b[38;5;241m=\u001b[39m\u001b[38;5;241m4\u001b[39m)\n",
      "\u001b[0;31mTypeError\u001b[0m: An asyncio.Future, a coroutine or an awaitable is required"
     ]
    }
   ],
   "source": [
    "resp = asyncio.gather(\n",
    "    *[async_job.select(\"START_IP_INT\"), async_job.select(\"END_IP_INT\")]\n",
    ")"
   ]
  },
  {
   "cell_type": "code",
   "execution_count": null,
   "metadata": {},
   "outputs": [],
   "source": [
    "async def main():\n",
    "    res = async_job.to_pandas()\n",
    "    return res"
   ]
  },
  {
   "cell_type": "code",
   "execution_count": 1,
   "metadata": {},
   "outputs": [
    {
     "ename": "NameError",
     "evalue": "name 'main' is not defined",
     "output_type": "error",
     "traceback": [
      "\u001b[0;31m---------------------------------------------------------------------------\u001b[0m",
      "\u001b[0;31mNameError\u001b[0m                                 Traceback (most recent call last)",
      "Cell \u001b[0;32mIn[1], line 3\u001b[0m\n\u001b[1;32m      1\u001b[0m \u001b[38;5;28;01mimport\u001b[39;00m \u001b[38;5;21;01masyncio\u001b[39;00m\n\u001b[0;32m----> 3\u001b[0m res \u001b[38;5;241m=\u001b[39m asyncio\u001b[38;5;241m.\u001b[39mrun(\u001b[43mmain\u001b[49m)\n\u001b[1;32m      5\u001b[0m \u001b[38;5;28mprint\u001b[39m(\u001b[38;5;124m\"\u001b[39m\u001b[38;5;124mIS DONE?\u001b[39m\u001b[38;5;124m\"\u001b[39m)\n\u001b[1;32m      7\u001b[0m \u001b[38;5;66;03m# 비동기는 가능한데 병렬 \u001b[39;00m\n",
      "\u001b[0;31mNameError\u001b[0m: name 'main' is not defined"
     ]
    }
   ],
   "source": [
    "import asyncio\n",
    "\n",
    "res = asyncio.run(main)\n",
    "\n",
    "print(\"IS DONE?\")\n",
    "\n",
    "# 비동기는 가능한데 병렬"
   ]
  }
 ],
 "metadata": {
  "kernelspec": {
   "display_name": "study",
   "language": "python",
   "name": "python3"
  },
  "language_info": {
   "codemirror_mode": {
    "name": "ipython",
    "version": 3
   },
   "file_extension": ".py",
   "mimetype": "text/x-python",
   "name": "python",
   "nbconvert_exporter": "python",
   "pygments_lexer": "ipython3",
   "version": "3.11.5"
  }
 },
 "nbformat": 4,
 "nbformat_minor": 2
}
