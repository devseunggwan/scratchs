{
 "cells": [
  {
   "cell_type": "code",
   "execution_count": 4,
   "metadata": {},
   "outputs": [
    {
     "data": {
      "text/plain": [
       "True"
      ]
     },
     "execution_count": 4,
     "metadata": {},
     "output_type": "execute_result"
    }
   ],
   "source": [
    "import json\n",
    "import os\n",
    "\n",
    "import httpx\n",
    "from dotenv import load_dotenv\n",
    "load_dotenv()"
   ]
  },
  {
   "cell_type": "code",
   "execution_count": 3,
   "metadata": {},
   "outputs": [],
   "source": [
    "API_TOKEN = os.getenv('API_TOKEN')"
   ]
  },
  {
   "cell_type": "code",
   "execution_count": 10,
   "metadata": {},
   "outputs": [],
   "source": [
    "def write_json(data, filename=\"data.json\"):\n",
    "    with open(filename, \"w\") as f:\n",
    "        json.dump(data, f, indent=4)"
   ]
  },
  {
   "cell_type": "code",
   "execution_count": 17,
   "metadata": {},
   "outputs": [
    {
     "name": "stdout",
     "output_type": "stream",
     "text": [
      "{'payload': {'chainId': 8217, 'chainName': 'KLAY', 'test': False, 'gasPrice': 50, 'lastBlock': {'height': 142886055, 'hash': '0x54a2ab430b8305c7b3d42f5a924db5ccb1633ca47516fea1f125480690ac20b3', 'datetime': '2024-01-10T05:38:38+00:00', 'timestamp': 1704865118}, 'prevBlock': {'height': 142886054, 'hash': '0xf9b127c8230070d54bfab122b224458e7ee883b5574db226f571d46e2e73c3e2', 'datetime': '2024-01-10T05:38:37+00:00', 'timestamp': 1704865117}}, 'state': {'code': 200, 'success': True}}\n"
     ]
    }
   ],
   "source": [
    "url = f\"https://mainnet-api.blocksdk.com/v3/klay/info\"\n",
    "\n",
    "params = {\n",
    "    \"api_token\": API_TOKEN\n",
    "}\n",
    "\n",
    "response = httpx.get(url, params=params)\n",
    "\n",
    "print(response.json())\n",
    "\n",
    "write_json(response.json())\n"
   ]
  },
  {
   "cell_type": "code",
   "execution_count": 15,
   "metadata": {},
   "outputs": [
    {
     "name": "stdout",
     "output_type": "stream",
     "text": [
      "{'payload': {'hash': '0xca4029707b71947fbd08a485c7ae50683200d8cf767e300961cb88cfb825aa3d', 'height': 141309527, 'extra_data': '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', 'gas_used': 1238671, 'transactions': ['0xe7aef28ab06de56418b6aacc59039fa0d30dab8800190c9653765a290bec0231', '0xffa832a9227622a2502205793a1bdf3653d295e5bb05b55e9d45718052249337', '0x8e79d947b9cf827a37c7b44682a17991684a0ab4edf0cc766822fc190370fc58', '0xb491a1ee6b17c13610870b7d3e486bf58762825f121e1071087fc7773f0d66a3', '0xd80396aab2430e9fb2aaef700bd947f028fe4b9a7ecbb5449e2aca9e2c5449a5', '0x3a04637dbe91bf97e940d9a26ec1309f29c5fd2eb6630983606f72873586b3f4', '0xc2f9e6553edf910d5d72559ca7ba3274a35e5621b1040b11388a18feda338b78', '0x1bde3cd41d2cd286dfd569a860ed6339572ac8d393abcc5fdf92af71112755f1', '0xa42352f67a0a5e132660e1ba65b740f682e4ab4ba2b09eed07de65f53978b69d', '0x1f892870016b1866675ea67ae5325f19b7ca973decb32e5c861a63defbf3e69e', '0xc50c7f6bf1188ff0997bd3daeeafaa0aaad097e506f5e40e23bbb5b392f19450', '0x5bdedd76b0cd23c486b4c6576b85e45ae91cf36ba1422dd9fd1de847f8c3e857', '0x4b7d47336b74c048c11c48e9459420d8c8c3c82586d3c0c544745098f875d968', '0x296fbf0fca78bc4da9a70cf7a2121fa69cbad8830df190e79321d5c0b750359e', '0x514ac53f9d17ae77a98e5de4b9a8283e6867427edf87d9e797c06a0dd0b67ebb', '0xa2e0a2ed8e0d8d3e7d330c3d0167e80b7c2302dab13dc7543f78b1a0821a90f1', '0xefbce5fbf145dd41dd02782c52e887746edf022646e616f6509058fec5c9e589', '0x29fc6ca7b2e9431a4ac9a281cfb9be9360e746bb672f15dae2b4370c7336eea3', '0x3504c3ca7cf434f49a94da18db9f5a783bce1a794231c9ee18d1f56c7b5b6fad', '0x0f756491b2f15769efe305adde0aa595df569ab736e8e36ba4d7879d045a858e', '0x7626f07293a53270be70dac938091a8483812ace714c1f1c8b797ceb3553730e', '0xad6a91c2f81aa5ae9f3f77c4eed315d76d2bb75a4674d2312aea44d3c1060e84', '0xaf420e751a2c002422acaf469c0b5802964a94e52255857f0911eabcc0df3d23', '0xa7c082fe95d34722d80c8c1b87a34208890db1bbd01a6dcabb8d0a5d47f9782f', '0x862fe401e46f8ade93be3260db5691763d23d052ae48141f45e8f5969b73bb77', '0xa0fdd912d27a0a06f554f9797e3b10dfbab0a776a8be4a8b754d6d3b304a6c02', '0x91438ca605450629455365fc9ada2b3836c22cba16b11d6d0def4d94bc596f16', '0x95bd7ec85ff8921513d0853ffde512e1c978182ecdaab24729d330589cc4c973', '0x8e00b47f3b307736991dddc284b19b41b43de7bac1decc7c8b5db837e9d974b7', '0xc3bd1fff4a58fe8a098e4211e4daa27e6c3b141806277f963231a262d846515a'], 'transaction_count': 30, 'total_value': '0.00000000', 'ave_gwei': 33, 'reward': 2, 'size': 8669, 'confirmations': 1575016, 'datetime': '2023-12-22T23:27:27+00:00', 'timestamp': 1703287647, 'prev_block_hash': '0xc2ff08d82fbcd12bf6c597559fbe2319bc2b05d2abcbaacb42066401afc0ef78', 'prev_block_datetime': '2023-12-22T23:27:26+00:00', 'prev_block_timestamp': 1703287646, 'next_block_hash': '0xc33810d69764e0dba81ba11662a0f6e71a6efbf35f0eb12d429f9f6315598676', 'next_block_datetime': '2023-12-22T23:27:28+00:00', 'next_block_timestamp': 1703287648}, 'state': {'code': 200, 'success': True}}\n"
     ]
    }
   ],
   "source": [
    "block = 141309527\n",
    "url = f\"https://mainnet-api.blocksdk.com/v3/klay/block/{block}\"\n",
    "\n",
    "params = {\n",
    "    \"api_token\": API_TOKEN,\n",
    "    \"offset\": 0,\n",
    "    \"limit\": 10000\n",
    "}\n",
    "\n",
    "response = httpx.get(url, params=params)\n",
    "\n",
    "print(response.json())\n",
    "\n",
    "write_json(response.json())\n"
   ]
  },
  {
   "cell_type": "code",
   "execution_count": 16,
   "metadata": {},
   "outputs": [
    {
     "name": "stdout",
     "output_type": "stream",
     "text": [
      "{'payload': {'hash': '0x3504c3ca7cf434f49a94da18db9f5a783bce1a794231c9ee18d1f56c7b5b6fad', 'from': '0xa8ae143aa07e52716a2b06e95bc65e5f8d2c2f91', 'to': '0x63d4f17d2a8a729fd050f7679d961b1dfbb1e3af', 'value': '0', 'gasUsed': '75994', 'gasLimit': '1000000', 'gasPrice': '25000000000', 'fees': '1899850000000000', 'nonce': 626, 'transactionIndex': 18, 'input': '0x731133e9000000000000000000000000a8ae143aa07e52716a2b06e95bc65e5f8d2c2f910000000000000000000000000000000000000000000000000000000000000001000000000000000000000000000000000000000000000000000000000000000100000000000000000000000000000000000000000000000000000000000000800000000000000000000000000000000000000000000000000000000000000000', 'blockHash': '0xca4029707b71947fbd08a485c7ae50683200d8cf767e300961cb88cfb825aa3d', 'blockNumber': 141309527, 'confirmations': 1575111, 'logs': [{'contractAddress': '0x63d4f17d2a8a729fd050f7679d961b1dfbb1e3af', 'topics': ['0xc3d58168c5ae7397731d063d5bbf3d657854427343f4c083240f7aacaa2d0f62', '0x000000000000000000000000a8ae143aa07e52716a2b06e95bc65e5f8d2c2f91', '0x0000000000000000000000000000000000000000000000000000000000000000', '0x000000000000000000000000a8ae143aa07e52716a2b06e95bc65e5f8d2c2f91'], 'data': '0x00000000000000000000000000000000000000000000000000000000000000010000000000000000000000000000000000000000000000000000000000000001', 'blockNumber': 141309527, 'blockHash': '0xca4029707b71947fbd08a485c7ae50683200d8cf767e300961cb88cfb825aa3d', 'logIndex': 8, 'removed': False}], 'datetime': '2023-12-22T23:27:27+00:00', 'timestamp': 1703287647, 'feePayer': '0xa0d8f637987d194f94d6fb3c4045dc99f4227e87', 'feePayerSignatures': [{'v': '0x4056', 'r': '0x892cf81ad017be441c457824e55f30f0587b3ed3c093472c404c3a80806fb0b7', 's': '0x4557320c91a1f7bfe0a7fef94cd021ed334c90bc1ca848d3f36db9cdafe6e99'}], 'signatures': [{'v': '0x4056', 'r': '0xf90d16480ae25dc6ed865aaf71288356383abd74f6d466b5ab33895ef6300624', 's': '0x3babc813ee4d5284d66a88bdbcc3d5be73edafb4412309d2572a7135310f7550'}], 'status': 1}, 'state': {'code': 200, 'success': True}}\n"
     ]
    }
   ],
   "source": [
    "tx_hash = \"0x3504c3ca7cf434f49a94da18db9f5a783bce1a794231c9ee18d1f56c7b5b6fad\"\n",
    "url = f\"https://mainnet-api.blocksdk.com/v3/klay/transaction/{tx_hash}\"\n",
    "\n",
    "\n",
    "params = {\n",
    "    \"api_token\": API_TOKEN\n",
    "}\n",
    "\n",
    "response = httpx.get(url, params=params)\n",
    "\n",
    "print(response.json())\n",
    "\n",
    "write_json(response.json(), \"tx_nft.json\")\n"
   ]
  }
 ],
 "metadata": {
  "kernelspec": {
   "display_name": "web3",
   "language": "python",
   "name": "python3"
  },
  "language_info": {
   "codemirror_mode": {
    "name": "ipython",
    "version": 3
   },
   "file_extension": ".py",
   "mimetype": "text/x-python",
   "name": "python",
   "nbconvert_exporter": "python",
   "pygments_lexer": "ipython3",
   "version": "3.12.0"
  }
 },
 "nbformat": 4,
 "nbformat_minor": 2
}
