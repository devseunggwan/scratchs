{
 "cells": [
  {
   "cell_type": "code",
   "execution_count": null,
   "metadata": {},
   "outputs": [],
   "source": [
    "import os\n",
    "\n",
    "import httpx\n",
    "from dotenv import load_dotenv\n",
    "\n",
    "load_dotenv()"
   ]
  },
  {
   "cell_type": "code",
   "execution_count": null,
   "metadata": {},
   "outputs": [],
   "source": [
    "__username = os.getenv(\"API_ACCESS_KEY\")\n",
    "__password = os.getenv(\"API_SECRET_KEY\")\n",
    "\n",
    "__headers = {\n",
    "    \"x-chain-id\": \"8217\",\n",
    "    \"Content-Type\": \"application/json\",\n",
    "}"
   ]
  },
  {
   "cell_type": "code",
   "execution_count": null,
   "metadata": {},
   "outputs": [],
   "source": [
    "__address = \"0x930c791D16702e8116ff64DA06C07Ee946F84Aa6\"\n",
    "__url = f\"https://th-api.klaytnapi.com/v2/account/{__address}/token\"\n",
    "\n",
    "\n",
    "__params = {\n",
    "    \"kind\": \"nft\",\n",
    "}\n",
    "\n",
    "# 4.8s\n",
    "__resp = httpx.get(\n",
    "    __url, headers=__headers, params=__params, auth=(__username, __password)\n",
    ")\n",
    "\n",
    "__resp = __resp.json()\n",
    "\n",
    "for __item in __resp[\"items\"]:\n",
    "    if \"extras\" in __item:\n",
    "        if \"tokenUri\" in __item[\"extras\"]:\n",
    "            __item[\"extras\"][\"tokenUri\"] = httpx.get(\n",
    "                __item[\"extras\"][\"tokenUri\"]\n",
    "            ).json()\n",
    "\n",
    "__resp"
   ]
  },
  {
   "cell_type": "code",
   "execution_count": null,
   "metadata": {},
   "outputs": [],
   "source": [
    "len(__resp[\"items\"])"
   ]
  },
  {
   "cell_type": "code",
   "execution_count": null,
   "metadata": {},
   "outputs": [],
   "source": [
    "%pip install aiohttp"
   ]
  },
  {
   "cell_type": "code",
   "execution_count": null,
   "metadata": {},
   "outputs": [],
   "source": [
    "import asyncio\n",
    "\n",
    "import aiohttp\n",
    "\n",
    "\n",
    "async def fetch(session, url):\n",
    "    async with session.get(url) as response:\n",
    "        return await response.json()\n",
    "\n",
    "async def fetch_all(urls, loop):\n",
    "    async with aiohttp.ClientSession(loop=loop) as session:\n",
    "        results = await asyncio.gather(*[fetch(session, url) for url in urls], return_exceptions=True)\n",
    "        return results\n",
    "\n",
    "async def main():\n",
    "    async with aiohttp.ClientSession() as session:\n",
    "        resp = await session.get(__url, headers=__headers, params=__params, auth=aiohttp.BasicAuth(__username, __password))\n",
    "        resp = await resp.json()\n",
    "\n",
    "        token_uris = [item[\"extras\"][\"tokenUri\"] for item in resp[\"items\"] if \"extras\" in item and \"tokenUri\" in item[\"extras\"]]\n",
    "\n",
    "        results = await fetch_all(token_uris, asyncio.get_event_loop())\n",
    "\n",
    "        for item, result in zip(resp[\"items\"], results):\n",
    "            if \"extras\" in item and \"tokenUri\" in item[\"extras\"]:\n",
    "                item[\"extras\"][\"tokenUri\"] = result\n",
    "\n",
    "        print(resp)\n",
    "\n",
    "loop = asyncio.get_event_loop()\n",
    "loop.run_until_complete(main())"
   ]
  }
 ],
 "metadata": {
  "kernelspec": {
   "display_name": "lambda",
   "language": "python",
   "name": "python3"
  },
  "language_info": {
   "codemirror_mode": {
    "name": "ipython",
    "version": 3
   },
   "file_extension": ".py",
   "mimetype": "text/x-python",
   "name": "python",
   "nbconvert_exporter": "python",
   "pygments_lexer": "ipython3",
   "version": "3.11.5"
  }
 },
 "nbformat": 4,
 "nbformat_minor": 2
}
