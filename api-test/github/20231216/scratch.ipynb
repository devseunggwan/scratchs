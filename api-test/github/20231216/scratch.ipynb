{
 "cells": [
  {
   "cell_type": "code",
   "execution_count": null,
   "metadata": {},
   "outputs": [],
   "source": [
    "import os\n",
    "from pprint import pprint\n",
    "from ast import literal_eval\n",
    "\n",
    "import aiohttp\n",
    "from dotenv import load_dotenv\n",
    "load_dotenv()"
   ]
  },
  {
   "cell_type": "code",
   "execution_count": null,
   "metadata": {},
   "outputs": [],
   "source": [
    "GITHUB_API_KEY = os.getenv('API_KEY')\n",
    "HEADERS = {\n",
    "    'Authorization': f'Bearer {GITHUB_API_KEY}',\n",
    "    'Accept': 'application/vnd.github+json',\n",
    "    \"X-GitHub-Api-Version\": \"2022-11-28\"\n",
    "}\n",
    "\n",
    "MY_NAME = os.getenv('MY_NAME')\n",
    "WHITELIST = set(literal_eval(os.getenv('WHITELIST')))"
   ]
  },
  {
   "cell_type": "code",
   "execution_count": null,
   "metadata": {},
   "outputs": [],
   "source": [
    "async with aiohttp.ClientSession() as session:\n",
    "    async with session.get('https://api.github.com/user/repos', headers=HEADERS, params={\"name\": MY_NAME}) as resp:\n",
    "        print(resp.status)\n",
    "        pprint(await resp.json())"
   ]
  },
  {
   "cell_type": "code",
   "execution_count": null,
   "metadata": {},
   "outputs": [],
   "source": [
    "params = {\n",
    "    \"per_page\": 100\n",
    "}\n",
    "\n",
    "async with aiohttp.ClientSession() as session:\n",
    "    async with session.get('https://api.github.com/user/followers', headers=HEADERS, params=params) as resp:\n",
    "        followers = await resp.json()\n",
    "    \n",
    "    async with session.get('https://api.github.com/user/following', headers=HEADERS, params=params) as resp:\n",
    "        following = await resp.json()"
   ]
  },
  {
   "cell_type": "code",
   "execution_count": null,
   "metadata": {},
   "outputs": [],
   "source": [
    "len(followers), len(following) "
   ]
  },
  {
   "cell_type": "code",
   "execution_count": null,
   "metadata": {},
   "outputs": [],
   "source": [
    "followers_list = [follower['login'] for follower in followers]\n",
    "following_list = [follow['login'] for follow in following]"
   ]
  },
  {
   "cell_type": "code",
   "execution_count": null,
   "metadata": {},
   "outputs": [],
   "source": [
    "set(followers_list) - set(following_list)"
   ]
  },
  {
   "cell_type": "code",
   "execution_count": null,
   "metadata": {},
   "outputs": [],
   "source": [
    "list(set(following_list) - set(followers_list) - WHITELIST)"
   ]
  },
  {
   "cell_type": "code",
   "execution_count": null,
   "metadata": {},
   "outputs": [],
   "source": [
    "async with aiohttp.ClientSession() as session:\n",
    "    for user in list(set(following_list) - set(followers_list) - WHITELIST):\n",
    "        async with session.delete(f'https://api.github.com/user/following/{user}', headers=HEADERS) as resp:\n",
    "            print(resp.status)\n",
    "            print(f\"unfollow username: {user}\")"
   ]
  }
 ],
 "metadata": {
  "kernelspec": {
   "display_name": "Python 3",
   "language": "python",
   "name": "python3"
  },
  "language_info": {
   "codemirror_mode": {
    "name": "ipython",
    "version": 3
   },
   "file_extension": ".py",
   "mimetype": "text/x-python",
   "name": "python",
   "nbconvert_exporter": "python",
   "pygments_lexer": "ipython3",
   "version": "3.10.13"
  }
 },
 "nbformat": 4,
 "nbformat_minor": 2
}
