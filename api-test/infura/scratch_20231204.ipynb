{
 "cells": [
  {
   "cell_type": "code",
   "execution_count": null,
   "metadata": {},
   "outputs": [],
   "source": [
    "import os\n",
    "\n",
    "import httpx\n",
    "from web3 import Web3\n",
    "from dotenv import load_dotenv\n",
    "\n",
    "load_dotenv()"
   ]
  },
  {
   "cell_type": "code",
   "execution_count": null,
   "metadata": {},
   "outputs": [],
   "source": [
    "INFURA_ETH_MAINNET_PROVIDER = os.getenv(\"INFURA_ETH_MAINNET_PROVIDER\")\n",
    "w3 = Web3(Web3.HTTPProvider(INFURA_ETH_MAINNET_PROVIDER))\n",
    "w3.is_connected()"
   ]
  },
  {
   "cell_type": "code",
   "execution_count": null,
   "metadata": {},
   "outputs": [],
   "source": [
    "code = w3.eth.getCode(\"0x2F53e033C55eB6C87CEa259123C0a68Ca3578426\")\n",
    "code"
   ]
  },
  {
   "cell_type": "code",
   "execution_count": null,
   "metadata": {},
   "outputs": [],
   "source": [
    "headers = {\"Content-Type\": \"application/json\"}\n",
    "data = {\n",
    "    \"jsonrpc\": \"2.0\",\n",
    "    \"method\": \"eth_getCode\",\n",
    "    \"params\": [\"0x1c593c369136264abfb908b4b20e74c9a5949417\", \"latest\"],\n",
    "    \"id\": 1\n",
    "}"
   ]
  },
  {
   "cell_type": "code",
   "execution_count": 6,
   "metadata": {},
   "outputs": [
    {
     "data": {
      "text/plain": [
       "{'jsonrpc': '2.0', 'id': 1, 'result': '0x'}"
      ]
     },
     "execution_count": 6,
     "metadata": {},
     "output_type": "execute_result"
    }
   ],
   "source": [
    "resp = httpx.post(\n",
    "    INFURA_ETH_MAINNET_PROVIDER,\n",
    "    json=data,\n",
    "    headers=headers\n",
    ")\n",
    "\n",
    "resp.json()"
   ]
  }
 ],
 "metadata": {
  "kernelspec": {
   "display_name": "web3",
   "language": "python",
   "name": "python3"
  },
  "language_info": {
   "codemirror_mode": {
    "name": "ipython",
    "version": 3
   },
   "file_extension": ".py",
   "mimetype": "text/x-python",
   "name": "python",
   "nbconvert_exporter": "python",
   "pygments_lexer": "ipython3",
   "version": "3.12.0"
  }
 },
 "nbformat": 4,
 "nbformat_minor": 2
}
