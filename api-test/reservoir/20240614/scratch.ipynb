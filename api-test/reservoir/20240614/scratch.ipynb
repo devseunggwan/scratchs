{
 "cells": [
  {
   "cell_type": "code",
   "execution_count": 2,
   "metadata": {},
   "outputs": [
    {
     "data": {
      "text/plain": [
       "True"
      ]
     },
     "execution_count": 2,
     "metadata": {},
     "output_type": "execute_result"
    }
   ],
   "source": [
    "import os\n",
    "import time\n",
    "\n",
    "import duckdb\n",
    "import httpx\n",
    "import pandas as pd\n",
    "import matplotlib.pyplot as plt\n",
    "from retry import retry\n",
    "from dotenv import load_dotenv\n",
    "\n",
    "\n",
    "load_dotenv()"
   ]
  },
  {
   "cell_type": "code",
   "execution_count": 4,
   "metadata": {},
   "outputs": [],
   "source": [
    "import json\n",
    "\n",
    "\n",
    "def write_json(data, filename='data.json'):\n",
    "    with open(filename, 'w') as f:\n",
    "        json.dump(data, f, indent=4, ensure_ascii=False)"
   ]
  },
  {
   "cell_type": "code",
   "execution_count": 3,
   "metadata": {},
   "outputs": [],
   "source": [
    "@retry(Exception, tries=3, delay=1, backoff=2, jitter=3)\n",
    "def get_transaction(network, collection_id, continuation=\"\", type=[\"sale\", \"transfer\", \"mint\"], last_timestamp: int = -1):\n",
    "    networks = {\"ethereum\": \"api\", \"polygon\": \"api-polygon\"}\n",
    "\n",
    "    url = f\"https://{networks[network]}.reservoir.tools/collections/activity/v6\"\n",
    "\n",
    "    headers = {\n",
    "        \"accept\": \"*/*\",\n",
    "        \"content-type\": \"application/json\",\n",
    "        \"x-api-key\": os.getenv(\"RESERVOIR_API_KEY\"),\n",
    "    }\n",
    "    params = {\n",
    "        \"collection\": collection_id,\n",
    "        \"limit\": 50,\n",
    "        \"types\": type,\n",
    "    }\n",
    "\n",
    "    if continuation != \"\":\n",
    "        params[\"continuation\"] = continuation\n",
    "\n",
    "    resp = httpx.get(url, params=params, headers=headers, timeout=30)\n",
    "\n",
    "    # 200번 이외 경우에 에러를 반환하여 재시도를 하도록 함.\n",
    "    resp.raise_for_status()\n",
    "\n",
    "    resp = resp.json()\n",
    "    \n",
    "    if last_timestamp != -1:\n",
    "        resp[\"activities\"] = [activity for activity in resp[\"activities\"] if activity[\"timestamp\"] > last_timestamp]\n",
    "    \n",
    "    if len(resp[\"activities\"]) == 0:\n",
    "        resp[\"continuation\"] = None\n",
    "    \n",
    "    for activity in resp[\"activities\"]:\n",
    "        activity[\"network\"] = network\n",
    "        activity[\"collection_id\"] = collection_id\n",
    "        \n",
    "    return resp"
   ]
  },
  {
   "cell_type": "code",
   "execution_count": null,
   "metadata": {},
   "outputs": [],
   "source": [
    "resp = get_transaction(\"ethereum\", \"0x06012c8cf97bead5deae237070f9587f8e7a266d\", type=[\"mint\"])\n",
    "write_json(resp, \"output/mint3.json\")"
   ]
  },
  {
   "cell_type": "code",
   "execution_count": 5,
   "metadata": {},
   "outputs": [
    {
     "data": {
      "text/plain": [
       "{'activities': [], 'continuation': None}"
      ]
     },
     "execution_count": 5,
     "metadata": {},
     "output_type": "execute_result"
    }
   ],
   "source": [
    "resp = get_transaction(\"ethereum\", \"0xbc4ca0eda7647a8ab7c2061c2e118a18a936f13d\", type=[\"mint\"], last_timestamp=1668322751)\n",
    "resp"
   ]
  },
  {
   "cell_type": "code",
   "execution_count": 64,
   "metadata": {},
   "outputs": [],
   "source": [
    "@retry(Exception, tries=3, delay=1, backoff=2, jitter=3)\n",
    "def get_transfer_bulk(network, collection_id, continuation=\"\", start_timestamp=-1, end_timestamp=-1):\n",
    "    networks = {\"ethereum\": \"api\", \"polygon\": \"api-polygon\"}\n",
    "\n",
    "    url = f\"https://{networks[network]}.reservoir.tools/transfers/bulk/v2\"\n",
    "\n",
    "    headers = {\n",
    "        \"accept\": \"*/*\",\n",
    "        \"content-type\": \"application/json\",\n",
    "        \"x-api-key\": os.getenv(\"RESERVOIR_API_KEY\"),\n",
    "    }\n",
    "    params = {\n",
    "        \"contract\": collection_id,\n",
    "        \"limit\": 1000,\n",
    "    }\n",
    "\n",
    "    if continuation != \"\":\n",
    "        params[\"continuation\"] = continuation\n",
    "        \n",
    "    if start_timestamp != -1:\n",
    "        params[\"startTimestamp\"] = start_timestamp\n",
    "    \n",
    "    if end_timestamp != -1:\n",
    "        params[\"endTimestamp\"] = end_timestamp\n",
    "\n",
    "    resp = httpx.get(url, params=params, headers=headers, timeout=30)\n",
    "\n",
    "    # 200번 이외 경우에 에러를 반환하여 재시도를 하도록 함.\n",
    "    resp.raise_for_status()\n",
    "\n",
    "    resp = resp.json()\n",
    "    for transfer in resp[\"transfers\"]:\n",
    "        transfer[\"network\"] = network\n",
    "        transfer[\"collection_id\"] = collection_id\n",
    "    \n",
    "\n",
    "    return resp"
   ]
  },
  {
   "cell_type": "code",
   "execution_count": null,
   "metadata": {},
   "outputs": [],
   "source": [
    "resp = get_transfer_bulk(\"ethereum\", \"0xbc4ca0eda7647a8ab7c2061c2e118a18a936f13d\", start_timestamp=1718693423)\n",
    "write_json(resp, \"output/transfer_bulk.json\")"
   ]
  },
  {
   "cell_type": "code",
   "execution_count": 67,
   "metadata": {},
   "outputs": [],
   "source": [
    "start_timestamp = 1718693423\n",
    "end_timestamp = int(time.time())\n",
    "continuation = \"\"\n",
    "\n",
    "while True:\n",
    "    resp = get_transfer_bulk(\"ethereum\", \"0xbc4ca0eda7647a8ab7c2061c2e118a18a936f13d\", start_timestamp=start_timestamp, end_timestamp=end_timestamp, continuation=continuation)\n",
    "    write_json(resp, f\"output/transfer_bulk_{start_timestamp}_{continuation}.json\")\n",
    "    \n",
    "    continuation = resp[\"continuation\"]\n",
    "    \n",
    "    if continuation in [None, \"\"]:\n",
    "        break"
   ]
  },
  {
   "cell_type": "code",
   "execution_count": null,
   "metadata": {},
   "outputs": [],
   "source": [
    "df = duckdb.read_json(\"output/*.json\")"
   ]
  },
  {
   "cell_type": "code",
   "execution_count": null,
   "metadata": {},
   "outputs": [],
   "source": [
    "transfers = df[\"transfers\"].fetchdf()\n",
    "transfers"
   ]
  },
  {
   "cell_type": "code",
   "execution_count": null,
   "metadata": {},
   "outputs": [],
   "source": [
    "flatten = pd.concat([pd.json_normalize(row[\"transfers\"]) for idx, row in transfers.iterrows()])"
   ]
  },
  {
   "cell_type": "code",
   "execution_count": null,
   "metadata": {},
   "outputs": [],
   "source": [
    "flatten"
   ]
  },
  {
   "cell_type": "code",
   "execution_count": null,
   "metadata": {},
   "outputs": [],
   "source": [
    "flatten.shape"
   ]
  },
  {
   "cell_type": "code",
   "execution_count": null,
   "metadata": {},
   "outputs": [],
   "source": [
    "# Assuming the timestamps are stored in the 'timestamp' column of the 'flatten' DataFrame\n",
    "timestamps = flatten['timestamp']\n",
    "\n",
    "# Plotting the histogram of timestamps\n",
    "plt.hist(timestamps)\n",
    "plt.xlabel('Timestamp')\n",
    "plt.ylabel('Frequency')\n",
    "plt.title('Distribution of Timestamps')\n",
    "plt.show()"
   ]
  },
  {
   "cell_type": "code",
   "execution_count": null,
   "metadata": {},
   "outputs": [],
   "source": [
    "flatten.duplicated().sum()"
   ]
  },
  {
   "cell_type": "code",
   "execution_count": null,
   "metadata": {},
   "outputs": [],
   "source": [
    "1718693423"
   ]
  },
  {
   "cell_type": "code",
   "execution_count": null,
   "metadata": {},
   "outputs": [],
   "source": [
    "time.time()"
   ]
  },
  {
   "cell_type": "code",
   "execution_count": null,
   "metadata": {},
   "outputs": [],
   "source": [
    "time.time() - 1718693423"
   ]
  },
  {
   "cell_type": "code",
   "execution_count": null,
   "metadata": {},
   "outputs": [],
   "source": [
    "(time.time() - 1718693423) / 60 / 60 / 24"
   ]
  },
  {
   "cell_type": "code",
   "execution_count": null,
   "metadata": {},
   "outputs": [],
   "source": [
    "flatten.loc[flatten[\"timestamp\"] < 1718769000]"
   ]
  },
  {
   "cell_type": "code",
   "execution_count": null,
   "metadata": {},
   "outputs": [],
   "source": [
    "flatten.iloc[0].txHash"
   ]
  },
  {
   "cell_type": "code",
   "execution_count": null,
   "metadata": {},
   "outputs": [],
   "source": [
    "flatten[\"token.tokenId\"].value_counts()"
   ]
  },
  {
   "cell_type": "code",
   "execution_count": null,
   "metadata": {},
   "outputs": [],
   "source": [
    "@retry(Exception, tries=3, delay=1, backoff=2, jitter=3)\n",
    "def get_sale(network, collection_id, continuation=\"\", start_timestamp=-1, end_timestamp=-1):\n",
    "    networks = {\"ethereum\": \"api\", \"polygon\": \"api-polygon\"}\n",
    "\n",
    "    url = f\"https://{networks[network]}.reservoir.tools/sales/v6\"\n",
    "\n",
    "    headers = {\n",
    "        \"accept\": \"*/*\",\n",
    "        \"content-type\": \"application/json\",\n",
    "        \"x-api-key\": os.getenv(\"RESERVOIR_API_KEY\"),\n",
    "    }\n",
    "    params = {\n",
    "        \"collection\": collection_id,\n",
    "        \"limit\": 1000\n",
    "    }\n",
    "\n",
    "    if continuation != \"\":\n",
    "        params[\"continuation\"] = continuation\n",
    "\n",
    "    if start_timestamp != -1:\n",
    "        params[\"startTimestamp\"] = start_timestamp\n",
    "    \n",
    "    if end_timestamp != -1:\n",
    "        params[\"endTimestamp\"] = end_timestamp\n",
    "    \n",
    "    resp = httpx.get(url, params=params, headers=headers, timeout=30)\n",
    "\n",
    "    # 200번 이외 경우에 에러를 반환하여 재시도를 하도록 함.\n",
    "    resp.raise_for_status()\n",
    "\n",
    "    resp = resp.json()\n",
    "\n",
    "    for sale in resp[\"sales\"]:\n",
    "        sale[\"network\"] = network\n",
    "        sale[\"collection_id\"] = collection_id\n",
    "    \n",
    "    return resp"
   ]
  },
  {
   "cell_type": "code",
   "execution_count": null,
   "metadata": {},
   "outputs": [],
   "source": [
    "resp = get_sale(\"ethereum\", \"0x06012c8cf97bead5deae237070f9587f8e7a266d\")\n",
    "write_json(resp, \"output/sale.json\")"
   ]
  },
  {
   "cell_type": "code",
   "execution_count": null,
   "metadata": {},
   "outputs": [],
   "source": [
    "resp = get_transaction(\"ethereum\", \"0x06012c8cf97bead5deae237070f9587f8e7a266d\", type=[\"sale\"])\n",
    "write_json(resp, \"output/sale2.json\")"
   ]
  }
 ],
 "metadata": {
  "kernelspec": {
   "display_name": "study",
   "language": "python",
   "name": "python3"
  },
  "language_info": {
   "codemirror_mode": {
    "name": "ipython",
    "version": 3
   },
   "file_extension": ".py",
   "mimetype": "text/x-python",
   "name": "python",
   "nbconvert_exporter": "python",
   "pygments_lexer": "ipython3",
   "version": "3.11.5"
  }
 },
 "nbformat": 4,
 "nbformat_minor": 2
}
