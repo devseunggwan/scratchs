{
 "cells": [
  {
   "cell_type": "code",
   "execution_count": 1,
   "metadata": {},
   "outputs": [
    {
     "data": {
      "text/plain": [
       "True"
      ]
     },
     "execution_count": 1,
     "metadata": {},
     "output_type": "execute_result"
    }
   ],
   "source": [
    "import os\n",
    "\n",
    "from retry import retry\n",
    "import httpx\n",
    "from dotenv import load_dotenv\n",
    "load_dotenv()"
   ]
  },
  {
   "cell_type": "code",
   "execution_count": 6,
   "metadata": {},
   "outputs": [],
   "source": [
    "import json\n",
    "\n",
    "\n",
    "def write_json(data, filename='data.json'):\n",
    "    with open(filename, 'w') as f:\n",
    "        json.dump(data, f, indent=4, ensure_ascii=False)"
   ]
  },
  {
   "cell_type": "code",
   "execution_count": 34,
   "metadata": {},
   "outputs": [],
   "source": [
    "@retry(Exception, tries=3, delay=1, backoff=2, jitter=3)\n",
    "def get_transaction(network, collection_id, continuation=\"\", type=[\"sale\", \"transfer\", \"mint\"]):\n",
    "    networks = {\"ethereum\": \"api\", \"polygon\": \"api-polygon\"}\n",
    "\n",
    "    url = f\"https://{networks[network]}.reservoir.tools/collections/activity/v6\"\n",
    "\n",
    "    headers = {\n",
    "        \"accept\": \"*/*\",\n",
    "        \"content-type\": \"application/json\",\n",
    "        \"x-api-key\": os.getenv(\"RESERVOIR_API_KEY\"),\n",
    "    }\n",
    "    params = {\n",
    "        \"collection\": collection_id,\n",
    "        \"limit\": 50,\n",
    "        \"types\": type,\n",
    "    }\n",
    "\n",
    "    if continuation != \"\":\n",
    "        params[\"continuation\"] = continuation\n",
    "\n",
    "    resp = httpx.get(url, params=params, headers=headers, timeout=30)\n",
    "\n",
    "    # 200번 이외 경우에 에러를 반환하여 재시도를 하도록 함.\n",
    "    resp.raise_for_status()\n",
    "\n",
    "    resp = resp.json()\n",
    "    \n",
    "    for activity in resp[\"activities\"]:\n",
    "        activity[\"network\"] = network\n",
    "        activity[\"collection_id\"] = collection_id\n",
    "        \n",
    "    return resp"
   ]
  },
  {
   "cell_type": "code",
   "execution_count": 35,
   "metadata": {},
   "outputs": [],
   "source": [
    "resp = get_transaction(\"ethereum\", \"0x06012c8cf97bead5deae237070f9587f8e7a266d\", type=[\"mint\"])\n",
    "write_json(resp, \"output/mint3.json\")"
   ]
  },
  {
   "cell_type": "code",
   "execution_count": 3,
   "metadata": {},
   "outputs": [],
   "source": [
    "\n",
    "@retry(Exception, tries=3, delay=1, backoff=2, jitter=3)\n",
    "def get_transfer(network, collection_id, continuation=\"\"):\n",
    "    networks = {\"ethereum\": \"api\", \"polygon\": \"api-polygon\"}\n",
    "\n",
    "    url = f\"https://{networks[network]}.reservoir.tools/transfers/v4\"\n",
    "\n",
    "    headers = {\n",
    "        \"accept\": \"*/*\",\n",
    "        \"content-type\": \"application/json\",\n",
    "        \"x-api-key\": os.getenv(\"RESERVOIR_API_KEY\"),\n",
    "    }\n",
    "    params = {\n",
    "        \"collection\": collection_id,\n",
    "        \"limit\": 100,\n",
    "    }\n",
    "\n",
    "    if continuation != \"\":\n",
    "        params[\"continuation\"] = continuation\n",
    "\n",
    "    resp = httpx.get(url, params=params, headers=headers, timeout=30)\n",
    "\n",
    "    # 200번 이외 경우에 에러를 반환하여 재시도를 하도록 함.\n",
    "    resp.raise_for_status()\n",
    "\n",
    "    resp = resp.json()\n",
    "    for transfer in resp[\"transfers\"]:\n",
    "        transfer[\"network\"] = network\n",
    "        transfer[\"collection_id\"] = collection_id\n",
    "    \n",
    "\n",
    "    return resp"
   ]
  },
  {
   "cell_type": "code",
   "execution_count": 5,
   "metadata": {},
   "outputs": [],
   "source": [
    "resp = get_transfer(\"ethereum\", \"0x06012c8cf97bead5deae237070f9587f8e7a266d\")\n",
    "write_json(resp, \"output/transfer.json\")"
   ]
  },
  {
   "cell_type": "code",
   "execution_count": 5,
   "metadata": {},
   "outputs": [],
   "source": [
    "@retry(Exception, tries=3, delay=1, backoff=2, jitter=3)\n",
    "def get_transfer_bulk(network, collection_id, continuation=\"\"):\n",
    "    networks = {\"ethereum\": \"api\", \"polygon\": \"api-polygon\"}\n",
    "\n",
    "    url = f\"https://{networks[network]}.reservoir.tools/transfers/bulk/v2\"\n",
    "\n",
    "    headers = {\n",
    "        \"accept\": \"*/*\",\n",
    "        \"content-type\": \"application/json\",\n",
    "        \"x-api-key\": os.getenv(\"RESERVOIR_API_KEY\"),\n",
    "    }\n",
    "    params = {\n",
    "        \"collection\": collection_id,\n",
    "        \"limit\": 1000,\n",
    "    }\n",
    "\n",
    "    if continuation != \"\":\n",
    "        params[\"continuation\"] = continuation\n",
    "\n",
    "    resp = httpx.get(url, params=params, headers=headers, timeout=30)\n",
    "\n",
    "    # 200번 이외 경우에 에러를 반환하여 재시도를 하도록 함.\n",
    "    resp.raise_for_status()\n",
    "\n",
    "    resp = resp.json()\n",
    "    for transfer in resp[\"transfers\"]:\n",
    "        transfer[\"network\"] = network\n",
    "        transfer[\"collection_id\"] = collection_id\n",
    "    \n",
    "\n",
    "    return resp"
   ]
  },
  {
   "cell_type": "code",
   "execution_count": 7,
   "metadata": {},
   "outputs": [],
   "source": [
    "resp = get_transfer_bulk(\"ethereum\", \"0x06012c8cf97bead5deae237070f9587f8e7a266d\")\n",
    "write_json(resp, \"output/transfer_bulk.json\")"
   ]
  },
  {
   "cell_type": "code",
   "execution_count": 10,
   "metadata": {},
   "outputs": [],
   "source": [
    "@retry(Exception, tries=3, delay=1, backoff=2, jitter=3)\n",
    "def get_sale(network, collection_id, continuation=\"\"):\n",
    "    networks = {\"ethereum\": \"api\", \"polygon\": \"api-polygon\"}\n",
    "\n",
    "    url = f\"https://{networks[network]}.reservoir.tools/sales/v6\"\n",
    "\n",
    "    headers = {\n",
    "        \"accept\": \"*/*\",\n",
    "        \"content-type\": \"application/json\",\n",
    "        \"x-api-key\": os.getenv(\"RESERVOIR_API_KEY\"),\n",
    "    }\n",
    "    params = {\n",
    "        \"collection\": collection_id,\n",
    "        \"limit\": 1000,\n",
    "    }\n",
    "\n",
    "    if continuation != \"\":\n",
    "        params[\"continuation\"] = continuation\n",
    "\n",
    "    resp = httpx.get(url, params=params, headers=headers, timeout=30)\n",
    "\n",
    "    # 200번 이외 경우에 에러를 반환하여 재시도를 하도록 함.\n",
    "    resp.raise_for_status()\n",
    "\n",
    "    resp = resp.json()\n",
    "\n",
    "    for sale in resp[\"sales\"]:\n",
    "        sale[\"network\"] = network\n",
    "        sale[\"collection_id\"] = collection_id\n",
    "    \n",
    "    return resp"
   ]
  },
  {
   "cell_type": "code",
   "execution_count": 11,
   "metadata": {},
   "outputs": [],
   "source": [
    "resp = get_sale(\"ethereum\", \"0x06012c8cf97bead5deae237070f9587f8e7a266d\")\n",
    "write_json(resp, \"output/sale.json\")"
   ]
  },
  {
   "cell_type": "code",
   "execution_count": 13,
   "metadata": {},
   "outputs": [],
   "source": [
    "resp = get_transaction(\"ethereum\", \"0x06012c8cf97bead5deae237070f9587f8e7a266d\", type=[\"sale\"])\n",
    "write_json(resp, \"output/sale2.json\")"
   ]
  }
 ],
 "metadata": {
  "kernelspec": {
   "display_name": "study",
   "language": "python",
   "name": "python3"
  },
  "language_info": {
   "codemirror_mode": {
    "name": "ipython",
    "version": 3
   },
   "file_extension": ".py",
   "mimetype": "text/x-python",
   "name": "python",
   "nbconvert_exporter": "python",
   "pygments_lexer": "ipython3",
   "version": "3.11.5"
  }
 },
 "nbformat": 4,
 "nbformat_minor": 2
}
