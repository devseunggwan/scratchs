{
 "cells": [
  {
   "cell_type": "code",
   "execution_count": 17,
   "metadata": {},
   "outputs": [],
   "source": [
    "import json\n",
    "import requests"
   ]
  },
  {
   "cell_type": "code",
   "execution_count": 5,
   "metadata": {},
   "outputs": [],
   "source": [
    "# Collections\n",
    "# url: https://api.reservoir.tools/collections/v7\n",
    "# docs: https://docs.reservoir.tools/reference/getcollectionsv7\n",
    "\n",
    "API_KEY = \"\" # Enter your API key here\n",
    "url = \"https://api.reservoir.tools/collections/v7\"\n",
    "params = {\n",
    "    \"api_key\": API_KEY,\n",
    "    \"limit\": 20,\n",
    "    \"sortBy\": \"1DayVolume\",\n",
    "}\n"
   ]
  },
  {
   "cell_type": "code",
   "execution_count": 11,
   "metadata": {},
   "outputs": [],
   "source": [
    "resp = None\n",
    "collections = []\n",
    "\n",
    "while True:\n",
    "    if resp is not None:\n",
    "        params[\"continuation\"] = resp.get(\"continuation\")\n",
    "    \n",
    "    \n",
    "    resp = requests.get(url=url, params=params)    \n",
    "    resp = resp.json()\n",
    "    collections.extend(resp.get(\"collections\"))\n",
    "    \n",
    "    if 0 in [item[\"volume\"][\"1day\"] for item in resp[\"collections\"]]:\n",
    "        break"
   ]
  },
  {
   "cell_type": "code",
   "execution_count": 12,
   "metadata": {},
   "outputs": [
    {
     "data": {
      "text/plain": [
       "1620"
      ]
     },
     "execution_count": 12,
     "metadata": {},
     "output_type": "execute_result"
    }
   ],
   "source": [
    "len(collections)"
   ]
  },
  {
   "cell_type": "code",
   "execution_count": 26,
   "metadata": {},
   "outputs": [
    {
     "data": {
      "text/plain": [
       "1000"
      ]
     },
     "execution_count": 26,
     "metadata": {},
     "output_type": "execute_result"
    }
   ],
   "source": [
    "# Top Selling Collections\n",
    "# url: https://api.reservoir.tools/collections/trending/v1\n",
    "# docs: https://docs.reservoir.tools/reference/getcollectionstrendingv1\n",
    "\n",
    "url = \"https://api.reservoir.tools/collections/trending/v1\"\n",
    "params = {\n",
    "    \"api_key\": API_KEY,\n",
    "    \"limit\": 1000,\n",
    "    \"sortBy\": \"volume\",\n",
    "    \"normalizeRoyalties\": False,\n",
    "    \"useNonFlaggedFloorAsk\": False\n",
    "}\n",
    "\n",
    "resp = requests.get(url=url, params=params)\n",
    "resp = resp.json()\n",
    "len(resp[\"collections\"])"
   ]
  },
  {
   "cell_type": "code",
   "execution_count": 13,
   "metadata": {},
   "outputs": [],
   "source": [
    "url = \"https://api-polygon.reservoir.tools/collections/v7\"\n",
    "params = {\n",
    "    \"api_key\": API_KEY,\n",
    "    \"limit\": 20,\n",
    "    \"sortBy\": \"1DayVolume\",\n",
    "}"
   ]
  },
  {
   "cell_type": "code",
   "execution_count": 14,
   "metadata": {},
   "outputs": [],
   "source": [
    "resp = None\n",
    "collections = []\n",
    "\n",
    "while True:\n",
    "    if resp is not None:\n",
    "        params[\"continuation\"] = resp.get(\"continuation\")\n",
    "    \n",
    "    \n",
    "    resp = requests.get(url=url, params=params)    \n",
    "    resp = resp.json()\n",
    "    collections.extend(resp.get(\"collections\"))\n",
    "    \n",
    "    if 0 in [item[\"volume\"][\"1day\"] for item in resp[\"collections\"]]:\n",
    "        break"
   ]
  },
  {
   "cell_type": "code",
   "execution_count": 15,
   "metadata": {},
   "outputs": [
    {
     "data": {
      "text/plain": [
       "740"
      ]
     },
     "execution_count": 15,
     "metadata": {},
     "output_type": "execute_result"
    }
   ],
   "source": [
    "len(collections)"
   ]
  },
  {
   "cell_type": "code",
   "execution_count": 24,
   "metadata": {},
   "outputs": [
    {
     "data": {
      "text/plain": [
       "741"
      ]
     },
     "execution_count": 24,
     "metadata": {},
     "output_type": "execute_result"
    }
   ],
   "source": [
    "# Top Selling Collections\n",
    "# url: https://api.reservoir.tools/collections/trending/v1\n",
    "# docs: https://docs.reservoir.tools/reference/getcollectionstrendingv1\n",
    "\n",
    "url = \"https://api-polygon.reservoir.tools/collections/trending/v1\"\n",
    "params = {\n",
    "    \"api_key\": API_KEY,\n",
    "    \"limit\": 1000,\n",
    "    \"sortBy\": \"volume\",\n",
    "    \"normalizeRoyalties\": False,\n",
    "    \"useNonFlaggedFloorAsk\": False\n",
    "}\n",
    "\n",
    "resp = requests.get(url=url, params=params)\n",
    "resp = resp.json()\n",
    "len(resp[\"collections\"])"
   ]
  },
  {
   "cell_type": "code",
   "execution_count": 19,
   "metadata": {},
   "outputs": [
    {
     "data": {
      "text/plain": [
       "40"
      ]
     },
     "execution_count": 19,
     "metadata": {},
     "output_type": "execute_result"
    }
   ],
   "source": [
    "url = \"https://api-bsc.reservoir.tools/collections/v7\"\n",
    "params = {\n",
    "    \"api_key\": API_KEY,\n",
    "    \"limit\": 20,\n",
    "    \"sortBy\": \"1DayVolume\",\n",
    "}\n",
    "\n",
    "resp = None\n",
    "collections = []\n",
    "\n",
    "while True:\n",
    "    if resp is not None:\n",
    "        params[\"continuation\"] = resp.get(\"continuation\")\n",
    "    \n",
    "    \n",
    "    resp = requests.get(url=url, params=params)    \n",
    "    resp = resp.json()\n",
    "    collections.extend(resp.get(\"collections\"))\n",
    "    \n",
    "    if 0 in [item[\"volume\"][\"1day\"] for item in resp[\"collections\"]]:\n",
    "        break\n",
    "    \n",
    "len(collections)"
   ]
  },
  {
   "cell_type": "code",
   "execution_count": 25,
   "metadata": {},
   "outputs": [
    {
     "data": {
      "text/plain": [
       "23"
      ]
     },
     "execution_count": 25,
     "metadata": {},
     "output_type": "execute_result"
    }
   ],
   "source": [
    "# Top Selling Collections\n",
    "# url: https://api.reservoir.tools/collections/trending/v1\n",
    "# docs: https://docs.reservoir.tools/reference/getcollectionstrendingv1\n",
    "\n",
    "url = \"https://api-bsc.reservoir.tools/collections/trending/v1\"\n",
    "params = {\n",
    "    \"api_key\": API_KEY,\n",
    "    \"limit\": 1000,\n",
    "    \"sortBy\": \"volume\",\n",
    "    \"normalizeRoyalties\": False,\n",
    "    \"useNonFlaggedFloorAsk\": False\n",
    "}\n",
    "\n",
    "resp = requests.get(url=url, params=params)\n",
    "resp = resp.json()\n",
    "len(resp[\"collections\"])"
   ]
  }
 ],
 "metadata": {
  "kernelspec": {
   "display_name": "Python 3",
   "language": "python",
   "name": "python3"
  },
  "language_info": {
   "codemirror_mode": {
    "name": "ipython",
    "version": 3
   },
   "file_extension": ".py",
   "mimetype": "text/x-python",
   "name": "python",
   "nbconvert_exporter": "python",
   "pygments_lexer": "ipython3",
   "version": "3.10.8"
  }
 },
 "nbformat": 4,
 "nbformat_minor": 2
}
