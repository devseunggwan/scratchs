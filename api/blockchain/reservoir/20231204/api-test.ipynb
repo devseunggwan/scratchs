{
 "cells": [
  {
   "cell_type": "code",
   "execution_count": 12,
   "metadata": {},
   "outputs": [],
   "source": [
    "import os\n",
    "import httpx\n",
    "\n",
    "from dotenv import load_dotenv\n",
    "load_dotenv()\n",
    "\n",
    "URL = lambda user: f\"https://api.reservoir.tools/users/{user}/tokens/v7\"\n",
    "headers = {\n",
    "    \"x-api-key\": os.getenv(\"RESERVOIR_API_KEY\"),\n",
    "    \"accept\": \"*/*\",\n",
    "}"
   ]
  },
  {
   "cell_type": "code",
   "execution_count": 21,
   "metadata": {},
   "outputs": [
    {
     "name": "stdout",
     "output_type": "stream",
     "text": [
      "continuation\n",
      "continuation\n",
      "continuation\n",
      "continuation\n",
      "continuation\n",
      "continuation\n",
      "continuation\n",
      "continuation\n",
      "continuation\n",
      "continuation\n",
      "continuation\n",
      "continuation\n"
     ]
    }
   ],
   "source": [
    "tokens = []\n",
    "itr = 0\n",
    "continuation = None\n",
    "\n",
    "user = \"0x1c593c369136264Abfb908b4B20e74c9a5949417\"\n",
    "url = URL(user)\n",
    "while True:\n",
    "    itr += 1\n",
    "        \n",
    "    if continuation:\n",
    "        print(\"continuation\")\n",
    "        response = httpx.get(url, headers=headers, params={\"continuation\": continuation, \"limit\": 200, \"excludeSpam\": True})\n",
    "    else:\n",
    "        response = httpx.get(url, headers=headers, params={\"limit\": 200, \"excludeSpam\": True})\n",
    "    \n",
    "    res_json = response.json()\n",
    "    tokens.extend(res_json[\"tokens\"])\n",
    "    \n",
    "    if res_json[\"continuation\"] is not None:\n",
    "        continuation = res_json[\"continuation\"]\n",
    "    else:\n",
    "        break\n",
    "    \n"
   ]
  },
  {
   "cell_type": "code",
   "execution_count": 22,
   "metadata": {},
   "outputs": [],
   "source": [
    "import json\n",
    "\n",
    "with open(\"tokens_exclude_spams.json\", \"w\") as f:\n",
    "    json.dump(tokens, f, indent=4, ensure_ascii=False)"
   ]
  },
  {
   "cell_type": "code",
   "execution_count": 23,
   "metadata": {},
   "outputs": [
    {
     "data": {
      "text/plain": [
       "2471"
      ]
     },
     "execution_count": 23,
     "metadata": {},
     "output_type": "execute_result"
    }
   ],
   "source": [
    "len(tokens)"
   ]
  }
 ],
 "metadata": {
  "kernelspec": {
   "display_name": "web3",
   "language": "python",
   "name": "python3"
  },
  "language_info": {
   "codemirror_mode": {
    "name": "ipython",
    "version": 3
   },
   "file_extension": ".py",
   "mimetype": "text/x-python",
   "name": "python",
   "nbconvert_exporter": "python",
   "pygments_lexer": "ipython3",
   "version": "3.12.0"
  }
 },
 "nbformat": 4,
 "nbformat_minor": 2
}
