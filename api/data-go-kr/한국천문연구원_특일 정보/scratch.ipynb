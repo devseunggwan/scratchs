{
 "cells": [
  {
   "cell_type": "code",
   "execution_count": 16,
   "id": "7f5859bd",
   "metadata": {},
   "outputs": [
    {
     "data": {
      "text/plain": [
       "True"
      ]
     },
     "execution_count": 16,
     "metadata": {},
     "output_type": "execute_result"
    }
   ],
   "source": [
    "import os\n",
    "import requests\n",
    "from pprint import pprint\n",
    "from datetime import datetime, timedelta\n",
    "from dateutil.relativedelta import relativedelta\n",
    "\n",
    "from dotenv import load_dotenv\n",
    "load_dotenv(override=True)"
   ]
  },
  {
   "cell_type": "code",
   "execution_count": null,
   "id": "d49ef16c",
   "metadata": {},
   "outputs": [],
   "source": [
    "url = 'http://apis.data.go.kr/B090041/openapi/service/SpcdeInfoService/getRestDeInfo'\n",
    "params = {\n",
    "    \"_type\": \"json\",\n",
    "    'serviceKey' : os.getenv(\"API_KEY\"), \n",
    "    'pageNo' : '1', \n",
    "    'numOfRows' : '10', \n",
    "    'solYear' : '2025', \n",
    "    'solMonth' : '06' \n",
    "}\n",
    "\n",
    "response = requests.get(url, params=params)\n",
    "pprint(response.json())"
   ]
  },
  {
   "cell_type": "code",
   "execution_count": null,
   "id": "9517b369",
   "metadata": {},
   "outputs": [],
   "source": [
    "for i in range(1, 13):\n",
    "    params[\"solMonth\"] = str(i).rjust(2, \"0\")\n",
    "    response = requests.get(url, params=params)\n",
    "    pprint(response.json())"
   ]
  },
  {
   "cell_type": "code",
   "execution_count": null,
   "id": "495e4b27",
   "metadata": {},
   "outputs": [],
   "source": [
    "datetime.now().month"
   ]
  },
  {
   "cell_type": "code",
   "execution_count": 74,
   "id": "2775f8d8",
   "metadata": {},
   "outputs": [],
   "source": [
    "def get_holiday_in_months(month_range: int = 6) -> list[str]:\n",
    "    result = []\n",
    "    \n",
    "    __now = datetime.now()\n",
    "    __url = 'http://apis.data.go.kr/B090041/openapi/service/SpcdeInfoService/getRestDeInfo'\n",
    "    __params = {\n",
    "        \"_type\": \"json\",\n",
    "        'serviceKey' : os.getenv(\"API_KEY\"), \n",
    "        'pageNo' : '1', \n",
    "        'numOfRows' : '20', \n",
    "        'solYear' : __now.year, \n",
    "        'solMonth' : f\"{__now.month}\".rjust(2, \"0\") \n",
    "    }\n",
    "    \n",
    "    for month in range(month_range + 1):\n",
    "        __target_datetime = __now + relativedelta(months=month)\n",
    "        __params[\"solYear\"] = __target_datetime.year\n",
    "        __params[\"solMonth\"] = f\"{__target_datetime.month}\".rjust(2, \"0\")\n",
    "        \n",
    "        __resp = requests.get(__url, params=__params)\n",
    "        \n",
    "        if __resp.status_code == 200:\n",
    "            # 결과가 없는 경우 str\n",
    "            items: dict | str = __resp.json()[\"response\"][\"body\"][\"items\"]\n",
    "            \n",
    "            if type(items) == dict:\n",
    "                # 1개만 나오면 딕셔너리 아이템 하나만 있다.\n",
    "                # list[dict]는 1개 이상일 떄 반환\n",
    "                items: dict | list = items[\"item\"]\n",
    "                \n",
    "                if type(items) == dict:\n",
    "                    result.append(items)\n",
    "                else:\n",
    "                    result.extend(items)\n",
    "    \n",
    "    result = sorted(set([str(item[\"locdate\"]) for item in result]))\n",
    "    \n",
    "    return result"
   ]
  },
  {
   "cell_type": "code",
   "execution_count": null,
   "id": "66e21926",
   "metadata": {},
   "outputs": [],
   "source": [
    "def get_weekdays_in_months(month_range: int = 6, date_format: str = \"%Y%m%d\") -> list[str]:\n",
    "    result = []\n",
    "    \n",
    "    __now = datetime.now()\n",
    "    __saterday = __now + timedelta(days=5-__now.weekday())\n",
    "    __sunday = __now + timedelta(days=6-__now.weekday())   \n",
    "    \n",
    "    __last_month_day = (__now + relativedelta(months=month_range+1)).replace(day=1, hour=0, minute=0, second=0, microsecond=0)\n",
    "    \n",
    "    while __saterday < __last_month_day and __sunday < __last_month_day:\n",
    "        if __saterday < __last_month_day:\n",
    "            result.append(__saterday.strftime(date_format))\n",
    "        if __sunday < __last_month_day:\n",
    "            result.append(__sunday.strftime(date_format))\n",
    "            \n",
    "        __saterday += timedelta(days=7)\n",
    "        __sunday += timedelta(days=7)\n",
    "        \n",
    "    return result\n",
    "    \n",
    "    "
   ]
  },
  {
   "cell_type": "code",
   "execution_count": 82,
   "id": "5a4b3a5f",
   "metadata": {},
   "outputs": [
    {
     "data": {
      "text/plain": [
       "['20250505', '20250506']"
      ]
     },
     "execution_count": 82,
     "metadata": {},
     "output_type": "execute_result"
    }
   ],
   "source": [
    "get_holiday_in_months(month_range=1)"
   ]
  },
  {
   "cell_type": "code",
   "execution_count": 83,
   "id": "3bafd8c9",
   "metadata": {},
   "outputs": [
    {
     "data": {
      "text/plain": [
       "['20250412',\n",
       " '20250413',\n",
       " '20250419',\n",
       " '20250420',\n",
       " '20250426',\n",
       " '20250427',\n",
       " '20250503',\n",
       " '20250504',\n",
       " '20250510',\n",
       " '20250511',\n",
       " '20250517',\n",
       " '20250518',\n",
       " '20250524',\n",
       " '20250525']"
      ]
     },
     "execution_count": 83,
     "metadata": {},
     "output_type": "execute_result"
    }
   ],
   "source": [
    "get_weekdays_in_months(month_range=1)"
   ]
  },
  {
   "cell_type": "code",
   "execution_count": 34,
   "id": "8c3fbe10",
   "metadata": {},
   "outputs": [],
   "source": [
    "def get_business_days_in_holidays(month_range: int = 6, holidays: list[str] = [], date_format: str = \"%Y%m%d\") -> dict[str, bool]:\n",
    "    result = {}\n",
    "        \n",
    "    __now = datetime.now()\n",
    "    __last_month_day = (__now + relativedelta(months=month_range+1)).replace(day=1, hour=0, minute=0, second=0, microsecond=0)\n",
    "\n",
    "    for __day in range((__last_month_day - __now).days + 1):\n",
    "        __date = (__now + timedelta(days=__day)).strftime(date_format)\n",
    "        result[__date] = __date not in holidays\n",
    "        \n",
    "        \n",
    "    return result    "
   ]
  },
  {
   "cell_type": "code",
   "execution_count": null,
   "id": "bb7f9a68",
   "metadata": {},
   "outputs": [
    {
     "data": {
      "text/plain": [
       "{'20250408': True,\n",
       " '20250409': True,\n",
       " '20250410': True,\n",
       " '20250411': True,\n",
       " '20250412': False,\n",
       " '20250413': False,\n",
       " '20250414': True,\n",
       " '20250415': True,\n",
       " '20250416': True,\n",
       " '20250417': True,\n",
       " '20250418': True,\n",
       " '20250419': False,\n",
       " '20250420': False,\n",
       " '20250421': True,\n",
       " '20250422': True,\n",
       " '20250423': True,\n",
       " '20250424': True,\n",
       " '20250425': True,\n",
       " '20250426': False,\n",
       " '20250427': False,\n",
       " '20250428': True,\n",
       " '20250429': True,\n",
       " '20250430': True,\n",
       " '20250501': True,\n",
       " '20250502': True,\n",
       " '20250503': False,\n",
       " '20250504': False,\n",
       " '20250505': False,\n",
       " '20250506': False,\n",
       " '20250507': True,\n",
       " '20250508': True,\n",
       " '20250509': True,\n",
       " '20250510': False,\n",
       " '20250511': False,\n",
       " '20250512': True,\n",
       " '20250513': True,\n",
       " '20250514': True,\n",
       " '20250515': True,\n",
       " '20250516': True,\n",
       " '20250517': False,\n",
       " '20250518': False,\n",
       " '20250519': True,\n",
       " '20250520': True,\n",
       " '20250521': True,\n",
       " '20250522': True,\n",
       " '20250523': True,\n",
       " '20250524': False,\n",
       " '20250525': False,\n",
       " '20250526': True,\n",
       " '20250527': True,\n",
       " '20250528': True,\n",
       " '20250529': True,\n",
       " '20250530': True,\n",
       " '20250531': True}"
      ]
     },
     "execution_count": 35,
     "metadata": {},
     "output_type": "execute_result"
    }
   ],
   "source": [
    "get_korean_business_days(\n",
    "    month_range=1,\n",
    "    holidays=[\n",
    "        '20250412',\n",
    "        '20250413',\n",
    "        '20250419',\n",
    "        '20250420',\n",
    "        '20250426',\n",
    "        '20250427',\n",
    "        '20250503',\n",
    "        '20250504',\n",
    "        '20250505',\n",
    "        '20250506',\n",
    "        '20250510',\n",
    "        '20250511',\n",
    "        '20250517',\n",
    "        '20250518',\n",
    "        '20250524',\n",
    "        '20250525'\n",
    "    ]\n",
    ")"
   ]
  },
  {
   "cell_type": "code",
   "execution_count": null,
   "id": "4394cac0",
   "metadata": {},
   "outputs": [],
   "source": []
  }
 ],
 "metadata": {
  "kernelspec": {
   "display_name": "Python 3",
   "language": "python",
   "name": "python3"
  },
  "language_info": {
   "codemirror_mode": {
    "name": "ipython",
    "version": 3
   },
   "file_extension": ".py",
   "mimetype": "text/x-python",
   "name": "python",
   "nbconvert_exporter": "python",
   "pygments_lexer": "ipython3",
   "version": "3.12.1"
  }
 },
 "nbformat": 4,
 "nbformat_minor": 5
}
