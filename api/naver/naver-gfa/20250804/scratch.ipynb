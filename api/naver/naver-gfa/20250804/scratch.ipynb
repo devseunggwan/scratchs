{
 "cells": [
  {
   "cell_type": "code",
   "execution_count": null,
   "id": "b843a7f9",
   "metadata": {},
   "outputs": [],
   "source": [
    "%pip install lzstring"
   ]
  },
  {
   "cell_type": "code",
   "execution_count": null,
   "id": "6abd3325",
   "metadata": {},
   "outputs": [],
   "source": [
    "import json\n",
    "\n",
    "from lzstring import LZString\n",
    "\n",
    "\n",
    "json_data = json.loads(open(\"./sample.json\").read())\n",
    "decoded_json = LZString.decompressFromEncodedURIComponent(json_data[\"encData\"])\n",
    "\n",
    "with open(\"./decoded.json\", \"w\") as f:\n",
    "    f.write(decoded_json)"
   ]
  }
 ],
 "metadata": {
  "kernelspec": {
   "display_name": "scratch",
   "language": "python",
   "name": "python3"
  },
  "language_info": {
   "codemirror_mode": {
    "name": "ipython",
    "version": 3
   },
   "file_extension": ".py",
   "mimetype": "text/x-python",
   "name": "python",
   "nbconvert_exporter": "python",
   "pygments_lexer": "ipython3",
   "version": "3.11.13"
  }
 },
 "nbformat": 4,
 "nbformat_minor": 5
}
