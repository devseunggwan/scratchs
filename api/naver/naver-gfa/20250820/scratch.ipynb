{
 "cells": [
  {
   "cell_type": "code",
   "execution_count": null,
   "id": "738a4800",
   "metadata": {},
   "outputs": [],
   "source": [
    "import cloudscraper\n",
    "from bs4 import BeautifulSoup\n",
    "\n",
    "LOGIN_URL = \"https://nid.naver.com/nidlogin.login\"\n",
    "SVC_TYPE = \"262144\"  \n",
    "\n",
    "scraper = cloudscraper.create_scraper()\n",
    "\n",
    "DOM = BeautifulSoup(\n",
    "    scraper.get(\n",
    "        LOGIN_URL,\n",
    "        params={\"svctype\": SVC_TYPE},\n",
    "        headers=scraper.headers,\n",
    "    ).text,\n",
    "    \"html.parser\",\n",
    ")\n",
    "\n",
    "Keys = DOM.find(\"input\", {\"id\": \"session_keys\"}).attrs[\"value\"]\n",
    "\n",
    "print(Keys)\n",
    "sessionkey , Keyname, evalue, nvalue = Keys.split(\",\")\n",
    "\n",
    "print(sessionkey , Keyname, evalue, nvalue)"
   ]
  },
  {
   "cell_type": "code",
   "execution_count": null,
   "id": "95b19cfe",
   "metadata": {},
   "outputs": [],
   "source": [
    "key_str = scraper.get('https://nid.naver.com/login/ext/keys.nhn').content.decode(\"utf-8\")\n",
    "sessionkey , Keyname, evalue, nvalue = key_str.split(',') \n",
    "\n",
    "print(sessionkey, Keyname, evalue, nvalue)"
   ]
  },
  {
   "cell_type": "code",
   "execution_count": null,
   "id": "38e45313",
   "metadata": {},
   "outputs": [],
   "source": [
    "import rsa\n",
    "\n",
    "public_key = rsa.PublicKey(int(evalue, 16), int(nvalue, 16))\n",
    "public_key"
   ]
  }
 ],
 "metadata": {
  "kernelspec": {
   "display_name": "scratch",
   "language": "python",
   "name": "python3"
  },
  "language_info": {
   "codemirror_mode": {
    "name": "ipython",
    "version": 3
   },
   "file_extension": ".py",
   "mimetype": "text/x-python",
   "name": "python",
   "nbconvert_exporter": "python",
   "pygments_lexer": "ipython3",
   "version": "3.13.3"
  }
 },
 "nbformat": 4,
 "nbformat_minor": 5
}
