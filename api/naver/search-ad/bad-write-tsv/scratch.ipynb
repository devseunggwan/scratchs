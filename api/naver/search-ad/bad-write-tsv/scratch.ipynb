{
 "cells": [
  {
   "cell_type": "code",
   "execution_count": null,
   "id": "cb9e756e",
   "metadata": {},
   "outputs": [],
   "source": [
    "import csv\n",
    "from typing import List, Union\n",
    "\n",
    "import pandas as pd\n",
    "\n",
    "\n",
    "def transform(bad_line: List[str]) -> Union[List[str], None]:\n",
    "    tail = bad_line[3:]\n",
    "    index = [d.isdigit() for d in tail].index(True)\n",
    "    ad_group_name_slice = tail[:index]\n",
    "\n",
    "    ad_group_name = list(filter(lambda x: x, ad_group_name_slice))\n",
    "    ad_group_name = [\"\"] if len(ad_group_name) == 0 else ad_group_name\n",
    "\n",
    "    return bad_line[:3] + ad_group_name + tail[index:]\n",
    "\n",
    "def on_bad_lines(bad_line: List[str]) -> Union[List[str], None]:\n",
    "    return transform(bad_line)\n",
    "\n",
    "\n",
    "df = pd.read_csv(\n",
    "    \"./data/sample.tsv\", \n",
    "    sep=\"\\t\", \n",
    "    header=None, \n",
    "    quoting=csv.QUOTE_NONE, \n",
    "    on_bad_lines=on_bad_lines,\n",
    "    engine=\"python\"\n",
    ")\n",
    "\n",
    "df.head()"
   ]
  }
 ],
 "metadata": {
  "kernelspec": {
   "display_name": "scratch",
   "language": "python",
   "name": "python3"
  },
  "language_info": {
   "codemirror_mode": {
    "name": "ipython",
    "version": 3
   },
   "file_extension": ".py",
   "mimetype": "text/x-python",
   "name": "python",
   "nbconvert_exporter": "python",
   "pygments_lexer": "ipython3",
   "version": "3.11.13"
  }
 },
 "nbformat": 4,
 "nbformat_minor": 5
}
