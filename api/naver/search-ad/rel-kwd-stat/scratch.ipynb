{
 "cells": [
  {
   "cell_type": "code",
   "execution_count": null,
   "id": "6c5f1edf",
   "metadata": {},
   "outputs": [],
   "source": [
    "import os\n",
    "import time\n",
    "import hmac\n",
    "import base64\n",
    "import hashlib\n",
    "\n",
    "import httpx\n",
    "import pandas as pd\n",
    "from dotenv import load_dotenv\n",
    "\n",
    "load_dotenv()"
   ]
  },
  {
   "cell_type": "code",
   "execution_count": null,
   "id": "ddeb2568",
   "metadata": {},
   "outputs": [],
   "source": [
    "class Signature:\n",
    "\n",
    "    @staticmethod\n",
    "    def generate(timestamp, method, uri, secret_key):\n",
    "        message = \"{}.{}.{}\".format(timestamp, method, uri)\n",
    "        hash = hmac.new(bytes(secret_key, \"utf-8\"), bytes(message, \"utf-8\"), hashlib.sha256)\n",
    "\n",
    "        hash.hexdigest()\n",
    "        return base64.b64encode(hash.digest())"
   ]
  },
  {
   "cell_type": "code",
   "execution_count": null,
   "id": "ab44b085",
   "metadata": {},
   "outputs": [],
   "source": [
    "def get_headers():\n",
    "\tx_api_key = os.getenv(\"AD_NAVER_API_KEY\")\n",
    "\tx_customer = os.getenv(\"AD_NAVER_CUSTOMER_ID\")\n",
    "\tx_timestamp = str(round(time.time() * 1000))\n",
    " \n",
    "\tsecret_key = os.getenv(\"AD_NAVER_SECRET_KEY\")\n",
    "\tmethod = \"GET\"\n",
    "\turi = \"/keywordstool\"\n",
    "\n",
    "\t# X-Signature\n",
    "\t# : X-Timestamp, method, uri 값을 점(.)으로 연결한 뒤 HmacSHA256 알고리즘으로 암호화한 후 Base64로 인코딩한 값.\n",
    "\tsign = f\"{x_timestamp}.{method}.{uri}\"\n",
    "\tsignature_encrypted = hmac.new(\n",
    "\t    secret_key.encode(), sign.encode(), hashlib.sha256\n",
    "\t).digest()\n",
    "\tx_signature = base64.b64encode(signature_encrypted)\n",
    "\n",
    "\theaders = {\n",
    "        \"Content-Type\": \"application/json; charset=UTF-8\",\n",
    "\t    \"X-API-KEY\": x_api_key,\n",
    "\t    \"X-CUSTOMER\": x_customer,\n",
    "\t    \"X-Timestamp\": x_timestamp,\n",
    "\t    \"X-Signature\": x_signature,\n",
    "\t}\n",
    "\n",
    "\treturn headers"
   ]
  },
  {
   "cell_type": "code",
   "execution_count": null,
   "id": "259b014d",
   "metadata": {},
   "outputs": [],
   "source": [
    "headers = get_headers()\n",
    "\n",
    "url = \"https://api.searchad.naver.com/keywordstool\"\n",
    "params = {\n",
    "    \"hintKeywords\": \"효성에프엠에스,네이버페이,샘올트먼\",\n",
    "    \"showDetail\": 0\n",
    "}\n",
    "\n",
    "resp = httpx.get(url=url, params=params, headers=headers)"
   ]
  },
  {
   "cell_type": "code",
   "execution_count": null,
   "id": "45f1ce2a",
   "metadata": {},
   "outputs": [],
   "source": [
    "resp.json()"
   ]
  },
  {
   "cell_type": "code",
   "execution_count": null,
   "id": "db3ea8c5",
   "metadata": {},
   "outputs": [],
   "source": [
    "df = pd.DataFrame(resp.json()['keywordList'])\n",
    "df"
   ]
  },
  {
   "cell_type": "code",
   "execution_count": null,
   "id": "98412bbc",
   "metadata": {},
   "outputs": [],
   "source": [
    "df[\"monthlyMobileQcCnt\"].sum()"
   ]
  },
  {
   "cell_type": "code",
   "execution_count": null,
   "id": "444abb9c",
   "metadata": {},
   "outputs": [],
   "source": [
    "df.loc[df[\"monthlyMobileQcCnt\"] == \"< 10\", \"monthlyMobileQcCnt\"] = 0\n",
    "df.loc[df[\"monthlyPcQcCnt\"] == \"< 10\", \"monthlyPcQcCnt\"] = 0\n",
    "df"
   ]
  },
  {
   "cell_type": "code",
   "execution_count": null,
   "id": "805e21e4",
   "metadata": {},
   "outputs": [],
   "source": [
    "df.rename(\n",
    "    columns={\n",
    "        \"relKeyword\": \"keyword\",\n",
    "        \"monthlyPcQcCnt\": \"monthly_qc_pc_cnt\",\n",
    "        \"monthlyMobileQcCnt\": \"monthly_qc_mobile_cnt\",\n",
    "    },\n",
    "    inplace=True,\n",
    ")\n",
    "df"
   ]
  }
 ],
 "metadata": {
  "kernelspec": {
   "display_name": "Python 3",
   "language": "python",
   "name": "python3"
  },
  "language_info": {
   "codemirror_mode": {
    "name": "ipython",
    "version": 3
   },
   "file_extension": ".py",
   "mimetype": "text/x-python",
   "name": "python",
   "nbconvert_exporter": "python",
   "pygments_lexer": "ipython3",
   "version": "3.12.1"
  }
 },
 "nbformat": 4,
 "nbformat_minor": 5
}
