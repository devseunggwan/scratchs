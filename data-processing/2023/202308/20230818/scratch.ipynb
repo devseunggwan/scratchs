{
 "cells": [
  {
   "cell_type": "code",
   "execution_count": null,
   "metadata": {},
   "outputs": [],
   "source": [
    "import httpx"
   ]
  },
  {
   "cell_type": "code",
   "execution_count": null,
   "metadata": {},
   "outputs": [],
   "source": [
    "result = []\n",
    "url = \"https://api-bsc.reservoir.tools/collections/v6?sortBy=allTimeVolume&limit=20\"\n",
    "\n",
    "while True:\n",
    "    print(len(set([x[\"id\"] for x in result])))\n",
    "\n",
    "    headers = {\n",
    "        \"accept\": \"application/json\",\n",
    "        \"x-api-key\": \"62ac45d0-e102-572c-bc88-d231a3e786b0\",\n",
    "    }\n",
    "\n",
    "    resp = httpx.get(url, headers=headers).json()\n",
    "\n",
    "    if resp[\"continuation\"] == \"\":\n",
    "        break\n",
    "    else:\n",
    "        result.extend(resp[\"collections\"])\n",
    "        url = (\n",
    "            \"https://api-bsc.reservoir.tools/collections/v6?sortBy=allTimeVolume&limit=20&continuation=\"\n",
    "            + resp[\"continuation\"]\n",
    "        )"
   ]
  },
  {
   "cell_type": "code",
   "execution_count": null,
   "metadata": {},
   "outputs": [],
   "source": [
    "result"
   ]
  },
  {
   "cell_type": "code",
   "execution_count": null,
   "metadata": {},
   "outputs": [],
   "source": [
    "import json\n",
    "\n",
    "with open(\"reservoir_bsc_rankings.json\", \"w\", encoding=\"utf-8\") as f:\n",
    "    f.write(json.dumps(result, indent=4, ensure_ascii=False))"
   ]
  },
  {
   "cell_type": "code",
   "execution_count": null,
   "metadata": {},
   "outputs": [],
   "source": [
    "reservoir_bscs = len(set([x[\"id\"] for x in result]))\n",
    "reservoir_bscs"
   ]
  },
  {
   "cell_type": "code",
   "execution_count": null,
   "metadata": {},
   "outputs": [],
   "source": [
    "import pandas as pd\n",
    "\n",
    "opensea_df = pd.read_csv(\"list_bnb.csv\").to_dict(\"records\")\n",
    "opensea_df\n",
    "\n",
    "opensea_bnbs = set([x[\"market\"] for x in opensea_df])"
   ]
  },
  {
   "cell_type": "code",
   "execution_count": null,
   "metadata": {},
   "outputs": [],
   "source": [
    "len(reservoir_bscs)"
   ]
  },
  {
   "cell_type": "code",
   "execution_count": null,
   "metadata": {},
   "outputs": [],
   "source": [
    "len(opensea_bnbs)"
   ]
  },
  {
   "cell_type": "code",
   "execution_count": null,
   "metadata": {},
   "outputs": [],
   "source": [
    "len(reservoir_bscs - opensea_bnbs)"
   ]
  },
  {
   "cell_type": "code",
   "execution_count": null,
   "metadata": {},
   "outputs": [],
   "source": [
    "len(opensea_bnbs - reservoir_bscs)"
   ]
  },
  {
   "cell_type": "code",
   "execution_count": null,
   "metadata": {},
   "outputs": [],
   "source": [
    "len(opensea_bnbs & reservoir_bscs)"
   ]
  },
  {
   "cell_type": "code",
   "execution_count": null,
   "metadata": {},
   "outputs": [],
   "source": [
    "len(opensea_bnbs | reservoir_bscs)"
   ]
  },
  {
   "cell_type": "code",
   "execution_count": null,
   "metadata": {},
   "outputs": [],
   "source": [
    "csv = []\n",
    "\n",
    "for collection_id in reservoir_bscs - opensea_bnbs:\n",
    "    for bsc in result:\n",
    "        if bsc[\"id\"] == collection_id:\n",
    "            csv.append(\n",
    "                {\n",
    "                    \"blockchain\": \"BSC\",\n",
    "                    \"market\": bsc[\"floorAsk\"][\"sourceDomain\"],\n",
    "                    \"name\": bsc[\"name\"],\n",
    "                    \"slug\": bsc[\"slug\"],\n",
    "                }\n",
    "            )"
   ]
  },
  {
   "cell_type": "code",
   "execution_count": null,
   "metadata": {},
   "outputs": [],
   "source": [
    "pd.DataFrame(data=csv).to_csv(\"data.csv\", index=False)"
   ]
  }
 ],
 "metadata": {
  "kernelspec": {
   "display_name": "scrapper",
   "language": "python",
   "name": "python3"
  },
  "language_info": {
   "codemirror_mode": {
    "name": "ipython",
    "version": 3
   },
   "file_extension": ".py",
   "mimetype": "text/x-python",
   "name": "python",
   "nbconvert_exporter": "python",
   "pygments_lexer": "ipython3",
   "version": "3.11.4"
  },
  "orig_nbformat": 4
 },
 "nbformat": 4,
 "nbformat_minor": 2
}
