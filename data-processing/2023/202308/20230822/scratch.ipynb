{
 "cells": [
  {
   "cell_type": "code",
   "execution_count": null,
   "metadata": {},
   "outputs": [],
   "source": [
    "import pandas as pd\n",
    "import httpx\n",
    "import asyncio\n",
    "import json\n",
    "from tqdm import tqdm"
   ]
  },
  {
   "cell_type": "code",
   "execution_count": null,
   "metadata": {},
   "outputs": [],
   "source": [
    "df_cm = pd.read_csv(\"nt_collection_master_202308221024.csv\", encoding=\"utf-8\")"
   ]
  },
  {
   "cell_type": "code",
   "execution_count": null,
   "metadata": {},
   "outputs": [],
   "source": [
    "df_migration = df_cm.loc[df_cm[\"collection_id\"].str.contains(\"0x\")]\n",
    "df_migration"
   ]
  },
  {
   "cell_type": "code",
   "execution_count": null,
   "metadata": {},
   "outputs": [],
   "source": [
    "df_solana = df_cm.loc[~df_cm[\"collection_id\"].str.contains(\"0x\")]"
   ]
  },
  {
   "cell_type": "code",
   "execution_count": null,
   "metadata": {},
   "outputs": [],
   "source": [
    "df_solana.loc[df_solana[\"curation\"].notnull()]"
   ]
  },
  {
   "cell_type": "code",
   "execution_count": null,
   "metadata": {},
   "outputs": [],
   "source": [
    "async def _get_request(url, headers):\n",
    "    try:\n",
    "        async with httpx.AsyncClient() as client:\n",
    "            response = await client.get(url, headers=headers)\n",
    "            json_obj = json.loads(json.dumps(response.json()))\n",
    "\n",
    "    except Exception as ex:\n",
    "        print(ex)\n",
    "\n",
    "    return json_obj\n",
    "\n",
    "\n",
    "res = []\n",
    "chain_domains = [\"api\", \"api-bsc\", \"api-polygon\"]\n",
    "urls = [\n",
    "    f\"https://{chain_domain}.reservoir.tools/collections/v6\"\n",
    "    for chain_domain in chain_domains\n",
    "]\n",
    "headers = {\n",
    "    \"accept\": \"application/json\",\n",
    "    \"x-api-key\": \"\",\n",
    "}\n",
    "\n",
    "for row in tqdm(df_cm.to_dict(\"records\")):\n",
    "    if \"0x\" in row[\"collection_id\"]:\n",
    "        res.append(row)\n",
    "    else:\n",
    "        # print(row)\n",
    "        resps = await asyncio.gather(\n",
    "            *[_get_request(f\"{url}?slug={row['slug']}\", headers) for url in urls]\n",
    "        )\n",
    "\n",
    "        for resp in resps:\n",
    "            if not resp[\"collections\"] == []:\n",
    "                if resp[\"collections\"][0][\"id\"] in [\"\", None]:\n",
    "                    print(row[\"slug\"])\n",
    "                else:\n",
    "                    row[\"collection_id\"] = resp[\"collections\"][0][\"id\"]\n",
    "                    res.append(row)\n",
    "\n",
    "df_new_cm = pd.DataFrame(res)\n",
    "df_new_cm.to_csv(\"nt_collection_master_20230822T110300.csv\", index=False)"
   ]
  },
  {
   "cell_type": "code",
   "execution_count": null,
   "metadata": {},
   "outputs": [],
   "source": [
    "df_new_cm.loc[\n",
    "    df_new_cm[\"collection_id\"].isin(\n",
    "        list(\n",
    "            df_cm[\"collection_id\"]\n",
    "            .loc[~df_cm[\"collection_id\"].str.contains(\"0x\")]\n",
    "            .to_dict()\n",
    "            .values()\n",
    "        )\n",
    "    )\n",
    "]"
   ]
  },
  {
   "cell_type": "code",
   "execution_count": null,
   "metadata": {},
   "outputs": [],
   "source": [
    "df_new_cm.loc[\n",
    "    df_new_cm[\"slug\"].isin(\n",
    "        list(\n",
    "            df_cm[\"slug\"]\n",
    "            .loc[~df_cm[\"collection_id\"].str.contains(\"0x\")]\n",
    "            .to_dict()\n",
    "            .values()\n",
    "        )\n",
    "    )\n",
    "]"
   ]
  },
  {
   "cell_type": "code",
   "execution_count": null,
   "metadata": {},
   "outputs": [],
   "source": [
    "df_found_collection_id = df_new_cm.loc[\n",
    "    df_new_cm[\"slug\"].isin(\n",
    "        list(\n",
    "            df_cm[\"slug\"]\n",
    "            .loc[~df_cm[\"collection_id\"].str.contains(\"0x\")]\n",
    "            .to_dict()\n",
    "            .values()\n",
    "        )\n",
    "    )\n",
    "]"
   ]
  },
  {
   "cell_type": "code",
   "execution_count": null,
   "metadata": {},
   "outputs": [],
   "source": [
    "list(df_cm[\"slug\"].loc[~df_cm[\"collection_id\"].str.contains(\"0x\")].to_dict().values())"
   ]
  },
  {
   "cell_type": "code",
   "execution_count": null,
   "metadata": {},
   "outputs": [],
   "source": [
    "df_cm.loc[~df_cm[\"collection_id\"].str.contains(\"0x\")]"
   ]
  },
  {
   "cell_type": "code",
   "execution_count": null,
   "metadata": {},
   "outputs": [],
   "source": [
    "df_col = pd.read_csv(\"collection_table_202308221450.csv\", encoding=\"utf-8\")\n",
    "df_col"
   ]
  },
  {
   "cell_type": "code",
   "execution_count": null,
   "metadata": {},
   "outputs": [],
   "source": [
    "df_col.loc[df_col[\"collection_name\"].notnull()]"
   ]
  },
  {
   "cell_type": "code",
   "execution_count": null,
   "metadata": {},
   "outputs": [],
   "source": [
    "len(\n",
    "    df_col[\"collection_name\"]\n",
    "    .loc[df_col[\"collection_name\"].notnull()]\n",
    "    .to_dict()\n",
    "    .values()\n",
    ")"
   ]
  },
  {
   "cell_type": "code",
   "execution_count": null,
   "metadata": {},
   "outputs": [],
   "source": [
    "from collections import Counter\n",
    "\n",
    "collection_name_conut = Counter(\n",
    "    df_col[\"collection_name\"]\n",
    "    .loc[df_col[\"collection_name\"].notnull()]\n",
    "    .to_dict()\n",
    "    .values()\n",
    ")\n",
    "\n",
    "len([1 for _ in collection_name_conut if collection_name_conut[_] > 1])"
   ]
  },
  {
   "cell_type": "code",
   "execution_count": null,
   "metadata": {},
   "outputs": [],
   "source": [
    "collection_name_map = {}\n",
    "\n",
    "for row in tqdm(df_col.to_dict(\"records\")):\n",
    "    if row[\"collection_name\"] not in collection_name_map:\n",
    "        collection_name_map[row[\"collection_name\"]] = [row[\"collection_id\"]]\n",
    "    elif row[\"collection_id\"] not in collection_name_map[row[\"collection_name\"]]:\n",
    "        collection_name_map[row[\"collection_name\"]].append(row[\"collection_id\"])"
   ]
  },
  {
   "cell_type": "code",
   "execution_count": null,
   "metadata": {},
   "outputs": [],
   "source": [
    "cnt = 0\n",
    "\n",
    "for x in collection_name_map:\n",
    "    if len(collection_name_map[x]) > 1:\n",
    "        cnt += 1\n",
    "\n",
    "cnt"
   ]
  }
 ],
 "metadata": {
  "kernelspec": {
   "display_name": "scrapper",
   "language": "python",
   "name": "python3"
  },
  "language_info": {
   "codemirror_mode": {
    "name": "ipython",
    "version": 3
   },
   "file_extension": ".py",
   "mimetype": "text/x-python",
   "name": "python",
   "nbconvert_exporter": "python",
   "pygments_lexer": "ipython3",
   "version": "3.11.4"
  },
  "orig_nbformat": 4
 },
 "nbformat": 4,
 "nbformat_minor": 2
}
