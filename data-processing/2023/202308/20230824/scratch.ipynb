{
 "cells": [
  {
   "cell_type": "markdown",
   "metadata": {},
   "source": [
    "# Library Import"
   ]
  },
  {
   "cell_type": "code",
   "execution_count": null,
   "metadata": {},
   "outputs": [],
   "source": [
    "import pandas as pd\n",
    "import httpx\n",
    "from tqdm import tqdm"
   ]
  },
  {
   "cell_type": "markdown",
   "metadata": {},
   "source": [
    "# Load Collection Table"
   ]
  },
  {
   "cell_type": "code",
   "execution_count": null,
   "metadata": {},
   "outputs": [],
   "source": [
    "df_collection_dap_asis_dev = pd.read_csv(\n",
    "    \"dap-bc-db-asis-dev_collection_table_202308240910.csv\"\n",
    ")\n",
    "del df_collection_dap_asis_dev[\"id\"]\n",
    "df_collection_dap_asis_dev"
   ]
  },
  {
   "cell_type": "code",
   "execution_count": null,
   "metadata": {},
   "outputs": [],
   "source": [
    "df_collection_dap_asis_prod = pd.read_csv(\n",
    "    \"dap-bc-db-asis-prod_collection_table_202308240910.csv\"\n",
    ")\n",
    "del df_collection_dap_asis_prod[\"id\"]\n",
    "df_collection_dap_asis_prod"
   ]
  },
  {
   "cell_type": "code",
   "execution_count": null,
   "metadata": {},
   "outputs": [],
   "source": [
    "df_collection_dap_tobe_dev = pd.read_csv(\n",
    "    \"dap-bc-db-tobe-dev_collection_table_202308240923.csv\"\n",
    ")\n",
    "del df_collection_dap_tobe_dev[\"id\"]\n",
    "df_collection_dap_tobe_dev[\"collection_id\"] = df_collection_dap_tobe_dev[\n",
    "    \"collection_id\"\n",
    "].str.lower()\n",
    "df_collection_dap_tobe_dev"
   ]
  },
  {
   "cell_type": "code",
   "execution_count": null,
   "metadata": {},
   "outputs": [],
   "source": [
    "df_collection_town = pd.read_csv(\"nt_collection_master_202308221024.csv\")\n",
    "df_collection_town = df_collection_town.loc[\n",
    "    df_collection_town[\"collection_id\"].str.contains(\"0x\")\n",
    "]\n",
    "del df_collection_town[\"idx\"], df_collection_town[\"network\"]\n",
    "\n",
    "df_collection_town"
   ]
  },
  {
   "cell_type": "markdown",
   "metadata": {},
   "source": [
    "# BnB Chain 추가"
   ]
  },
  {
   "cell_type": "code",
   "execution_count": null,
   "metadata": {},
   "outputs": [],
   "source": [
    "df_collection_dap_asis_dev[\"network\"].value_counts()"
   ]
  },
  {
   "cell_type": "code",
   "execution_count": null,
   "metadata": {},
   "outputs": [],
   "source": [
    "df_collection_dap_asis_prod[\"network\"].value_counts()"
   ]
  },
  {
   "cell_type": "code",
   "execution_count": null,
   "metadata": {},
   "outputs": [],
   "source": [
    "df_collection_dap_tobe_dev[\"network\"].value_counts()"
   ]
  },
  {
   "cell_type": "markdown",
   "metadata": {},
   "source": [
    "> BNB Chain이 ASIS 및 TOBE에서 수집되어 있지 않기 때문에 추가할 수 없습니다."
   ]
  },
  {
   "cell_type": "markdown",
   "metadata": {},
   "source": [
    "# Network 추가"
   ]
  },
  {
   "cell_type": "code",
   "execution_count": null,
   "metadata": {},
   "outputs": [],
   "source": [
    "df_collection_town = df_collection_town.merge(\n",
    "    df_collection_dap_tobe_dev[[\"collection_id\", \"network\"]],\n",
    "    how=\"left\",\n",
    "    on=\"collection_id\",\n",
    ")\n",
    "df_collection_town"
   ]
  },
  {
   "cell_type": "code",
   "execution_count": null,
   "metadata": {},
   "outputs": [],
   "source": [
    "df_collection_town.loc[df_collection_town[\"network\"].notnull()]"
   ]
  },
  {
   "cell_type": "code",
   "execution_count": null,
   "metadata": {},
   "outputs": [],
   "source": [
    "df_collection_town[\"network\"].value_counts()"
   ]
  },
  {
   "cell_type": "code",
   "execution_count": null,
   "metadata": {},
   "outputs": [],
   "source": [
    "df_collection_town_notnetwork = df_collection_town.loc[\n",
    "    df_collection_town[\"network\"].isnull()\n",
    "]\n",
    "df_collection_town_notnetwork"
   ]
  },
  {
   "cell_type": "code",
   "execution_count": null,
   "metadata": {},
   "outputs": [],
   "source": [
    "res = []\n",
    "chain_domains = {\"api\": \"ethereum\", \"api-polygon\": \"polygon\"}\n",
    "urls = [\n",
    "    f\"https://{chain_domain}.reservoir.tools/collections/v6\"\n",
    "    for chain_domain in chain_domains\n",
    "]\n",
    "headers = {\n",
    "    \"accept\": \"application/json\",\n",
    "    \"x-api-key\": \"62ac45d0-e102-572c-bc88-d231a3e786b0\",\n",
    "}\n",
    "\n",
    "for row in tqdm(df_collection_town_notnetwork.to_dict(\"records\")):\n",
    "    is_found = False\n",
    "    for chain_domain, url in zip(chain_domains, urls):\n",
    "        resp = httpx.get(\n",
    "            url + f\"id={row['collection_id']}\",\n",
    "            params={\"collection_id\": row[\"collection_id\"]},\n",
    "            headers=headers,\n",
    "        ).json()\n",
    "        print(resp)\n",
    "        # if not resp[\"collections\"] == []:\n",
    "        #     if resp[\"collections\"][0][\"id\"] in [\"\", None]:\n",
    "        #         print(row[\"slug\"])\n",
    "        #     else:\n",
    "        #         row[\"network\"] = chain_domains[chain_domain]\n",
    "        #         res.append(row)\n",
    "        #         is_found = True\n",
    "        #         break\n",
    "\n",
    "    # if not is_found:\n",
    "    #     res.append(row)"
   ]
  },
  {
   "cell_type": "code",
   "execution_count": null,
   "metadata": {},
   "outputs": [],
   "source": [
    "df_collection_town_search = pd.DataFrame(res)\n",
    "df_collection_town_search"
   ]
  },
  {
   "cell_type": "code",
   "execution_count": null,
   "metadata": {},
   "outputs": [],
   "source": [
    "df_collection_town_search[\"network\"].value_counts()"
   ]
  },
  {
   "cell_type": "code",
   "execution_count": null,
   "metadata": {},
   "outputs": [],
   "source": [
    "df_collection_town.reset_index(inplace=True)\n",
    "df_collection_town"
   ]
  }
 ],
 "metadata": {
  "kernelspec": {
   "display_name": "scrapper",
   "language": "python",
   "name": "python3"
  },
  "language_info": {
   "codemirror_mode": {
    "name": "ipython",
    "version": 3
   },
   "file_extension": ".py",
   "mimetype": "text/x-python",
   "name": "python",
   "nbconvert_exporter": "python",
   "pygments_lexer": "ipython3",
   "version": "3.11.4"
  },
  "orig_nbformat": 4
 },
 "nbformat": 4,
 "nbformat_minor": 2
}
