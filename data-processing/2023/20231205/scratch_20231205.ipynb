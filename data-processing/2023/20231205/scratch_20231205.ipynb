{
 "cells": [
  {
   "cell_type": "code",
   "execution_count": 68,
   "metadata": {},
   "outputs": [],
   "source": [
    "import json\n",
    "import os\n",
    "\n",
    "import polars as pl\n",
    "import matplotlib.pyplot as plt\n",
    "import seaborn as sns\n",
    "\n",
    "import httpx\n",
    "from tqdm import tqdm\n",
    "from loguru import logger\n",
    "from dotenv import load_dotenv\n",
    "load_dotenv()\n",
    "\n",
    "sns.set_theme(style=\"whitegrid\")"
   ]
  },
  {
   "cell_type": "code",
   "execution_count": null,
   "metadata": {},
   "outputs": [],
   "source": [
    "def read_json(path):\n",
    "    with open(path) as f:\n",
    "        return json.load(f)\n"
   ]
  },
  {
   "cell_type": "markdown",
   "metadata": {},
   "source": [
    "### Include Spam"
   ]
  },
  {
   "cell_type": "code",
   "execution_count": null,
   "metadata": {},
   "outputs": [],
   "source": [
    "tokens = read_json('./data/tokens.json')\n",
    "logger.info(f\"contract count: {len(set([token[\"token\"][\"contract\"] for token in tokens]))}\")\n",
    "logger.info(f\"token count: {len(set([token[\"token\"][\"tokenId\"] for token in tokens]))}\")"
   ]
  },
  {
   "cell_type": "markdown",
   "metadata": {},
   "source": [
    "### Exclude Spam"
   ]
  },
  {
   "cell_type": "code",
   "execution_count": 100,
   "metadata": {},
   "outputs": [
    {
     "name": "stderr",
     "output_type": "stream",
     "text": [
      "\u001b[32m2023-12-05 13:23:16.139\u001b[0m | \u001b[1mINFO    \u001b[0m | \u001b[36m__main__\u001b[0m:\u001b[36m<module>\u001b[0m:\u001b[36m2\u001b[0m - \u001b[1mcontract count: 55\u001b[0m\n",
      "\u001b[32m2023-12-05 13:23:16.140\u001b[0m | \u001b[1mINFO    \u001b[0m | \u001b[36m__main__\u001b[0m:\u001b[36m<module>\u001b[0m:\u001b[36m3\u001b[0m - \u001b[1mtoken count: 1919\u001b[0m\n"
     ]
    }
   ],
   "source": [
    "tokens = read_json('./data/tokens_exclude_spams.json')\n",
    "logger.info(f\"contract count: {len(set([token[\"token\"][\"contract\"] for token in tokens]))}\")\n",
    "logger.info(f\"token count: {len(set([token[\"token\"][\"tokenId\"] for token in tokens]))}\")"
   ]
  },
  {
   "cell_type": "markdown",
   "metadata": {},
   "source": [
    "### Make DataFrame"
   ]
  },
  {
   "cell_type": "code",
   "execution_count": 101,
   "metadata": {},
   "outputs": [
    {
     "data": {
      "text/html": [
       "<div><style>\n",
       ".dataframe > thead > tr,\n",
       ".dataframe > tbody > tr {\n",
       "  text-align: right;\n",
       "  white-space: pre-wrap;\n",
       "}\n",
       "</style>\n",
       "<small>shape: (2_471, 9)</small><table border=\"1\" class=\"dataframe\"><thead><tr><th>contract</th><th>token_id</th><th>token_name</th><th>token_kind</th><th>floorprice</th><th>last_appraisal_value</th><th>token_count</th><th>on_sale_count</th><th>acquired_at</th></tr><tr><td>str</td><td>str</td><td>str</td><td>str</td><td>f64</td><td>f64</td><td>i64</td><td>i64</td><td>str</td></tr></thead><tbody><tr><td>&quot;0x57f1887a8bf1…</td><td>&quot;87691055622945…</td><td>&quot;memecoin.eth&quot;</td><td>&quot;erc721&quot;</td><td>2.1907</td><td>42.069</td><td>1</td><td>0</td><td>&quot;2023-11-27T06:…</td></tr><tr><td>&quot;0x60c9b34c92e0…</td><td>&quot;7&quot;</td><td>&quot;Introducing: B…</td><td>&quot;erc721&quot;</td><td>null</td><td>null</td><td>1</td><td>0</td><td>&quot;2023-11-23T09:…</td></tr><tr><td>&quot;0x60c9b34c92e0…</td><td>&quot;6&quot;</td><td>&quot;Introducing: B…</td><td>&quot;erc721&quot;</td><td>null</td><td>null</td><td>1</td><td>0</td><td>&quot;2023-11-23T09:…</td></tr><tr><td>&quot;0x67f4797d84ac…</td><td>&quot;1&quot;</td><td>&quot;Visit apyape.o…</td><td>&quot;erc1155&quot;</td><td>null</td><td>null</td><td>1</td><td>0</td><td>&quot;2023-11-18T22:…</td></tr><tr><td>&quot;0xdda0e9bc9b34…</td><td>&quot;1&quot;</td><td>&quot;Golden Tickets…</td><td>&quot;erc1155&quot;</td><td>151.15858</td><td>null</td><td>1</td><td>1</td><td>&quot;2023-11-05T12:…</td></tr><tr><td>&quot;0x372a04d2a635…</td><td>&quot;2&quot;</td><td>&quot;Captianz #1007…</td><td>&quot;erc1155&quot;</td><td>7163.60221</td><td>null</td><td>1</td><td>1</td><td>&quot;2023-11-04T17:…</td></tr><tr><td>&quot;0x3f62e545b1f5…</td><td>&quot;1&quot;</td><td>&quot;Po͏t͏a͏t͏o͏z #…</td><td>&quot;erc1155&quot;</td><td>null</td><td>null</td><td>1</td><td>0</td><td>&quot;2023-11-02T22:…</td></tr><tr><td>&quot;0x6a82a05b7ff8…</td><td>&quot;0&quot;</td><td>null</td><td>&quot;erc1155&quot;</td><td>null</td><td>null</td><td>1</td><td>0</td><td>&quot;2023-10-27T05:…</td></tr><tr><td>&quot;0xd4416b13d2b3…</td><td>&quot;11486569652741…</td><td>&quot;memefoundation…</td><td>&quot;erc1155&quot;</td><td>4.38141</td><td>null</td><td>1</td><td>0</td><td>&quot;2023-10-20T12:…</td></tr><tr><td>&quot;0x57509f2ced2a…</td><td>&quot;0&quot;</td><td>&quot;Visit ethapy.i…</td><td>&quot;erc1155&quot;</td><td>null</td><td>null</td><td>1</td><td>0</td><td>&quot;2023-10-17T01:…</td></tr><tr><td>&quot;0x30c2edd7cd95…</td><td>&quot;61&quot;</td><td>&quot;Just The Tip #…</td><td>&quot;erc721&quot;</td><td>null</td><td>null</td><td>1</td><td>0</td><td>&quot;2023-09-19T16:…</td></tr><tr><td>&quot;0x30c2edd7cd95…</td><td>&quot;60&quot;</td><td>&quot;Just The Tip #…</td><td>&quot;erc721&quot;</td><td>null</td><td>null</td><td>1</td><td>0</td><td>&quot;2023-09-19T16:…</td></tr><tr><td>&hellip;</td><td>&hellip;</td><td>&hellip;</td><td>&hellip;</td><td>&hellip;</td><td>&hellip;</td><td>&hellip;</td><td>&hellip;</td><td>&hellip;</td></tr><tr><td>&quot;0x6efc003d3f36…</td><td>&quot;1&quot;</td><td>&quot;MVP #1&quot;</td><td>&quot;erc721&quot;</td><td>151158.57876</td><td>null</td><td>1</td><td>0</td><td>&quot;2022-06-15T09:…</td></tr><tr><td>&quot;0x6efc003d3f36…</td><td>&quot;0&quot;</td><td>&quot;MVP #0&quot;</td><td>&quot;erc721&quot;</td><td>151158.57876</td><td>null</td><td>1</td><td>0</td><td>&quot;2022-06-15T09:…</td></tr><tr><td>&quot;0x290968679bfc…</td><td>&quot;8&quot;</td><td>null</td><td>&quot;erc721&quot;</td><td>null</td><td>null</td><td>1</td><td>0</td><td>&quot;2022-06-14T14:…</td></tr><tr><td>&quot;0x290968679bfc…</td><td>&quot;7&quot;</td><td>null</td><td>&quot;erc721&quot;</td><td>null</td><td>null</td><td>1</td><td>0</td><td>&quot;2022-06-14T14:…</td></tr><tr><td>&quot;0x290968679bfc…</td><td>&quot;6&quot;</td><td>null</td><td>&quot;erc721&quot;</td><td>null</td><td>null</td><td>1</td><td>0</td><td>&quot;2022-06-14T14:…</td></tr><tr><td>&quot;0x290968679bfc…</td><td>&quot;5&quot;</td><td>null</td><td>&quot;erc721&quot;</td><td>null</td><td>null</td><td>1</td><td>0</td><td>&quot;2022-06-14T14:…</td></tr><tr><td>&quot;0x290968679bfc…</td><td>&quot;4&quot;</td><td>null</td><td>&quot;erc721&quot;</td><td>null</td><td>null</td><td>1</td><td>0</td><td>&quot;2022-06-14T14:…</td></tr><tr><td>&quot;0x290968679bfc…</td><td>&quot;3&quot;</td><td>null</td><td>&quot;erc721&quot;</td><td>null</td><td>null</td><td>1</td><td>0</td><td>&quot;2022-06-14T14:…</td></tr><tr><td>&quot;0x290968679bfc…</td><td>&quot;2&quot;</td><td>null</td><td>&quot;erc721&quot;</td><td>null</td><td>null</td><td>1</td><td>0</td><td>&quot;2022-06-14T14:…</td></tr><tr><td>&quot;0x290968679bfc…</td><td>&quot;1&quot;</td><td>null</td><td>&quot;erc721&quot;</td><td>null</td><td>null</td><td>1</td><td>0</td><td>&quot;2022-06-14T14:…</td></tr><tr><td>&quot;0x290968679bfc…</td><td>&quot;0&quot;</td><td>null</td><td>&quot;erc721&quot;</td><td>null</td><td>null</td><td>1</td><td>0</td><td>&quot;2022-06-14T14:…</td></tr><tr><td>&quot;0x57f1887a8bf1…</td><td>&quot;88436293916976…</td><td>&quot;memeland.eth&quot;</td><td>&quot;erc721&quot;</td><td>2.1907</td><td>0.9</td><td>1</td><td>0</td><td>&quot;2022-06-11T12:…</td></tr></tbody></table></div>"
      ],
      "text/plain": [
       "shape: (2_471, 9)\n",
       "┌───────────┬───────────┬───────────┬───────────┬───┬───────────┬───────────┬───────────┬──────────┐\n",
       "│ contract  ┆ token_id  ┆ token_nam ┆ token_kin ┆ … ┆ last_appr ┆ token_cou ┆ on_sale_c ┆ acquired │\n",
       "│ ---       ┆ ---       ┆ e         ┆ d         ┆   ┆ aisal_val ┆ nt        ┆ ount      ┆ _at      │\n",
       "│ str       ┆ str       ┆ ---       ┆ ---       ┆   ┆ ue        ┆ ---       ┆ ---       ┆ ---      │\n",
       "│           ┆           ┆ str       ┆ str       ┆   ┆ ---       ┆ i64       ┆ i64       ┆ str      │\n",
       "│           ┆           ┆           ┆           ┆   ┆ f64       ┆           ┆           ┆          │\n",
       "╞═══════════╪═══════════╪═══════════╪═══════════╪═══╪═══════════╪═══════════╪═══════════╪══════════╡\n",
       "│ 0x57f1887 ┆ 876910556 ┆ memecoin. ┆ erc721    ┆ … ┆ 42.069    ┆ 1         ┆ 0         ┆ 2023-11- │\n",
       "│ a8bf19b14 ┆ 229455168 ┆ eth       ┆           ┆   ┆           ┆           ┆           ┆ 27T06:25 │\n",
       "│ fc0df6fd9 ┆ 320634272 ┆           ┆           ┆   ┆           ┆           ┆           ┆ :23.000Z │\n",
       "│ b2acc…    ┆ 21146…    ┆           ┆           ┆   ┆           ┆           ┆           ┆          │\n",
       "│ 0x60c9b34 ┆ 7         ┆ Introduci ┆ erc721    ┆ … ┆ null      ┆ 1         ┆ 0         ┆ 2023-11- │\n",
       "│ c92e0e321 ┆           ┆ ng:       ┆           ┆   ┆           ┆           ┆           ┆ 23T09:45 │\n",
       "│ cbda4011d ┆           ┆ Blast! #7 ┆           ┆   ┆           ┆           ┆           ┆ :47.000Z │\n",
       "│ e630a…    ┆           ┆           ┆           ┆   ┆           ┆           ┆           ┆          │\n",
       "│ 0x60c9b34 ┆ 6         ┆ Introduci ┆ erc721    ┆ … ┆ null      ┆ 1         ┆ 0         ┆ 2023-11- │\n",
       "│ c92e0e321 ┆           ┆ ng:       ┆           ┆   ┆           ┆           ┆           ┆ 23T09:45 │\n",
       "│ cbda4011d ┆           ┆ Blast! #6 ┆           ┆   ┆           ┆           ┆           ┆ :47.000Z │\n",
       "│ e630a…    ┆           ┆           ┆           ┆   ┆           ┆           ┆           ┆          │\n",
       "│ 0x67f4797 ┆ 1         ┆ Visit apy ┆ erc1155   ┆ … ┆ null      ┆ 1         ┆ 0         ┆ 2023-11- │\n",
       "│ d84acfe5e ┆           ┆ ape.org   ┆           ┆   ┆           ┆           ┆           ┆ 18T22:24 │\n",
       "│ 42110051b ┆           ┆ to claim  ┆           ┆   ┆           ┆           ┆           ┆ :59.000Z │\n",
       "│ 46fa0…    ┆           ┆ reward…   ┆           ┆   ┆           ┆           ┆           ┆          │\n",
       "│ …         ┆ …         ┆ …         ┆ …         ┆ … ┆ …         ┆ …         ┆ …         ┆ …        │\n",
       "│ 0x2909686 ┆ 2         ┆ null      ┆ erc721    ┆ … ┆ null      ┆ 1         ┆ 0         ┆ 2022-06- │\n",
       "│ 79bfce774 ┆           ┆           ┆           ┆   ┆           ┆           ┆           ┆ 14T14:13 │\n",
       "│ 8eb5bc019 ┆           ┆           ┆           ┆   ┆           ┆           ┆           ┆ :45.000Z │\n",
       "│ a604c…    ┆           ┆           ┆           ┆   ┆           ┆           ┆           ┆          │\n",
       "│ 0x2909686 ┆ 1         ┆ null      ┆ erc721    ┆ … ┆ null      ┆ 1         ┆ 0         ┆ 2022-06- │\n",
       "│ 79bfce774 ┆           ┆           ┆           ┆   ┆           ┆           ┆           ┆ 14T14:13 │\n",
       "│ 8eb5bc019 ┆           ┆           ┆           ┆   ┆           ┆           ┆           ┆ :45.000Z │\n",
       "│ a604c…    ┆           ┆           ┆           ┆   ┆           ┆           ┆           ┆          │\n",
       "│ 0x2909686 ┆ 0         ┆ null      ┆ erc721    ┆ … ┆ null      ┆ 1         ┆ 0         ┆ 2022-06- │\n",
       "│ 79bfce774 ┆           ┆           ┆           ┆   ┆           ┆           ┆           ┆ 14T14:13 │\n",
       "│ 8eb5bc019 ┆           ┆           ┆           ┆   ┆           ┆           ┆           ┆ :45.000Z │\n",
       "│ a604c…    ┆           ┆           ┆           ┆   ┆           ┆           ┆           ┆          │\n",
       "│ 0x57f1887 ┆ 884362939 ┆ memeland. ┆ erc721    ┆ … ┆ 0.9       ┆ 1         ┆ 0         ┆ 2022-06- │\n",
       "│ a8bf19b14 ┆ 169766722 ┆ eth       ┆           ┆   ┆           ┆           ┆           ┆ 11T12:32 │\n",
       "│ fc0df6fd9 ┆ 070964863 ┆           ┆           ┆   ┆           ┆           ┆           ┆ :02.000Z │\n",
       "│ b2acc…    ┆ 18827…    ┆           ┆           ┆   ┆           ┆           ┆           ┆          │\n",
       "└───────────┴───────────┴───────────┴───────────┴───┴───────────┴───────────┴───────────┴──────────┘"
      ]
     },
     "execution_count": 101,
     "metadata": {},
     "output_type": "execute_result"
    }
   ],
   "source": [
    "pl_list = []\n",
    "\n",
    "for token in tokens:\n",
    "    \n",
    "    token_info = {\n",
    "        \"contract\": token[\"token\"][\"contract\"],\n",
    "        \"token_id\": token[\"token\"][\"tokenId\"],\n",
    "        \"token_name\": token[\"token\"][\"name\"],\n",
    "        \"token_kind\": token[\"token\"][\"kind\"],\n",
    "        \"floorprice\": token[\"token\"][\"collection\"][\"floorAskPrice\"][\"amount\"][\"usd\"] if token[\"token\"][\"collection\"][\"floorAskPrice\"] else None,\n",
    "        \"last_appraisal_value\": token[\"token\"][\"lastAppraisalValue\"],\n",
    "        \"token_count\": int(token[\"ownership\"][\"tokenCount\"]),\n",
    "        \"on_sale_count\": int(token[\"ownership\"][\"onSaleCount\"]),\n",
    "        \"acquired_at\": token[\"ownership\"][\"acquiredAt\"],\n",
    "    }\n",
    "    \n",
    "    # logger.info(token_info)\n",
    "    pl_list.append(token_info)\n",
    "\n",
    "df = pl.DataFrame(data=pl_list)\n",
    "df"
   ]
  },
  {
   "cell_type": "markdown",
   "metadata": {},
   "source": [
    "### Analyze"
   ]
  },
  {
   "cell_type": "code",
   "execution_count": 91,
   "metadata": {},
   "outputs": [
    {
     "data": {
      "text/html": [
       "<div><style>\n",
       ".dataframe > thead > tr,\n",
       ".dataframe > tbody > tr {\n",
       "  text-align: right;\n",
       "  white-space: pre-wrap;\n",
       "}\n",
       "</style>\n",
       "<small>shape: (13, 8)</small><table border=\"1\" class=\"dataframe\"><thead><tr><th>contract</th><th>token_id</th><th>token_name</th><th>token_kind</th><th>floorprice</th><th>token_count</th><th>on_sale_count</th><th>acquired_at</th></tr><tr><td>str</td><td>str</td><td>str</td><td>str</td><td>f64</td><td>i64</td><td>i64</td><td>str</td></tr></thead><tbody><tr><td>&quot;0xdda0e9bc9b34…</td><td>&quot;1&quot;</td><td>&quot;Golden Tickets…</td><td>&quot;erc1155&quot;</td><td>151.15858</td><td>1</td><td>1</td><td>&quot;2023-11-05T12:…</td></tr><tr><td>&quot;0x372a04d2a635…</td><td>&quot;2&quot;</td><td>&quot;Captianz #1007…</td><td>&quot;erc1155&quot;</td><td>7163.60221</td><td>1</td><td>1</td><td>&quot;2023-11-04T17:…</td></tr><tr><td>&quot;0x495f94727674…</td><td>&quot;79175504051762…</td><td>&quot;Compromised Li…</td><td>&quot;erc1155&quot;</td><td>13801.43545</td><td>1</td><td>1</td><td>&quot;2023-07-29T10:…</td></tr><tr><td>&quot;0x495f94727674…</td><td>&quot;94686434302712…</td><td>&quot;MVP #0&quot;</td><td>&quot;erc1155&quot;</td><td>28479.15252</td><td>1</td><td>1</td><td>&quot;2023-06-16T11:…</td></tr><tr><td>&quot;0x091fc2e2bb98…</td><td>&quot;1&quot;</td><td>&quot;House of Lee: …</td><td>&quot;erc1155&quot;</td><td>3.50513</td><td>1127</td><td>1</td><td>&quot;2023-04-13T19:…</td></tr><tr><td>&quot;0x495f94727674…</td><td>&quot;13951738445175…</td><td>&quot;Banksy&#x27;s Punk …</td><td>&quot;erc1155&quot;</td><td>1073.44498</td><td>1</td><td>1</td><td>&quot;2023-01-07T07:…</td></tr><tr><td>&quot;0xb66a603f4cfe…</td><td>&quot;11813982658165…</td><td>&quot;Воrеd Аре Yасh…</td><td>&quot;erc1155&quot;</td><td>0.01533</td><td>1</td><td>1</td><td>&quot;2023-01-02T22:…</td></tr><tr><td>&quot;0x495f94727674…</td><td>&quot;13951738445175…</td><td>&quot;Twitter Conqui…</td><td>&quot;erc1155&quot;</td><td>635.30417</td><td>1</td><td>1</td><td>&quot;2022-12-02T06:…</td></tr><tr><td>&quot;0x495f94727674…</td><td>&quot;13951738445175…</td><td>&quot;Queen Elizabet…</td><td>&quot;erc1155&quot;</td><td>635.30417</td><td>1</td><td>1</td><td>&quot;2022-09-10T05:…</td></tr><tr><td>&quot;0x495f94727674…</td><td>&quot;13951738445175…</td><td>&quot;Banksy Mona Li…</td><td>&quot;erc1155&quot;</td><td>657.21121</td><td>1</td><td>1</td><td>&quot;2022-09-07T07:…</td></tr><tr><td>&quot;0xb7f9ef1e0982…</td><td>&quot;0&quot;</td><td>&quot;Lifetime Membe…</td><td>&quot;erc1155&quot;</td><td>2.1907</td><td>1</td><td>1</td><td>&quot;2022-09-03T05:…</td></tr><tr><td>&quot;0x495f94727674…</td><td>&quot;49638420866946…</td><td>&quot;CryptoClone Pu…</td><td>&quot;erc1155&quot;</td><td>21.90704</td><td>1</td><td>1</td><td>&quot;2022-08-20T18:…</td></tr><tr><td>&quot;0xb66a603f4cfe…</td><td>&quot;34908161203840…</td><td>&quot;Bored Ape Yach…</td><td>&quot;erc1155&quot;</td><td>0.01533</td><td>1</td><td>1</td><td>&quot;2022-08-05T11:…</td></tr></tbody></table></div>"
      ],
      "text/plain": [
       "shape: (13, 8)\n",
       "┌────────────┬────────────┬────────────┬───────────┬───────────┬───────────┬───────────┬───────────┐\n",
       "│ contract   ┆ token_id   ┆ token_name ┆ token_kin ┆ floorpric ┆ token_cou ┆ on_sale_c ┆ acquired_ │\n",
       "│ ---        ┆ ---        ┆ ---        ┆ d         ┆ e         ┆ nt        ┆ ount      ┆ at        │\n",
       "│ str        ┆ str        ┆ str        ┆ ---       ┆ ---       ┆ ---       ┆ ---       ┆ ---       │\n",
       "│            ┆            ┆            ┆ str       ┆ f64       ┆ i64       ┆ i64       ┆ str       │\n",
       "╞════════════╪════════════╪════════════╪═══════════╪═══════════╪═══════════╪═══════════╪═══════════╡\n",
       "│ 0xdda0e9bc ┆ 1          ┆ Golden     ┆ erc1155   ┆ 151.15858 ┆ 1         ┆ 1         ┆ 2023-11-0 │\n",
       "│ 9b3427899f ┆            ┆ Tickets    ┆           ┆           ┆           ┆           ┆ 5T12:38:3 │\n",
       "│ ee2864b2e7 ┆            ┆            ┆           ┆           ┆           ┆           ┆ 5.000Z    │\n",
       "│ 3b…        ┆            ┆            ┆           ┆           ┆           ┆           ┆           │\n",
       "│ 0x372a04d2 ┆ 2          ┆ Captianz   ┆ erc1155   ┆ 7163.6022 ┆ 1         ┆ 1         ┆ 2023-11-0 │\n",
       "│ a635a0e247 ┆            ┆ #1007      ┆           ┆ 1         ┆           ┆           ┆ 4T17:08:5 │\n",
       "│ 5c8659b25d ┆            ┆            ┆           ┆           ┆           ┆           ┆ 9.000Z    │\n",
       "│ 92…        ┆            ┆            ┆           ┆           ┆           ┆           ┆           │\n",
       "│ 0x495f9472 ┆ 7917550405 ┆ Compromise ┆ erc1155   ┆ 13801.435 ┆ 1         ┆ 1         ┆ 2023-07-2 │\n",
       "│ 76749ce646 ┆ 1762436214 ┆ d Life     ┆           ┆ 45        ┆           ┆           ┆ 9T10:47:3 │\n",
       "│ f68ac8c248 ┆ 3938123168 ┆            ┆           ┆           ┆           ┆           ┆ 5.000Z    │\n",
       "│ 42…        ┆ 30…        ┆            ┆           ┆           ┆           ┆           ┆           │\n",
       "│ 0x495f9472 ┆ 9468643430 ┆ MVP #0     ┆ erc1155   ┆ 28479.152 ┆ 1         ┆ 1         ┆ 2023-06-1 │\n",
       "│ 76749ce646 ┆ 2712623301 ┆            ┆           ┆ 52        ┆           ┆           ┆ 6T11:53:4 │\n",
       "│ f68ac8c248 ┆ 9152515853 ┆            ┆           ┆           ┆           ┆           ┆ 7.000Z    │\n",
       "│ 42…        ┆ 84…        ┆            ┆           ┆           ┆           ┆           ┆           │\n",
       "│ …          ┆ …          ┆ …          ┆ …         ┆ …         ┆ …         ┆ …         ┆ …         │\n",
       "│ 0x495f9472 ┆ 1395173844 ┆ Banksy     ┆ erc1155   ┆ 657.21121 ┆ 1         ┆ 1         ┆ 2022-09-0 │\n",
       "│ 76749ce646 ┆ 5175427494 ┆ Mona Lisa  ┆           ┆           ┆           ┆           ┆ 7T07:06:5 │\n",
       "│ f68ac8c248 ┆ 9501366367 ┆            ┆           ┆           ┆           ┆           ┆ 7.000Z    │\n",
       "│ 42…        ┆ 56…        ┆            ┆           ┆           ┆           ┆           ┆           │\n",
       "│ 0xb7f9ef1e ┆ 0          ┆ Lifetime   ┆ erc1155   ┆ 2.1907    ┆ 1         ┆ 1         ┆ 2022-09-0 │\n",
       "│ 09829d3937 ┆            ┆ Membership ┆           ┆           ┆           ┆           ┆ 3T05:08:1 │\n",
       "│ bfc6b5e46f ┆            ┆            ┆           ┆           ┆           ┆           ┆ 5.000Z    │\n",
       "│ 3c…        ┆            ┆            ┆           ┆           ┆           ┆           ┆           │\n",
       "│ 0x495f9472 ┆ 4963842086 ┆ CryptoClon ┆ erc1155   ┆ 21.90704  ┆ 1         ┆ 1         ┆ 2022-08-2 │\n",
       "│ 76749ce646 ┆ 6946259497 ┆ e Punks #1 ┆           ┆           ┆           ┆           ┆ 0T18:19:3 │\n",
       "│ f68ac8c248 ┆ 7052212260 ┆            ┆           ┆           ┆           ┆           ┆ 6.000Z    │\n",
       "│ 42…        ┆ 39…        ┆            ┆           ┆           ┆           ┆           ┆           │\n",
       "│ 0xb66a603f ┆ 3490816120 ┆ Bored Ape  ┆ erc1155   ┆ 0.01533   ┆ 1         ┆ 1         ┆ 2022-08-0 │\n",
       "│ 4cfe17e3d2 ┆ 3840102586 ┆ Yacht Club ┆           ┆           ┆           ┆           ┆ 5T11:34:5 │\n",
       "│ 7b87a8bfca ┆ 6803787147 ┆ Express    ┆           ┆           ┆           ┆           ┆ 0.000Z    │\n",
       "│ d3…        ┆ 10…        ┆ Bla…       ┆           ┆           ┆           ┆           ┆           │\n",
       "└────────────┴────────────┴────────────┴───────────┴───────────┴───────────┴───────────┴───────────┘"
      ]
     },
     "execution_count": 91,
     "metadata": {},
     "output_type": "execute_result"
    }
   ],
   "source": [
    "df.filter(pl.col(\"on_sale_count\") > 0)"
   ]
  },
  {
   "cell_type": "code",
   "execution_count": 69,
   "metadata": {},
   "outputs": [
    {
     "data": {
      "text/plain": [
       "<Axes: xlabel='on_sale_count', ylabel='Count'>"
      ]
     },
     "execution_count": 69,
     "metadata": {},
     "output_type": "execute_result"
    },
    {
     "data": {
      "image/png": "[encoded data removed]",
      "text/plain": [
       "<Figure size 640x480 with 1 Axes>"
      ]
     },
     "metadata": {},
     "output_type": "display_data"
    }
   ],
   "source": [
    "sns.histplot(df, x=\"on_sale_count\", bins=10)"
   ]
  },
  {
   "cell_type": "code",
   "execution_count": 90,
   "metadata": {},
   "outputs": [
    {
     "data": {
      "text/html": [
       "<div><style>\n",
       ".dataframe > thead > tr,\n",
       ".dataframe > tbody > tr {\n",
       "  text-align: right;\n",
       "  white-space: pre-wrap;\n",
       "}\n",
       "</style>\n",
       "<small>shape: (2_471, 8)</small><table border=\"1\" class=\"dataframe\"><thead><tr><th>contract</th><th>token_id</th><th>token_name</th><th>token_kind</th><th>floorprice</th><th>token_count</th><th>on_sale_count</th><th>acquired_at</th></tr><tr><td>str</td><td>str</td><td>str</td><td>str</td><td>f64</td><td>i64</td><td>i64</td><td>str</td></tr></thead><tbody><tr><td>&quot;0x091fc2e2bb98…</td><td>&quot;1&quot;</td><td>&quot;House of Lee: …</td><td>&quot;erc1155&quot;</td><td>3.50513</td><td>1127</td><td>1</td><td>&quot;2023-04-13T19:…</td></tr><tr><td>&quot;0x495f94727674…</td><td>&quot;56044906628959…</td><td>&quot;MEMELAND 🌱 VIP…</td><td>&quot;erc1155&quot;</td><td>1.75256</td><td>22</td><td>0</td><td>&quot;2022-07-21T18:…</td></tr><tr><td>&quot;0x495f94727674…</td><td>&quot;10939727539745…</td><td>&quot;Potatoez #1213…</td><td>&quot;erc1155&quot;</td><td>1.75256</td><td>9</td><td>0</td><td>&quot;2022-07-23T12:…</td></tr><tr><td>&quot;0x495f94727674…</td><td>&quot;10939727539745…</td><td>&quot;Modernist Mask…</td><td>&quot;erc1155&quot;</td><td>1.75256</td><td>3</td><td>0</td><td>&quot;2022-08-01T00:…</td></tr><tr><td>&quot;0x495f94727674…</td><td>&quot;19304791136201…</td><td>&quot;Bored Ape Alte…</td><td>&quot;erc1155&quot;</td><td>1.75256</td><td>2</td><td>0</td><td>&quot;2022-08-13T08:…</td></tr><tr><td>&quot;0x495f94727674…</td><td>&quot;19910237642144…</td><td>&quot;#0 [Legendary …</td><td>&quot;erc1155&quot;</td><td>1.75256</td><td>2</td><td>0</td><td>&quot;2022-07-21T15:…</td></tr><tr><td>&quot;0x57f1887a8bf1…</td><td>&quot;87691055622945…</td><td>&quot;memecoin.eth&quot;</td><td>&quot;erc721&quot;</td><td>2.1907</td><td>1</td><td>0</td><td>&quot;2023-11-27T06:…</td></tr><tr><td>&quot;0x60c9b34c92e0…</td><td>&quot;7&quot;</td><td>&quot;Introducing: B…</td><td>&quot;erc721&quot;</td><td>null</td><td>1</td><td>0</td><td>&quot;2023-11-23T09:…</td></tr><tr><td>&quot;0x60c9b34c92e0…</td><td>&quot;6&quot;</td><td>&quot;Introducing: B…</td><td>&quot;erc721&quot;</td><td>null</td><td>1</td><td>0</td><td>&quot;2023-11-23T09:…</td></tr><tr><td>&quot;0x67f4797d84ac…</td><td>&quot;1&quot;</td><td>&quot;Visit apyape.o…</td><td>&quot;erc1155&quot;</td><td>null</td><td>1</td><td>0</td><td>&quot;2023-11-18T22:…</td></tr><tr><td>&quot;0xdda0e9bc9b34…</td><td>&quot;1&quot;</td><td>&quot;Golden Tickets…</td><td>&quot;erc1155&quot;</td><td>151.15858</td><td>1</td><td>1</td><td>&quot;2023-11-05T12:…</td></tr><tr><td>&quot;0x372a04d2a635…</td><td>&quot;2&quot;</td><td>&quot;Captianz #1007…</td><td>&quot;erc1155&quot;</td><td>7163.60221</td><td>1</td><td>1</td><td>&quot;2023-11-04T17:…</td></tr><tr><td>&hellip;</td><td>&hellip;</td><td>&hellip;</td><td>&hellip;</td><td>&hellip;</td><td>&hellip;</td><td>&hellip;</td><td>&hellip;</td></tr><tr><td>&quot;0x6efc003d3f36…</td><td>&quot;1&quot;</td><td>&quot;MVP #1&quot;</td><td>&quot;erc721&quot;</td><td>151158.57876</td><td>1</td><td>0</td><td>&quot;2022-06-15T09:…</td></tr><tr><td>&quot;0x6efc003d3f36…</td><td>&quot;0&quot;</td><td>&quot;MVP #0&quot;</td><td>&quot;erc721&quot;</td><td>151158.57876</td><td>1</td><td>0</td><td>&quot;2022-06-15T09:…</td></tr><tr><td>&quot;0x290968679bfc…</td><td>&quot;8&quot;</td><td>null</td><td>&quot;erc721&quot;</td><td>null</td><td>1</td><td>0</td><td>&quot;2022-06-14T14:…</td></tr><tr><td>&quot;0x290968679bfc…</td><td>&quot;7&quot;</td><td>null</td><td>&quot;erc721&quot;</td><td>null</td><td>1</td><td>0</td><td>&quot;2022-06-14T14:…</td></tr><tr><td>&quot;0x290968679bfc…</td><td>&quot;6&quot;</td><td>null</td><td>&quot;erc721&quot;</td><td>null</td><td>1</td><td>0</td><td>&quot;2022-06-14T14:…</td></tr><tr><td>&quot;0x290968679bfc…</td><td>&quot;5&quot;</td><td>null</td><td>&quot;erc721&quot;</td><td>null</td><td>1</td><td>0</td><td>&quot;2022-06-14T14:…</td></tr><tr><td>&quot;0x290968679bfc…</td><td>&quot;4&quot;</td><td>null</td><td>&quot;erc721&quot;</td><td>null</td><td>1</td><td>0</td><td>&quot;2022-06-14T14:…</td></tr><tr><td>&quot;0x290968679bfc…</td><td>&quot;3&quot;</td><td>null</td><td>&quot;erc721&quot;</td><td>null</td><td>1</td><td>0</td><td>&quot;2022-06-14T14:…</td></tr><tr><td>&quot;0x290968679bfc…</td><td>&quot;2&quot;</td><td>null</td><td>&quot;erc721&quot;</td><td>null</td><td>1</td><td>0</td><td>&quot;2022-06-14T14:…</td></tr><tr><td>&quot;0x290968679bfc…</td><td>&quot;1&quot;</td><td>null</td><td>&quot;erc721&quot;</td><td>null</td><td>1</td><td>0</td><td>&quot;2022-06-14T14:…</td></tr><tr><td>&quot;0x290968679bfc…</td><td>&quot;0&quot;</td><td>null</td><td>&quot;erc721&quot;</td><td>null</td><td>1</td><td>0</td><td>&quot;2022-06-14T14:…</td></tr><tr><td>&quot;0x57f1887a8bf1…</td><td>&quot;88436293916976…</td><td>&quot;memeland.eth&quot;</td><td>&quot;erc721&quot;</td><td>2.1907</td><td>1</td><td>0</td><td>&quot;2022-06-11T12:…</td></tr></tbody></table></div>"
      ],
      "text/plain": [
       "shape: (2_471, 8)\n",
       "┌────────────┬────────────┬────────────┬───────────┬───────────┬───────────┬───────────┬───────────┐\n",
       "│ contract   ┆ token_id   ┆ token_name ┆ token_kin ┆ floorpric ┆ token_cou ┆ on_sale_c ┆ acquired_ │\n",
       "│ ---        ┆ ---        ┆ ---        ┆ d         ┆ e         ┆ nt        ┆ ount      ┆ at        │\n",
       "│ str        ┆ str        ┆ str        ┆ ---       ┆ ---       ┆ ---       ┆ ---       ┆ ---       │\n",
       "│            ┆            ┆            ┆ str       ┆ f64       ┆ i64       ┆ i64       ┆ str       │\n",
       "╞════════════╪════════════╪════════════╪═══════════╪═══════════╪═══════════╪═══════════╪═══════════╡\n",
       "│ 0x091fc2e2 ┆ 1          ┆ House of   ┆ erc1155   ┆ 3.50513   ┆ 1127      ┆ 1         ┆ 2023-04-1 │\n",
       "│ bb9886d107 ┆            ┆ Lee:       ┆           ┆           ┆           ┆           ┆ 3T19:53:3 │\n",
       "│ ba3537defa ┆            ┆ Genesis    ┆           ┆           ┆           ┆           ┆ 5.000Z    │\n",
       "│ 42…        ┆            ┆            ┆           ┆           ┆           ┆           ┆           │\n",
       "│ 0x495f9472 ┆ 5604490662 ┆ MEMELAND   ┆ erc1155   ┆ 1.75256   ┆ 22        ┆ 0         ┆ 2022-07-2 │\n",
       "│ 76749ce646 ┆ 8959479333 ┆ 🌱 VIP     ┆           ┆           ┆           ┆           ┆ 1T18:02:3 │\n",
       "│ f68ac8c248 ┆ 2590541888 ┆ PASS       ┆           ┆           ┆           ┆           ┆ 0.000Z    │\n",
       "│ 42…        ┆ 73…        ┆            ┆           ┆           ┆           ┆           ┆           │\n",
       "│ 0x495f9472 ┆ 1093972753 ┆ Potatoez   ┆ erc1155   ┆ 1.75256   ┆ 9         ┆ 0         ┆ 2022-07-2 │\n",
       "│ 76749ce646 ┆ 9745464742 ┆ #1213      ┆           ┆           ┆           ┆           ┆ 3T12:24:1 │\n",
       "│ f68ac8c248 ┆ 0397428132 ┆            ┆           ┆           ┆           ┆           ┆ 9.000Z    │\n",
       "│ 42…        ┆ 21…        ┆            ┆           ┆           ┆           ┆           ┆           │\n",
       "│ 0x495f9472 ┆ 1093972753 ┆ Modernist  ┆ erc1155   ┆ 1.75256   ┆ 3         ┆ 0         ┆ 2022-08-0 │\n",
       "│ 76749ce646 ┆ 9745464742 ┆ Masks      ┆           ┆           ┆           ┆           ┆ 1T00:59:2 │\n",
       "│ f68ac8c248 ┆ 0397428132 ┆ #0006      ┆           ┆           ┆           ┆           ┆ 7.000Z    │\n",
       "│ 42…        ┆ 21…        ┆            ┆           ┆           ┆           ┆           ┆           │\n",
       "│ …          ┆ …          ┆ …          ┆ …         ┆ …         ┆ …         ┆ …         ┆ …         │\n",
       "│ 0x29096867 ┆ 2          ┆ null       ┆ erc721    ┆ null      ┆ 1         ┆ 0         ┆ 2022-06-1 │\n",
       "│ 9bfce7748e ┆            ┆            ┆           ┆           ┆           ┆           ┆ 4T14:13:4 │\n",
       "│ b5bc019a60 ┆            ┆            ┆           ┆           ┆           ┆           ┆ 5.000Z    │\n",
       "│ 4c…        ┆            ┆            ┆           ┆           ┆           ┆           ┆           │\n",
       "│ 0x29096867 ┆ 1          ┆ null       ┆ erc721    ┆ null      ┆ 1         ┆ 0         ┆ 2022-06-1 │\n",
       "│ 9bfce7748e ┆            ┆            ┆           ┆           ┆           ┆           ┆ 4T14:13:4 │\n",
       "│ b5bc019a60 ┆            ┆            ┆           ┆           ┆           ┆           ┆ 5.000Z    │\n",
       "│ 4c…        ┆            ┆            ┆           ┆           ┆           ┆           ┆           │\n",
       "│ 0x29096867 ┆ 0          ┆ null       ┆ erc721    ┆ null      ┆ 1         ┆ 0         ┆ 2022-06-1 │\n",
       "│ 9bfce7748e ┆            ┆            ┆           ┆           ┆           ┆           ┆ 4T14:13:4 │\n",
       "│ b5bc019a60 ┆            ┆            ┆           ┆           ┆           ┆           ┆ 5.000Z    │\n",
       "│ 4c…        ┆            ┆            ┆           ┆           ┆           ┆           ┆           │\n",
       "│ 0x57f1887a ┆ 8843629391 ┆ memeland.e ┆ erc721    ┆ 2.1907    ┆ 1         ┆ 0         ┆ 2022-06-1 │\n",
       "│ 8bf19b14fc ┆ 6976672207 ┆ th         ┆           ┆           ┆           ┆           ┆ 1T12:32:0 │\n",
       "│ 0df6fd9b2a ┆ 0964863188 ┆            ┆           ┆           ┆           ┆           ┆ 2.000Z    │\n",
       "│ cc…        ┆ 27…        ┆            ┆           ┆           ┆           ┆           ┆           │\n",
       "└────────────┴────────────┴────────────┴───────────┴───────────┴───────────┴───────────┴───────────┘"
      ]
     },
     "execution_count": 90,
     "metadata": {},
     "output_type": "execute_result"
    }
   ],
   "source": [
    "df.filter(pl.col(\"token_count\") > 0).sort(by=\"token_count\", descending=True)"
   ]
  },
  {
   "cell_type": "code",
   "execution_count": 99,
   "metadata": {},
   "outputs": [
    {
     "data": {
      "text/html": [
       "<div><style>\n",
       ".dataframe > thead > tr,\n",
       ".dataframe > tbody > tr {\n",
       "  text-align: right;\n",
       "  white-space: pre-wrap;\n",
       "}\n",
       "</style>\n",
       "<small>shape: (6, 9)</small><table border=\"1\" class=\"dataframe\"><thead><tr><th>contract</th><th>token_id</th><th>token_name</th><th>token_kind</th><th>floorprice</th><th>last_appraisal_value</th><th>token_count</th><th>on_sale_count</th><th>acquired_at</th></tr><tr><td>str</td><td>str</td><td>str</td><td>str</td><td>f64</td><td>f64</td><td>i64</td><td>i64</td><td>str</td></tr></thead><tbody><tr><td>&quot;0x091fc2e2bb98…</td><td>&quot;1&quot;</td><td>&quot;House of Lee: …</td><td>&quot;erc1155&quot;</td><td>3.50513</td><td>null</td><td>1127</td><td>1</td><td>&quot;2023-04-13T19:…</td></tr><tr><td>&quot;0x495f94727674…</td><td>&quot;19304791136201…</td><td>&quot;Bored Ape Alte…</td><td>&quot;erc1155&quot;</td><td>1.75256</td><td>0.028</td><td>2</td><td>0</td><td>&quot;2022-08-13T08:…</td></tr><tr><td>&quot;0x495f94727674…</td><td>&quot;10939727539745…</td><td>&quot;Modernist Mask…</td><td>&quot;erc1155&quot;</td><td>1.75256</td><td>null</td><td>3</td><td>0</td><td>&quot;2022-08-01T00:…</td></tr><tr><td>&quot;0x495f94727674…</td><td>&quot;10939727539745…</td><td>&quot;Potatoez #1213…</td><td>&quot;erc1155&quot;</td><td>1.75256</td><td>null</td><td>9</td><td>0</td><td>&quot;2022-07-23T12:…</td></tr><tr><td>&quot;0x495f94727674…</td><td>&quot;56044906628959…</td><td>&quot;MEMELAND 🌱 VIP…</td><td>&quot;erc1155&quot;</td><td>1.75256</td><td>null</td><td>22</td><td>0</td><td>&quot;2022-07-21T18:…</td></tr><tr><td>&quot;0x495f94727674…</td><td>&quot;19910237642144…</td><td>&quot;#0 [Legendary …</td><td>&quot;erc1155&quot;</td><td>1.75256</td><td>null</td><td>2</td><td>0</td><td>&quot;2022-07-21T15:…</td></tr></tbody></table></div>"
      ],
      "text/plain": [
       "shape: (6, 9)\n",
       "┌───────────┬───────────┬───────────┬───────────┬───┬───────────┬───────────┬───────────┬──────────┐\n",
       "│ contract  ┆ token_id  ┆ token_nam ┆ token_kin ┆ … ┆ last_appr ┆ token_cou ┆ on_sale_c ┆ acquired │\n",
       "│ ---       ┆ ---       ┆ e         ┆ d         ┆   ┆ aisal_val ┆ nt        ┆ ount      ┆ _at      │\n",
       "│ str       ┆ str       ┆ ---       ┆ ---       ┆   ┆ ue        ┆ ---       ┆ ---       ┆ ---      │\n",
       "│           ┆           ┆ str       ┆ str       ┆   ┆ ---       ┆ i64       ┆ i64       ┆ str      │\n",
       "│           ┆           ┆           ┆           ┆   ┆ f64       ┆           ┆           ┆          │\n",
       "╞═══════════╪═══════════╪═══════════╪═══════════╪═══╪═══════════╪═══════════╪═══════════╪══════════╡\n",
       "│ 0x091fc2e ┆ 1         ┆ House of  ┆ erc1155   ┆ … ┆ null      ┆ 1127      ┆ 1         ┆ 2023-04- │\n",
       "│ 2bb9886d1 ┆           ┆ Lee:      ┆           ┆   ┆           ┆           ┆           ┆ 13T19:53 │\n",
       "│ 07ba3537d ┆           ┆ Genesis   ┆           ┆   ┆           ┆           ┆           ┆ :35.000Z │\n",
       "│ efa42…    ┆           ┆           ┆           ┆   ┆           ┆           ┆           ┆          │\n",
       "│ 0x495f947 ┆ 193047911 ┆ Bored Ape ┆ erc1155   ┆ … ┆ 0.028     ┆ 2         ┆ 0         ┆ 2022-08- │\n",
       "│ 276749ce6 ┆ 362018993 ┆ Alternati ┆           ┆   ┆           ┆           ┆           ┆ 13T08:17 │\n",
       "│ 46f68ac8c ┆ 629564894 ┆ ve        ┆           ┆   ┆           ┆           ┆           ┆ :33.000Z │\n",
       "│ 24842…    ┆ 06153…    ┆ Metaverse ┆           ┆   ┆           ┆           ┆           ┆          │\n",
       "│           ┆           ┆ …         ┆           ┆   ┆           ┆           ┆           ┆          │\n",
       "│ 0x495f947 ┆ 109397275 ┆ Modernist ┆ erc1155   ┆ … ┆ null      ┆ 3         ┆ 0         ┆ 2022-08- │\n",
       "│ 276749ce6 ┆ 397454647 ┆ Masks     ┆           ┆   ┆           ┆           ┆           ┆ 01T00:59 │\n",
       "│ 46f68ac8c ┆ 420397428 ┆ #0006     ┆           ┆   ┆           ┆           ┆           ┆ :27.000Z │\n",
       "│ 24842…    ┆ 13221…    ┆           ┆           ┆   ┆           ┆           ┆           ┆          │\n",
       "│ 0x495f947 ┆ 109397275 ┆ Potatoez  ┆ erc1155   ┆ … ┆ null      ┆ 9         ┆ 0         ┆ 2022-07- │\n",
       "│ 276749ce6 ┆ 397454647 ┆ #1213     ┆           ┆   ┆           ┆           ┆           ┆ 23T12:24 │\n",
       "│ 46f68ac8c ┆ 420397428 ┆           ┆           ┆   ┆           ┆           ┆           ┆ :19.000Z │\n",
       "│ 24842…    ┆ 13221…    ┆           ┆           ┆   ┆           ┆           ┆           ┆          │\n",
       "│ 0x495f947 ┆ 560449066 ┆ MEMELAND  ┆ erc1155   ┆ … ┆ null      ┆ 22        ┆ 0         ┆ 2022-07- │\n",
       "│ 276749ce6 ┆ 289594793 ┆ 🌱 VIP    ┆           ┆   ┆           ┆           ┆           ┆ 21T18:02 │\n",
       "│ 46f68ac8c ┆ 332590541 ┆ PASS      ┆           ┆   ┆           ┆           ┆           ┆ :30.000Z │\n",
       "│ 24842…    ┆ 88873…    ┆           ┆           ┆   ┆           ┆           ┆           ┆          │\n",
       "│ 0x495f947 ┆ 199102376 ┆ #0 [Legen ┆ erc1155   ┆ … ┆ null      ┆ 2         ┆ 0         ┆ 2022-07- │\n",
       "│ 276749ce6 ┆ 421446164 ┆ dary      ┆           ┆   ┆           ┆           ┆           ┆ 21T15:01 │\n",
       "│ 46f68ac8c ┆ 712937330 ┆ Limited]  ┆           ┆   ┆           ┆           ┆           ┆ :31.000Z │\n",
       "│ 24842…    ┆ 85850…    ┆           ┆           ┆   ┆           ┆           ┆           ┆          │\n",
       "└───────────┴───────────┴───────────┴───────────┴───┴───────────┴───────────┴───────────┴──────────┘"
      ]
     },
     "execution_count": 99,
     "metadata": {},
     "output_type": "execute_result"
    }
   ],
   "source": [
    "df.filter(pl.col(\"token_count\") > 1)"
   ]
  },
  {
   "cell_type": "code",
   "execution_count": 64,
   "metadata": {},
   "outputs": [
    {
     "data": {
      "text/html": [
       "<div><style>\n",
       ".dataframe > thead > tr,\n",
       ".dataframe > tbody > tr {\n",
       "  text-align: right;\n",
       "  white-space: pre-wrap;\n",
       "}\n",
       "</style>\n",
       "<small>shape: (1_048, 7)</small><table border=\"1\" class=\"dataframe\"><thead><tr><th>contract</th><th>token_id</th><th>token_name</th><th>token_kind</th><th>floorprice</th><th>token_count</th><th>on_sale_count</th></tr><tr><td>str</td><td>str</td><td>str</td><td>str</td><td>f64</td><td>i64</td><td>i64</td></tr></thead><tbody><tr><td>&quot;0x6efc003d3f36…</td><td>&quot;275&quot;</td><td>&quot;MVP #275&quot;</td><td>&quot;erc721&quot;</td><td>151158.57876</td><td>1</td><td>0</td></tr><tr><td>&quot;0x6efc003d3f36…</td><td>&quot;406&quot;</td><td>&quot;MVP #406&quot;</td><td>&quot;erc721&quot;</td><td>151158.57876</td><td>1</td><td>0</td></tr><tr><td>&quot;0x6efc003d3f36…</td><td>&quot;419&quot;</td><td>&quot;MVP #419&quot;</td><td>&quot;erc721&quot;</td><td>151158.57876</td><td>1</td><td>0</td></tr><tr><td>&quot;0x6efc003d3f36…</td><td>&quot;414&quot;</td><td>&quot;MVP #414&quot;</td><td>&quot;erc721&quot;</td><td>151158.57876</td><td>1</td><td>0</td></tr><tr><td>&quot;0x6efc003d3f36…</td><td>&quot;413&quot;</td><td>&quot;MVP #413&quot;</td><td>&quot;erc721&quot;</td><td>151158.57876</td><td>1</td><td>0</td></tr><tr><td>&quot;0x6efc003d3f36…</td><td>&quot;410&quot;</td><td>&quot;MVP #410&quot;</td><td>&quot;erc721&quot;</td><td>151158.57876</td><td>1</td><td>0</td></tr><tr><td>&quot;0x6efc003d3f36…</td><td>&quot;409&quot;</td><td>&quot;MVP #409&quot;</td><td>&quot;erc721&quot;</td><td>151158.57876</td><td>1</td><td>0</td></tr><tr><td>&quot;0x6efc003d3f36…</td><td>&quot;407&quot;</td><td>&quot;MVP #407&quot;</td><td>&quot;erc721&quot;</td><td>151158.57876</td><td>1</td><td>0</td></tr><tr><td>&quot;0x6efc003d3f36…</td><td>&quot;405&quot;</td><td>&quot;MVP #405&quot;</td><td>&quot;erc721&quot;</td><td>151158.57876</td><td>1</td><td>0</td></tr><tr><td>&quot;0x6efc003d3f36…</td><td>&quot;404&quot;</td><td>&quot;MVP #404&quot;</td><td>&quot;erc721&quot;</td><td>151158.57876</td><td>1</td><td>0</td></tr><tr><td>&quot;0x6efc003d3f36…</td><td>&quot;401&quot;</td><td>&quot;MVP #401&quot;</td><td>&quot;erc721&quot;</td><td>151158.57876</td><td>1</td><td>0</td></tr><tr><td>&quot;0x6efc003d3f36…</td><td>&quot;400&quot;</td><td>&quot;MVP #400&quot;</td><td>&quot;erc721&quot;</td><td>151158.57876</td><td>1</td><td>0</td></tr><tr><td>&hellip;</td><td>&hellip;</td><td>&hellip;</td><td>&hellip;</td><td>&hellip;</td><td>&hellip;</td><td>&hellip;</td></tr><tr><td>&quot;0xb66a603f4cfe…</td><td>&quot;57562672601123…</td><td>&quot;Bored Ape Yach…</td><td>&quot;erc1155&quot;</td><td>0.01533</td><td>1</td><td>0</td></tr><tr><td>&quot;0xb66a603f4cfe…</td><td>&quot;57562672601123…</td><td>&quot;Bored Ape x NB…</td><td>&quot;erc1155&quot;</td><td>0.01533</td><td>1</td><td>0</td></tr><tr><td>&quot;0xb66a603f4cfe…</td><td>&quot;34908161203840…</td><td>&quot;Bored Ape Yach…</td><td>&quot;erc1155&quot;</td><td>0.01533</td><td>1</td><td>1</td></tr><tr><td>&quot;0xb66a603f4cfe…</td><td>&quot;34908161203840…</td><td>&quot;Bored Ape Yach…</td><td>&quot;erc1155&quot;</td><td>0.01533</td><td>1</td><td>0</td></tr><tr><td>&quot;0xb66a603f4cfe…</td><td>&quot;55842148738858…</td><td>&quot;Воrеd Аре Yасh…</td><td>&quot;erc1155&quot;</td><td>0.01533</td><td>1</td><td>0</td></tr><tr><td>&quot;0xb66a603f4cfe…</td><td>&quot;34908161203840…</td><td>&quot;adidas Origina…</td><td>&quot;erc1155&quot;</td><td>0.01533</td><td>1</td><td>0</td></tr><tr><td>&quot;0xb66a603f4cfe…</td><td>&quot;34908161203840…</td><td>&quot;Bored Ape Yach…</td><td>&quot;erc1155&quot;</td><td>0.01533</td><td>1</td><td>0</td></tr><tr><td>&quot;0xb66a603f4cfe…</td><td>&quot;52873455554808…</td><td>null</td><td>&quot;erc1155&quot;</td><td>0.01533</td><td>1</td><td>0</td></tr><tr><td>&quot;0xb66a603f4cfe…</td><td>&quot;11176071214402…</td><td>&quot;Patata&quot;</td><td>&quot;erc1155&quot;</td><td>0.01533</td><td>1</td><td>0</td></tr><tr><td>&quot;0xb66a603f4cfe…</td><td>&quot;34908161203840…</td><td>&quot;Bored Ape Yach…</td><td>&quot;erc1155&quot;</td><td>0.01533</td><td>1</td><td>0</td></tr><tr><td>&quot;0xb66a603f4cfe…</td><td>&quot;34908161203840…</td><td>&quot;Bored Ape Yach…</td><td>&quot;erc1155&quot;</td><td>0.01533</td><td>1</td><td>0</td></tr><tr><td>&quot;0xb66a603f4cfe…</td><td>&quot;40590961009891…</td><td>null</td><td>&quot;erc1155&quot;</td><td>0.01533</td><td>1</td><td>0</td></tr></tbody></table></div>"
      ],
      "text/plain": [
       "shape: (1_048, 7)\n",
       "┌──────────────┬──────────────┬─────────────┬────────────┬─────────────┬─────────────┬─────────────┐\n",
       "│ contract     ┆ token_id     ┆ token_name  ┆ token_kind ┆ floorprice  ┆ token_count ┆ on_sale_cou │\n",
       "│ ---          ┆ ---          ┆ ---         ┆ ---        ┆ ---         ┆ ---         ┆ nt          │\n",
       "│ str          ┆ str          ┆ str         ┆ str        ┆ f64         ┆ i64         ┆ ---         │\n",
       "│              ┆              ┆             ┆            ┆             ┆             ┆ i64         │\n",
       "╞══════════════╪══════════════╪═════════════╪════════════╪═════════════╪═════════════╪═════════════╡\n",
       "│ 0x6efc003d3f ┆ 275          ┆ MVP #275    ┆ erc721     ┆ 151158.5787 ┆ 1           ┆ 0           │\n",
       "│ 3658383f0618 ┆              ┆             ┆            ┆ 6           ┆             ┆             │\n",
       "│ 5503340c…    ┆              ┆             ┆            ┆             ┆             ┆             │\n",
       "│ 0x6efc003d3f ┆ 406          ┆ MVP #406    ┆ erc721     ┆ 151158.5787 ┆ 1           ┆ 0           │\n",
       "│ 3658383f0618 ┆              ┆             ┆            ┆ 6           ┆             ┆             │\n",
       "│ 5503340c…    ┆              ┆             ┆            ┆             ┆             ┆             │\n",
       "│ 0x6efc003d3f ┆ 419          ┆ MVP #419    ┆ erc721     ┆ 151158.5787 ┆ 1           ┆ 0           │\n",
       "│ 3658383f0618 ┆              ┆             ┆            ┆ 6           ┆             ┆             │\n",
       "│ 5503340c…    ┆              ┆             ┆            ┆             ┆             ┆             │\n",
       "│ 0x6efc003d3f ┆ 414          ┆ MVP #414    ┆ erc721     ┆ 151158.5787 ┆ 1           ┆ 0           │\n",
       "│ 3658383f0618 ┆              ┆             ┆            ┆ 6           ┆             ┆             │\n",
       "│ 5503340c…    ┆              ┆             ┆            ┆             ┆             ┆             │\n",
       "│ …            ┆ …            ┆ …           ┆ …          ┆ …           ┆ …           ┆ …           │\n",
       "│ 0xb66a603f4c ┆ 111760712144 ┆ Patata      ┆ erc1155    ┆ 0.01533     ┆ 1           ┆ 0           │\n",
       "│ fe17e3d27b87 ┆ 023902783921 ┆             ┆            ┆             ┆             ┆             │\n",
       "│ a8bfcad3…    ┆ 81202145…    ┆             ┆            ┆             ┆             ┆             │\n",
       "│ 0xb66a603f4c ┆ 349081612038 ┆ Bored Ape   ┆ erc1155    ┆ 0.01533     ┆ 1           ┆ 0           │\n",
       "│ fe17e3d27b87 ┆ 401025866803 ┆ Yacht Club  ┆            ┆             ┆             ┆             │\n",
       "│ a8bfcad3…    ┆ 78714710…    ┆ Express     ┆            ┆             ┆             ┆             │\n",
       "│              ┆              ┆ Bla…        ┆            ┆             ┆             ┆             │\n",
       "│ 0xb66a603f4c ┆ 349081612038 ┆ Bored Ape   ┆ erc1155    ┆ 0.01533     ┆ 1           ┆ 0           │\n",
       "│ fe17e3d27b87 ┆ 401025866803 ┆ Yacht Club  ┆            ┆             ┆             ┆             │\n",
       "│ a8bfcad3…    ┆ 78714710…    ┆ Express     ┆            ┆             ┆             ┆             │\n",
       "│              ┆              ┆ Gol…        ┆            ┆             ┆             ┆             │\n",
       "│ 0xb66a603f4c ┆ 405909610098 ┆ null        ┆ erc1155    ┆ 0.01533     ┆ 1           ┆ 0           │\n",
       "│ fe17e3d27b87 ┆ 911167437624 ┆             ┆            ┆             ┆             ┆             │\n",
       "│ a8bfcad3…    ┆ 29469187…    ┆             ┆            ┆             ┆             ┆             │\n",
       "└──────────────┴──────────────┴─────────────┴────────────┴─────────────┴─────────────┴─────────────┘"
      ]
     },
     "execution_count": 64,
     "metadata": {},
     "output_type": "execute_result"
    }
   ],
   "source": [
    "df.filter(pl.col(\"floorprice\") > 0).sort(by=\"floorprice\", descending=True)"
   ]
  },
  {
   "cell_type": "code",
   "execution_count": 71,
   "metadata": {},
   "outputs": [
    {
     "data": {
      "text/plain": [
       "<Axes: xlabel='floorprice', ylabel='Count'>"
      ]
     },
     "execution_count": 71,
     "metadata": {},
     "output_type": "execute_result"
    },
    {
     "data": {
      "image/png": "[encoded data removed]",
      "text/plain": [
       "<Figure size 640x480 with 1 Axes>"
      ]
     },
     "metadata": {},
     "output_type": "display_data"
    }
   ],
   "source": [
    "sns.histplot(df, x=\"floorprice\", bins=30)"
   ]
  },
  {
   "cell_type": "code",
   "execution_count": 92,
   "metadata": {},
   "outputs": [
    {
     "data": {
      "text/html": [
       "<div><style>\n",
       ".dataframe > thead > tr,\n",
       ".dataframe > tbody > tr {\n",
       "  text-align: right;\n",
       "  white-space: pre-wrap;\n",
       "}\n",
       "</style>\n",
       "<small>shape: (118, 8)</small><table border=\"1\" class=\"dataframe\"><thead><tr><th>contract</th><th>token_id</th><th>token_name</th><th>token_kind</th><th>floorprice</th><th>token_count</th><th>on_sale_count</th><th>acquired_at</th></tr><tr><td>str</td><td>str</td><td>str</td><td>str</td><td>f64</td><td>i64</td><td>i64</td><td>str</td></tr></thead><tbody><tr><td>&quot;0x6efc003d3f36…</td><td>&quot;275&quot;</td><td>&quot;MVP #275&quot;</td><td>&quot;erc721&quot;</td><td>151158.57876</td><td>1</td><td>0</td><td>&quot;2023-05-22T18:…</td></tr><tr><td>&quot;0x6efc003d3f36…</td><td>&quot;406&quot;</td><td>&quot;MVP #406&quot;</td><td>&quot;erc721&quot;</td><td>151158.57876</td><td>1</td><td>0</td><td>&quot;2023-01-02T17:…</td></tr><tr><td>&quot;0x6efc003d3f36…</td><td>&quot;419&quot;</td><td>&quot;MVP #419&quot;</td><td>&quot;erc721&quot;</td><td>151158.57876</td><td>1</td><td>0</td><td>&quot;2022-06-16T13:…</td></tr><tr><td>&quot;0x6efc003d3f36…</td><td>&quot;414&quot;</td><td>&quot;MVP #414&quot;</td><td>&quot;erc721&quot;</td><td>151158.57876</td><td>1</td><td>0</td><td>&quot;2022-06-16T13:…</td></tr><tr><td>&quot;0x6efc003d3f36…</td><td>&quot;413&quot;</td><td>&quot;MVP #413&quot;</td><td>&quot;erc721&quot;</td><td>151158.57876</td><td>1</td><td>0</td><td>&quot;2022-06-16T13:…</td></tr><tr><td>&quot;0x6efc003d3f36…</td><td>&quot;410&quot;</td><td>&quot;MVP #410&quot;</td><td>&quot;erc721&quot;</td><td>151158.57876</td><td>1</td><td>0</td><td>&quot;2022-06-16T13:…</td></tr><tr><td>&quot;0x6efc003d3f36…</td><td>&quot;409&quot;</td><td>&quot;MVP #409&quot;</td><td>&quot;erc721&quot;</td><td>151158.57876</td><td>1</td><td>0</td><td>&quot;2022-06-16T13:…</td></tr><tr><td>&quot;0x6efc003d3f36…</td><td>&quot;407&quot;</td><td>&quot;MVP #407&quot;</td><td>&quot;erc721&quot;</td><td>151158.57876</td><td>1</td><td>0</td><td>&quot;2022-06-16T13:…</td></tr><tr><td>&quot;0x6efc003d3f36…</td><td>&quot;405&quot;</td><td>&quot;MVP #405&quot;</td><td>&quot;erc721&quot;</td><td>151158.57876</td><td>1</td><td>0</td><td>&quot;2022-06-16T13:…</td></tr><tr><td>&quot;0x6efc003d3f36…</td><td>&quot;404&quot;</td><td>&quot;MVP #404&quot;</td><td>&quot;erc721&quot;</td><td>151158.57876</td><td>1</td><td>0</td><td>&quot;2022-06-16T13:…</td></tr><tr><td>&quot;0x6efc003d3f36…</td><td>&quot;401&quot;</td><td>&quot;MVP #401&quot;</td><td>&quot;erc721&quot;</td><td>151158.57876</td><td>1</td><td>0</td><td>&quot;2022-06-16T13:…</td></tr><tr><td>&quot;0x6efc003d3f36…</td><td>&quot;400&quot;</td><td>&quot;MVP #400&quot;</td><td>&quot;erc721&quot;</td><td>151158.57876</td><td>1</td><td>0</td><td>&quot;2022-06-16T13:…</td></tr><tr><td>&hellip;</td><td>&hellip;</td><td>&hellip;</td><td>&hellip;</td><td>&hellip;</td><td>&hellip;</td><td>&hellip;</td><td>&hellip;</td></tr><tr><td>&quot;0x6efc003d3f36…</td><td>&quot;12&quot;</td><td>&quot;MVP #12&quot;</td><td>&quot;erc721&quot;</td><td>151158.57876</td><td>1</td><td>0</td><td>&quot;2022-06-16T13:…</td></tr><tr><td>&quot;0x6efc003d3f36…</td><td>&quot;11&quot;</td><td>&quot;MVP #11&quot;</td><td>&quot;erc721&quot;</td><td>151158.57876</td><td>1</td><td>0</td><td>&quot;2022-06-16T13:…</td></tr><tr><td>&quot;0x6efc003d3f36…</td><td>&quot;10&quot;</td><td>&quot;MVP #10&quot;</td><td>&quot;erc721&quot;</td><td>151158.57876</td><td>1</td><td>0</td><td>&quot;2022-06-16T13:…</td></tr><tr><td>&quot;0x6efc003d3f36…</td><td>&quot;8&quot;</td><td>&quot;MVP #8&quot;</td><td>&quot;erc721&quot;</td><td>151158.57876</td><td>1</td><td>0</td><td>&quot;2022-06-15T09:…</td></tr><tr><td>&quot;0x6efc003d3f36…</td><td>&quot;7&quot;</td><td>&quot;MVP #7&quot;</td><td>&quot;erc721&quot;</td><td>151158.57876</td><td>1</td><td>0</td><td>&quot;2022-06-15T09:…</td></tr><tr><td>&quot;0x6efc003d3f36…</td><td>&quot;6&quot;</td><td>&quot;MVP #6&quot;</td><td>&quot;erc721&quot;</td><td>151158.57876</td><td>1</td><td>0</td><td>&quot;2022-06-15T09:…</td></tr><tr><td>&quot;0x6efc003d3f36…</td><td>&quot;5&quot;</td><td>&quot;MVP #5&quot;</td><td>&quot;erc721&quot;</td><td>151158.57876</td><td>1</td><td>0</td><td>&quot;2022-06-15T09:…</td></tr><tr><td>&quot;0x6efc003d3f36…</td><td>&quot;4&quot;</td><td>&quot;MVP #4&quot;</td><td>&quot;erc721&quot;</td><td>151158.57876</td><td>1</td><td>0</td><td>&quot;2022-06-15T09:…</td></tr><tr><td>&quot;0x6efc003d3f36…</td><td>&quot;3&quot;</td><td>&quot;MVP #3&quot;</td><td>&quot;erc721&quot;</td><td>151158.57876</td><td>1</td><td>0</td><td>&quot;2022-06-15T09:…</td></tr><tr><td>&quot;0x6efc003d3f36…</td><td>&quot;2&quot;</td><td>&quot;MVP #2&quot;</td><td>&quot;erc721&quot;</td><td>151158.57876</td><td>1</td><td>0</td><td>&quot;2022-06-15T09:…</td></tr><tr><td>&quot;0x6efc003d3f36…</td><td>&quot;1&quot;</td><td>&quot;MVP #1&quot;</td><td>&quot;erc721&quot;</td><td>151158.57876</td><td>1</td><td>0</td><td>&quot;2022-06-15T09:…</td></tr><tr><td>&quot;0x6efc003d3f36…</td><td>&quot;0&quot;</td><td>&quot;MVP #0&quot;</td><td>&quot;erc721&quot;</td><td>151158.57876</td><td>1</td><td>0</td><td>&quot;2022-06-15T09:…</td></tr></tbody></table></div>"
      ],
      "text/plain": [
       "shape: (118, 8)\n",
       "┌────────────┬──────────┬────────────┬────────────┬────────────┬───────────┬───────────┬───────────┐\n",
       "│ contract   ┆ token_id ┆ token_name ┆ token_kind ┆ floorprice ┆ token_cou ┆ on_sale_c ┆ acquired_ │\n",
       "│ ---        ┆ ---      ┆ ---        ┆ ---        ┆ ---        ┆ nt        ┆ ount      ┆ at        │\n",
       "│ str        ┆ str      ┆ str        ┆ str        ┆ f64        ┆ ---       ┆ ---       ┆ ---       │\n",
       "│            ┆          ┆            ┆            ┆            ┆ i64       ┆ i64       ┆ str       │\n",
       "╞════════════╪══════════╪════════════╪════════════╪════════════╪═══════════╪═══════════╪═══════════╡\n",
       "│ 0x6efc003d ┆ 275      ┆ MVP #275   ┆ erc721     ┆ 151158.578 ┆ 1         ┆ 0         ┆ 2023-05-2 │\n",
       "│ 3f3658383f ┆          ┆            ┆            ┆ 76         ┆           ┆           ┆ 2T18:11:1 │\n",
       "│ 0618550334 ┆          ┆            ┆            ┆            ┆           ┆           ┆ 1.000Z    │\n",
       "│ 0c…        ┆          ┆            ┆            ┆            ┆           ┆           ┆           │\n",
       "│ 0x6efc003d ┆ 406      ┆ MVP #406   ┆ erc721     ┆ 151158.578 ┆ 1         ┆ 0         ┆ 2023-01-0 │\n",
       "│ 3f3658383f ┆          ┆            ┆            ┆ 76         ┆           ┆           ┆ 2T17:06:2 │\n",
       "│ 0618550334 ┆          ┆            ┆            ┆            ┆           ┆           ┆ 3.000Z    │\n",
       "│ 0c…        ┆          ┆            ┆            ┆            ┆           ┆           ┆           │\n",
       "│ 0x6efc003d ┆ 419      ┆ MVP #419   ┆ erc721     ┆ 151158.578 ┆ 1         ┆ 0         ┆ 2022-06-1 │\n",
       "│ 3f3658383f ┆          ┆            ┆            ┆ 76         ┆           ┆           ┆ 6T13:36:2 │\n",
       "│ 0618550334 ┆          ┆            ┆            ┆            ┆           ┆           ┆ 5.000Z    │\n",
       "│ 0c…        ┆          ┆            ┆            ┆            ┆           ┆           ┆           │\n",
       "│ 0x6efc003d ┆ 414      ┆ MVP #414   ┆ erc721     ┆ 151158.578 ┆ 1         ┆ 0         ┆ 2022-06-1 │\n",
       "│ 3f3658383f ┆          ┆            ┆            ┆ 76         ┆           ┆           ┆ 6T13:36:2 │\n",
       "│ 0618550334 ┆          ┆            ┆            ┆            ┆           ┆           ┆ 5.000Z    │\n",
       "│ 0c…        ┆          ┆            ┆            ┆            ┆           ┆           ┆           │\n",
       "│ …          ┆ …        ┆ …          ┆ …          ┆ …          ┆ …         ┆ …         ┆ …         │\n",
       "│ 0x6efc003d ┆ 3        ┆ MVP #3     ┆ erc721     ┆ 151158.578 ┆ 1         ┆ 0         ┆ 2022-06-1 │\n",
       "│ 3f3658383f ┆          ┆            ┆            ┆ 76         ┆           ┆           ┆ 5T09:53:0 │\n",
       "│ 0618550334 ┆          ┆            ┆            ┆            ┆           ┆           ┆ 3.000Z    │\n",
       "│ 0c…        ┆          ┆            ┆            ┆            ┆           ┆           ┆           │\n",
       "│ 0x6efc003d ┆ 2        ┆ MVP #2     ┆ erc721     ┆ 151158.578 ┆ 1         ┆ 0         ┆ 2022-06-1 │\n",
       "│ 3f3658383f ┆          ┆            ┆            ┆ 76         ┆           ┆           ┆ 5T09:53:0 │\n",
       "│ 0618550334 ┆          ┆            ┆            ┆            ┆           ┆           ┆ 3.000Z    │\n",
       "│ 0c…        ┆          ┆            ┆            ┆            ┆           ┆           ┆           │\n",
       "│ 0x6efc003d ┆ 1        ┆ MVP #1     ┆ erc721     ┆ 151158.578 ┆ 1         ┆ 0         ┆ 2022-06-1 │\n",
       "│ 3f3658383f ┆          ┆            ┆            ┆ 76         ┆           ┆           ┆ 5T09:53:0 │\n",
       "│ 0618550334 ┆          ┆            ┆            ┆            ┆           ┆           ┆ 3.000Z    │\n",
       "│ 0c…        ┆          ┆            ┆            ┆            ┆           ┆           ┆           │\n",
       "│ 0x6efc003d ┆ 0        ┆ MVP #0     ┆ erc721     ┆ 151158.578 ┆ 1         ┆ 0         ┆ 2022-06-1 │\n",
       "│ 3f3658383f ┆          ┆            ┆            ┆ 76         ┆           ┆           ┆ 5T09:53:0 │\n",
       "│ 0618550334 ┆          ┆            ┆            ┆            ┆           ┆           ┆ 3.000Z    │\n",
       "│ 0c…        ┆          ┆            ┆            ┆            ┆           ┆           ┆           │\n",
       "└────────────┴──────────┴────────────┴────────────┴────────────┴───────────┴───────────┴───────────┘"
      ]
     },
     "execution_count": 92,
     "metadata": {},
     "output_type": "execute_result"
    }
   ],
   "source": [
    "df.filter(pl.col(\"floorprice\") > 100000).sort(by=\"floorprice\", descending=True)"
   ]
  },
  {
   "cell_type": "code",
   "execution_count": 95,
   "metadata": {},
   "outputs": [
    {
     "data": {
      "text/html": [
       "<div><style>\n",
       ".dataframe > thead > tr,\n",
       ".dataframe > tbody > tr {\n",
       "  text-align: right;\n",
       "  white-space: pre-wrap;\n",
       "}\n",
       "</style>\n",
       "<small>shape: (139, 8)</small><table border=\"1\" class=\"dataframe\"><thead><tr><th>contract</th><th>token_id</th><th>token_name</th><th>token_kind</th><th>floorprice</th><th>token_count</th><th>on_sale_count</th><th>acquired_at</th></tr><tr><td>str</td><td>str</td><td>str</td><td>str</td><td>f64</td><td>i64</td><td>i64</td><td>str</td></tr></thead><tbody><tr><td>&quot;0x495f94727674…</td><td>&quot;94686434302712…</td><td>&quot;MVP #0&quot;</td><td>&quot;erc1155&quot;</td><td>28479.15252</td><td>1</td><td>1</td><td>&quot;2023-06-16T11:…</td></tr><tr><td>&quot;0x6efc003d3f36…</td><td>&quot;275&quot;</td><td>&quot;MVP #275&quot;</td><td>&quot;erc721&quot;</td><td>151158.57876</td><td>1</td><td>0</td><td>&quot;2023-05-22T18:…</td></tr><tr><td>&quot;0x6efc003d3f36…</td><td>&quot;406&quot;</td><td>&quot;MVP #406&quot;</td><td>&quot;erc721&quot;</td><td>151158.57876</td><td>1</td><td>0</td><td>&quot;2023-01-02T17:…</td></tr><tr><td>&quot;0x495f94727674…</td><td>&quot;56044906628959…</td><td>&quot;MVP #147&quot;</td><td>&quot;erc1155&quot;</td><td>1.75256</td><td>1</td><td>0</td><td>&quot;2022-08-20T09:…</td></tr><tr><td>&quot;0x495f94727674…</td><td>&quot;10998846539750…</td><td>&quot;(Legendary) MV…</td><td>&quot;erc1155&quot;</td><td>1.75256</td><td>1</td><td>0</td><td>&quot;2022-08-18T13:…</td></tr><tr><td>&quot;0x495f94727674…</td><td>&quot;10998846539750…</td><td>&quot;(Legendary) MV…</td><td>&quot;erc1155&quot;</td><td>1.75256</td><td>1</td><td>0</td><td>&quot;2022-08-08T09:…</td></tr><tr><td>&quot;0x495f94727674…</td><td>&quot;10998846539750…</td><td>&quot;(Legendary) MV…</td><td>&quot;erc1155&quot;</td><td>1.75256</td><td>1</td><td>0</td><td>&quot;2022-08-04T18:…</td></tr><tr><td>&quot;0x495f94727674…</td><td>&quot;10998846539750…</td><td>&quot;(Legendary) MV…</td><td>&quot;erc1155&quot;</td><td>1.75256</td><td>1</td><td>0</td><td>&quot;2022-08-04T14:…</td></tr><tr><td>&quot;0x495f94727674…</td><td>&quot;10998846539750…</td><td>&quot;(Legendary) MV…</td><td>&quot;erc1155&quot;</td><td>1.75256</td><td>1</td><td>0</td><td>&quot;2022-08-02T08:…</td></tr><tr><td>&quot;0x495f94727674…</td><td>&quot;10998846539750…</td><td>&quot;(Legendary) MV…</td><td>&quot;erc1155&quot;</td><td>1.75256</td><td>1</td><td>0</td><td>&quot;2022-08-02T08:…</td></tr><tr><td>&quot;0x495f94727674…</td><td>&quot;10998846539750…</td><td>&quot;(Legendary) MV…</td><td>&quot;erc1155&quot;</td><td>1.75256</td><td>1</td><td>0</td><td>&quot;2022-07-30T16:…</td></tr><tr><td>&quot;0x495f94727674…</td><td>&quot;10998846539750…</td><td>&quot;(Legendary) MV…</td><td>&quot;erc1155&quot;</td><td>1.75256</td><td>1</td><td>0</td><td>&quot;2022-07-30T11:…</td></tr><tr><td>&hellip;</td><td>&hellip;</td><td>&hellip;</td><td>&hellip;</td><td>&hellip;</td><td>&hellip;</td><td>&hellip;</td><td>&hellip;</td></tr><tr><td>&quot;0x6efc003d3f36…</td><td>&quot;12&quot;</td><td>&quot;MVP #12&quot;</td><td>&quot;erc721&quot;</td><td>151158.57876</td><td>1</td><td>0</td><td>&quot;2022-06-16T13:…</td></tr><tr><td>&quot;0x6efc003d3f36…</td><td>&quot;11&quot;</td><td>&quot;MVP #11&quot;</td><td>&quot;erc721&quot;</td><td>151158.57876</td><td>1</td><td>0</td><td>&quot;2022-06-16T13:…</td></tr><tr><td>&quot;0x6efc003d3f36…</td><td>&quot;10&quot;</td><td>&quot;MVP #10&quot;</td><td>&quot;erc721&quot;</td><td>151158.57876</td><td>1</td><td>0</td><td>&quot;2022-06-16T13:…</td></tr><tr><td>&quot;0x6efc003d3f36…</td><td>&quot;8&quot;</td><td>&quot;MVP #8&quot;</td><td>&quot;erc721&quot;</td><td>151158.57876</td><td>1</td><td>0</td><td>&quot;2022-06-15T09:…</td></tr><tr><td>&quot;0x6efc003d3f36…</td><td>&quot;7&quot;</td><td>&quot;MVP #7&quot;</td><td>&quot;erc721&quot;</td><td>151158.57876</td><td>1</td><td>0</td><td>&quot;2022-06-15T09:…</td></tr><tr><td>&quot;0x6efc003d3f36…</td><td>&quot;6&quot;</td><td>&quot;MVP #6&quot;</td><td>&quot;erc721&quot;</td><td>151158.57876</td><td>1</td><td>0</td><td>&quot;2022-06-15T09:…</td></tr><tr><td>&quot;0x6efc003d3f36…</td><td>&quot;5&quot;</td><td>&quot;MVP #5&quot;</td><td>&quot;erc721&quot;</td><td>151158.57876</td><td>1</td><td>0</td><td>&quot;2022-06-15T09:…</td></tr><tr><td>&quot;0x6efc003d3f36…</td><td>&quot;4&quot;</td><td>&quot;MVP #4&quot;</td><td>&quot;erc721&quot;</td><td>151158.57876</td><td>1</td><td>0</td><td>&quot;2022-06-15T09:…</td></tr><tr><td>&quot;0x6efc003d3f36…</td><td>&quot;3&quot;</td><td>&quot;MVP #3&quot;</td><td>&quot;erc721&quot;</td><td>151158.57876</td><td>1</td><td>0</td><td>&quot;2022-06-15T09:…</td></tr><tr><td>&quot;0x6efc003d3f36…</td><td>&quot;2&quot;</td><td>&quot;MVP #2&quot;</td><td>&quot;erc721&quot;</td><td>151158.57876</td><td>1</td><td>0</td><td>&quot;2022-06-15T09:…</td></tr><tr><td>&quot;0x6efc003d3f36…</td><td>&quot;1&quot;</td><td>&quot;MVP #1&quot;</td><td>&quot;erc721&quot;</td><td>151158.57876</td><td>1</td><td>0</td><td>&quot;2022-06-15T09:…</td></tr><tr><td>&quot;0x6efc003d3f36…</td><td>&quot;0&quot;</td><td>&quot;MVP #0&quot;</td><td>&quot;erc721&quot;</td><td>151158.57876</td><td>1</td><td>0</td><td>&quot;2022-06-15T09:…</td></tr></tbody></table></div>"
      ],
      "text/plain": [
       "shape: (139, 8)\n",
       "┌────────────┬────────────┬────────────┬───────────┬───────────┬───────────┬───────────┬───────────┐\n",
       "│ contract   ┆ token_id   ┆ token_name ┆ token_kin ┆ floorpric ┆ token_cou ┆ on_sale_c ┆ acquired_ │\n",
       "│ ---        ┆ ---        ┆ ---        ┆ d         ┆ e         ┆ nt        ┆ ount      ┆ at        │\n",
       "│ str        ┆ str        ┆ str        ┆ ---       ┆ ---       ┆ ---       ┆ ---       ┆ ---       │\n",
       "│            ┆            ┆            ┆ str       ┆ f64       ┆ i64       ┆ i64       ┆ str       │\n",
       "╞════════════╪════════════╪════════════╪═══════════╪═══════════╪═══════════╪═══════════╪═══════════╡\n",
       "│ 0x495f9472 ┆ 9468643430 ┆ MVP #0     ┆ erc1155   ┆ 28479.152 ┆ 1         ┆ 1         ┆ 2023-06-1 │\n",
       "│ 76749ce646 ┆ 2712623301 ┆            ┆           ┆ 52        ┆           ┆           ┆ 6T11:53:4 │\n",
       "│ f68ac8c248 ┆ 9152515853 ┆            ┆           ┆           ┆           ┆           ┆ 7.000Z    │\n",
       "│ 42…        ┆ 84…        ┆            ┆           ┆           ┆           ┆           ┆           │\n",
       "│ 0x6efc003d ┆ 275        ┆ MVP #275   ┆ erc721    ┆ 151158.57 ┆ 1         ┆ 0         ┆ 2023-05-2 │\n",
       "│ 3f3658383f ┆            ┆            ┆           ┆ 876       ┆           ┆           ┆ 2T18:11:1 │\n",
       "│ 0618550334 ┆            ┆            ┆           ┆           ┆           ┆           ┆ 1.000Z    │\n",
       "│ 0c…        ┆            ┆            ┆           ┆           ┆           ┆           ┆           │\n",
       "│ 0x6efc003d ┆ 406        ┆ MVP #406   ┆ erc721    ┆ 151158.57 ┆ 1         ┆ 0         ┆ 2023-01-0 │\n",
       "│ 3f3658383f ┆            ┆            ┆           ┆ 876       ┆           ┆           ┆ 2T17:06:2 │\n",
       "│ 0618550334 ┆            ┆            ┆           ┆           ┆           ┆           ┆ 3.000Z    │\n",
       "│ 0c…        ┆            ┆            ┆           ┆           ┆           ┆           ┆           │\n",
       "│ 0x495f9472 ┆ 5604490662 ┆ MVP #147   ┆ erc1155   ┆ 1.75256   ┆ 1         ┆ 0         ┆ 2022-08-2 │\n",
       "│ 76749ce646 ┆ 8959479333 ┆            ┆           ┆           ┆           ┆           ┆ 0T09:10:5 │\n",
       "│ f68ac8c248 ┆ 2590541888 ┆            ┆           ┆           ┆           ┆           ┆ 3.000Z    │\n",
       "│ 42…        ┆ 73…        ┆            ┆           ┆           ┆           ┆           ┆           │\n",
       "│ …          ┆ …          ┆ …          ┆ …         ┆ …         ┆ …         ┆ …         ┆ …         │\n",
       "│ 0x6efc003d ┆ 3          ┆ MVP #3     ┆ erc721    ┆ 151158.57 ┆ 1         ┆ 0         ┆ 2022-06-1 │\n",
       "│ 3f3658383f ┆            ┆            ┆           ┆ 876       ┆           ┆           ┆ 5T09:53:0 │\n",
       "│ 0618550334 ┆            ┆            ┆           ┆           ┆           ┆           ┆ 3.000Z    │\n",
       "│ 0c…        ┆            ┆            ┆           ┆           ┆           ┆           ┆           │\n",
       "│ 0x6efc003d ┆ 2          ┆ MVP #2     ┆ erc721    ┆ 151158.57 ┆ 1         ┆ 0         ┆ 2022-06-1 │\n",
       "│ 3f3658383f ┆            ┆            ┆           ┆ 876       ┆           ┆           ┆ 5T09:53:0 │\n",
       "│ 0618550334 ┆            ┆            ┆           ┆           ┆           ┆           ┆ 3.000Z    │\n",
       "│ 0c…        ┆            ┆            ┆           ┆           ┆           ┆           ┆           │\n",
       "│ 0x6efc003d ┆ 1          ┆ MVP #1     ┆ erc721    ┆ 151158.57 ┆ 1         ┆ 0         ┆ 2022-06-1 │\n",
       "│ 3f3658383f ┆            ┆            ┆           ┆ 876       ┆           ┆           ┆ 5T09:53:0 │\n",
       "│ 0618550334 ┆            ┆            ┆           ┆           ┆           ┆           ┆ 3.000Z    │\n",
       "│ 0c…        ┆            ┆            ┆           ┆           ┆           ┆           ┆           │\n",
       "│ 0x6efc003d ┆ 0          ┆ MVP #0     ┆ erc721    ┆ 151158.57 ┆ 1         ┆ 0         ┆ 2022-06-1 │\n",
       "│ 3f3658383f ┆            ┆            ┆           ┆ 876       ┆           ┆           ┆ 5T09:53:0 │\n",
       "│ 0618550334 ┆            ┆            ┆           ┆           ┆           ┆           ┆ 3.000Z    │\n",
       "│ 0c…        ┆            ┆            ┆           ┆           ┆           ┆           ┆           │\n",
       "└────────────┴────────────┴────────────┴───────────┴───────────┴───────────┴───────────┴───────────┘"
      ]
     },
     "execution_count": 95,
     "metadata": {},
     "output_type": "execute_result"
    }
   ],
   "source": [
    "df.filter(pl.col(\"token_name\").str.contains(\"MVP #\"))"
   ]
  },
  {
   "cell_type": "code",
   "execution_count": 88,
   "metadata": {},
   "outputs": [
    {
     "data": {
      "text/html": [
       "<div><style>\n",
       ".dataframe > thead > tr,\n",
       ".dataframe > tbody > tr {\n",
       "  text-align: right;\n",
       "  white-space: pre-wrap;\n",
       "}\n",
       "</style>\n",
       "<small>shape: (115, 7)</small><table border=\"1\" class=\"dataframe\"><thead><tr><th>contract</th><th>token_id</th><th>token_name</th><th>token_kind</th><th>floorprice</th><th>token_count</th><th>on_sale_count</th></tr><tr><td>str</td><td>str</td><td>str</td><td>str</td><td>f64</td><td>i64</td><td>i64</td></tr></thead><tbody><tr><td>&quot;0xbc4ca0eda764…</td><td>&quot;4851&quot;</td><td>null</td><td>&quot;erc721&quot;</td><td>65940.1916</td><td>1</td><td>0</td></tr><tr><td>&quot;0xbc4ca0eda764…</td><td>&quot;9689&quot;</td><td>null</td><td>&quot;erc721&quot;</td><td>65940.1916</td><td>1</td><td>0</td></tr><tr><td>&quot;0xbc4ca0eda764…</td><td>&quot;9299&quot;</td><td>null</td><td>&quot;erc721&quot;</td><td>65940.1916</td><td>1</td><td>0</td></tr><tr><td>&quot;0xbc4ca0eda764…</td><td>&quot;9286&quot;</td><td>null</td><td>&quot;erc721&quot;</td><td>65940.1916</td><td>1</td><td>0</td></tr><tr><td>&quot;0xbc4ca0eda764…</td><td>&quot;8293&quot;</td><td>null</td><td>&quot;erc721&quot;</td><td>65940.1916</td><td>1</td><td>0</td></tr><tr><td>&quot;0xbc4ca0eda764…</td><td>&quot;4673&quot;</td><td>null</td><td>&quot;erc721&quot;</td><td>65940.1916</td><td>1</td><td>0</td></tr><tr><td>&quot;0xbc4ca0eda764…</td><td>&quot;4024&quot;</td><td>null</td><td>&quot;erc721&quot;</td><td>65940.1916</td><td>1</td><td>0</td></tr><tr><td>&quot;0xbc4ca0eda764…</td><td>&quot;2929&quot;</td><td>null</td><td>&quot;erc721&quot;</td><td>65940.1916</td><td>1</td><td>0</td></tr><tr><td>&quot;0xbc4ca0eda764…</td><td>&quot;2059&quot;</td><td>null</td><td>&quot;erc721&quot;</td><td>65940.1916</td><td>1</td><td>0</td></tr><tr><td>&quot;0xbc4ca0eda764…</td><td>&quot;128&quot;</td><td>null</td><td>&quot;erc721&quot;</td><td>65940.1916</td><td>1</td><td>0</td></tr><tr><td>&quot;0x495f94727674…</td><td>&quot;94686434302712…</td><td>&quot;MVP #0&quot;</td><td>&quot;erc1155&quot;</td><td>28479.15252</td><td>1</td><td>1</td></tr><tr><td>&quot;0xed5af3886535…</td><td>&quot;606&quot;</td><td>&quot;Azuki #606&quot;</td><td>&quot;erc721&quot;</td><td>14535.3213</td><td>1</td><td>0</td></tr><tr><td>&hellip;</td><td>&hellip;</td><td>&hellip;</td><td>&hellip;</td><td>&hellip;</td><td>&hellip;</td><td>&hellip;</td></tr><tr><td>&quot;0x769272677fab…</td><td>&quot;11&quot;</td><td>&quot;Captainz #11&quot;</td><td>&quot;erc721&quot;</td><td>10471.56531</td><td>1</td><td>0</td></tr><tr><td>&quot;0x769272677fab…</td><td>&quot;10&quot;</td><td>&quot;Captainz #10&quot;</td><td>&quot;erc721&quot;</td><td>10471.56531</td><td>1</td><td>0</td></tr><tr><td>&quot;0x769272677fab…</td><td>&quot;9&quot;</td><td>&quot;Captainz #9&quot;</td><td>&quot;erc721&quot;</td><td>10471.56531</td><td>1</td><td>0</td></tr><tr><td>&quot;0x769272677fab…</td><td>&quot;8&quot;</td><td>&quot;Captainz #8&quot;</td><td>&quot;erc721&quot;</td><td>10471.56531</td><td>1</td><td>0</td></tr><tr><td>&quot;0x769272677fab…</td><td>&quot;7&quot;</td><td>&quot;Captainz #7&quot;</td><td>&quot;erc721&quot;</td><td>10471.56531</td><td>1</td><td>0</td></tr><tr><td>&quot;0x769272677fab…</td><td>&quot;6&quot;</td><td>&quot;Captainz #6&quot;</td><td>&quot;erc721&quot;</td><td>10471.56531</td><td>1</td><td>0</td></tr><tr><td>&quot;0x769272677fab…</td><td>&quot;5&quot;</td><td>&quot;Captainz #5&quot;</td><td>&quot;erc721&quot;</td><td>10471.56531</td><td>1</td><td>0</td></tr><tr><td>&quot;0x769272677fab…</td><td>&quot;4&quot;</td><td>&quot;Captainz #4&quot;</td><td>&quot;erc721&quot;</td><td>10471.56531</td><td>1</td><td>0</td></tr><tr><td>&quot;0x769272677fab…</td><td>&quot;3&quot;</td><td>&quot;Captainz #3&quot;</td><td>&quot;erc721&quot;</td><td>10471.56531</td><td>1</td><td>0</td></tr><tr><td>&quot;0x769272677fab…</td><td>&quot;2&quot;</td><td>&quot;Captainz #2&quot;</td><td>&quot;erc721&quot;</td><td>10471.56531</td><td>1</td><td>0</td></tr><tr><td>&quot;0x769272677fab…</td><td>&quot;1&quot;</td><td>&quot;Captainz #1&quot;</td><td>&quot;erc721&quot;</td><td>10471.56531</td><td>1</td><td>0</td></tr><tr><td>&quot;0x769272677fab…</td><td>&quot;0&quot;</td><td>&quot;Captainz #0&quot;</td><td>&quot;erc721&quot;</td><td>10471.56531</td><td>1</td><td>0</td></tr></tbody></table></div>"
      ],
      "text/plain": [
       "shape: (115, 7)\n",
       "┌────────────────┬──────────┬─────────────┬────────────┬─────────────┬─────────────┬───────────────┐\n",
       "│ contract       ┆ token_id ┆ token_name  ┆ token_kind ┆ floorprice  ┆ token_count ┆ on_sale_count │\n",
       "│ ---            ┆ ---      ┆ ---         ┆ ---        ┆ ---         ┆ ---         ┆ ---           │\n",
       "│ str            ┆ str      ┆ str         ┆ str        ┆ f64         ┆ i64         ┆ i64           │\n",
       "╞════════════════╪══════════╪═════════════╪════════════╪═════════════╪═════════════╪═══════════════╡\n",
       "│ 0xbc4ca0eda764 ┆ 4851     ┆ null        ┆ erc721     ┆ 65940.1916  ┆ 1           ┆ 0             │\n",
       "│ 7a8ab7c2061c2e ┆          ┆             ┆            ┆             ┆             ┆               │\n",
       "│ 118a…          ┆          ┆             ┆            ┆             ┆             ┆               │\n",
       "│ 0xbc4ca0eda764 ┆ 9689     ┆ null        ┆ erc721     ┆ 65940.1916  ┆ 1           ┆ 0             │\n",
       "│ 7a8ab7c2061c2e ┆          ┆             ┆            ┆             ┆             ┆               │\n",
       "│ 118a…          ┆          ┆             ┆            ┆             ┆             ┆               │\n",
       "│ 0xbc4ca0eda764 ┆ 9299     ┆ null        ┆ erc721     ┆ 65940.1916  ┆ 1           ┆ 0             │\n",
       "│ 7a8ab7c2061c2e ┆          ┆             ┆            ┆             ┆             ┆               │\n",
       "│ 118a…          ┆          ┆             ┆            ┆             ┆             ┆               │\n",
       "│ 0xbc4ca0eda764 ┆ 9286     ┆ null        ┆ erc721     ┆ 65940.1916  ┆ 1           ┆ 0             │\n",
       "│ 7a8ab7c2061c2e ┆          ┆             ┆            ┆             ┆             ┆               │\n",
       "│ 118a…          ┆          ┆             ┆            ┆             ┆             ┆               │\n",
       "│ …              ┆ …        ┆ …           ┆ …          ┆ …           ┆ …           ┆ …             │\n",
       "│ 0x769272677fab ┆ 3        ┆ Captainz #3 ┆ erc721     ┆ 10471.56531 ┆ 1           ┆ 0             │\n",
       "│ 02575e84945f03 ┆          ┆             ┆            ┆             ┆             ┆               │\n",
       "│ eca5…          ┆          ┆             ┆            ┆             ┆             ┆               │\n",
       "│ 0x769272677fab ┆ 2        ┆ Captainz #2 ┆ erc721     ┆ 10471.56531 ┆ 1           ┆ 0             │\n",
       "│ 02575e84945f03 ┆          ┆             ┆            ┆             ┆             ┆               │\n",
       "│ eca5…          ┆          ┆             ┆            ┆             ┆             ┆               │\n",
       "│ 0x769272677fab ┆ 1        ┆ Captainz #1 ┆ erc721     ┆ 10471.56531 ┆ 1           ┆ 0             │\n",
       "│ 02575e84945f03 ┆          ┆             ┆            ┆             ┆             ┆               │\n",
       "│ eca5…          ┆          ┆             ┆            ┆             ┆             ┆               │\n",
       "│ 0x769272677fab ┆ 0        ┆ Captainz #0 ┆ erc721     ┆ 10471.56531 ┆ 1           ┆ 0             │\n",
       "│ 02575e84945f03 ┆          ┆             ┆            ┆             ┆             ┆               │\n",
       "│ eca5…          ┆          ┆             ┆            ┆             ┆             ┆               │\n",
       "└────────────────┴──────────┴─────────────┴────────────┴─────────────┴─────────────┴───────────────┘"
      ]
     },
     "execution_count": 88,
     "metadata": {},
     "output_type": "execute_result"
    }
   ],
   "source": [
    "df.filter(pl.col(\"floorprice\") < 100000, pl.col(\"floorprice\") > 10000).sort(by=\"floorprice\", descending=True)"
   ]
  },
  {
   "cell_type": "code",
   "execution_count": 106,
   "metadata": {},
   "outputs": [],
   "source": [
    "df.write_csv(\"./data/estimate.csv\")"
   ]
  },
  {
   "cell_type": "code",
   "execution_count": 102,
   "metadata": {},
   "outputs": [],
   "source": [
    "df_estimate = df.with_columns((pl.col(\"floorprice\") * pl.col(\"token_count\")).alias(\"estimate_price\")).filter(pl.col(\"estimate_price\") > 0).sort(by=\"estimate_price\", descending=True)"
   ]
  },
  {
   "cell_type": "code",
   "execution_count": 108,
   "metadata": {},
   "outputs": [
    {
     "data": {
      "text/html": [
       "<div><style>\n",
       ".dataframe > thead > tr,\n",
       ".dataframe > tbody > tr {\n",
       "  text-align: right;\n",
       "  white-space: pre-wrap;\n",
       "}\n",
       "</style>\n",
       "<small>shape: (1_048, 10)</small><table border=\"1\" class=\"dataframe\"><thead><tr><th>contract</th><th>token_id</th><th>token_name</th><th>token_kind</th><th>floorprice</th><th>last_appraisal_value</th><th>token_count</th><th>on_sale_count</th><th>acquired_at</th><th>estimate_price</th></tr><tr><td>str</td><td>str</td><td>str</td><td>str</td><td>f64</td><td>f64</td><td>i64</td><td>i64</td><td>str</td><td>f64</td></tr></thead><tbody><tr><td>&quot;0x6efc003d3f36…</td><td>&quot;275&quot;</td><td>&quot;MVP #275&quot;</td><td>&quot;erc721&quot;</td><td>151158.57876</td><td>null</td><td>1</td><td>0</td><td>&quot;2023-05-22T18:…</td><td>151158.57876</td></tr><tr><td>&quot;0x6efc003d3f36…</td><td>&quot;406&quot;</td><td>&quot;MVP #406&quot;</td><td>&quot;erc721&quot;</td><td>151158.57876</td><td>null</td><td>1</td><td>0</td><td>&quot;2023-01-02T17:…</td><td>151158.57876</td></tr><tr><td>&quot;0x6efc003d3f36…</td><td>&quot;419&quot;</td><td>&quot;MVP #419&quot;</td><td>&quot;erc721&quot;</td><td>151158.57876</td><td>null</td><td>1</td><td>0</td><td>&quot;2022-06-16T13:…</td><td>151158.57876</td></tr><tr><td>&quot;0x6efc003d3f36…</td><td>&quot;414&quot;</td><td>&quot;MVP #414&quot;</td><td>&quot;erc721&quot;</td><td>151158.57876</td><td>null</td><td>1</td><td>0</td><td>&quot;2022-06-16T13:…</td><td>151158.57876</td></tr><tr><td>&quot;0x6efc003d3f36…</td><td>&quot;413&quot;</td><td>&quot;MVP #413&quot;</td><td>&quot;erc721&quot;</td><td>151158.57876</td><td>null</td><td>1</td><td>0</td><td>&quot;2022-06-16T13:…</td><td>151158.57876</td></tr><tr><td>&quot;0x6efc003d3f36…</td><td>&quot;410&quot;</td><td>&quot;MVP #410&quot;</td><td>&quot;erc721&quot;</td><td>151158.57876</td><td>null</td><td>1</td><td>0</td><td>&quot;2022-06-16T13:…</td><td>151158.57876</td></tr><tr><td>&quot;0x6efc003d3f36…</td><td>&quot;409&quot;</td><td>&quot;MVP #409&quot;</td><td>&quot;erc721&quot;</td><td>151158.57876</td><td>null</td><td>1</td><td>0</td><td>&quot;2022-06-16T13:…</td><td>151158.57876</td></tr><tr><td>&quot;0x6efc003d3f36…</td><td>&quot;407&quot;</td><td>&quot;MVP #407&quot;</td><td>&quot;erc721&quot;</td><td>151158.57876</td><td>null</td><td>1</td><td>0</td><td>&quot;2022-06-16T13:…</td><td>151158.57876</td></tr><tr><td>&quot;0x6efc003d3f36…</td><td>&quot;405&quot;</td><td>&quot;MVP #405&quot;</td><td>&quot;erc721&quot;</td><td>151158.57876</td><td>null</td><td>1</td><td>0</td><td>&quot;2022-06-16T13:…</td><td>151158.57876</td></tr><tr><td>&quot;0x6efc003d3f36…</td><td>&quot;404&quot;</td><td>&quot;MVP #404&quot;</td><td>&quot;erc721&quot;</td><td>151158.57876</td><td>null</td><td>1</td><td>0</td><td>&quot;2022-06-16T13:…</td><td>151158.57876</td></tr><tr><td>&quot;0x6efc003d3f36…</td><td>&quot;401&quot;</td><td>&quot;MVP #401&quot;</td><td>&quot;erc721&quot;</td><td>151158.57876</td><td>null</td><td>1</td><td>0</td><td>&quot;2022-06-16T13:…</td><td>151158.57876</td></tr><tr><td>&quot;0x6efc003d3f36…</td><td>&quot;400&quot;</td><td>&quot;MVP #400&quot;</td><td>&quot;erc721&quot;</td><td>151158.57876</td><td>null</td><td>1</td><td>0</td><td>&quot;2022-06-16T13:…</td><td>151158.57876</td></tr><tr><td>&hellip;</td><td>&hellip;</td><td>&hellip;</td><td>&hellip;</td><td>&hellip;</td><td>&hellip;</td><td>&hellip;</td><td>&hellip;</td><td>&hellip;</td><td>&hellip;</td></tr><tr><td>&quot;0xb66a603f4cfe…</td><td>&quot;57562672601123…</td><td>&quot;Bored Ape Yach…</td><td>&quot;erc1155&quot;</td><td>0.01533</td><td>0.025</td><td>1</td><td>0</td><td>&quot;2022-09-12T05:…</td><td>0.01533</td></tr><tr><td>&quot;0xb66a603f4cfe…</td><td>&quot;57562672601123…</td><td>&quot;Bored Ape x NB…</td><td>&quot;erc1155&quot;</td><td>0.01533</td><td>0.02</td><td>1</td><td>0</td><td>&quot;2022-09-02T08:…</td><td>0.01533</td></tr><tr><td>&quot;0xb66a603f4cfe…</td><td>&quot;34908161203840…</td><td>&quot;Bored Ape Yach…</td><td>&quot;erc1155&quot;</td><td>0.01533</td><td>0.108</td><td>1</td><td>1</td><td>&quot;2022-08-05T11:…</td><td>0.01533</td></tr><tr><td>&quot;0xb66a603f4cfe…</td><td>&quot;34908161203840…</td><td>&quot;Bored Ape Yach…</td><td>&quot;erc1155&quot;</td><td>0.01533</td><td>null</td><td>1</td><td>0</td><td>&quot;2022-08-02T13:…</td><td>0.01533</td></tr><tr><td>&quot;0xb66a603f4cfe…</td><td>&quot;55842148738858…</td><td>&quot;Воrеd Аре Yасh…</td><td>&quot;erc1155&quot;</td><td>0.01533</td><td>null</td><td>1</td><td>0</td><td>&quot;2022-08-02T10:…</td><td>0.01533</td></tr><tr><td>&quot;0xb66a603f4cfe…</td><td>&quot;34908161203840…</td><td>&quot;adidas Origina…</td><td>&quot;erc1155&quot;</td><td>0.01533</td><td>null</td><td>1</td><td>0</td><td>&quot;2022-08-01T12:…</td><td>0.01533</td></tr><tr><td>&quot;0xb66a603f4cfe…</td><td>&quot;34908161203840…</td><td>&quot;Bored Ape Yach…</td><td>&quot;erc1155&quot;</td><td>0.01533</td><td>0.308</td><td>1</td><td>0</td><td>&quot;2022-08-01T10:…</td><td>0.01533</td></tr><tr><td>&quot;0xb66a603f4cfe…</td><td>&quot;52873455554808…</td><td>null</td><td>&quot;erc1155&quot;</td><td>0.01533</td><td>null</td><td>1</td><td>0</td><td>&quot;2022-08-01T10:…</td><td>0.01533</td></tr><tr><td>&quot;0xb66a603f4cfe…</td><td>&quot;11176071214402…</td><td>&quot;Patata&quot;</td><td>&quot;erc1155&quot;</td><td>0.01533</td><td>null</td><td>1</td><td>0</td><td>&quot;2022-07-30T20:…</td><td>0.01533</td></tr><tr><td>&quot;0xb66a603f4cfe…</td><td>&quot;34908161203840…</td><td>&quot;Bored Ape Yach…</td><td>&quot;erc1155&quot;</td><td>0.01533</td><td>0.108</td><td>1</td><td>0</td><td>&quot;2022-07-30T09:…</td><td>0.01533</td></tr><tr><td>&quot;0xb66a603f4cfe…</td><td>&quot;34908161203840…</td><td>&quot;Bored Ape Yach…</td><td>&quot;erc1155&quot;</td><td>0.01533</td><td>0.208</td><td>1</td><td>0</td><td>&quot;2022-07-29T10:…</td><td>0.01533</td></tr><tr><td>&quot;0xb66a603f4cfe…</td><td>&quot;40590961009891…</td><td>null</td><td>&quot;erc1155&quot;</td><td>0.01533</td><td>null</td><td>1</td><td>0</td><td>&quot;2022-07-25T12:…</td><td>0.01533</td></tr></tbody></table></div>"
      ],
      "text/plain": [
       "shape: (1_048, 10)\n",
       "┌───────────┬───────────┬───────────┬───────────┬───┬───────────┬───────────┬───────────┬──────────┐\n",
       "│ contract  ┆ token_id  ┆ token_nam ┆ token_kin ┆ … ┆ token_cou ┆ on_sale_c ┆ acquired_ ┆ estimate │\n",
       "│ ---       ┆ ---       ┆ e         ┆ d         ┆   ┆ nt        ┆ ount      ┆ at        ┆ _price   │\n",
       "│ str       ┆ str       ┆ ---       ┆ ---       ┆   ┆ ---       ┆ ---       ┆ ---       ┆ ---      │\n",
       "│           ┆           ┆ str       ┆ str       ┆   ┆ i64       ┆ i64       ┆ str       ┆ f64      │\n",
       "╞═══════════╪═══════════╪═══════════╪═══════════╪═══╪═══════════╪═══════════╪═══════════╪══════════╡\n",
       "│ 0x6efc003 ┆ 275       ┆ MVP #275  ┆ erc721    ┆ … ┆ 1         ┆ 0         ┆ 2023-05-2 ┆ 151158.5 │\n",
       "│ d3f365838 ┆           ┆           ┆           ┆   ┆           ┆           ┆ 2T18:11:1 ┆ 7876     │\n",
       "│ 3f0618550 ┆           ┆           ┆           ┆   ┆           ┆           ┆ 1.000Z    ┆          │\n",
       "│ 3340c…    ┆           ┆           ┆           ┆   ┆           ┆           ┆           ┆          │\n",
       "│ 0x6efc003 ┆ 406       ┆ MVP #406  ┆ erc721    ┆ … ┆ 1         ┆ 0         ┆ 2023-01-0 ┆ 151158.5 │\n",
       "│ d3f365838 ┆           ┆           ┆           ┆   ┆           ┆           ┆ 2T17:06:2 ┆ 7876     │\n",
       "│ 3f0618550 ┆           ┆           ┆           ┆   ┆           ┆           ┆ 3.000Z    ┆          │\n",
       "│ 3340c…    ┆           ┆           ┆           ┆   ┆           ┆           ┆           ┆          │\n",
       "│ 0x6efc003 ┆ 419       ┆ MVP #419  ┆ erc721    ┆ … ┆ 1         ┆ 0         ┆ 2022-06-1 ┆ 151158.5 │\n",
       "│ d3f365838 ┆           ┆           ┆           ┆   ┆           ┆           ┆ 6T13:36:2 ┆ 7876     │\n",
       "│ 3f0618550 ┆           ┆           ┆           ┆   ┆           ┆           ┆ 5.000Z    ┆          │\n",
       "│ 3340c…    ┆           ┆           ┆           ┆   ┆           ┆           ┆           ┆          │\n",
       "│ 0x6efc003 ┆ 414       ┆ MVP #414  ┆ erc721    ┆ … ┆ 1         ┆ 0         ┆ 2022-06-1 ┆ 151158.5 │\n",
       "│ d3f365838 ┆           ┆           ┆           ┆   ┆           ┆           ┆ 6T13:36:2 ┆ 7876     │\n",
       "│ 3f0618550 ┆           ┆           ┆           ┆   ┆           ┆           ┆ 5.000Z    ┆          │\n",
       "│ 3340c…    ┆           ┆           ┆           ┆   ┆           ┆           ┆           ┆          │\n",
       "│ …         ┆ …         ┆ …         ┆ …         ┆ … ┆ …         ┆ …         ┆ …         ┆ …        │\n",
       "│ 0xb66a603 ┆ 111760712 ┆ Patata    ┆ erc1155   ┆ … ┆ 1         ┆ 0         ┆ 2022-07-3 ┆ 0.01533  │\n",
       "│ f4cfe17e3 ┆ 144023902 ┆           ┆           ┆   ┆           ┆           ┆ 0T20:42:5 ┆          │\n",
       "│ d27b87a8b ┆ 783921812 ┆           ┆           ┆   ┆           ┆           ┆ 8.000Z    ┆          │\n",
       "│ fcad3…    ┆ 02145…    ┆           ┆           ┆   ┆           ┆           ┆           ┆          │\n",
       "│ 0xb66a603 ┆ 349081612 ┆ Bored Ape ┆ erc1155   ┆ … ┆ 1         ┆ 0         ┆ 2022-07-3 ┆ 0.01533  │\n",
       "│ f4cfe17e3 ┆ 038401025 ┆ Yacht     ┆           ┆   ┆           ┆           ┆ 0T09:33:2 ┆          │\n",
       "│ d27b87a8b ┆ 866803787 ┆ Club      ┆           ┆   ┆           ┆           ┆ 1.000Z    ┆          │\n",
       "│ fcad3…    ┆ 14710…    ┆ Express   ┆           ┆   ┆           ┆           ┆           ┆          │\n",
       "│           ┆           ┆ Bla…      ┆           ┆   ┆           ┆           ┆           ┆          │\n",
       "│ 0xb66a603 ┆ 349081612 ┆ Bored Ape ┆ erc1155   ┆ … ┆ 1         ┆ 0         ┆ 2022-07-2 ┆ 0.01533  │\n",
       "│ f4cfe17e3 ┆ 038401025 ┆ Yacht     ┆           ┆   ┆           ┆           ┆ 9T10:51:5 ┆          │\n",
       "│ d27b87a8b ┆ 866803787 ┆ Club      ┆           ┆   ┆           ┆           ┆ 0.000Z    ┆          │\n",
       "│ fcad3…    ┆ 14710…    ┆ Express   ┆           ┆   ┆           ┆           ┆           ┆          │\n",
       "│           ┆           ┆ Gol…      ┆           ┆   ┆           ┆           ┆           ┆          │\n",
       "│ 0xb66a603 ┆ 405909610 ┆ null      ┆ erc1155   ┆ … ┆ 1         ┆ 0         ┆ 2022-07-2 ┆ 0.01533  │\n",
       "│ f4cfe17e3 ┆ 098911167 ┆           ┆           ┆   ┆           ┆           ┆ 5T12:43:0 ┆          │\n",
       "│ d27b87a8b ┆ 437624294 ┆           ┆           ┆   ┆           ┆           ┆ 0.000Z    ┆          │\n",
       "│ fcad3…    ┆ 69187…    ┆           ┆           ┆   ┆           ┆           ┆           ┆          │\n",
       "└───────────┴───────────┴───────────┴───────────┴───┴───────────┴───────────┴───────────┴──────────┘"
      ]
     },
     "execution_count": 108,
     "metadata": {},
     "output_type": "execute_result"
    }
   ],
   "source": [
    "df_estimate"
   ]
  },
  {
   "cell_type": "code",
   "execution_count": 122,
   "metadata": {},
   "outputs": [],
   "source": [
    "df_estimate.with_columns(\n",
    "    pl.when(pl.col(\"last_appraisal_value\").is_not_null())\n",
    "    .then(pl.col(\"last_appraisal_value\") * pl.col(\"token_count\"))\n",
    "    .otherwise(pl.col(\"estimate_price\"))\n",
    "    .alias(\"total_estimate_price\")\n",
    ").drop(\"estimate_price\").write_csv(\"./data/estimate_v2.csv\")"
   ]
  },
  {
   "cell_type": "code",
   "execution_count": 118,
   "metadata": {},
   "outputs": [],
   "source": [
    "total_price = df_estimate.with_columns(\n",
    "    pl.when(pl.col(\"last_appraisal_value\").is_not_null())\n",
    "    .then(pl.col(\"last_appraisal_value\") * pl.col(\"token_count\"))\n",
    "    .otherwise(pl.col(\"estimate_price\"))\n",
    "    .alias(\"total_estimate_price\")\n",
    ").select(\"total_estimate_price\")[\"total_estimate_price\"].sum()"
   ]
  },
  {
   "cell_type": "code",
   "execution_count": 119,
   "metadata": {},
   "outputs": [],
   "source": [
    "usd_to_krw = 1309.53\n",
    "usd_to_eth = 0.00044561\n",
    "\n",
    "total_price = df_estimate.with_columns(\n",
    "    pl.when(pl.col(\"last_appraisal_value\").is_not_null())\n",
    "    .then(pl.col(\"last_appraisal_value\") * pl.col(\"token_count\"))\n",
    "    .otherwise(pl.col(\"estimate_price\"))\n",
    "    .alias(\"total_estimate_price\")\n",
    ").select(\"total_estimate_price\")[\"total_estimate_price\"].sum()"
   ]
  },
  {
   "cell_type": "code",
   "execution_count": 120,
   "metadata": {},
   "outputs": [
    {
     "name": "stderr",
     "output_type": "stream",
     "text": [
      "\u001b[32m2023-12-05 13:59:38.008\u001b[0m | \u001b[1mINFO    \u001b[0m | \u001b[36m__main__\u001b[0m:\u001b[36m<module>\u001b[0m:\u001b[36m4\u001b[0m - \u001b[1mtotal_price: 20391851.582769997\u001b[0m\n",
      "\u001b[32m2023-12-05 13:59:38.009\u001b[0m | \u001b[1mINFO    \u001b[0m | \u001b[36m__main__\u001b[0m:\u001b[36m<module>\u001b[0m:\u001b[36m5\u001b[0m - \u001b[1mtotal_price_krw: 26703741403.184795\u001b[0m\n",
      "\u001b[32m2023-12-05 13:59:38.010\u001b[0m | \u001b[1mINFO    \u001b[0m | \u001b[36m__main__\u001b[0m:\u001b[36m<module>\u001b[0m:\u001b[36m6\u001b[0m - \u001b[1mtotal_price_eth: 9086.812983798138\u001b[0m\n"
     ]
    }
   ],
   "source": [
    "total_price_krw = total_price * usd_to_krw\n",
    "total_price_eth = total_price * usd_to_eth\n",
    "\n",
    "logger.info(f\"total_price: {total_price}\")\n",
    "logger.info(f\"total_price_krw: {total_price_krw}\")\n",
    "logger.info(f\"total_price_eth: {total_price_eth}\")"
   ]
  }
 ],
 "metadata": {
  "kernelspec": {
   "display_name": "web3",
   "language": "python",
   "name": "python3"
  },
  "language_info": {
   "codemirror_mode": {
    "name": "ipython",
    "version": 3
   },
   "file_extension": ".py",
   "mimetype": "text/x-python",
   "name": "python",
   "nbconvert_exporter": "python",
   "pygments_lexer": "ipython3",
   "version": "3.12.0"
  }
 },
 "nbformat": 4,
 "nbformat_minor": 2
}
