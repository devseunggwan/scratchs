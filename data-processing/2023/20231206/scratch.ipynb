{
 "cells": [
  {
   "cell_type": "code",
   "execution_count": 8,
   "metadata": {},
   "outputs": [],
   "source": [
    "import polars as pl\n",
    "import pandas as pd\n",
    "import streamlit as st\n",
    "\n",
    "from streamlit_jupyter import StreamlitPatcher, tqdm\n",
    "StreamlitPatcher().jupyter()"
   ]
  },
  {
   "cell_type": "markdown",
   "metadata": {},
   "source": [
    "### status preprocessing"
   ]
  },
  {
   "cell_type": "code",
   "execution_count": 39,
   "metadata": {},
   "outputs": [
    {
     "data": {
      "text/html": [
       "<div><style>\n",
       ".dataframe > thead > tr,\n",
       ".dataframe > tbody > tr {\n",
       "  text-align: right;\n",
       "  white-space: pre-wrap;\n",
       "}\n",
       "</style>\n",
       "<small>shape: (354, 15)</small><table border=\"1\" class=\"dataframe\"><thead><tr><th>date</th><th>vistors</th><th>mau</th><th>sns_followers_all</th><th>new_inventor</th><th>WAU</th><th>DAU</th><th>WAU/MAU</th><th>twitter_followers</th><th>discord_members</th><th>youtube_followers</th><th>new_accounters</th><th>accounters_all</th><th>brezel_all</th><th>brezel</th></tr><tr><td>str</td><td>i64</td><td>i64</td><td>i64</td><td>i64</td><td>i64</td><td>i64</td><td>i64</td><td>i64</td><td>i64</td><td>i64</td><td>i64</td><td>i64</td><td>i64</td><td>i64</td></tr></thead><tbody><tr><td>&quot;12/05&quot;</td><td>27002</td><td>2423</td><td>12763</td><td>128</td><td>794</td><td>160</td><td>33</td><td>6623</td><td>4580</td><td>1560</td><td>2</td><td>4114</td><td>0</td><td>341</td></tr><tr><td>&quot;12/04&quot;</td><td>26874</td><td>2367</td><td>12764</td><td>153</td><td>743</td><td>184</td><td>31</td><td>6623</td><td>4581</td><td>1560</td><td>2</td><td>4112</td><td>0</td><td>341</td></tr><tr><td>&quot;12/03&quot;</td><td>26721</td><td>2300</td><td>12765</td><td>75</td><td>694</td><td>79</td><td>30</td><td>6623</td><td>4582</td><td>1560</td><td>0</td><td>4110</td><td>0</td><td>341</td></tr><tr><td>&quot;12/02&quot;</td><td>26646</td><td>2317</td><td>12766</td><td>53</td><td>673</td><td>61</td><td>29</td><td>6623</td><td>4583</td><td>1560</td><td>0</td><td>4110</td><td>0</td><td>341</td></tr><tr><td>&quot;12/01&quot;</td><td>26572</td><td>2300</td><td>12780</td><td>80</td><td>655</td><td>113</td><td>28</td><td>6623</td><td>4587</td><td>1570</td><td>0</td><td>4110</td><td>0</td><td>341</td></tr><tr><td>&quot;11/30&quot;</td><td>26513</td><td>2295</td><td>12782</td><td>108</td><td>657</td><td>148</td><td>29</td><td>6623</td><td>4589</td><td>1570</td><td>1</td><td>4110</td><td>0</td><td>341</td></tr><tr><td>&quot;11/29&quot;</td><td>26381</td><td>2250</td><td>12782</td><td>79</td><td>593</td><td>104</td><td>26</td><td>6623</td><td>4589</td><td>1570</td><td>2</td><td>4109</td><td>1</td><td>340</td></tr><tr><td>&quot;11/28&quot;</td><td>26326</td><td>2264</td><td>12783</td><td>77</td><td>594</td><td>108</td><td>26</td><td>6623</td><td>4590</td><td>1570</td><td>0</td><td>4107</td><td>0</td><td>339</td></tr><tr><td>&quot;11/27&quot;</td><td>26249</td><td>2255</td><td>12783</td><td>112</td><td>595</td><td>137</td><td>26</td><td>6623</td><td>4590</td><td>1570</td><td>3</td><td>4107</td><td>0</td><td>339</td></tr><tr><td>&quot;11/26&quot;</td><td>26137</td><td>2190</td><td>12788</td><td>45</td><td>602</td><td>57</td><td>27</td><td>6623</td><td>4595</td><td>1570</td><td>1</td><td>4104</td><td>0</td><td>339</td></tr><tr><td>&quot;11/25&quot;</td><td>26069</td><td>2168</td><td>12803</td><td>23</td><td>571</td><td>33</td><td>26</td><td>6623</td><td>4600</td><td>1580</td><td>0</td><td>4103</td><td>0</td><td>339</td></tr><tr><td>&quot;11/24&quot;</td><td>26054</td><td>2187</td><td>12801</td><td>61</td><td>570</td><td>92</td><td>26</td><td>6623</td><td>4598</td><td>1580</td><td>0</td><td>4103</td><td>0</td><td>339</td></tr><tr><td>&hellip;</td><td>&hellip;</td><td>&hellip;</td><td>&hellip;</td><td>&hellip;</td><td>&hellip;</td><td>&hellip;</td><td>&hellip;</td><td>&hellip;</td><td>&hellip;</td><td>&hellip;</td><td>&hellip;</td><td>&hellip;</td><td>&hellip;</td><td>&hellip;</td></tr><tr><td>&quot;12/26&quot;</td><td>0</td><td>1652</td><td>1783</td><td>40</td><td>373</td><td>90</td><td>23</td><td>95</td><td>1688</td><td>0</td><td>0</td><td>0</td><td>2</td><td>0</td></tr><tr><td>&quot;12/25&quot;</td><td>0</td><td>1606</td><td>1781</td><td>5</td><td>384</td><td>11</td><td>24</td><td>93</td><td>1688</td><td>0</td><td>0</td><td>0</td><td>3</td><td>0</td></tr><tr><td>&quot;12/24&quot;</td><td>0</td><td>1601</td><td>1781</td><td>1</td><td>403</td><td>6</td><td>25</td><td>93</td><td>1688</td><td>0</td><td>0</td><td>0</td><td>2</td><td>0</td></tr><tr><td>&quot;12/23&quot;</td><td>0</td><td>1600</td><td>1781</td><td>11</td><td>420</td><td>40</td><td>26</td><td>93</td><td>1688</td><td>0</td><td>0</td><td>0</td><td>5</td><td>0</td></tr><tr><td>&quot;12/22&quot;</td><td>0</td><td>1589</td><td>1784</td><td>83</td><td>478</td><td>147</td><td>30</td><td>96</td><td>1688</td><td>0</td><td>0</td><td>0</td><td>1</td><td>0</td></tr><tr><td>&quot;12/21&quot;</td><td>0</td><td>1506</td><td>1784</td><td>36</td><td>667</td><td>77</td><td>44</td><td>96</td><td>1688</td><td>0</td><td>0</td><td>0</td><td>1</td><td>0</td></tr><tr><td>&quot;12/20&quot;</td><td>0</td><td>1470</td><td>1784</td><td>92</td><td>737</td><td>138</td><td>50</td><td>96</td><td>1688</td><td>0</td><td>0</td><td>0</td><td>2</td><td>0</td></tr><tr><td>&quot;12/19&quot;</td><td>0</td><td>1378</td><td>1784</td><td>53</td><td>711</td><td>98</td><td>52</td><td>96</td><td>1688</td><td>0</td><td>0</td><td>0</td><td>4</td><td>0</td></tr><tr><td>&quot;12/18&quot;</td><td>0</td><td>1325</td><td>1688</td><td>20</td><td>696</td><td>31</td><td>53</td><td>0</td><td>1688</td><td>0</td><td>0</td><td>0</td><td>2</td><td>0</td></tr><tr><td>&quot;12/17&quot;</td><td>0</td><td>1305</td><td>0</td><td>14</td><td>712</td><td>23</td><td>55</td><td>0</td><td>0</td><td>0</td><td>0</td><td>0</td><td>4</td><td>0</td></tr><tr><td>&quot;12/16&quot;</td><td>0</td><td>1288</td><td>0</td><td>60</td><td>721</td><td>105</td><td>56</td><td>0</td><td>0</td><td>0</td><td>0</td><td>0</td><td>2</td><td>0</td></tr><tr><td>&quot;12/15&quot;</td><td>0</td><td>1228</td><td>0</td><td>277</td><td>746</td><td>372</td><td>61</td><td>0</td><td>0</td><td>0</td><td>0</td><td>0</td><td>15</td><td>0</td></tr></tbody></table></div>"
      ],
      "text/plain": [
       "shape: (354, 15)\n",
       "┌───────┬─────────┬──────┬───────────────┬───┬───────────────┬───────────────┬────────────┬────────┐\n",
       "│ date  ┆ vistors ┆ mau  ┆ sns_followers ┆ … ┆ new_accounter ┆ accounters_al ┆ brezel_all ┆ brezel │\n",
       "│ ---   ┆ ---     ┆ ---  ┆ _all          ┆   ┆ s             ┆ l             ┆ ---        ┆ ---    │\n",
       "│ str   ┆ i64     ┆ i64  ┆ ---           ┆   ┆ ---           ┆ ---           ┆ i64        ┆ i64    │\n",
       "│       ┆         ┆      ┆ i64           ┆   ┆ i64           ┆ i64           ┆            ┆        │\n",
       "╞═══════╪═════════╪══════╪═══════════════╪═══╪═══════════════╪═══════════════╪════════════╪════════╡\n",
       "│ 12/05 ┆ 27002   ┆ 2423 ┆ 12763         ┆ … ┆ 2             ┆ 4114          ┆ 0          ┆ 341    │\n",
       "│ 12/04 ┆ 26874   ┆ 2367 ┆ 12764         ┆ … ┆ 2             ┆ 4112          ┆ 0          ┆ 341    │\n",
       "│ 12/03 ┆ 26721   ┆ 2300 ┆ 12765         ┆ … ┆ 0             ┆ 4110          ┆ 0          ┆ 341    │\n",
       "│ 12/02 ┆ 26646   ┆ 2317 ┆ 12766         ┆ … ┆ 0             ┆ 4110          ┆ 0          ┆ 341    │\n",
       "│ …     ┆ …       ┆ …    ┆ …             ┆ … ┆ …             ┆ …             ┆ …          ┆ …      │\n",
       "│ 12/18 ┆ 0       ┆ 1325 ┆ 1688          ┆ … ┆ 0             ┆ 0             ┆ 2          ┆ 0      │\n",
       "│ 12/17 ┆ 0       ┆ 1305 ┆ 0             ┆ … ┆ 0             ┆ 0             ┆ 4          ┆ 0      │\n",
       "│ 12/16 ┆ 0       ┆ 1288 ┆ 0             ┆ … ┆ 0             ┆ 0             ┆ 2          ┆ 0      │\n",
       "│ 12/15 ┆ 0       ┆ 1228 ┆ 0             ┆ … ┆ 0             ┆ 0             ┆ 15         ┆ 0      │\n",
       "└───────┴─────────┴──────┴───────────────┴───┴───────────────┴───────────────┴────────────┴────────┘"
      ]
     },
     "execution_count": 39,
     "metadata": {},
     "output_type": "execute_result"
    }
   ],
   "source": [
    "df = pl.read_csv(\"data/table.csv\")\n",
    "df"
   ]
  },
  {
   "cell_type": "code",
   "execution_count": 40,
   "metadata": {},
   "outputs": [],
   "source": [
    "df.with_columns((\"2023-\" + pl.col(\"date\").str.replace(\"/\", \"-\")).alias(\"date\")).write_csv(\"data/table2.csv\")"
   ]
  },
  {
   "cell_type": "code",
   "execution_count": 4,
   "metadata": {},
   "outputs": [
    {
     "data": {
      "text/html": [
       "<div><style>\n",
       ".dataframe > thead > tr,\n",
       ".dataframe > tbody > tr {\n",
       "  text-align: right;\n",
       "  white-space: pre-wrap;\n",
       "}\n",
       "</style>\n",
       "<small>shape: (354, 15)</small><table border=\"1\" class=\"dataframe\"><thead><tr><th>date</th><th>vistors</th><th>MAU</th><th>sns_followers_all</th><th>new_inventor</th><th>WAU</th><th>DAU</th><th>WAU/MAU</th><th>twitter_followers</th><th>discord_members</th><th>youtube_followers</th><th>new_accounters</th><th>accounters_all</th><th>brezel_all</th><th>brezel</th></tr><tr><td>datetime[μs]</td><td>i64</td><td>i64</td><td>i64</td><td>i64</td><td>i64</td><td>i64</td><td>i64</td><td>i64</td><td>i64</td><td>i64</td><td>i64</td><td>i64</td><td>i64</td><td>i64</td></tr></thead><tbody><tr><td>2023-12-05 00:00:00</td><td>27002</td><td>2423</td><td>12763</td><td>128</td><td>794</td><td>160</td><td>33</td><td>6623</td><td>4580</td><td>1560</td><td>2</td><td>4114</td><td>0</td><td>341</td></tr><tr><td>2023-12-04 00:00:00</td><td>26874</td><td>2367</td><td>12764</td><td>153</td><td>743</td><td>184</td><td>31</td><td>6623</td><td>4581</td><td>1560</td><td>2</td><td>4112</td><td>0</td><td>341</td></tr><tr><td>2023-12-03 00:00:00</td><td>26721</td><td>2300</td><td>12765</td><td>75</td><td>694</td><td>79</td><td>30</td><td>6623</td><td>4582</td><td>1560</td><td>0</td><td>4110</td><td>0</td><td>341</td></tr><tr><td>2023-12-02 00:00:00</td><td>26646</td><td>2317</td><td>12766</td><td>53</td><td>673</td><td>61</td><td>29</td><td>6623</td><td>4583</td><td>1560</td><td>0</td><td>4110</td><td>0</td><td>341</td></tr><tr><td>2023-12-01 00:00:00</td><td>26572</td><td>2300</td><td>12780</td><td>80</td><td>655</td><td>113</td><td>28</td><td>6623</td><td>4587</td><td>1570</td><td>0</td><td>4110</td><td>0</td><td>341</td></tr><tr><td>2023-11-30 00:00:00</td><td>26513</td><td>2295</td><td>12782</td><td>108</td><td>657</td><td>148</td><td>29</td><td>6623</td><td>4589</td><td>1570</td><td>1</td><td>4110</td><td>0</td><td>341</td></tr><tr><td>2023-11-29 00:00:00</td><td>26381</td><td>2250</td><td>12782</td><td>79</td><td>593</td><td>104</td><td>26</td><td>6623</td><td>4589</td><td>1570</td><td>2</td><td>4109</td><td>1</td><td>340</td></tr><tr><td>2023-11-28 00:00:00</td><td>26326</td><td>2264</td><td>12783</td><td>77</td><td>594</td><td>108</td><td>26</td><td>6623</td><td>4590</td><td>1570</td><td>0</td><td>4107</td><td>0</td><td>339</td></tr><tr><td>2023-11-27 00:00:00</td><td>26249</td><td>2255</td><td>12783</td><td>112</td><td>595</td><td>137</td><td>26</td><td>6623</td><td>4590</td><td>1570</td><td>3</td><td>4107</td><td>0</td><td>339</td></tr><tr><td>2023-11-26 00:00:00</td><td>26137</td><td>2190</td><td>12788</td><td>45</td><td>602</td><td>57</td><td>27</td><td>6623</td><td>4595</td><td>1570</td><td>1</td><td>4104</td><td>0</td><td>339</td></tr><tr><td>2023-11-25 00:00:00</td><td>26069</td><td>2168</td><td>12803</td><td>23</td><td>571</td><td>33</td><td>26</td><td>6623</td><td>4600</td><td>1580</td><td>0</td><td>4103</td><td>0</td><td>339</td></tr><tr><td>2023-11-24 00:00:00</td><td>26054</td><td>2187</td><td>12801</td><td>61</td><td>570</td><td>92</td><td>26</td><td>6623</td><td>4598</td><td>1580</td><td>0</td><td>4103</td><td>0</td><td>339</td></tr><tr><td>&hellip;</td><td>&hellip;</td><td>&hellip;</td><td>&hellip;</td><td>&hellip;</td><td>&hellip;</td><td>&hellip;</td><td>&hellip;</td><td>&hellip;</td><td>&hellip;</td><td>&hellip;</td><td>&hellip;</td><td>&hellip;</td><td>&hellip;</td><td>&hellip;</td></tr><tr><td>2022-12-26 00:00:00</td><td>0</td><td>1652</td><td>1783</td><td>40</td><td>373</td><td>90</td><td>23</td><td>95</td><td>1688</td><td>0</td><td>0</td><td>0</td><td>2</td><td>0</td></tr><tr><td>2022-12-25 00:00:00</td><td>0</td><td>1606</td><td>1781</td><td>5</td><td>384</td><td>11</td><td>24</td><td>93</td><td>1688</td><td>0</td><td>0</td><td>0</td><td>3</td><td>0</td></tr><tr><td>2022-12-24 00:00:00</td><td>0</td><td>1601</td><td>1781</td><td>1</td><td>403</td><td>6</td><td>25</td><td>93</td><td>1688</td><td>0</td><td>0</td><td>0</td><td>2</td><td>0</td></tr><tr><td>2022-12-23 00:00:00</td><td>0</td><td>1600</td><td>1781</td><td>11</td><td>420</td><td>40</td><td>26</td><td>93</td><td>1688</td><td>0</td><td>0</td><td>0</td><td>5</td><td>0</td></tr><tr><td>2022-12-22 00:00:00</td><td>0</td><td>1589</td><td>1784</td><td>83</td><td>478</td><td>147</td><td>30</td><td>96</td><td>1688</td><td>0</td><td>0</td><td>0</td><td>1</td><td>0</td></tr><tr><td>2022-12-21 00:00:00</td><td>0</td><td>1506</td><td>1784</td><td>36</td><td>667</td><td>77</td><td>44</td><td>96</td><td>1688</td><td>0</td><td>0</td><td>0</td><td>1</td><td>0</td></tr><tr><td>2022-12-20 00:00:00</td><td>0</td><td>1470</td><td>1784</td><td>92</td><td>737</td><td>138</td><td>50</td><td>96</td><td>1688</td><td>0</td><td>0</td><td>0</td><td>2</td><td>0</td></tr><tr><td>2022-12-19 00:00:00</td><td>0</td><td>1378</td><td>1784</td><td>53</td><td>711</td><td>98</td><td>52</td><td>96</td><td>1688</td><td>0</td><td>0</td><td>0</td><td>4</td><td>0</td></tr><tr><td>2022-12-18 00:00:00</td><td>0</td><td>1325</td><td>1688</td><td>20</td><td>696</td><td>31</td><td>53</td><td>0</td><td>1688</td><td>0</td><td>0</td><td>0</td><td>2</td><td>0</td></tr><tr><td>2022-12-17 00:00:00</td><td>0</td><td>1305</td><td>0</td><td>14</td><td>712</td><td>23</td><td>55</td><td>0</td><td>0</td><td>0</td><td>0</td><td>0</td><td>4</td><td>0</td></tr><tr><td>2022-12-16 00:00:00</td><td>0</td><td>1288</td><td>0</td><td>60</td><td>721</td><td>105</td><td>56</td><td>0</td><td>0</td><td>0</td><td>0</td><td>0</td><td>2</td><td>0</td></tr><tr><td>2022-12-15 00:00:00</td><td>0</td><td>1228</td><td>0</td><td>277</td><td>746</td><td>372</td><td>61</td><td>0</td><td>0</td><td>0</td><td>0</td><td>0</td><td>15</td><td>0</td></tr></tbody></table></div>"
      ],
      "text/plain": [
       "shape: (354, 15)\n",
       "┌─────────────┬─────────┬──────┬─────────────┬───┬─────────────┬─────────────┬────────────┬────────┐\n",
       "│ date        ┆ vistors ┆ MAU  ┆ sns_followe ┆ … ┆ new_account ┆ accounters_ ┆ brezel_all ┆ brezel │\n",
       "│ ---         ┆ ---     ┆ ---  ┆ rs_all      ┆   ┆ ers         ┆ all         ┆ ---        ┆ ---    │\n",
       "│ datetime[μs ┆ i64     ┆ i64  ┆ ---         ┆   ┆ ---         ┆ ---         ┆ i64        ┆ i64    │\n",
       "│ ]           ┆         ┆      ┆ i64         ┆   ┆ i64         ┆ i64         ┆            ┆        │\n",
       "╞═════════════╪═════════╪══════╪═════════════╪═══╪═════════════╪═════════════╪════════════╪════════╡\n",
       "│ 2023-12-05  ┆ 27002   ┆ 2423 ┆ 12763       ┆ … ┆ 2           ┆ 4114        ┆ 0          ┆ 341    │\n",
       "│ 00:00:00    ┆         ┆      ┆             ┆   ┆             ┆             ┆            ┆        │\n",
       "│ 2023-12-04  ┆ 26874   ┆ 2367 ┆ 12764       ┆ … ┆ 2           ┆ 4112        ┆ 0          ┆ 341    │\n",
       "│ 00:00:00    ┆         ┆      ┆             ┆   ┆             ┆             ┆            ┆        │\n",
       "│ 2023-12-03  ┆ 26721   ┆ 2300 ┆ 12765       ┆ … ┆ 0           ┆ 4110        ┆ 0          ┆ 341    │\n",
       "│ 00:00:00    ┆         ┆      ┆             ┆   ┆             ┆             ┆            ┆        │\n",
       "│ 2023-12-02  ┆ 26646   ┆ 2317 ┆ 12766       ┆ … ┆ 0           ┆ 4110        ┆ 0          ┆ 341    │\n",
       "│ 00:00:00    ┆         ┆      ┆             ┆   ┆             ┆             ┆            ┆        │\n",
       "│ …           ┆ …       ┆ …    ┆ …           ┆ … ┆ …           ┆ …           ┆ …          ┆ …      │\n",
       "│ 2022-12-18  ┆ 0       ┆ 1325 ┆ 1688        ┆ … ┆ 0           ┆ 0           ┆ 2          ┆ 0      │\n",
       "│ 00:00:00    ┆         ┆      ┆             ┆   ┆             ┆             ┆            ┆        │\n",
       "│ 2022-12-17  ┆ 0       ┆ 1305 ┆ 0           ┆ … ┆ 0           ┆ 0           ┆ 4          ┆ 0      │\n",
       "│ 00:00:00    ┆         ┆      ┆             ┆   ┆             ┆             ┆            ┆        │\n",
       "│ 2022-12-16  ┆ 0       ┆ 1288 ┆ 0           ┆ … ┆ 0           ┆ 0           ┆ 2          ┆ 0      │\n",
       "│ 00:00:00    ┆         ┆      ┆             ┆   ┆             ┆             ┆            ┆        │\n",
       "│ 2022-12-15  ┆ 0       ┆ 1228 ┆ 0           ┆ … ┆ 0           ┆ 0           ┆ 15         ┆ 0      │\n",
       "│ 00:00:00    ┆         ┆      ┆             ┆   ┆             ┆             ┆            ┆        │\n",
       "└─────────────┴─────────┴──────┴─────────────┴───┴─────────────┴─────────────┴────────────┴────────┘"
      ]
     },
     "execution_count": 4,
     "metadata": {},
     "output_type": "execute_result"
    }
   ],
   "source": [
    "df = pl.read_csv(\"data/table2.csv\")\n",
    "df = df.with_columns(pl.col(\"date\").str.to_datetime(\"%Y-%m-%d\").alias(\"date\"))\n",
    "df\n"
   ]
  },
  {
   "cell_type": "code",
   "execution_count": 21,
   "metadata": {},
   "outputs": [
    {
     "data": {
      "text/plain": [
       "27002"
      ]
     },
     "execution_count": 21,
     "metadata": {},
     "output_type": "execute_result"
    }
   ],
   "source": [
    "df.iloc[0][\"vistors\"]"
   ]
  }
 ],
 "metadata": {
  "kernelspec": {
   "display_name": "lambda",
   "language": "python",
   "name": "python3"
  },
  "language_info": {
   "codemirror_mode": {
    "name": "ipython",
    "version": 3
   },
   "file_extension": ".py",
   "mimetype": "text/x-python",
   "name": "python",
   "nbconvert_exporter": "python",
   "pygments_lexer": "ipython3",
   "version": "3.12.0"
  }
 },
 "nbformat": 4,
 "nbformat_minor": 2
}
