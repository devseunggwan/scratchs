{
 "cells": [
  {
   "cell_type": "code",
   "execution_count": null,
   "metadata": {},
   "outputs": [],
   "source": [
    "%pip install polars pyarrow"
   ]
  },
  {
   "cell_type": "code",
   "execution_count": 64,
   "metadata": {},
   "outputs": [
    {
     "data": {
      "text/plain": [
       "True"
      ]
     },
     "execution_count": 64,
     "metadata": {},
     "output_type": "execute_result"
    }
   ],
   "source": [
    "import asyncio\n",
    "import os\n",
    "import json\n",
    "\n",
    "import pandas as pd\n",
    "import httpx\n",
    "import polars as pl\n",
    "from web3 import Web3\n",
    "from dotenv import load_dotenv\n",
    "\n",
    "load_dotenv()"
   ]
  },
  {
   "cell_type": "code",
   "execution_count": null,
   "metadata": {},
   "outputs": [],
   "source": [
    "df = pl.read_csv(\"./data/whales.csv\")\n",
    "whales = df.select([\"ownerAddress\"])\n",
    "whales"
   ]
  },
  {
   "cell_type": "code",
   "execution_count": null,
   "metadata": {},
   "outputs": [],
   "source": [
    "INFURA_ETH_MAINNET_PROVIDER = os.getenv(\"INFURA_ETH_MAINNET_PROVIDER\")\n",
    "w3 = Web3(Web3.HTTPProvider(INFURA_ETH_MAINNET_PROVIDER))\n",
    "w3.is_connected()"
   ]
  },
  {
   "cell_type": "code",
   "execution_count": null,
   "metadata": {},
   "outputs": [],
   "source": [
    "headers = {\"Content-Type\": \"application/json\"}\n",
    "rpc_json = lambda address: {\n",
    "    \"jsonrpc\": \"2.0\",\n",
    "    \"method\": \"eth_getCode\",\n",
    "    \"params\": [address, \"latest\"],\n",
    "    \"id\": 1\n",
    "}\n",
    "\n",
    "def get_code(address):\n",
    "    try:\n",
    "        rpc = rpc_json(address)\n",
    "        response = httpx.post(INFURA_ETH_MAINNET_PROVIDER, headers=headers, json=rpc)\n",
    "    except:\n",
    "        return None\n",
    "    \n",
    "    return response.json()[\"result\"]"
   ]
  },
  {
   "cell_type": "code",
   "execution_count": null,
   "metadata": {},
   "outputs": [],
   "source": [
    "df.with_columns(\n",
    "    [\n",
    "        pl.col(\"ownerAddress\").map_elements(get_code).alias(\"code\")\n",
    "    ]\n",
    ")\n",
    "df"
   ]
  },
  {
   "cell_type": "code",
   "execution_count": null,
   "metadata": {},
   "outputs": [],
   "source": [
    "df"
   ]
  },
  {
   "cell_type": "code",
   "execution_count": null,
   "metadata": {},
   "outputs": [],
   "source": [
    "async def get_code(address, session):\n",
    "    try:\n",
    "        rpc = rpc_json(address)\n",
    "        response = await session.post(INFURA_ETH_MAINNET_PROVIDER, headers=headers, json=rpc)\n",
    "    except Exception as e:\n",
    "        print(e)\n",
    "        return None\n",
    "    \n",
    "    return response.json()[\"result\"]"
   ]
  },
  {
   "cell_type": "code",
   "execution_count": 73,
   "metadata": {},
   "outputs": [
    {
     "data": {
      "text/html": [
       "<div><style>\n",
       ".dataframe > thead > tr,\n",
       ".dataframe > tbody > tr {\n",
       "  text-align: right;\n",
       "  white-space: pre-wrap;\n",
       "}\n",
       "</style>\n",
       "<small>shape: (5_062, 3)</small><table border=\"1\" class=\"dataframe\"><thead><tr><th>ownerAddress</th><th>tokenCount</th><th>estimated_price</th></tr><tr><td>str</td><td>i64</td><td>f64</td></tr></thead><tbody><tr><td>&quot;0x29469395eAf6…</td><td>4195</td><td>18861.488602</td></tr><tr><td>&quot;0x3eb879cc9a0E…</td><td>5612</td><td>13353.793545</td></tr><tr><td>&quot;0xaAa2DA255DF9…</td><td>1077</td><td>12764.981954</td></tr><tr><td>&quot;0x7285e8F0186a…</td><td>413</td><td>11569.937303</td></tr><tr><td>&quot;0x44d97D22B3d3…</td><td>266</td><td>9837.411983</td></tr><tr><td>&quot;0x1c593c369136…</td><td>562</td><td>8225.904148</td></tr><tr><td>&quot;0xe2A83b15FC30…</td><td>400</td><td>6051.218799</td></tr><tr><td>&quot;0xFA3CE71036dd…</td><td>1818</td><td>6047.266793</td></tr><tr><td>&quot;0x24e267D13314…</td><td>104</td><td>5535.894198</td></tr><tr><td>&quot;0xDBfD76AF2157…</td><td>155</td><td>4342.228286</td></tr><tr><td>&quot;0x50d9090D6ce6…</td><td>813</td><td>4314.74409</td></tr><tr><td>&quot;0x020cA66C30be…</td><td>204</td><td>3499.282622</td></tr><tr><td>&hellip;</td><td>&hellip;</td><td>&hellip;</td></tr><tr><td>&quot;0x86A9BA93565c…</td><td>6</td><td>36.598153</td></tr><tr><td>&quot;0x9213bfa581A7…</td><td>11</td><td>36.589623</td></tr><tr><td>&quot;0x07FE7FD56D89…</td><td>11</td><td>36.589623</td></tr><tr><td>&quot;0x05E2461c8c10…</td><td>52</td><td>36.583638</td></tr><tr><td>&quot;0xC92619F3710E…</td><td>7</td><td>36.578565</td></tr><tr><td>&quot;0x750554C8CD23…</td><td>22</td><td>36.575906</td></tr><tr><td>&quot;0x62261BAE8343…</td><td>8</td><td>36.566984</td></tr><tr><td>&quot;0x33A195fB5567…</td><td>10</td><td>36.561162</td></tr><tr><td>&quot;0xD78cE583e4A1…</td><td>19</td><td>36.554466</td></tr><tr><td>&quot;0x4241B875D35D…</td><td>10</td><td>36.554141</td></tr><tr><td>&quot;0x18aD7A4D1a3a…</td><td>15</td><td>36.551395</td></tr><tr><td>&quot;0x134a7948E136…</td><td>6</td><td>36.549409</td></tr></tbody></table></div>"
      ],
      "text/plain": [
       "shape: (5_062, 3)\n",
       "┌───────────────────────────────────┬────────────┬─────────────────┐\n",
       "│ ownerAddress                      ┆ tokenCount ┆ estimated_price │\n",
       "│ ---                               ┆ ---        ┆ ---             │\n",
       "│ str                               ┆ i64        ┆ f64             │\n",
       "╞═══════════════════════════════════╪════════════╪═════════════════╡\n",
       "│ 0x29469395eAf6f95920E59F858042f0… ┆ 4195       ┆ 18861.488602    │\n",
       "│ 0x3eb879cc9a0Ef4C6f1d870A40ae187… ┆ 5612       ┆ 13353.793545    │\n",
       "│ 0xaAa2DA255DF9Ee74C7075bCB6D81f9… ┆ 1077       ┆ 12764.981954    │\n",
       "│ 0x7285e8F0186a0A41E73ceF7603AD7b… ┆ 413        ┆ 11569.937303    │\n",
       "│ …                                 ┆ …          ┆ …               │\n",
       "│ 0xD78cE583e4A17b0E889797C7193846… ┆ 19         ┆ 36.554466       │\n",
       "│ 0x4241B875D35D9990d29a8F8DCCAf88… ┆ 10         ┆ 36.554141       │\n",
       "│ 0x18aD7A4D1a3a5701EF9B462D10aee7… ┆ 15         ┆ 36.551395       │\n",
       "│ 0x134a7948E1363a95EE17A23C63B927… ┆ 6          ┆ 36.549409       │\n",
       "└───────────────────────────────────┴────────────┴─────────────────┘"
      ]
     },
     "execution_count": 73,
     "metadata": {},
     "output_type": "execute_result"
    }
   ],
   "source": [
    "df"
   ]
  },
  {
   "cell_type": "code",
   "execution_count": null,
   "metadata": {},
   "outputs": [],
   "source": [
    "whales = df[\"ownerAddress\"].to_list()\n",
    "\n",
    "async with httpx.AsyncClient() as session:\n",
    "    whales = await asyncio.gather(*[get_code(address, session) for address in whales])"
   ]
  },
  {
   "cell_type": "code",
   "execution_count": 74,
   "metadata": {},
   "outputs": [
    {
     "data": {
      "text/html": [
       "<div><style>\n",
       ".dataframe > thead > tr,\n",
       ".dataframe > tbody > tr {\n",
       "  text-align: right;\n",
       "  white-space: pre-wrap;\n",
       "}\n",
       "</style>\n",
       "<small>shape: (5_062, 3)</small><table border=\"1\" class=\"dataframe\"><thead><tr><th>owner_address</th><th>code</th><th>estimated_price</th></tr><tr><td>str</td><td>str</td><td>f64</td></tr></thead><tbody><tr><td>&quot;0x29469395eAf6…</td><td>&quot;0x608060405236…</td><td>18861.488602</td></tr><tr><td>&quot;0x3eb879cc9a0E…</td><td>&quot;0x608060405236…</td><td>13353.793545</td></tr><tr><td>&quot;0xaAa2DA255DF9…</td><td>&quot;0x608060405260…</td><td>12764.981954</td></tr><tr><td>&quot;0x7285e8F0186a…</td><td>&quot;0x608060405260…</td><td>11569.937303</td></tr><tr><td>&quot;0x44d97D22B3d3…</td><td>&quot;0x608060405234…</td><td>9837.411983</td></tr><tr><td>&quot;0x1c593c369136…</td><td>&quot;0x&quot;</td><td>8225.904148</td></tr><tr><td>&quot;0xe2A83b15FC30…</td><td>&quot;0x&quot;</td><td>6051.218799</td></tr><tr><td>&quot;0xFA3CE71036dd…</td><td>&quot;0x608060405236…</td><td>6047.266793</td></tr><tr><td>&quot;0x24e267D13314…</td><td>&quot;0x608060405273…</td><td>5535.894198</td></tr><tr><td>&quot;0xDBfD76AF2157…</td><td>&quot;0x608060405260…</td><td>4342.228286</td></tr><tr><td>&quot;0x50d9090D6ce6…</td><td>&quot;0x608060405260…</td><td>4314.74409</td></tr><tr><td>&quot;0x020cA66C30be…</td><td>&quot;0x&quot;</td><td>3499.282622</td></tr><tr><td>&hellip;</td><td>&hellip;</td><td>&hellip;</td></tr><tr><td>&quot;0x86A9BA93565c…</td><td>null</td><td>36.598153</td></tr><tr><td>&quot;0x9213bfa581A7…</td><td>null</td><td>36.589623</td></tr><tr><td>&quot;0x07FE7FD56D89…</td><td>null</td><td>36.589623</td></tr><tr><td>&quot;0x05E2461c8c10…</td><td>null</td><td>36.583638</td></tr><tr><td>&quot;0xC92619F3710E…</td><td>null</td><td>36.578565</td></tr><tr><td>&quot;0x750554C8CD23…</td><td>null</td><td>36.575906</td></tr><tr><td>&quot;0x62261BAE8343…</td><td>null</td><td>36.566984</td></tr><tr><td>&quot;0x33A195fB5567…</td><td>null</td><td>36.561162</td></tr><tr><td>&quot;0xD78cE583e4A1…</td><td>null</td><td>36.554466</td></tr><tr><td>&quot;0x4241B875D35D…</td><td>null</td><td>36.554141</td></tr><tr><td>&quot;0x18aD7A4D1a3a…</td><td>null</td><td>36.551395</td></tr><tr><td>&quot;0x134a7948E136…</td><td>null</td><td>36.549409</td></tr></tbody></table></div>"
      ],
      "text/plain": [
       "shape: (5_062, 3)\n",
       "┌───────────────────────────────────┬───────────────────────────────────┬─────────────────┐\n",
       "│ owner_address                     ┆ code                              ┆ estimated_price │\n",
       "│ ---                               ┆ ---                               ┆ ---             │\n",
       "│ str                               ┆ str                               ┆ f64             │\n",
       "╞═══════════════════════════════════╪═══════════════════════════════════╪═════════════════╡\n",
       "│ 0x29469395eAf6f95920E59F858042f0… ┆ 0x608060405236610013576100116100… ┆ 18861.488602    │\n",
       "│ 0x3eb879cc9a0Ef4C6f1d870A40ae187… ┆ 0x608060405236610013576100116100… ┆ 13353.793545    │\n",
       "│ 0xaAa2DA255DF9Ee74C7075bCB6D81f9… ┆ 0x60806040526004361061004e576000… ┆ 12764.981954    │\n",
       "│ 0x7285e8F0186a0A41E73ceF7603AD7b… ┆ 0x60806040526004361061004e576000… ┆ 11569.937303    │\n",
       "│ …                                 ┆ …                                 ┆ …               │\n",
       "│ 0xD78cE583e4A17b0E889797C7193846… ┆ null                              ┆ 36.554466       │\n",
       "│ 0x4241B875D35D9990d29a8F8DCCAf88… ┆ null                              ┆ 36.554141       │\n",
       "│ 0x18aD7A4D1a3a5701EF9B462D10aee7… ┆ null                              ┆ 36.551395       │\n",
       "│ 0x134a7948E1363a95EE17A23C63B927… ┆ null                              ┆ 36.549409       │\n",
       "└───────────────────────────────────┴───────────────────────────────────┴─────────────────┘"
      ]
     },
     "execution_count": 74,
     "metadata": {},
     "output_type": "execute_result"
    }
   ],
   "source": [
    "new_df = pl.DataFrame({\n",
    "    \"owner_address\": df[\"ownerAddress\"].to_list(),\n",
    "    \"code\": whales,\n",
    "    \"estimated_price\": df[\"estimated_price\"].to_list(),\n",
    "})\n",
    "\n",
    "new_df"
   ]
  },
  {
   "cell_type": "code",
   "execution_count": 75,
   "metadata": {},
   "outputs": [
    {
     "name": "stdout",
     "output_type": "stream",
     "text": [
      "Requirement already satisfied: openpyxl in /Users/user/.pyenv/versions/3.12.0/envs/web3/lib/python3.12/site-packages (3.1.2)\n",
      "Requirement already satisfied: et-xmlfile in /Users/user/.pyenv/versions/3.12.0/envs/web3/lib/python3.12/site-packages (from openpyxl) (1.1.0)\n",
      "\n",
      "\u001b[1m[\u001b[0m\u001b[34;49mnotice\u001b[0m\u001b[1;39;49m]\u001b[0m\u001b[39;49m A new release of pip is available: \u001b[0m\u001b[31;49m23.2.1\u001b[0m\u001b[39;49m -> \u001b[0m\u001b[32;49m23.3.1\u001b[0m\n",
      "\u001b[1m[\u001b[0m\u001b[34;49mnotice\u001b[0m\u001b[1;39;49m]\u001b[0m\u001b[39;49m To update, run: \u001b[0m\u001b[32;49mpip install --upgrade pip\u001b[0m\n",
      "Note: you may need to restart the kernel to use updated packages.\n"
     ]
    }
   ],
   "source": [
    "%pip install openpyxl\n",
    "df_whales = pd.DataFrame(data=new_df.to_dicts())\n",
    "df_whales.to_excel(\"./data/whales_with_code.xlsx\", index=False)"
   ]
  },
  {
   "cell_type": "code",
   "execution_count": null,
   "metadata": {},
   "outputs": [],
   "source": []
  }
 ],
 "metadata": {
  "kernelspec": {
   "display_name": "web3",
   "language": "python",
   "name": "python3"
  },
  "language_info": {
   "codemirror_mode": {
    "name": "ipython",
    "version": 3
   },
   "file_extension": ".py",
   "mimetype": "text/x-python",
   "name": "python",
   "nbconvert_exporter": "python",
   "pygments_lexer": "ipython3",
   "version": "3.12.0"
  }
 },
 "nbformat": 4,
 "nbformat_minor": 2
}
