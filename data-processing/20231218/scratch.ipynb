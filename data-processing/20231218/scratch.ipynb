{
 "cells": [
  {
   "cell_type": "markdown",
   "metadata": {},
   "source": [
    "## 데이터 분석 및 전처리"
   ]
  },
  {
   "cell_type": "code",
   "execution_count": null,
   "metadata": {},
   "outputs": [],
   "source": [
    "import sqlite3\n",
    "import json\n",
    "\n",
    "import pandas as pd"
   ]
  },
  {
   "cell_type": "code",
   "execution_count": null,
   "metadata": {},
   "outputs": [],
   "source": [
    "conn = sqlite3.connect('data/dash.db')\n",
    "cur = conn.cursor()"
   ]
  },
  {
   "cell_type": "code",
   "execution_count": null,
   "metadata": {},
   "outputs": [],
   "source": [
    "df_stats = pd.read_sql_query(\"SELECT * FROM tb_nfttown\", conn)\n",
    "df_discord = pd.read_sql_query(\"SELECT * FROM tb_discord_statistics\", conn)\n",
    "df_twitter = pd.read_sql_query(\"SELECT * FROM tb_twitter_statistics\", conn)\n",
    "df_youtube = pd.read_sql_query(\"SELECT * FROM tb_youtube_statistics\", conn)"
   ]
  },
  {
   "cell_type": "code",
   "execution_count": null,
   "metadata": {},
   "outputs": [],
   "source": [
    "df_stats"
   ]
  },
  {
   "cell_type": "code",
   "execution_count": null,
   "metadata": {},
   "outputs": [],
   "source": [
    "df_stats.sort_values(by=[\"checkdate\"], ascending=True, inplace=True)"
   ]
  },
  {
   "cell_type": "code",
   "execution_count": null,
   "metadata": {},
   "outputs": [],
   "source": [
    "del df_stats[\"twitter_followers_count\"], df_stats[\"discord_member_count\"], df_stats[\"brezel_count\"], df_stats[\"totalbrezel_count\"], df_stats[\"insta_member_count\"]"
   ]
  },
  {
   "cell_type": "code",
   "execution_count": null,
   "metadata": {},
   "outputs": [],
   "source": [
    "df_stats.rename(\n",
    "    columns={\n",
    "        \"checkdate\": \"check_date\",\n",
    "        \"newUsers\": \"new_users\",\n",
    "        \"active1DayUsers\": \"active_1day_users\",\n",
    "        \"active7DayUsers\": \"active_7day_users\",\n",
    "        \"active28DayUsers\": \"active_28day_users\",\n",
    "        \"totalUsers\": \"total_users\",\n",
    "        \"totalTownUsers\": \"total_town_users\",\n",
    "        \"newTownUsers\": \"new_town_users\",\n",
    "    },\n",
    "    inplace=True,\n",
    ")"
   ]
  },
  {
   "cell_type": "code",
   "execution_count": null,
   "metadata": {},
   "outputs": [],
   "source": [
    "df_stats[\"check_date\"] = pd.to_datetime(df_stats[\"check_date\"], format=\"%Y%m%d\").dt.strftime(\"%Y-%m-%d\")\n"
   ]
  },
  {
   "cell_type": "code",
   "execution_count": null,
   "metadata": {},
   "outputs": [],
   "source": [
    "df_stats"
   ]
  },
  {
   "cell_type": "code",
   "execution_count": null,
   "metadata": {},
   "outputs": [],
   "source": [
    "df_discord.sort_values(by=[\"checkdate\"], ascending=True, inplace=True)\n",
    "df_discord[\"checkdate\"] = pd.to_datetime(df_discord[\"checkdate\"], format=\"%Y%m%d\").dt.strftime(\"%Y-%m-%d\")\n",
    "df_discord.rename(\n",
    "    columns={\n",
    "        \"checkdate\": \"check_date\",\n",
    "    },\n",
    "    inplace=True,\n",
    "\n",
    ")\n",
    "df_discord[\"members\"] = df_discord[\"members\"].astype(int)\n",
    "df_discord[\"online_members\"] = df_discord[\"online_members\"].astype(int)\n",
    "\n",
    "df_discord"
   ]
  },
  {
   "cell_type": "code",
   "execution_count": null,
   "metadata": {},
   "outputs": [],
   "source": [
    "df_twitter.sort_values(by=[\"checkdate\"], ascending=True, inplace=True)\n",
    "df_twitter[\"checkdate\"] = pd.to_datetime(df_twitter[\"checkdate\"], format=\"%Y%m%d\")\n",
    "df_twitter"
   ]
  },
  {
   "cell_type": "code",
   "execution_count": null,
   "metadata": {},
   "outputs": [],
   "source": [
    "df_youtube.sort_values(by=[\"checkdate\"], ascending=True, inplace=True)\n",
    "df_youtube[\"checkdate\"] = pd.to_datetime(df_youtube[\"checkdate\"], format=\"%Y%m%d\").dt.strftime(\"%Y-%m-%d\")\n",
    "del df_youtube[\"outdegree\"]\n",
    "\n",
    "df_youtube.rename(\n",
    "    columns={\n",
    "        \"checkdate\": \"check_date\",\n",
    "        \"indegree\": \"subscriber\",\n",
    "    },\n",
    "    inplace=True,\n",
    ")\n",
    "\n",
    "df_youtube"
   ]
  },
  {
   "cell_type": "code",
   "execution_count": null,
   "metadata": {},
   "outputs": [],
   "source": [
    "df_stats.to_csv(\"output/csv/nfttown_v1.csv\", index=False)\n",
    "df_discord.to_csv(\"output/csv/discord_v1.csv\", index=False)\n",
    "df_twitter.to_csv(\"output/csv/twitter_v1.csv\", index=False)\n",
    "df_youtube.to_csv(\"output/csv/youtube_v1.csv\", index=False)"
   ]
  },
  {
   "cell_type": "markdown",
   "metadata": {},
   "source": [
    "## 적재 데이터 변환"
   ]
  },
  {
   "cell_type": "code",
   "execution_count": null,
   "metadata": {},
   "outputs": [],
   "source": [
    "df_ga = df_stats[['check_date', 'new_users', 'active_1day_users', 'active_7day_users', 'active_28day_users', 'total_users']]\n",
    "df_ga"
   ]
  },
  {
   "cell_type": "code",
   "execution_count": null,
   "metadata": {},
   "outputs": [],
   "source": [
    "df_ga[\"active_1day_users\"] = df_ga[\"active_1day_users\"].astype(int)\n",
    "df_ga[\"active_7day_users\"] = df_ga[\"active_7day_users\"].astype(int)\n",
    "df_ga[\"active_28day_users\"] = df_ga[\"active_28day_users\"].astype(int)\n",
    "df_ga[\"total_users\"] = df_ga[\"total_users\"].astype(int)\n",
    "df_ga[\"new_users\"] = df_ga[\"new_users\"].astype(int)"
   ]
  },
  {
   "cell_type": "code",
   "execution_count": null,
   "metadata": {},
   "outputs": [],
   "source": [
    "for item in df_ga.to_dict(orient='records'):    \n",
    "    with open(f\"output/google_analytics/{item[\"check_date\"]}.json\", \"w\") as f:\n",
    "        json.dump(item, f, indent=4)"
   ]
  },
  {
   "cell_type": "code",
   "execution_count": null,
   "metadata": {},
   "outputs": [],
   "source": [
    "df_town = df_stats[['check_date', 'total_town_users', 'new_town_users']]\n",
    "df_town[\"total_town_users\"] = df_town[\"total_town_users\"].astype(int)\n",
    "df_town[\"new_town_users\"] = df_town[\"new_town_users\"].astype(int)"
   ]
  },
  {
   "cell_type": "code",
   "execution_count": null,
   "metadata": {},
   "outputs": [],
   "source": [
    "df_town"
   ]
  },
  {
   "cell_type": "code",
   "execution_count": null,
   "metadata": {},
   "outputs": [],
   "source": [
    "import seaborn as sns\n",
    "\n",
    "sns.set_theme(style=\"whitegrid\")\n",
    "sns.lineplot(data=df_town, x=\"check_date\", y=\"total_town_users\")"
   ]
  },
  {
   "cell_type": "code",
   "execution_count": null,
   "metadata": {},
   "outputs": [],
   "source": [
    "for item in df_town.to_dict(orient='records'):    \n",
    "    with open(f\"output/town_users/{item[\"check_date\"]}.json\", \"w\") as f:\n",
    "        json.dump(item, f, indent=4)"
   ]
  },
  {
   "cell_type": "code",
   "execution_count": null,
   "metadata": {},
   "outputs": [],
   "source": [
    "for item in df_youtube.to_dict(orient='records'):    \n",
    "    with open(f\"output/youtube/{item[\"check_date\"]}.json\", \"w\") as f:\n",
    "        json.dump(item, f, indent=4)"
   ]
  },
  {
   "cell_type": "code",
   "execution_count": null,
   "metadata": {},
   "outputs": [],
   "source": [
    "for item in df_discord.to_dict(orient='records'):    \n",
    "    with open(f\"output/discord/{item[\"check_date\"]}.json\", \"w\") as f:\n",
    "        json.dump(item, f, indent=4)"
   ]
  }
 ],
 "metadata": {
  "kernelspec": {
   "display_name": "web3",
   "language": "python",
   "name": "python3"
  },
  "language_info": {
   "codemirror_mode": {
    "name": "ipython",
    "version": 3
   },
   "file_extension": ".py",
   "mimetype": "text/x-python",
   "name": "python",
   "nbconvert_exporter": "python",
   "pygments_lexer": "ipython3",
   "version": "3.12.0"
  }
 },
 "nbformat": 4,
 "nbformat_minor": 2
}
