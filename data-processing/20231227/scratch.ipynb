{
 "cells": [
  {
   "cell_type": "code",
   "execution_count": 6,
   "metadata": {},
   "outputs": [],
   "source": [
    "import imghdr"
   ]
  },
  {
   "cell_type": "code",
   "execution_count": 7,
   "metadata": {},
   "outputs": [],
   "source": [
    "import os\n",
    "import asyncio\n",
    "\n",
    "import aiohttp\n",
    "import aiofiles\n",
    "# from PIL import Image"
   ]
  },
  {
   "cell_type": "code",
   "execution_count": 15,
   "metadata": {},
   "outputs": [],
   "source": [
    "path = \"./data/ab68d044308b6b2d165a0d54fed09a731ab7d83b79478ae981a86f885b4dd40athum.png\"\n",
    "params = {\n",
    "    \"image_url\": \"https://img.reservoir.tools/images/v2/mainnet/7%2FrdF%2Fe%2F0iXY8HduhRCoIehkmFeXPeOQQFbbmIPfjCbTaDbWWzqnDTpIdbTWnj1N0uDYz9swEsmvbKIv8mzseg4oPapNMLVC9Ah%2BQ3wfjobuf9ma8Rm19moEDC53raydLEiQTpEpNcwZP5gVr3vyJ%2FYd5gVlt7nMjH%2FOm%2BmzkfE%3D?width=250\",\n",
    "    \"network\": \"ethereum\",\n",
    "    \"collection_id\": \"0x8c578a6e31fc94b1facd58202be53a8385bacbf7\",\n",
    "    \"token_id\": \"18805\"\n",
    "}\n",
    "\n",
    "# im = Image.open(path)"
   ]
  },
  {
   "cell_type": "code",
   "execution_count": 19,
   "metadata": {},
   "outputs": [],
   "source": [
    "async def image_download(session,url):\n",
    "    arr = url.split('||')\n",
    "    url = arr[0]\n",
    "   \n",
    "    image_name = f'{arr[1]}||{arr[2]}||{arr[3]}||{arr[4]}' \n",
    "    image_path = './data'\n",
    "  \n",
    "    async with session.get(url,timeout=10) as response: \n",
    "        if response.status == 200:\n",
    "            async with aiofiles.open(os.path.join(image_path, image_name), mode=\"wb\") as file:\n",
    "                img_data = await response.read()                \n",
    "                await file.write(img_data)\n",
    "\n",
    "async def images(urls):\n",
    "    async with aiohttp.ClientSession(connector=aiohttp.TCPConnector(ssl=False)) as session:    \n",
    "        await asyncio.gather(*[image_download(session, url) for url in urls])\n",
    "        \n",
    "def get_images(urls):\n",
    "    asyncio.run(images(urls))\n",
    "    return True"
   ]
  },
  {
   "cell_type": "code",
   "execution_count": 20,
   "metadata": {},
   "outputs": [
    {
     "name": "stdout",
     "output_type": "stream",
     "text": [
      "<svg xmlns=\"http://www.w3.org/2000/svg\" preserveAspectRatio=\"xMinYMin meet\" viewBox=\"0 0 350 350\"> <style>.base { fill: white; font-family: serif; font-size: 14px; }</style><rect width=\"100%\" height=\"100%\" fill=\"black\" /><text x=\"100\" y=\"100\" class=\"base\">{</text><text x=\"130\" y=\"130\" class=\"base\">\"p\":\"ins-20\",</text><text x=\"130\" y=\"160\" class=\"base\">\"op\":\"mint\",</text><text x=\"130\" y=\"190\" class=\"base\">\"tick\":\"insc\",</text><text x=\"130\" y=\"220\" class=\"base\">\"amt\":1000</text><text x=\"100\" y=\"250\" class=\"base\">}</text></svg>\n",
      "None\n"
     ]
    }
   ],
   "source": [
    "urls = [\n",
    "    f\"{params['image_url']}||{params['network']}||{params['collection_id']}||{params['token_id']}||{params['extension']}\"\n",
    "]\n",
    "\n",
    "\n",
    "await images(urls)"
   ]
  },
  {
   "cell_type": "code",
   "execution_count": 24,
   "metadata": {},
   "outputs": [
    {
     "data": {
      "text/plain": [
       "'gif'"
      ]
     },
     "execution_count": 24,
     "metadata": {},
     "output_type": "execute_result"
    }
   ],
   "source": [
    "imghdr.what(\"./data/e7ad2a2f519ab89ac1b67e9dc151a8eedf55425f63c3490de8491deaa9422d48.png\")"
   ]
  },
  {
   "cell_type": "code",
   "execution_count": 25,
   "metadata": {},
   "outputs": [
    {
     "data": {
      "text/plain": [
       "'jpeg'"
      ]
     },
     "execution_count": 25,
     "metadata": {},
     "output_type": "execute_result"
    }
   ],
   "source": [
    "imghdr.what(\"./data/neom-XDtzu1D2P8c-unsplash.jpg\")"
   ]
  },
  {
   "cell_type": "code",
   "execution_count": 37,
   "metadata": {},
   "outputs": [],
   "source": [
    "from xml.etree import ElementTree as ET\n",
    "\n",
    "tree = ET.parse('./data/ab68d044308b6b2d165a0d54fed09a731ab7d83b79478ae981a86f885b4dd40athum.svg')"
   ]
  },
  {
   "cell_type": "code",
   "execution_count": 38,
   "metadata": {},
   "outputs": [
    {
     "data": {
      "text/plain": [
       "\"<Element '{http://www.w3.org/2000/svg}svg' at 0x1429aca90>\""
      ]
     },
     "execution_count": 38,
     "metadata": {},
     "output_type": "execute_result"
    }
   ],
   "source": [
    "tree.getroot().__str__()"
   ]
  },
  {
   "cell_type": "code",
   "execution_count": 39,
   "metadata": {},
   "outputs": [
    {
     "data": {
      "text/plain": [
       "True"
      ]
     },
     "execution_count": 39,
     "metadata": {},
     "output_type": "execute_result"
    }
   ],
   "source": [
    "\"svg\" in tree.getroot().__str__()"
   ]
  },
  {
   "cell_type": "code",
   "execution_count": 40,
   "metadata": {},
   "outputs": [
    {
     "ename": "ParseError",
     "evalue": "not well-formed (invalid token): line 1, column 0 (<string>)",
     "output_type": "error",
     "traceback": [
      "Traceback \u001b[0;36m(most recent call last)\u001b[0m:\n",
      "\u001b[0m  File \u001b[1;32m~/.pyenv/versions/3.12.0/envs/web3/lib/python3.12/site-packages/IPython/core/interactiveshell.py:3550\u001b[0m in \u001b[1;35mrun_code\u001b[0m\n    exec(code_obj, self.user_global_ns, self.user_ns)\u001b[0m\n",
      "\u001b[0m  Cell \u001b[1;32mIn[40], line 1\u001b[0m\n    ET.parse(\"./data/neom-XDtzu1D2P8c-unsplash.jpeg\")\u001b[0m\n",
      "\u001b[0m  File \u001b[1;32m~/.pyenv/versions/3.12.0/lib/python3.12/xml/etree/ElementTree.py:1203\u001b[0m in \u001b[1;35mparse\u001b[0m\n    tree.parse(source, parser)\u001b[0m\n",
      "\u001b[0;36m  File \u001b[0;32m~/.pyenv/versions/3.12.0/lib/python3.12/xml/etree/ElementTree.py:568\u001b[0;36m in \u001b[0;35mparse\u001b[0;36m\n\u001b[0;31m    self._root = parser._parse_whole(source)\u001b[0;36m\n",
      "\u001b[0;36m  File \u001b[0;32m<string>\u001b[0;36m\u001b[0m\n\u001b[0;31mParseError\u001b[0m\u001b[0;31m:\u001b[0m not well-formed (invalid token): line 1, column 0\n"
     ]
    }
   ],
   "source": [
    "ET.parse(\"./data/neom-XDtzu1D2P8c-unsplash.jpeg\")"
   ]
  }
 ],
 "metadata": {
  "kernelspec": {
   "display_name": "web3",
   "language": "python",
   "name": "python3"
  },
  "language_info": {
   "codemirror_mode": {
    "name": "ipython",
    "version": 3
   },
   "file_extension": ".py",
   "mimetype": "text/x-python",
   "name": "python",
   "nbconvert_exporter": "python",
   "pygments_lexer": "ipython3",
   "version": "3.12.0"
  }
 },
 "nbformat": 4,
 "nbformat_minor": 2
}
