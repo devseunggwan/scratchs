{
 "cells": [
  {
   "cell_type": "markdown",
   "metadata": {},
   "source": [
    "## 라이브러리 로드"
   ]
  },
  {
   "cell_type": "code",
   "execution_count": null,
   "metadata": {},
   "outputs": [],
   "source": [
    "%pip install boto3"
   ]
  },
  {
   "cell_type": "code",
   "execution_count": null,
   "metadata": {},
   "outputs": [],
   "source": [
    "%pip install polars"
   ]
  },
  {
   "cell_type": "code",
   "execution_count": null,
   "metadata": {},
   "outputs": [],
   "source": [
    "%pip install python-dotenv"
   ]
  },
  {
   "cell_type": "code",
   "execution_count": null,
   "metadata": {},
   "outputs": [],
   "source": [
    "import os\n",
    "import sys\n",
    "\n",
    "import boto3\n",
    "import polars as pl\n",
    "from dotenv import load_dotenv\n",
    "\n",
    "import matplotlib\n",
    "import matplotlib.pyplot as plt\n",
    "import matplotlib.font_manager as fm\n",
    "\n",
    "%matplotlib inline\n",
    "\n",
    "import seaborn as sns\n",
    "\n",
    "sns.set_style(\"whitegrid\")\n",
    "\n",
    "load_dotenv()"
   ]
  },
  {
   "cell_type": "code",
   "execution_count": null,
   "metadata": {},
   "outputs": [],
   "source": [
    "# 한글 흐림현상 방지\n",
    "%config InlineBackend.figure_format = 'retina'\n",
    "\n",
    "font_path = \"/System/Library/Fonts/Supplemental/AppleGothic.ttf\"\n",
    "font = fm.FontProperties(fname=font_path).get_name()\n",
    "plt.rc(\"font\", family=font)\n",
    "\n",
    "\n",
    "matplotlib.rcParams[\"axes.unicode_minus\"] = False"
   ]
  },
  {
   "cell_type": "markdown",
   "metadata": {},
   "source": [
    "## 데이터 로드"
   ]
  },
  {
   "cell_type": "code",
   "execution_count": null,
   "metadata": {},
   "outputs": [],
   "source": [
    "s3 = boto3.client(\n",
    "    \"s3\",\n",
    "    aws_access_key_id=os.getenv(\"AWS_ACCESS_KEY_ID\"),\n",
    "    aws_secret_access_key=os.getenv(\"AWS_SECRET_ACCESS_KEY\"),\n",
    "    region_name=\"ap-northeast-2\",\n",
    ")\n",
    "\n",
    "BUCKET_NAME = os.getenv(\"BUCKET_NAME\")\n",
    "PREP_PATH = os.getenv(\"PREP_PATH\")\n",
    "TABLE_NAME = os.getenv(\"TABLE_NAME\")"
   ]
  },
  {
   "cell_type": "markdown",
   "metadata": {},
   "source": [
    "## 데이터 전처리"
   ]
  },
  {
   "cell_type": "code",
   "execution_count": null,
   "metadata": {},
   "outputs": [],
   "source": [
    "for month in [\"07\", \"08\", \"09\", \"10\", \"11\", \"12\"]:\n",
    "    s3.download_file(\n",
    "        BUCKET_NAME,\n",
    "        os.path.join(PREP_PATH, \"2023\", month, f\"{TABLE_NAME}.csv\"),\n",
    "        os.path.join(\"data\", f\"{TABLE_NAME}_2023{month}.csv\"),\n",
    "    )\n",
    "\n",
    "    df = pl.read_csv(os.path.join(\"data\", f\"{TABLE_NAME}_2023{month}.csv\"))\n",
    "\n",
    "    df = df.with_columns(pl.lit(2023).alias(\"YEAR\"), pl.lit(int(month)).alias(\"MONTH\"))\n",
    "\n",
    "    df = df.rename(\n",
    "        {\n",
    "            \"재결제1회완납건수_duplicated_0\": \"재결제2회완납건수\",\n",
    "            \"재결제1회미납건수_duplicated_0\": \"재결제2회미납건수\",\n",
    "            \"재결제1회완납건수_duplicated_1\": \"재결제3회완납건수\",\n",
    "        }\n",
    "    )\n",
    "\n",
    "    df.write_csv(os.path.join(\"prep\", f\"{TABLE_NAME}_2023{month}.csv\"))"
   ]
  },
  {
   "cell_type": "code",
   "execution_count": null,
   "metadata": {},
   "outputs": [],
   "source": []
  },
  {
   "cell_type": "code",
   "execution_count": null,
   "metadata": {},
   "outputs": [],
   "source": [
    "with open(\"data/CMS_CUST_LEGACY_TABLE.csv\", \"r\") as f:\n",
    "    lines = [line.strip().split(\",\") for line in f.readlines()]\n",
    "\n",
    "lines"
   ]
  },
  {
   "cell_type": "code",
   "execution_count": null,
   "metadata": {},
   "outputs": [],
   "source": [
    "preplines = [line for line in lines if len(line) > 17]\n",
    "preplines"
   ]
  },
  {
   "cell_type": "code",
   "execution_count": null,
   "metadata": {},
   "outputs": [],
   "source": [
    "[print(line[6:-10]) for line in preplines]"
   ]
  },
  {
   "cell_type": "code",
   "execution_count": null,
   "metadata": {},
   "outputs": [],
   "source": [
    "def prep_line(line):\n",
    "    if len(line) > 17:\n",
    "        for itr, col in enumerate(line):\n",
    "            # 서비스 이용 목적에 쉼표 들어간 경우 찾기\n",
    "            if \"/\" in col:\n",
    "                # 업체명에 쉼표 들어간 경우 찾기\n",
    "                if len(line[itr + 1 : -10]) < 2:\n",
    "                    print(line[2:-14])\n",
    "                    line = line[:2] + [f'{\",\".join(line[2:-14])}'] + line[-14:]\n",
    "                else:\n",
    "                    print(line[itr + 1 : -10])\n",
    "                    line = (\n",
    "                        line[: itr + 1]\n",
    "                        + [f'{\",\".join(line[itr + 1 : -10])}']\n",
    "                        + line[-10:]\n",
    "                    )\n",
    "                break\n",
    "\n",
    "    return line"
   ]
  },
  {
   "cell_type": "code",
   "execution_count": null,
   "metadata": {},
   "outputs": [],
   "source": [
    "new_lines = [prep_line(line) for line in lines]"
   ]
  },
  {
   "cell_type": "code",
   "execution_count": null,
   "metadata": {},
   "outputs": [],
   "source": [
    "[print(line) for line in new_lines if len(line) > 17]"
   ]
  },
  {
   "cell_type": "code",
   "execution_count": null,
   "metadata": {},
   "outputs": [],
   "source": [
    "lines"
   ]
  },
  {
   "cell_type": "code",
   "execution_count": null,
   "metadata": {},
   "outputs": [],
   "source": [
    "import csv\n",
    "\n",
    "\n",
    "def list_to_csv(data, filename):\n",
    "    with open(filename, \"w\", newline=\"\") as file:\n",
    "        writer = csv.writer(file)\n",
    "        writer.writerows(data)"
   ]
  },
  {
   "cell_type": "code",
   "execution_count": null,
   "metadata": {},
   "outputs": [],
   "source": [
    "list_to_csv(new_lines, \"prep/CMS_CUST_LEGACY_TABLE_v2.csv\")"
   ]
  },
  {
   "cell_type": "code",
   "execution_count": null,
   "metadata": {},
   "outputs": [],
   "source": [
    "df = pl.read_csv(os.path.join(\"prep\", \"CMS_CUST_LEGACY_TABLE_v2.csv\"))\n",
    "# df.write_csv(os.path.join(\"prep\", \"CMS_CUST_LEGACY_TABLE.csv\"))"
   ]
  },
  {
   "cell_type": "code",
   "execution_count": null,
   "metadata": {},
   "outputs": [],
   "source": [
    "df = df.to_pandas()\n",
    "df"
   ]
  },
  {
   "cell_type": "code",
   "execution_count": null,
   "metadata": {},
   "outputs": [],
   "source": [
    "df.replace(\"null\", None)"
   ]
  },
  {
   "cell_type": "code",
   "execution_count": null,
   "metadata": {},
   "outputs": [],
   "source": [
    "df.to_csv(os.path.join(\"prep\", \"CMS_CUST_LEGACY_TABLE_v3.csv\"), index=False)"
   ]
  },
  {
   "cell_type": "markdown",
   "metadata": {},
   "source": [
    "## 데이터 분석"
   ]
  },
  {
   "cell_type": "code",
   "execution_count": null,
   "metadata": {},
   "outputs": [],
   "source": [
    "df = pl.concat(\n",
    "    [\n",
    "        pl.read_csv(os.path.join(\"prep\", f\"{TABLE_NAME}_2023{month}.csv\"))\n",
    "        for month in [\"07\", \"08\", \"09\", \"10\", \"11\", \"12\"]\n",
    "    ]\n",
    ")"
   ]
  },
  {
   "cell_type": "code",
   "execution_count": null,
   "metadata": {},
   "outputs": [],
   "source": [
    "df"
   ]
  },
  {
   "cell_type": "code",
   "execution_count": null,
   "metadata": {},
   "outputs": [],
   "source": [
    "df = df.with_columns(\n",
    "    pl.col(\"세금계산서사용여부\")\n",
    "    .replace({\"Y\": 1, \"N\": 0})\n",
    "    .cast(int)\n",
    "    .cast(bool)\n",
    "    .alias(\"세금계산서사용여부\")\n",
    ")\n",
    "df = df.with_columns(\n",
    "    pl.col(\"재결제자동처리여부\")\n",
    "    .replace({\"Y\": 1, \"N\": 0})\n",
    "    .cast(int)\n",
    "    .cast(bool)\n",
    "    .alias(\"재결제자동처리여부\")\n",
    ")"
   ]
  },
  {
   "cell_type": "code",
   "execution_count": null,
   "metadata": {},
   "outputs": [],
   "source": [
    "df"
   ]
  },
  {
   "cell_type": "code",
   "execution_count": null,
   "metadata": {},
   "outputs": [],
   "source": [
    "df = df.drop(\"YEAR\")\n",
    "df = df.drop(\"MONTH\")"
   ]
  }
 ],
 "metadata": {
  "kernelspec": {
   "display_name": "lambda",
   "language": "python",
   "name": "python3"
  },
  "language_info": {
   "codemirror_mode": {
    "name": "ipython",
    "version": 3
   },
   "file_extension": ".py",
   "mimetype": "text/x-python",
   "name": "python",
   "nbconvert_exporter": "python",
   "pygments_lexer": "ipython3",
   "version": "3.11.5"
  }
 },
 "nbformat": 4,
 "nbformat_minor": 2
}
