{
 "cells": [
  {
   "cell_type": "code",
   "execution_count": null,
   "metadata": {},
   "outputs": [],
   "source": [
    "import json\n",
    "from datetime import datetime, timedelta\n",
    "\n",
    "import polars as pl\n"
   ]
  },
  {
   "cell_type": "code",
   "execution_count": null,
   "metadata": {},
   "outputs": [],
   "source": [
    "df = pl.read_csv(\"data/original/nfttown_v1.csv\")\n",
    "df"
   ]
  },
  {
   "cell_type": "code",
   "execution_count": null,
   "metadata": {},
   "outputs": [],
   "source": [
    "df = df.with_columns(pl.col(\"check_date\").str.to_datetime(\"%Y-%m-%d\")).sort(\"check_date\")\n",
    "df"
   ]
  },
  {
   "cell_type": "code",
   "execution_count": null,
   "metadata": {},
   "outputs": [],
   "source": [
    "max_day = df.select(pl.col(\"check_date\")).max()[\"check_date\"][0]\n",
    "min_day = df.select(pl.col(\"check_date\")).min()[\"check_date\"][0]\n",
    "\n",
    "print(f\"min_day: {min_day}\")\n",
    "print(f\"max_day: {max_day}\")"
   ]
  },
  {
   "cell_type": "code",
   "execution_count": null,
   "metadata": {},
   "outputs": [],
   "source": [
    "dict_df = df.to_dict(as_series=False)\n",
    "dict_df"
   ]
  },
  {
   "cell_type": "code",
   "execution_count": null,
   "metadata": {},
   "outputs": [],
   "source": [
    "all_dates = [min_day + timedelta(days=i) for i in range((max_day - min_day).days + 1)]\n",
    "missing_dates = set(all_dates) - set(dict_df[\"check_date\"])\n",
    "missing_dates"
   ]
  },
  {
   "cell_type": "code",
   "execution_count": null,
   "metadata": {},
   "outputs": [],
   "source": []
  },
  {
   "cell_type": "code",
   "execution_count": null,
   "metadata": {},
   "outputs": [],
   "source": [
    "df_tweets = pl.read_csv(\"./data/original/twitter_v1.csv\").to_dict(as_series=False)\n",
    "\n",
    "list_check_date = df_tweets[\"checkdate\"]\n",
    "list_followers = df_tweets[\"indegree\"]"
   ]
  },
  {
   "cell_type": "code",
   "execution_count": null,
   "metadata": {},
   "outputs": [],
   "source": [
    "list_check_date = [datetime.strptime(str(date), \"%Y%m%d\").strftime(\"%Y-%m-%d\") for date in list_check_date]\n",
    "list_check_date"
   ]
  },
  {
   "cell_type": "code",
   "execution_count": null,
   "metadata": {},
   "outputs": [],
   "source": [
    "def write_json(data, filename=\"data.json\"):\n",
    "    with open(filename, \"w\") as f:\n",
    "        json.dump(data, f, indent=4)"
   ]
  },
  {
   "cell_type": "code",
   "execution_count": null,
   "metadata": {},
   "outputs": [],
   "source": [
    "for check_date, follower in zip(list_check_date, list_followers):\n",
    "    template = {\n",
    "        \"image\": \"https://pbs.twimg.com/profile_images/1582612357599047680/hEPSJV1e_400x400.jpg\",\n",
    "        \"name\": \"NFTtown\",\n",
    "        \"username\": \"@_NFTtown_\",\n",
    "        \"id\": 1541994054246084600,\n",
    "        \"bio\": \"Discover, Learn and Play NFT town is the best place where you can get all the information about NFT.\",\n",
    "        \"location\": \"\",\n",
    "        \"website\": \"https://nfttown.io/\",\n",
    "        \"joined\": \"3:57 AM - 29 Jun 2022\",\n",
    "        \"stats\": {\n",
    "            \"tweets\": 0,\n",
    "            \"following\": 0,\n",
    "            \"followers\": follower,\n",
    "            \"likes\": 0,\n",
    "            \"media\": 0\n",
    "        },\n",
    "        \"date\": check_date\n",
    "    }\n",
    "    \n",
    "    write_json(template, f\"./data/output/twitter/{check_date}.json\")"
   ]
  },
  {
   "cell_type": "code",
   "execution_count": null,
   "metadata": {},
   "outputs": [],
   "source": [
    "start_date = datetime.strptime(\"2023-08-01\", \"%Y-%m-%d\")\n",
    "end_date = datetime.strptime(\"2024-01-08\", \"%Y-%m-%d\")\n",
    "\n",
    "start = 6623\n",
    "end = 6022"
   ]
  },
  {
   "cell_type": "code",
   "execution_count": null,
   "metadata": {},
   "outputs": [],
   "source": [
    "start - end"
   ]
  },
  {
   "cell_type": "code",
   "execution_count": null,
   "metadata": {},
   "outputs": [],
   "source": [
    "diff = 601\n",
    "days = 160\n",
    "\n",
    "cnt = 0\n",
    "while start_date < end_date:\n",
    "    date = start_date.strftime(\"%Y-%m-%d\")\n",
    "    \n",
    "    template = {\n",
    "        \"image\": \"https://pbs.twimg.com/profile_images/1582612357599047680/hEPSJV1e_400x400.jpg\",\n",
    "        \"name\": \"NFTtown\",\n",
    "        \"username\": \"@_NFTtown_\",\n",
    "        \"id\": 1541994054246084600,\n",
    "        \"bio\": \"Discover, Learn and Play NFT town is the best place where you can get all the information about NFT.\",\n",
    "        \"location\": \"\",\n",
    "        \"website\": \"https://nfttown.io/\",\n",
    "        \"joined\": \"3:57 AM - 29 Jun 2022\",\n",
    "        \"stats\": {\n",
    "            \"tweets\": 0,\n",
    "            \"following\": 0,\n",
    "            \"followers\": int(start - ((diff / days) * cnt)),\n",
    "            \"likes\": 0,\n",
    "            \"media\": 0\n",
    "        },\n",
    "        \"date\": date\n",
    "    }\n",
    "    \n",
    "    cnt += 1\n",
    "    write_json(template, f\"./data/output/temp/{date}.json\")\n",
    "    start_date = start_date + timedelta(days=1)\n"
   ]
  }
 ],
 "metadata": {
  "kernelspec": {
   "display_name": "web3",
   "language": "python",
   "name": "python3"
  },
  "language_info": {
   "codemirror_mode": {
    "name": "ipython",
    "version": 3
   },
   "file_extension": ".py",
   "mimetype": "text/x-python",
   "name": "python",
   "nbconvert_exporter": "python",
   "pygments_lexer": "ipython3",
   "version": "3.12.0"
  }
 },
 "nbformat": 4,
 "nbformat_minor": 2
}
