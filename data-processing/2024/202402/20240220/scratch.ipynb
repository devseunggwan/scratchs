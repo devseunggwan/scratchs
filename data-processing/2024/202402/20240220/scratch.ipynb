{
 "cells": [
  {
   "cell_type": "markdown",
   "metadata": {},
   "source": [
    "## PlayStore"
   ]
  },
  {
   "cell_type": "markdown",
   "metadata": {},
   "source": [
    "### HMAC 키를 사용하여 Boto3로 엑세스"
   ]
  },
  {
   "cell_type": "code",
   "execution_count": null,
   "metadata": {},
   "outputs": [],
   "source": [
    "# USE HMAC KEY TO ACCESS\n",
    "\n",
    "import os\n",
    "import boto3\n",
    "from dotenv import load_dotenv\n",
    "\n",
    "load_dotenv()\n",
    "\n",
    "GOOGLE_ACCESS_KEY_ID = os.environ.get(\"GOOGLE_ACCESS_KEY_ID\")\n",
    "GOOGLE_ACCESS_KEY_SECRET = os.environ.get(\"GOOGLE_ACCESS_KEY_SECRET\")\n",
    "\n",
    "client = boto3.client(\n",
    "    \"s3\",\n",
    "    region_name=\"auto\",\n",
    "    endpoint_url=\"https://storage.googleapis.com\",\n",
    "    aws_access_key_id=GOOGLE_ACCESS_KEY_ID,\n",
    "    aws_secret_access_key=GOOGLE_ACCESS_KEY_SECRET,\n",
    "    config=boto3.session.Config(signature_version=\"s3v4\"),\n",
    ")\n",
    "\n",
    "response = client.list_buckets()"
   ]
  },
  {
   "cell_type": "markdown",
   "metadata": {},
   "source": [
    "### google-cloud-stroage 를 사용한 접근 방식"
   ]
  },
  {
   "cell_type": "code",
   "execution_count": null,
   "metadata": {},
   "outputs": [],
   "source": [
    "import os\n",
    "import shutil\n",
    "\n",
    "from google.cloud import storage\n",
    "\n",
    "os.environ[\"GOOGLE_APPLICATION_CREDENTIALS\"] = os.getenv(\"CLIENT_SECRETS\")\n",
    "storage_client = storage.Client()\n",
    "\n",
    "bucket_name = os.getenv(\"BUCKET_NAME\")\n",
    "path_download = \"./data/raw/playstore\""
   ]
  },
  {
   "cell_type": "code",
   "execution_count": null,
   "metadata": {},
   "outputs": [],
   "source": [
    "blobs = storage_client.list_blobs(bucket_name)\n",
    "\n",
    "for blob in blobs:\n",
    "    if \"community\" in blob.name:\n",
    "        blob.download_to_filename(os.path.join(path_download, blob.name.split(\"/\")[-1]))"
   ]
  },
  {
   "cell_type": "code",
   "execution_count": null,
   "metadata": {},
   "outputs": [],
   "source": [
    "for csv in os.listdir(path_download):\n",
    "    if \"brezel\" in csv:\n",
    "        shutil.move(\n",
    "            os.path.join(path_download, csv), os.path.join(\"./data/raw/brezel\", csv)\n",
    "        )"
   ]
  },
  {
   "cell_type": "code",
   "execution_count": null,
   "metadata": {},
   "outputs": [],
   "source": [
    "for csv in os.listdir(os.path.join(path_download, \"enta\")):\n",
    "    for month in [\"202402\", \"202401\"]:\n",
    "        os.makedirs(f\"./data/raw/enta/{month}\", exist_ok=True)\n",
    "\n",
    "        if month in csv:\n",
    "            shutil.move(\n",
    "                os.path.join(path_download, \"enta\", csv),\n",
    "                os.path.join(path_download, \"enta\", month, csv),\n",
    "            )"
   ]
  },
  {
   "cell_type": "markdown",
   "metadata": {},
   "source": [
    "## AppStore"
   ]
  },
  {
   "cell_type": "code",
   "execution_count": null,
   "metadata": {},
   "outputs": [],
   "source": [
    "import time\n",
    "import os\n",
    "import io\n",
    "from datetime import datetime, timedelta\n",
    "\n",
    "import jwt\n",
    "import requests\n",
    "import pandas as pd\n",
    "from dotenv import load_dotenv\n",
    "\n",
    "load_dotenv()\n",
    "\n",
    "KEY_ID = os.getenv(\"APPLE_KEY_ID\")\n",
    "ISSUER_ID = os.getenv(\"APPLE_ISSUER_ID\")\n",
    "PATH_TO_KEY = os.getenv(\"APPLE_PRIVATE_KEY\")\n",
    "\n",
    "IAT = int(round(time.time()))\n",
    "EXP = int(round(time.time() + (10 * 60.0)))  # 10 minutes timestamp\n",
    "\n",
    "with open(PATH_TO_KEY, \"r\") as f:\n",
    "    PRIVATE_KEY = f.read()\n",
    "\n",
    "headers = {\"alg\": \"ES256\", \"kid\": KEY_ID, \"typ\": \"JWT\"}\n",
    "\n",
    "payload = {\n",
    "    \"iss\": ISSUER_ID,\n",
    "    \"iat\": IAT,\n",
    "    \"exp\": EXP,\n",
    "    \"aud\": \"appstoreconnect-v1\",\n",
    "}\n",
    "\n",
    "# Create the JWT\n",
    "token = jwt.encode(payload, PRIVATE_KEY, algorithm=\"ES256\", headers=headers)\n",
    "\n",
    "# API Request\n",
    "JWT = f\"Bearer {token}\"\n",
    "HEAD = {\"Authorization\": JWT}"
   ]
  },
  {
   "cell_type": "code",
   "execution_count": null,
   "metadata": {},
   "outputs": [],
   "source": [
    "URL = \"https://api.appstoreconnect.apple.com/v1/salesReports\"\n",
    "\n",
    "list_df = []\n",
    "\n",
    "for day in range(1, 61):\n",
    "    response = requests.get(\n",
    "        URL,\n",
    "        params={\n",
    "            \"filter[frequency]\": \"DAILY\",\n",
    "            \"filter[reportType]\": \"SALES\",\n",
    "            \"filter[reportSubType]\": \"SUMMARY\",\n",
    "            \"filter[vendorNumber]\": os.getenv(\"APPLE_VENDOR_NUMBER\"),\n",
    "            \"filter[reportDate]\": (datetime.now() - timedelta(days=day)).strftime(\n",
    "                \"%Y-%m-%d\"\n",
    "            ),\n",
    "        },\n",
    "        headers=HEAD,\n",
    "    )\n",
    "\n",
    "    if response.status_code == 200:\n",
    "        df = pd.read_csv(io.BytesIO(response.content), compression=\"gzip\", sep=\"\\t\")\n",
    "        list_df.append(df)\n",
    "    else:\n",
    "        print(response.status_code)\n",
    "        print(response.json())\n",
    "\n",
    "merge_df = pd.concat(list_df)"
   ]
  },
  {
   "cell_type": "code",
   "execution_count": null,
   "metadata": {},
   "outputs": [],
   "source": [
    "df_enta = pd.read_csv(\"./data/raw/appstore/enta.csv\")\n",
    "df_enta"
   ]
  },
  {
   "cell_type": "code",
   "execution_count": 59,
   "metadata": {},
   "outputs": [
    {
     "data": {
      "text/plain": [
       "38"
      ]
     },
     "execution_count": 59,
     "metadata": {},
     "output_type": "execute_result"
    }
   ],
   "source": [
    "df_enta.loc[df_enta[\"Product Type Identifier\"] == 3][\"Units\"].sum()"
   ]
  },
  {
   "cell_type": "code",
   "execution_count": 60,
   "metadata": {},
   "outputs": [
    {
     "data": {
      "text/plain": [
       "133"
      ]
     },
     "execution_count": 60,
     "metadata": {},
     "output_type": "execute_result"
    }
   ],
   "source": [
    "df_enta.loc[df_enta[\"Product Type Identifier\"] == 1][\"Units\"].sum()"
   ]
  },
  {
   "cell_type": "code",
   "execution_count": 57,
   "metadata": {},
   "outputs": [
    {
     "data": {
      "text/plain": [
       "171"
      ]
     },
     "execution_count": 57,
     "metadata": {},
     "output_type": "execute_result"
    }
   ],
   "source": [
    "(\n",
    "    df_enta.loc[df_enta[\"Product Type Identifier\"] == 3][\"Units\"].sum()\n",
    "    + df_enta.loc[df_enta[\"Product Type Identifier\"] == 1][\"Units\"].sum()\n",
    ")"
   ]
  },
  {
   "cell_type": "code",
   "execution_count": 53,
   "metadata": {},
   "outputs": [
    {
     "data": {
      "text/plain": [
       "array([7, 1, 3])"
      ]
     },
     "execution_count": 53,
     "metadata": {},
     "output_type": "execute_result"
    }
   ],
   "source": [
    "df_enta[\"Product Type Identifier\"].unique()"
   ]
  },
  {
   "cell_type": "markdown",
   "metadata": {},
   "source": [
    "### 앱스토어 리뷰 크롤링"
   ]
  },
  {
   "cell_type": "code",
   "execution_count": null,
   "metadata": {},
   "outputs": [],
   "source": [
    "from app_store_scraper import AppStore\n",
    "from pprint import pprint\n",
    "\n",
    "minecraft = AppStore(country=\"kr\", app_name=\"ENTA\")\n",
    "minecraft.review(how_many=20)\n",
    "\n",
    "pprint(minecraft.reviews)\n",
    "pprint(minecraft.reviews_count)"
   ]
  }
 ],
 "metadata": {
  "kernelspec": {
   "display_name": "web3",
   "language": "python",
   "name": "python3"
  },
  "language_info": {
   "codemirror_mode": {
    "name": "ipython",
    "version": 3
   },
   "file_extension": ".py",
   "mimetype": "text/x-python",
   "name": "python",
   "nbconvert_exporter": "python",
   "pygments_lexer": "ipython3",
   "version": "3.12.0"
  }
 },
 "nbformat": 4,
 "nbformat_minor": 2
}
