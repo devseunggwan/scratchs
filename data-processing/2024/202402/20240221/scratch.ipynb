{
 "cells": [
  {
   "cell_type": "markdown",
   "metadata": {},
   "source": [
    "## PlayStore"
   ]
  },
  {
   "cell_type": "code",
   "execution_count": 14,
   "metadata": {},
   "outputs": [],
   "source": [
    "import os\n",
    "\n",
    "import pandas as pd\n",
    "from google.cloud import storage\n",
    "from dotenv import load_dotenv\n",
    "\n",
    "load_dotenv()\n",
    "\n",
    "os.environ[\"GOOGLE_APPLICATION_CREDENTIALS\"] = os.getenv(\"CLIENT_SECRETS\")\n",
    "storage_client = storage.Client()\n",
    "\n",
    "bucket_name = os.getenv(\"BUCKET_NAME\")\n",
    "path_download = \"./data/raw/playstore\""
   ]
  },
  {
   "cell_type": "code",
   "execution_count": 16,
   "metadata": {},
   "outputs": [],
   "source": [
    "blobs = storage_client.list_blobs(bucket_name)\n",
    "\n",
    "for blob in blobs:\n",
    "    if \"community\" in blob.name:\n",
    "        file_name = os.path.join(path_download, blob.name.split(\"/\")[-1])\n",
    "\n",
    "        blob.download_to_filename(file_name)\n",
    "\n",
    "        pd.read_csv(file_name, encoding=\"utf-16\").to_csv(\n",
    "            file_name, index=False, encoding=\"utf-8\"\n",
    "        )"
   ]
  },
  {
   "cell_type": "code",
   "execution_count": null,
   "metadata": {},
   "outputs": [],
   "source": [
    "import pandas as pd\n",
    "\n",
    "df_sample = pd.read_csv(\n",
    "    \"/Users/user/projects/scratchs/data-processing/2024/202402/20240221/data/raw/playstore/installs_io.nfttown.community_202402_overview.csv\",\n",
    "    encoding=\"utf-16\",\n",
    ")\n",
    "df_sample"
   ]
  },
  {
   "cell_type": "markdown",
   "metadata": {},
   "source": [
    "## AppStore"
   ]
  },
  {
   "cell_type": "code",
   "execution_count": null,
   "metadata": {},
   "outputs": [],
   "source": [
    "import time\n",
    "import os\n",
    "import io\n",
    "from datetime import datetime, timedelta\n",
    "\n",
    "import jwt\n",
    "import httpx\n",
    "import pandas as pd\n",
    "from dotenv import load_dotenv\n",
    "\n",
    "load_dotenv()\n",
    "\n",
    "KEY_ID = os.getenv(\"APPLE_KEY_ID\")\n",
    "ISSUER_ID = os.getenv(\"APPLE_ISSUER_ID\")\n",
    "PATH_TO_KEY = os.getenv(\"APPLE_PRIVATE_KEY\")\n",
    "\n",
    "IAT = int(round(time.time()))\n",
    "EXP = int(round(time.time() + (10 * 60.0)))  # 10 minutes timestamp\n",
    "\n",
    "with open(PATH_TO_KEY, \"r\") as f:\n",
    "    PRIVATE_KEY = f.read()\n",
    "\n",
    "headers = {\"alg\": \"ES256\", \"kid\": KEY_ID, \"typ\": \"JWT\"}\n",
    "\n",
    "payload = {\n",
    "    \"iss\": ISSUER_ID,\n",
    "    \"iat\": IAT,\n",
    "    \"exp\": EXP,\n",
    "    \"aud\": \"appstoreconnect-v1\",\n",
    "}\n",
    "\n",
    "# Create the JWT\n",
    "token = jwt.encode(payload, PRIVATE_KEY, algorithm=\"ES256\", headers=headers)\n",
    "\n",
    "# API Request\n",
    "JWT = f\"Bearer {token}\"\n",
    "HEAD = {\"Authorization\": JWT}"
   ]
  },
  {
   "cell_type": "code",
   "execution_count": null,
   "metadata": {},
   "outputs": [],
   "source": [
    "URL = \"https://api.appstoreconnect.apple.com/v1/salesReports\"\n",
    "\n",
    "for day in range(1, 30):\n",
    "    date = (datetime.now() - timedelta(days=day)).strftime(\"%Y-%m-%d\")\n",
    "\n",
    "    response = httpx.get(\n",
    "        URL,\n",
    "        params={\n",
    "            \"filter[frequency]\": \"DAILY\",\n",
    "            \"filter[reportType]\": \"SALES\",\n",
    "            \"filter[reportSubType]\": \"SUMMARY\",\n",
    "            \"filter[vendorNumber]\": os.getenv(\"APPLE_VENDOR_NUMBER\"),\n",
    "            \"filter[reportDate]\": date,\n",
    "        },\n",
    "        headers=HEAD,\n",
    "    )\n",
    "\n",
    "    if response.status_code == 200:\n",
    "        df = pd.read_csv(io.BytesIO(response.content), compression=\"gzip\", sep=\"\\t\")\n",
    "\n",
    "        df = df.loc[df[\"Title\"] == \"ENTA\"]\n",
    "\n",
    "        if not df.empty:\n",
    "            df.to_csv(\n",
    "                f\"./data/raw/appstore/salesReports_DAILY-SALES-SUMMARY_{date}.csv\",\n",
    "                index=False,\n",
    "            )\n",
    "    else:\n",
    "        print(response.json())"
   ]
  },
  {
   "cell_type": "code",
   "execution_count": null,
   "metadata": {},
   "outputs": [],
   "source": [
    "URL = \"https://api.appstoreconnect.apple.com/v1/salesReports\"\n",
    "\n",
    "for day in range(1, 7):\n",
    "    date = (datetime.now() - timedelta(days=day)).strftime(\"%Y-%m-%d\")\n",
    "\n",
    "    response = httpx.get(\n",
    "        URL,\n",
    "        params={\n",
    "            \"filter[frequency]\": \"DAILY\",\n",
    "            \"filter[reportType]\": \"SALES\",\n",
    "            \"filter[reportSubType]\": \"SUMMARY\",\n",
    "            \"filter[vendorNumber]\": os.getenv(\"APPLE_VENDOR_NUMBER\"),\n",
    "            \"filter[reportDate]\": date,\n",
    "        },\n",
    "        headers=HEAD,\n",
    "    )\n",
    "\n",
    "    if response.status_code == 200:\n",
    "        df = pd.read_csv(io.BytesIO(response.content), compression=\"gzip\", sep=\"\\t\")\n",
    "\n",
    "        df = df.loc[df[\"Title\"] == \"ENTA\"]\n",
    "\n",
    "        if not df.empty:\n",
    "            df.to_csv(\n",
    "                f\"./data/raw/appstore/salesReports_DAILY-SALES-SUMMARY_{date}.csv\",\n",
    "                index=False,\n",
    "            )\n",
    "    else:\n",
    "        print(response.json())"
   ]
  }
 ],
 "metadata": {
  "kernelspec": {
   "display_name": "web3",
   "language": "python",
   "name": "python3"
  },
  "language_info": {
   "codemirror_mode": {
    "name": "ipython",
    "version": 3
   },
   "file_extension": ".py",
   "mimetype": "text/x-python",
   "name": "python",
   "nbconvert_exporter": "python",
   "pygments_lexer": "ipython3",
   "version": "3.11.5"
  }
 },
 "nbformat": 4,
 "nbformat_minor": 2
}
