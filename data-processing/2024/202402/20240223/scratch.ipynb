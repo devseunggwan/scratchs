{
 "cells": [
  {
   "cell_type": "code",
   "execution_count": 1,
   "metadata": {},
   "outputs": [],
   "source": [
    "import polars as pl"
   ]
  },
  {
   "cell_type": "code",
   "execution_count": null,
   "metadata": {},
   "outputs": [],
   "source": [
    "df = pl.read_csv(\"./data/S_D_85286024_20240221.txt.gz\", separator=\"\\t\")\n",
    "df.write_csv(\"./data/salesReports_DAILY-SALES-SUMMARY_2024-02-21.csv\")"
   ]
  },
  {
   "cell_type": "code",
   "execution_count": 10,
   "metadata": {},
   "outputs": [],
   "source": [
    "dates = [\"2024-02-22\", \"2024-02-23\", \"2024-02-24\"]\n",
    "\n",
    "for date in dates:\n",
    "    df = pl.read_csv(f\"./data/S_D_85286024_{date}.txt.gz\", separator=\"\\t\")\n",
    "    df.write_csv(f\"./data/salesReports_DAILY-SALES-SUMMARY_{date}.csv\")"
   ]
  }
 ],
 "metadata": {
  "kernelspec": {
   "display_name": "web3",
   "language": "python",
   "name": "python3"
  },
  "language_info": {
   "codemirror_mode": {
    "name": "ipython",
    "version": 3
   },
   "file_extension": ".py",
   "mimetype": "text/x-python",
   "name": "python",
   "nbconvert_exporter": "python",
   "pygments_lexer": "ipython3",
   "version": "3.12.0"
  }
 },
 "nbformat": 4,
 "nbformat_minor": 2
}
