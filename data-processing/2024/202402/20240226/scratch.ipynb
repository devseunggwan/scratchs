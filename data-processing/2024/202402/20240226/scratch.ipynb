{
 "cells": [
  {
   "cell_type": "markdown",
   "metadata": {},
   "source": [
    "## 라이브러리 로드"
   ]
  },
  {
   "cell_type": "code",
   "execution_count": null,
   "metadata": {},
   "outputs": [],
   "source": [
    "import os\n",
    "import sys\n",
    "\n",
    "import boto3\n",
    "import polars as pl\n",
    "from dotenv import load_dotenv\n",
    "\n",
    "import matplotlib\n",
    "import matplotlib.pyplot as plt\n",
    "import matplotlib.font_manager as fm\n",
    "\n",
    "%matplotlib inline\n",
    "\n",
    "import seaborn as sns\n",
    "\n",
    "sns.set_style(\"whitegrid\")\n",
    "\n",
    "load_dotenv()"
   ]
  },
  {
   "cell_type": "code",
   "execution_count": null,
   "metadata": {},
   "outputs": [],
   "source": [
    "# 한글 흐림현상 방지\n",
    "%config InlineBackend.figure_format = 'retina'\n",
    "\n",
    "font_path = \"/System/Library/Fonts/Supplemental/AppleGothic.ttf\"\n",
    "font = fm.FontProperties(fname=font_path).get_name()\n",
    "plt.rc(\"font\", family=font)\n",
    "\n",
    "\n",
    "matplotlib.rcParams[\"axes.unicode_minus\"] = False"
   ]
  },
  {
   "cell_type": "markdown",
   "metadata": {},
   "source": [
    "## 데이터 로드"
   ]
  },
  {
   "cell_type": "code",
   "execution_count": null,
   "metadata": {},
   "outputs": [],
   "source": [
    "s3 = boto3.client(\n",
    "    \"s3\",\n",
    "    aws_access_key_id=os.getenv(\"AWS_ACCESS_KEY_ID\"),\n",
    "    aws_secret_access_key=os.getenv(\"AWS_SECRET_ACCESS_KEY\"),\n",
    "    region_name=\"ap-northeast-2\",\n",
    ")\n",
    "\n",
    "BUCKET_NAME = os.getenv(\"BUCKET_NAME\")\n",
    "PREP_PATH = os.getenv(\"PREP_PATH\")\n",
    "TABLE_NAME = os.getenv(\"TABLE_NAME\")"
   ]
  },
  {
   "cell_type": "markdown",
   "metadata": {},
   "source": [
    "## 데이터 전처리"
   ]
  },
  {
   "cell_type": "code",
   "execution_count": null,
   "metadata": {},
   "outputs": [],
   "source": [
    "for month in [\"07\", \"08\", \"09\", \"10\", \"11\", \"12\"]:\n",
    "    s3.download_file(\n",
    "        BUCKET_NAME,\n",
    "        os.path.join(PREP_PATH, \"2023\", month, f\"{TABLE_NAME}.csv\"),\n",
    "        os.path.join(\"data\", f\"{TABLE_NAME}_2023{month}.csv\"),\n",
    "    )\n",
    "\n",
    "    df = pl.read_csv(os.path.join(\"data\", f\"{TABLE_NAME}_2023{month}.csv\"))\n",
    "\n",
    "    df = df.with_columns(pl.lit(2023).alias(\"YEAR\"), pl.lit(int(month)).alias(\"MONTH\"))\n",
    "    df = df.with_columns(pl.all().map_elements(lambda x: None if x == \"null\" else x))\n",
    "\n",
    "    df.write_csv(os.path.join(\"prep\", f\"{TABLE_NAME}_2023{month}.csv\"))"
   ]
  },
  {
   "cell_type": "code",
   "execution_count": null,
   "metadata": {},
   "outputs": [],
   "source": [
    "df"
   ]
  }
 ],
 "metadata": {
  "kernelspec": {
   "display_name": "lambda",
   "language": "python",
   "name": "python3"
  },
  "language_info": {
   "codemirror_mode": {
    "name": "ipython",
    "version": 3
   },
   "file_extension": ".py",
   "mimetype": "text/x-python",
   "name": "python",
   "nbconvert_exporter": "python",
   "pygments_lexer": "ipython3",
   "version": "3.11.5"
  }
 },
 "nbformat": 4,
 "nbformat_minor": 2
}
