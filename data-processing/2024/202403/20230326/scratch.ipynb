{
 "cells": [
  {
   "cell_type": "code",
   "execution_count": null,
   "metadata": {},
   "outputs": [],
   "source": [
    "%pip install chardet"
   ]
  },
  {
   "cell_type": "code",
   "execution_count": null,
   "metadata": {},
   "outputs": [],
   "source": [
    "file_path = \"target.csv\"  # 파일 경로를 지정하세요"
   ]
  },
  {
   "cell_type": "code",
   "execution_count": null,
   "metadata": {},
   "outputs": [],
   "source": [
    "import chardet\n",
    "\n",
    "\n",
    "def detect_file_encoding(file_path):\n",
    "    with open(file_path, \"rb\") as f:\n",
    "        result = chardet.detect(f.read())\n",
    "    return result[\"encoding\"]\n",
    "\n",
    "\n",
    "encoding = detect_file_encoding(file_path)\n",
    "print(encoding)"
   ]
  },
  {
   "cell_type": "code",
   "execution_count": null,
   "metadata": {},
   "outputs": [],
   "source": [
    "개행_플레그 = False\n",
    "개행_라인 = []\n",
    "\n",
    "with open(file_path, \"r\", encoding=\"utf-8\") as f:\n",
    "    for idx, line in enumerate(f):\n",
    "        line = line.split(\",\")\n",
    "        if len(line) < 13:\n",
    "            개행_플레그 = True\n",
    "            개행_라인.extend(line)\n",
    "\n",
    "        if 개행_플레그 and len(line) == 13:\n",
    "            print(\"Before:\", len(개행_라인), 개행_라인)\n",
    "\n",
    "            개행_라인 = 개행_라인[:4] + [\",\".join(개행_라인[4:-8])] + 개행_라인[-8:]\n",
    "            print(\"After:\", len(개행_라인), 개행_라인)\n",
    "\n",
    "            개행_플레그 = False\n",
    "            개행_라인 = []"
   ]
  },
  {
   "cell_type": "code",
   "execution_count": null,
   "metadata": {},
   "outputs": [],
   "source": [
    "res = []\n",
    "개행_플레그 = False\n",
    "개행_라인 = []\n",
    "\n",
    "with open(file_path, \"r\", encoding=\"utf-8\") as f:\n",
    "    for idx, line in enumerate(f):\n",
    "        line = line.split(\",\")\n",
    "\n",
    "        if len(line) < 13:\n",
    "            개행_플레그 = True\n",
    "            개행_라인.extend(line)\n",
    "\n",
    "        elif 개행_플레그 and len(line) == 13:\n",
    "            개행_라인 = 개행_라인[:4] + [\"\".join(개행_라인[4:-8])] + 개행_라인[-8:]\n",
    "            res.append(개행_라인)\n",
    "\n",
    "            개행_플레그 = False\n",
    "            개행_라인 = []\n",
    "\n",
    "            res.append(line)\n",
    "        elif len(line) > 13:\n",
    "            line = line[:4] + [\",\".join(line[4:-8])] + line[-8:]\n",
    "            res.append(line)\n",
    "        else:\n",
    "            res.append(line)"
   ]
  },
  {
   "cell_type": "code",
   "execution_count": null,
   "metadata": {},
   "outputs": [],
   "source": [
    "for r in res:\n",
    "    if len(r) != 13:\n",
    "        print(r)"
   ]
  },
  {
   "cell_type": "code",
   "execution_count": null,
   "metadata": {},
   "outputs": [],
   "source": [
    "for idx, r in enumerate(res):\n",
    "    if idx == 0:\n",
    "        continue\n",
    "\n",
    "    r[4] = f'\"{r[4]}\"'"
   ]
  },
  {
   "cell_type": "code",
   "execution_count": null,
   "metadata": {},
   "outputs": [],
   "source": [
    "res = [\"\\t\".join(r) for r in res]\n",
    "res"
   ]
  },
  {
   "cell_type": "code",
   "execution_count": null,
   "metadata": {},
   "outputs": [],
   "source": [
    "with open(\"result.tsv\", \"w\", encoding=\"utf-8\") as f:\n",
    "    for r in res:\n",
    "        f.write(r)"
   ]
  },
  {
   "cell_type": "code",
   "execution_count": null,
   "metadata": {},
   "outputs": [],
   "source": [
    "import pandas as pd\n",
    "\n",
    "df = pd.read_csv(\"result.tsv\", sep=\"\\t\")"
   ]
  },
  {
   "cell_type": "code",
   "execution_count": null,
   "metadata": {},
   "outputs": [],
   "source": [
    "df.loc[df[\"MEM_NM\"].str.contains(\"\\n\")]"
   ]
  }
 ],
 "metadata": {
  "kernelspec": {
   "display_name": "study",
   "language": "python",
   "name": "python3"
  },
  "language_info": {
   "codemirror_mode": {
    "name": "ipython",
    "version": 3
   },
   "file_extension": ".py",
   "mimetype": "text/x-python",
   "name": "python",
   "nbconvert_exporter": "python",
   "pygments_lexer": "ipython3",
   "version": "3.11.5"
  }
 },
 "nbformat": 4,
 "nbformat_minor": 2
}
