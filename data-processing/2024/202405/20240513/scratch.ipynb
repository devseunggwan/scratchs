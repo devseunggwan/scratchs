{
 "cells": [
  {
   "cell_type": "markdown",
   "metadata": {},
   "source": [
    "### 환경 설정"
   ]
  },
  {
   "cell_type": "code",
   "execution_count": null,
   "metadata": {},
   "outputs": [],
   "source": [
    "import os\n",
    "import json\n",
    "import time\n",
    "\n",
    "import httpx\n",
    "from dotenv import load_dotenv\n",
    "load_dotenv()"
   ]
  },
  {
   "cell_type": "code",
   "execution_count": null,
   "metadata": {},
   "outputs": [],
   "source": [
    "network = \"ethereum\"\n",
    "collection_id = \"0xed5af388653567af2f388e6224dc7c4b3241c544\""
   ]
  },
  {
   "cell_type": "code",
   "execution_count": null,
   "metadata": {},
   "outputs": [],
   "source": [
    "def write_json(data, filepath):\n",
    "    with open(filepath, 'w') as file:\n",
    "        json.dump(data, file, ensure_ascii=False)"
   ]
  },
  {
   "cell_type": "code",
   "execution_count": null,
   "metadata": {},
   "outputs": [],
   "source": [
    "url_collection = \"https://api.reservoir.tools/collections/v7\"\n",
    "url_tokens = \"https://api.reservoir.tools/tokens/v7\"\n",
    "url_transaction = \"https://api.reservoir.tools/collections/activity/v6\"\n",
    "url_attributes = \"https://api.reservoir.tools/collections/{collection}/attributes/all/v4\"\n",
    "\n",
    "\n",
    "headers = {\n",
    "    \"x-api-key\": os.getenv(\"RESERVOIR_API_KEY\"),\n",
    "    \"accept\": \"*/*\"\n",
    "}"
   ]
  },
  {
   "cell_type": "code",
   "execution_count": null,
   "metadata": {},
   "outputs": [],
   "source": [
    "path_output = \"./2nd\"\n",
    "path_tokens = os.path.join(path_output, \"tokens\")\n",
    "path_transactions = os.path.join(path_output, \"transactions\")\n",
    "path_collections = os.path.join(path_output, \"collections\")\n",
    "path_attributes = os.path.join(path_output, \"attributes\")\n",
    "\n",
    "output_collection_name = \"{network}_{collection_id}_collection.json\"\n",
    "output_tokens_name = \"{network}_{collection_id}_{idx:06d}_tokens.json\"\n",
    "output_transactions_name = \"{network}_{collection_id}_{idx:06d}_transactions.json\"\n",
    "output_attributes_name = \"{network}_{collection_id}_attributes.json\"\n",
    "\n",
    "os.makedirs(path_output, exist_ok=True)\n",
    "os.makedirs(path_tokens, exist_ok=True)\n",
    "os.makedirs(path_transactions, exist_ok=True)\n",
    "os.makedirs(path_collections, exist_ok=True)\n",
    "os.makedirs(path_attributes, exist_ok=True)"
   ]
  },
  {
   "cell_type": "markdown",
   "metadata": {},
   "source": [
    "### Collections"
   ]
  },
  {
   "cell_type": "code",
   "execution_count": null,
   "metadata": {},
   "outputs": [],
   "source": [
    "collection = httpx.get(url_collection, params={\"id\": collection_id}, headers=headers).json()\n",
    "write_json(collection, os.path.join(path_collections, output_collection_name.format(network=network, collection_id=collection_id)))\n",
    "collection"
   ]
  },
  {
   "cell_type": "markdown",
   "metadata": {},
   "source": [
    "### Tokens"
   ]
  },
  {
   "cell_type": "code",
   "execution_count": null,
   "metadata": {},
   "outputs": [],
   "source": [
    "idx = 0\n",
    "continuation = \"\"\n",
    "fault_count = 0\n",
    "\n",
    "while True:\n",
    "    params = {\n",
    "        \"collection\": collection_id,\n",
    "        \"limit\": 1000,\n",
    "        \"sortBy\": \"updatedAt\",\n",
    "        \"includeAttributes\": True,\n",
    "    }\n",
    "    \n",
    "    if continuation:\n",
    "        params[\"continuation\"] = continuation\n",
    "        \n",
    "    print(params)\n",
    "    \n",
    "    resp = httpx.get(url_tokens, params=params, headers=headers, timeout=30).json()\n",
    "    \n",
    "    # 500번 에러일 떄 단순 요청 미스라 판단하고 다시 요청\n",
    "    if resp.status_code == 500:\n",
    "        if fault_count > 3:\n",
    "            time.sleep(10)\n",
    "            fault_count += 1\n",
    "            continue\n",
    "        elif fault_count > 6:\n",
    "            print(f\"Too many faults: {idx}, {network}, {collection_id}, {continuation}\")\n",
    "            break\n",
    "        else:\n",
    "            fault_count += 1\n",
    "            continue\n",
    "    # 429 에러일 떄 10초 대기 후 다시 요청\n",
    "    elif resp.status_code == 429:\n",
    "        time.sleep(10)\n",
    "        continue\n",
    "    else:\n",
    "        resp = resp.json()\n",
    "        fault_count = 0\n",
    "    \n",
    "    \n",
    "    write_json(resp, os.path.join(path_tokens, output_tokens_name.format(network=network, collection_id=collection_id, idx=idx)))\n",
    "    \n",
    "    print(f\"idx: {idx}, Downloaded {len(resp['tokens'])} tokens, continuation: {resp['continuation']}\")\n",
    "    if len(resp[\"tokens\"]) < 1000 or resp[\"continuation\"] is None:\n",
    "        break\n",
    "    \n",
    "    idx += 1\n",
    "    continuation = resp[\"continuation\"]"
   ]
  },
  {
   "cell_type": "markdown",
   "metadata": {},
   "source": [
    "### Transactions"
   ]
  },
  {
   "cell_type": "code",
   "execution_count": null,
   "metadata": {},
   "outputs": [],
   "source": [
    "idx = 0\n",
    "continuation = \"\"\n",
    "fault_count = 0\n",
    "\n",
    "while True:\n",
    "    params = {\n",
    "        \"collection\": collection_id,\n",
    "        \"limit\": 50,\n",
    "        \"types\": [\"sale\", \"transfer\", \"mint\"]\n",
    "    }\n",
    "    \n",
    "    if continuation:\n",
    "        params[\"continuation\"] = continuation\n",
    "        \n",
    "    print(params)\n",
    "    \n",
    "    resp = httpx.get(url_transaction, params=params, headers=headers, timeout=30)\n",
    "    \n",
    "    # 500번 에러일 떄 단순 요청 미스라 판단하고 다시 요청\n",
    "    if resp.status_code == 500:\n",
    "        if fault_count > 3:\n",
    "            time.sleep(10)\n",
    "            fault_count += 1\n",
    "            continue\n",
    "        elif fault_count > 6:\n",
    "            print(f\"Too many faults: {idx}, {network}, {collection_id}, {continuation}\")\n",
    "            break\n",
    "        else:\n",
    "            fault_count += 1\n",
    "            continue\n",
    "    # 429 에러일 떄 10초 대기 후 다시 요청\n",
    "    elif resp.status_code == 429:\n",
    "        time.sleep(10)\n",
    "        continue\n",
    "    else:\n",
    "        resp = resp.json()\n",
    "        fault_count = 0\n",
    "    \n",
    "    write_json(resp, os.path.join(path_transactions, output_transactions_name.format(network=network, collection_id=collection_id, idx=idx)))\n",
    "    \n",
    "    print(f\"idx: {idx}, Downloaded {len(resp['activities'])} activities, continuation: {resp['continuation']}\")\n",
    "    if len(resp[\"activities\"]) < 50 or resp[\"continuation\"] is None:\n",
    "        break\n",
    "    \n",
    "    idx += 1\n",
    "    continuation = resp[\"continuation\"]"
   ]
  },
  {
   "cell_type": "markdown",
   "metadata": {},
   "source": [
    "### Attributes"
   ]
  },
  {
   "cell_type": "code",
   "execution_count": null,
   "metadata": {},
   "outputs": [],
   "source": [
    "resp = httpx.get(url_attributes.format(collection=collection_id), headers=headers).json()\n",
    "resp[\"network\"] = network\n",
    "resp[\"id\"] = collection_id\n",
    "write_json(resp, os.path.join(path_attributes, output_attributes_name.format(network=network, collection_id=collection_id)))\n",
    "resp"
   ]
  }
 ],
 "metadata": {
  "kernelspec": {
   "display_name": "study",
   "language": "python",
   "name": "python3"
  },
  "language_info": {
   "codemirror_mode": {
    "name": "ipython",
    "version": 3
   },
   "file_extension": ".py",
   "mimetype": "text/x-python",
   "name": "python",
   "nbconvert_exporter": "python",
   "pygments_lexer": "ipython3",
   "version": "3.11.5"
  }
 },
 "nbformat": 4,
 "nbformat_minor": 2
}
