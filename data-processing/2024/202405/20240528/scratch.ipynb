{
 "cells": [
  {
   "cell_type": "code",
   "execution_count": null,
   "metadata": {},
   "outputs": [],
   "source": [
    "import whisper\n",
    "\n",
    "from lightning_whisper_mlx import LightningWhisperMLX"
   ]
  },
  {
   "cell_type": "code",
   "execution_count": null,
   "metadata": {},
   "outputs": [],
   "source": [
    "whisper = LightningWhisperMLX(model=\"distil-medium.en\", batch_size=12, quant=None)\n",
    "text = whisper.transcribe(audio_path=\"./data/output2.mp3\")['text']\n",
    "print(text)"
   ]
  },
  {
   "cell_type": "code",
   "execution_count": null,
   "metadata": {},
   "outputs": [],
   "source": [
    "whisper = LightningWhisperMLX(model=\"base\", batch_size=12, quant=None)\n",
    "text = whisper.transcribe(audio_path=\"./data/korean_sample.mp3\")['text']\n",
    "print(text)"
   ]
  },
  {
   "cell_type": "code",
   "execution_count": null,
   "metadata": {},
   "outputs": [],
   "source": [
    "whisper = LightningWhisperMLX(model=\"base\", batch_size=24, quant=None)\n",
    "text = whisper.transcribe(audio_path=\"./data/korean_sample2.mp3\")['text']\n",
    "print(text)"
   ]
  },
  {
   "cell_type": "code",
   "execution_count": null,
   "metadata": {},
   "outputs": [],
   "source": [
    "path = \"./data/AIHUB-복지 분야 콜센터 상담데이터/원천데이터/TS1_01.대학병원/01.대학병원/02.병원이용안내/03.증명서발급/HOS0011344/HOS23001134451B001.wav\"\n",
    "\n",
    "whisper = LightningWhisperMLX(model=\"medium\", batch_size=12, quant=None)\n",
    "text = whisper.transcribe(audio_path=path)['text']\n",
    "print(text)\n"
   ]
  },
  {
   "cell_type": "code",
   "execution_count": null,
   "metadata": {},
   "outputs": [],
   "source": [
    "whisper = LightningWhisperMLX(model=\"medium\", batch_size=12, quant=None)"
   ]
  },
  {
   "cell_type": "code",
   "execution_count": null,
   "metadata": {},
   "outputs": [],
   "source": [
    "path = \"./data/AIHUB-민원(콜센터) 질의-응답 데이터/원천데이터/쇼핑/업무처리/업무처리/쇼핑_3192.m4a\"\n",
    "\n",
    "text = whisper.transcribe(audio_path=path)['text']\n",
    "print(text)\n"
   ]
  },
  {
   "cell_type": "code",
   "execution_count": null,
   "metadata": {},
   "outputs": [],
   "source": [
    "path = \"./data/AIHUB-민원(콜센터) 질의-응답 데이터/원천데이터/쇼핑/업무처리/업무처리/쇼핑_25.m4a\"\n",
    "\n",
    "text = whisper.transcribe(audio_path=path)['text']\n",
    "print(text)"
   ]
  },
  {
   "cell_type": "code",
   "execution_count": null,
   "metadata": {},
   "outputs": [],
   "source": [
    "whisper = LightningWhisperMLX(model=\"base\", batch_size=12, quant=None)\n",
    "path = \"./data/AIHUB-민원(콜센터) 질의-응답 데이터/원천데이터/쇼핑/업무처리/업무처리/쇼핑_25.m4a\"\n",
    "\n",
    "text = whisper.transcribe(audio_path=path)['text']\n",
    "print(text)\n"
   ]
  }
 ],
 "metadata": {
  "kernelspec": {
   "display_name": "study",
   "language": "python",
   "name": "python3"
  },
  "language_info": {
   "codemirror_mode": {
    "name": "ipython",
    "version": 3
   },
   "file_extension": ".py",
   "mimetype": "text/x-python",
   "name": "python",
   "nbconvert_exporter": "python",
   "pygments_lexer": "ipython3",
   "version": "3.11.5"
  }
 },
 "nbformat": 4,
 "nbformat_minor": 2
}
