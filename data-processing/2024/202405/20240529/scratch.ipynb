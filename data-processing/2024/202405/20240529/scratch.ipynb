{
 "cells": [
  {
   "cell_type": "code",
   "execution_count": null,
   "metadata": {},
   "outputs": [],
   "source": [
    "import whisper\n",
    "from lightning_whisper_mlx import LightningWhisperMLX"
   ]
  },
  {
   "cell_type": "code",
   "execution_count": null,
   "metadata": {},
   "outputs": [],
   "source": [
    "model = \"medium\"\n",
    "instance = LightningWhisperMLX(model=model, batch_size=12, quant=None)"
   ]
  },
  {
   "cell_type": "code",
   "execution_count": null,
   "metadata": {},
   "outputs": [],
   "source": [
    "path = \"./data/1450597_5116_901033686883_20240516_102142.wav\"\n",
    "\n",
    "text = instance.transcribe(audio_path=path)['text']\n",
    "print(text)"
   ]
  },
  {
   "cell_type": "code",
   "execution_count": null,
   "metadata": {},
   "outputs": [],
   "source": [
    "path = \"./data/1450613_5111_5111_20240516_102623.wav\"\n",
    "\n",
    "text = instance.transcribe(audio_path=path)['text']\n",
    "print(text)"
   ]
  },
  {
   "cell_type": "code",
   "execution_count": null,
   "metadata": {},
   "outputs": [],
   "source": [
    "model = \"small\"\n",
    "instance = LightningWhisperMLX(model=model, batch_size=12, quant=None)"
   ]
  },
  {
   "cell_type": "code",
   "execution_count": null,
   "metadata": {},
   "outputs": [],
   "source": [
    "path = \"./data/1450597_5116_901033686883_20240516_102142.wav\"\n",
    "\n",
    "text = instance.transcribe(audio_path=path)['text']\n",
    "print(text)"
   ]
  },
  {
   "cell_type": "code",
   "execution_count": null,
   "metadata": {},
   "outputs": [],
   "source": [
    "path = \"./data/1450613_5111_5111_20240516_102623.wav\"\n",
    "text = instance.transcribe(audio_path=path)['text']\n",
    "print(text)"
   ]
  },
  {
   "cell_type": "code",
   "execution_count": null,
   "metadata": {},
   "outputs": [],
   "source": [
    "model = \"tiny\"\n",
    "instance = LightningWhisperMLX(model=model, batch_size=12, quant=None)"
   ]
  },
  {
   "cell_type": "code",
   "execution_count": null,
   "metadata": {},
   "outputs": [],
   "source": [
    "path = \"./data/1450597_5116_901033686883_20240516_102142.wav\"\n",
    "text = instance.transcribe(audio_path=path)['text']\n",
    "print(text)"
   ]
  },
  {
   "cell_type": "code",
   "execution_count": null,
   "metadata": {},
   "outputs": [],
   "source": [
    "path = \"./data/1450613_5111_5111_20240516_102623.wav\"\n",
    "text = instance.transcribe(audio_path=path)['text']\n",
    "print(text)"
   ]
  },
  {
   "cell_type": "code",
   "execution_count": null,
   "metadata": {},
   "outputs": [],
   "source": [
    "model = \"large-v3\"\n",
    "instance = LightningWhisperMLX(model=model, batch_size=12, quant=None)"
   ]
  },
  {
   "cell_type": "code",
   "execution_count": null,
   "metadata": {},
   "outputs": [],
   "source": [
    "path = \"./data/1450597_5116_901033686883_20240516_102142.wav\"\n",
    "text = instance.transcribe(audio_path=path)['text']\n",
    "print(text)"
   ]
  },
  {
   "cell_type": "code",
   "execution_count": null,
   "metadata": {},
   "outputs": [],
   "source": [
    "path = \"./data/1450613_5111_5111_20240516_102623.wav\"\n",
    "text = instance.transcribe(audio_path=path)['text']\n",
    "print(text)"
   ]
  },
  {
   "cell_type": "code",
   "execution_count": null,
   "metadata": {},
   "outputs": [],
   "source": [
    "model = \"large\"\n",
    "instance = LightningWhisperMLX(model=model, batch_size=12, quant=None)"
   ]
  },
  {
   "cell_type": "code",
   "execution_count": null,
   "metadata": {},
   "outputs": [],
   "source": [
    "path = \"./data/1450597_5116_901033686883_20240516_102142.wav\"\n",
    "text = instance.transcribe(audio_path=path)['text']\n",
    "print(text)"
   ]
  },
  {
   "cell_type": "code",
   "execution_count": null,
   "metadata": {},
   "outputs": [],
   "source": [
    "path = \"./data/1450613_5111_5111_20240516_102623.wav\"\n",
    "text = instance.transcribe(audio_path=path)['text']\n",
    "print(text)"
   ]
  }
 ],
 "metadata": {
  "kernelspec": {
   "display_name": "snow-call-demo",
   "language": "python",
   "name": "python3"
  },
  "language_info": {
   "codemirror_mode": {
    "name": "ipython",
    "version": 3
   },
   "file_extension": ".py",
   "mimetype": "text/x-python",
   "name": "python",
   "nbconvert_exporter": "python",
   "pygments_lexer": "ipython3",
   "version": "3.11.5"
  }
 },
 "nbformat": 4,
 "nbformat_minor": 2
}
