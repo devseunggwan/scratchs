{
 "cells": [
  {
   "cell_type": "code",
   "execution_count": null,
   "metadata": {},
   "outputs": [],
   "source": [
    "import os\n",
    "import json\n",
    "import time\n",
    "\n",
    "import httpx\n",
    "from snowflake.snowpark import Session\n",
    "from snowflake.snowpark.functions import col\n",
    "\n",
    "from dotenv import load_dotenv\n",
    "\n",
    "load_dotenv()"
   ]
  },
  {
   "cell_type": "code",
   "execution_count": null,
   "metadata": {},
   "outputs": [],
   "source": [
    "def write_json(data, filepath):\n",
    "    with open(filepath, \"w\") as file:\n",
    "        json.dump(data, file, ensure_ascii=False)"
   ]
  },
  {
   "cell_type": "code",
   "execution_count": null,
   "metadata": {},
   "outputs": [],
   "source": [
    "path_output = \"./output\"\n",
    "network = \"ethereum\""
   ]
  },
  {
   "cell_type": "code",
   "execution_count": null,
   "metadata": {},
   "outputs": [],
   "source": [
    "config_params = {\n",
    "    \"URL\": os.getenv(\"SNOWFLAKE_URL\"),\n",
    "    \"ACCOUNT\": os.getenv(\"SNOWFLAKE_ACCOUNT\"),\n",
    "    \"USER\": os.getenv(\"SNOWFLAKE_USER\"),\n",
    "    \"PASSWORD\": os.getenv(\"SNOWFLAKE_PASSWORD\"),\n",
    "    \"ROLE\": os.getenv(\"SNOWFLAKE_ROLE\"),\n",
    "    \"WAREHOUSE\": os.getenv(\"SNOWFLAKE_WAREHOUSE\"),\n",
    "}\n",
    "\n",
    "session = Session.builder.configs(config_params).create()"
   ]
  },
  {
   "cell_type": "code",
   "execution_count": null,
   "metadata": {},
   "outputs": [],
   "source": [
    "df = (\n",
    "    session.table(\"HSTNS_BLOCKCHAIN_DB.MAIN_DAP.COLLECTION_WHITELIST\")\n",
    "    .select(col(\"COLLECTION_ID\"))\n",
    "    .filter(col(\"NETWORK\") == \"polygon\")\n",
    "    .collect()\n",
    ")\n",
    "df"
   ]
  },
  {
   "cell_type": "code",
   "execution_count": null,
   "metadata": {},
   "outputs": [],
   "source": [
    "[item[\"COLLECTION_ID\"] for item in df]"
   ]
  },
  {
   "cell_type": "code",
   "execution_count": null,
   "metadata": {},
   "outputs": [],
   "source": [
    "headers = {\n",
    "    \"accept\": \"*/*\",\n",
    "    \"content-type\": \"application/json\",\n",
    "    \"x-api-key\": os.getenv(\"RESERVOIR_API_KEY\"),\n",
    "}"
   ]
  },
  {
   "cell_type": "markdown",
   "metadata": {},
   "source": [
    "### Collection"
   ]
  },
  {
   "cell_type": "code",
   "execution_count": null,
   "metadata": {},
   "outputs": [],
   "source": [
    "url_create_collection_set = \"https://api-polygon.reservoir.tools/collections-sets/v1\"\n",
    "url_collections = \"https://api-polygon.reservoir.tools/collections/v7\""
   ]
  },
  {
   "cell_type": "code",
   "execution_count": null,
   "metadata": {},
   "outputs": [],
   "source": [
    "body = {\"collections\": df[\"COLLECTION_ID\"].tolist()}\n",
    "\n",
    "resp = httpx.post(url_create_collection_set, headers=headers, json=body)\n",
    "collection_set_id = resp.json().get(\"collectionsSetId\")\n",
    "collection_set_id"
   ]
  },
  {
   "cell_type": "code",
   "execution_count": null,
   "metadata": {},
   "outputs": [],
   "source": [
    "params = {\n",
    "    \"collectionsSetId\": collection_set_id,\n",
    "    \"sortBy\": \"updatedAt\",\n",
    "    \"limit\": 1000,\n",
    "}\n",
    "\n",
    "resp = httpx.get(url_collections, headers=headers, params=params)\n",
    "resp.json()"
   ]
  },
  {
   "cell_type": "code",
   "execution_count": null,
   "metadata": {},
   "outputs": [],
   "source": [
    "collections = resp.json().get(\"collections\")\n",
    "collections"
   ]
  },
  {
   "cell_type": "code",
   "execution_count": null,
   "metadata": {},
   "outputs": [],
   "source": [
    "len(collections)"
   ]
  },
  {
   "cell_type": "code",
   "execution_count": null,
   "metadata": {},
   "outputs": [],
   "source": [
    "resp_collections = [item[\"id\"] for item in collections]\n",
    "resp_collections"
   ]
  },
  {
   "cell_type": "code",
   "execution_count": null,
   "metadata": {},
   "outputs": [],
   "source": [
    "set(df[\"COLLECTION_ID\"].tolist()) - set(resp_collections)"
   ]
  },
  {
   "cell_type": "code",
   "execution_count": null,
   "metadata": {},
   "outputs": [],
   "source": [
    "set(resp_collections) - set(df[\"COLLECTION_ID\"].tolist())"
   ]
  },
  {
   "cell_type": "markdown",
   "metadata": {},
   "source": [
    "### Attribute"
   ]
  },
  {
   "cell_type": "code",
   "execution_count": null,
   "metadata": {},
   "outputs": [],
   "source": [
    "url_attributes = (\n",
    "    \"https://api-polygon.reservoir.tools/collections/{collection}/attributes/all/v4\"\n",
    ")\n",
    "path_attributes = os.path.join(path_output, \"attribute\")\n",
    "output_attributes_name = \"{network}_{collection_id}_attribute.json\"\n",
    "\n",
    "\n",
    "for collection_id in df[\"COLLECTION_ID\"].tolist():\n",
    "    resp = httpx.get(\n",
    "        url_attributes.format(collection=collection_id), headers=headers, timeout=30\n",
    "    ).json()\n",
    "\n",
    "    resp[\"network\"] = network\n",
    "    resp[\"collection_id\"] = collection_id\n",
    "\n",
    "    write_json(\n",
    "        resp,\n",
    "        os.path.join(\n",
    "            path_attributes,\n",
    "            output_attributes_name.format(network=network, collection_id=collection_id),\n",
    "        ),\n",
    "    )"
   ]
  },
  {
   "cell_type": "markdown",
   "metadata": {},
   "source": [
    "### Tokens"
   ]
  },
  {
   "cell_type": "code",
   "execution_count": null,
   "metadata": {},
   "outputs": [],
   "source": [
    "network = \"ethereum\"\n",
    "collection_id = \"0x036721e5a769cc48b3189efbb9cce4471e8a48b1\"\n",
    "url_tokens = \"https://api.reservoir.tools/tokens/v7\"\n",
    "path_tokens = os.path.join(path_output, \"test\")\n",
    "output_tokens_name = \"{network}_{collection_id}_{idx:06d}_token.json\""
   ]
  },
  {
   "cell_type": "code",
   "execution_count": null,
   "metadata": {},
   "outputs": [],
   "source": [
    "idx = 0\n",
    "continuation = \"\"\n",
    "fault_count = 0\n",
    "\n",
    "while True:\n",
    "    params = {\n",
    "        \"collection\": collection_id,\n",
    "        \"limit\": 1000,\n",
    "        \"sortBy\": \"updatedAt\",\n",
    "        \"includeAttributes\": True,\n",
    "    }\n",
    "\n",
    "    if continuation:\n",
    "        params[\"continuation\"] = continuation\n",
    "\n",
    "    resp = httpx.get(url_tokens, params=params, headers=headers, timeout=30)\n",
    "    resp.raise_for_status()\n",
    "\n",
    "    # 500번 에러일 떄 단순 요청 미스라 판단하고 다시 요청\n",
    "    if resp.status_code == 500:\n",
    "        if fault_count > 3:\n",
    "            time.sleep(10)\n",
    "            fault_count += 1\n",
    "            continue\n",
    "        elif fault_count > 6:\n",
    "            print(f\"Too many faults: {idx}, {network}, {collection_id}, {continuation}\")\n",
    "            break\n",
    "        else:\n",
    "            fault_count += 1\n",
    "            continue\n",
    "    # 429 에러일 떄 10초 대기 후 다시 요청\n",
    "    elif resp.status_code == 429:\n",
    "        time.sleep(10)\n",
    "        continue\n",
    "    else:\n",
    "        resp = resp.json()\n",
    "        fault_count = 0\n",
    "\n",
    "    write_json(\n",
    "        resp,\n",
    "        os.path.join(\n",
    "            path_tokens,\n",
    "            output_tokens_name.format(\n",
    "                network=network, collection_id=collection_id, idx=idx\n",
    "            ),\n",
    "        ),\n",
    "    )\n",
    "\n",
    "    print(\n",
    "        f\"idx: {idx}, Downloaded {len(resp['tokens'])} tokens, continuation: {resp['continuation']}\"\n",
    "    )\n",
    "    if len(resp[\"tokens\"]) < 1000 or resp[\"continuation\"] is None:\n",
    "        break\n",
    "\n",
    "    idx += 1\n",
    "    continuation = resp[\"continuation\"]"
   ]
  },
  {
   "cell_type": "markdown",
   "metadata": {},
   "source": [
    "118건 기준 6분 30초"
   ]
  },
  {
   "cell_type": "code",
   "execution_count": null,
   "metadata": {},
   "outputs": [],
   "source": [
    "def get_token(network, collection_id, continuation):\n",
    "    url_tokens = \"https://api.reservoir.tools/tokens/v7\"\n",
    "\n",
    "    resp = httpx.get(url_tokens, params=params, headers=headers, timeout=30)\n",
    "    resp.raise_for_status()"
   ]
  },
  {
   "cell_type": "markdown",
   "metadata": {},
   "source": [
    "### Transaction"
   ]
  },
  {
   "cell_type": "code",
   "execution_count": null,
   "metadata": {},
   "outputs": [],
   "source": [
    "network = \"ethereum\"\n",
    "collection_id = \"0x036721e5a769cc48b3189efbb9cce4471e8a48b1\"\n",
    "url_transaction = \"https://api.reservoir.tools/collections/activity/v6\"\n",
    "path_transaction = os.path.join(path_output, \"test\")\n",
    "output_transactions_name = \"{network}_{collection_id}_{idx:06d}_transactions.json\""
   ]
  },
  {
   "cell_type": "code",
   "execution_count": null,
   "metadata": {},
   "outputs": [],
   "source": [
    "idx = 0\n",
    "continuation = \"\"\n",
    "fault_count = 0\n",
    "\n",
    "while True:\n",
    "    params = {\n",
    "        \"collection\": collection_id,\n",
    "        \"limit\": 50,\n",
    "        \"types\": [\"sale\", \"transfer\", \"mint\"],\n",
    "    }\n",
    "\n",
    "    if continuation:\n",
    "        params[\"continuation\"] = continuation\n",
    "\n",
    "    print(params)\n",
    "\n",
    "    resp = httpx.get(url_transaction, params=params, headers=headers, timeout=30)\n",
    "\n",
    "    # 500번 에러일 떄 단순 요청 미스라 판단하고 다시 요청\n",
    "    if resp.status_code == 500:\n",
    "        if fault_count > 3:\n",
    "            time.sleep(10)\n",
    "            fault_count += 1\n",
    "            continue\n",
    "        elif fault_count > 6:\n",
    "            print(f\"Too many faults: {idx}, {network}, {collection_id}, {continuation}\")\n",
    "            break\n",
    "        else:\n",
    "            fault_count += 1\n",
    "            continue\n",
    "    # 429 에러일 떄 10초 대기 후 다시 요청\n",
    "    elif resp.status_code == 429:\n",
    "        time.sleep(10)\n",
    "        continue\n",
    "    else:\n",
    "        resp = resp.json()\n",
    "        fault_count = 0\n",
    "\n",
    "    write_json(\n",
    "        resp,\n",
    "        os.path.join(\n",
    "            path_transaction,\n",
    "            output_transactions_name.format(\n",
    "                network=network, collection_id=collection_id, idx=idx\n",
    "            ),\n",
    "        ),\n",
    "    )\n",
    "\n",
    "    print(\n",
    "        f\"idx: {idx}, Downloaded {len(resp['activities'])} activities, continuation: {resp['continuation']}\"\n",
    "    )\n",
    "    if len(resp[\"activities\"]) < 50 or resp[\"continuation\"] is None:\n",
    "        break\n",
    "\n",
    "    idx += 1\n",
    "    continuation = resp[\"continuation\"]"
   ]
  }
 ],
 "metadata": {
  "kernelspec": {
   "display_name": "study",
   "language": "python",
   "name": "python3"
  },
  "language_info": {
   "codemirror_mode": {
    "name": "ipython",
    "version": 3
   },
   "file_extension": ".py",
   "mimetype": "text/x-python",
   "name": "python",
   "nbconvert_exporter": "python",
   "pygments_lexer": "ipython3",
   "version": "3.11.5"
  }
 },
 "nbformat": 4,
 "nbformat_minor": 2
}
