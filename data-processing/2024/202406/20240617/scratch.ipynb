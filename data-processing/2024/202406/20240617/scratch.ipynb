{
 "cells": [
  {
   "cell_type": "code",
   "execution_count": 2,
   "metadata": {},
   "outputs": [],
   "source": [
    "import json\n",
    "\n",
    "def read_json(filename):\n",
    "    with open(filename, 'r') as f:\n",
    "        return json.load(f)"
   ]
  },
  {
   "cell_type": "code",
   "execution_count": 2,
   "metadata": {},
   "outputs": [],
   "source": [
    "d1 = read_json('data/ethereum_0x49cf6f5d44e70224e2e23fdcdd2c053f30ada28b_20240617133620_token.json')\n",
    "d2 = read_json('data/ethereum_0x49cf6f5d44e70224e2e23fdcdd2c053f30ada28b_20240617133622_token.json')"
   ]
  },
  {
   "cell_type": "code",
   "execution_count": 3,
   "metadata": {},
   "outputs": [
    {
     "data": {
      "text/plain": [
       "'MTcxNjgzMjA5NC44MjA2MDZfMHg0OWNmNmY1ZDQ0ZTcwMjI0ZTJlMjNmZGNkZDJjMDUzZjMwYWRhMjhiXzIwOTE='"
      ]
     },
     "execution_count": 3,
     "metadata": {},
     "output_type": "execute_result"
    }
   ],
   "source": [
    "d1[\"continuation\"]"
   ]
  },
  {
   "cell_type": "code",
   "execution_count": 4,
   "metadata": {},
   "outputs": [
    {
     "data": {
      "text/plain": [
       "'MTcxNjgzMjE2NC4zOTY2NjBfMHg0OWNmNmY1ZDQ0ZTcwMjI0ZTJlMjNmZGNkZDJjMDUzZjMwYWRhMjhiXzE4Nzg1'"
      ]
     },
     "execution_count": 4,
     "metadata": {},
     "output_type": "execute_result"
    }
   ],
   "source": [
    "d2[\"continuation\"]"
   ]
  },
  {
   "cell_type": "code",
   "execution_count": 5,
   "metadata": {},
   "outputs": [
    {
     "data": {
      "text/plain": [
       "False"
      ]
     },
     "execution_count": 5,
     "metadata": {},
     "output_type": "execute_result"
    }
   ],
   "source": [
    "d1[\"continuation\"] == d2[\"continuation\"]"
   ]
  },
  {
   "cell_type": "code",
   "execution_count": 8,
   "metadata": {},
   "outputs": [
    {
     "ename": "KeyError",
     "evalue": "'isBurnt'",
     "output_type": "error",
     "traceback": [
      "\u001b[0;31m---------------------------------------------------------------------------\u001b[0m",
      "\u001b[0;31mKeyError\u001b[0m                                  Traceback (most recent call last)",
      "Cell \u001b[0;32mIn[8], line 1\u001b[0m\n\u001b[0;32m----> 1\u001b[0m \u001b[43md1\u001b[49m\u001b[43m[\u001b[49m\u001b[38;5;124;43m\"\u001b[39;49m\u001b[38;5;124;43mtokens\u001b[39;49m\u001b[38;5;124;43m\"\u001b[39;49m\u001b[43m]\u001b[49m\u001b[43m[\u001b[49m\u001b[38;5;241;43m0\u001b[39;49m\u001b[43m]\u001b[49m\u001b[43m[\u001b[49m\u001b[38;5;124;43m\"\u001b[39;49m\u001b[38;5;124;43misBurnt\u001b[39;49m\u001b[38;5;124;43m\"\u001b[39;49m\u001b[43m]\u001b[49m\n",
      "\u001b[0;31mKeyError\u001b[0m: 'isBurnt'"
     ]
    }
   ],
   "source": [
    "d1[\"tokens\"][0][\"isBurnt\"]"
   ]
  },
  {
   "cell_type": "code",
   "execution_count": 3,
   "metadata": {},
   "outputs": [
    {
     "data": {
      "text/plain": [
       "'MTcwMjM1MDgxMy4zNDM3MjVfMHg1N2YxODg3YThiZjE5YjE0ZmMwZGY2ZmQ5YjJhY2M5YWYxNDdlYTg1XzMzNTk4NjY3ODQzOTI3NDY0NDQwODQ4MzMyNzAyNzIxNDk1NTIwNTc3MTQxNDU4NDEwOTkyNDI2NjQ1NDg2MzU1NzgyOTEyMjUzMDQ1'"
      ]
     },
     "execution_count": 3,
     "metadata": {},
     "output_type": "execute_result"
    }
   ],
   "source": [
    "d3 = read_json('data/ethereum_0x57f1887a8bf19b14fc0df6fd9b2acc9af147ea85_20240617174407_token.json')\n",
    "d3[\"continuation\"]"
   ]
  }
 ],
 "metadata": {
  "kernelspec": {
   "display_name": "study",
   "language": "python",
   "name": "python3"
  },
  "language_info": {
   "codemirror_mode": {
    "name": "ipython",
    "version": 3
   },
   "file_extension": ".py",
   "mimetype": "text/x-python",
   "name": "python",
   "nbconvert_exporter": "python",
   "pygments_lexer": "ipython3",
   "version": "3.11.5"
  }
 },
 "nbformat": 4,
 "nbformat_minor": 2
}
