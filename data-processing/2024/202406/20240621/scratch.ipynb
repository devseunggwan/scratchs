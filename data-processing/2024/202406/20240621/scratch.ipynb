{
 "cells": [
  {
   "cell_type": "code",
   "execution_count": null,
   "metadata": {},
   "outputs": [],
   "source": [
    "import os\n",
    "\n",
    "import boto3\n",
    "from dotenv import load_dotenv\n",
    "load_dotenv()"
   ]
  },
  {
   "cell_type": "code",
   "execution_count": null,
   "metadata": {},
   "outputs": [],
   "source": [
    "def list_objects(s3_client, bucket_name, prefix):\n",
    "    paginator = s3_client.get_paginator('list_objects_v2')\n",
    "    page_iterator = paginator.paginate(Bucket=bucket_name, Prefix=prefix)\n",
    "    \n",
    "    object_keys = []\n",
    "    for page in page_iterator:\n",
    "        if 'Contents' in page:\n",
    "            object_keys.extend([obj['Key'] for obj in page['Contents']])\n",
    "    \n",
    "    return object_keys\n",
    "\n",
    "def move_objects(s3_client, bucket_name, source_prefix, destination_prefix):\n",
    "    objects_to_move = list_objects(s3_client, bucket_name, source_prefix)\n",
    "    \n",
    "    for obj_key in objects_to_move:\n",
    "        copy_source = {'Bucket': bucket_name, 'Key': obj_key}\n",
    "        destination_key = obj_key.replace(source_prefix, destination_prefix, 1)\n",
    "        \n",
    "        # 객체 복사\n",
    "        s3_client.copy_object(CopySource=copy_source, Bucket=bucket_name, Key=destination_key)\n",
    "        \n",
    "        # 원본 객체 삭제\n",
    "        s3_client.delete_object(Bucket=bucket_name, Key=obj_key)\n",
    "        \n",
    "        print(f'Moved {obj_key} to {destination_key}')"
   ]
  },
  {
   "cell_type": "code",
   "execution_count": null,
   "metadata": {},
   "outputs": [],
   "source": [
    "s3_client = boto3.client('s3', aws_access_key_id=os.getenv('AWS_ACCESS_KEY_ID'), aws_secret_access_key=os.getenv('AWS_SECRET_ACCESS_KEY'))\n",
    "\n",
    "# 설정\n",
    "bucket_name = 'hstns-apim-data-s3'\n",
    "source_destination_prefixs = [\n",
    "    ('collection_whitelist/mint', 'collection_whitelist/mint/20240620'), \n",
    "    ('collection_whitelist/20240620/mint', 'collection_whitelist/mint/20240620'), \n",
    "    ('collection_whitelist/sale', 'collection_whitelist/sale/20240620'), \n",
    "    ('collection_whitelist/20240620/sale', 'collection_whitelist/sale/20240620'), \n",
    "    ('collection_whitelist/token', \"collection_whitelist/token/20240620\"), \n",
    "    ('collection_whitelist/transfer', \"collection_whitelist/transfer/20240620\")\n",
    "]  # 이동할 파일들이 있는 폴더\n",
    "\n",
    "for source_prefix, destination_prefix in source_destination_prefixs:\n",
    "    # 객체 이동 실행\n",
    "    move_objects(s3_client, bucket_name, source_prefix, destination_prefix)"
   ]
  }
 ],
 "metadata": {
  "kernelspec": {
   "display_name": "study",
   "language": "python",
   "name": "python3"
  },
  "language_info": {
   "codemirror_mode": {
    "name": "ipython",
    "version": 3
   },
   "file_extension": ".py",
   "mimetype": "text/x-python",
   "name": "python",
   "nbconvert_exporter": "python",
   "pygments_lexer": "ipython3",
   "version": "3.11.5"
  }
 },
 "nbformat": 4,
 "nbformat_minor": 2
}
