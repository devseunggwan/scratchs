{
 "cells": [
  {
   "cell_type": "code",
   "execution_count": null,
   "metadata": {},
   "outputs": [],
   "source": [
    "import os\n",
    "import json\n",
    "import random\n",
    "\n",
    "import pandas as pd\n",
    "from lightning_whisper_mlx import LightningWhisperMLX\n",
    "from tqdm import tqdm\n",
    "\n",
    "from langchain_community.chat_models import ChatOllama\n",
    "from langchain_core.output_parsers import StrOutputParser\n",
    "from langchain_core.prompts import ChatPromptTemplate"
   ]
  },
  {
   "cell_type": "code",
   "execution_count": null,
   "metadata": {},
   "outputs": [],
   "source": [
    "def write_json(data, filename):\n",
    "    with open(filename, \"w\") as f:\n",
    "        json.dump(data, f, ensure_ascii=False)"
   ]
  },
  {
   "cell_type": "markdown",
   "metadata": {},
   "source": [
    "### 음성 데이터 변환"
   ]
  },
  {
   "cell_type": "code",
   "execution_count": null,
   "metadata": {},
   "outputs": [],
   "source": [
    "model = \"large-v3\"\n",
    "\n",
    "path_voice = \"./data/voices\"\n",
    "list_voice = tqdm(os.listdir(path_voice))\n",
    "\n",
    "whisper = LightningWhisperMLX(model=model, batch_size=12, quant=None)\n",
    "result = []\n",
    "\n",
    "for voice_file in list_voice:\n",
    "    list_voice.set_description(voice_file)\n",
    "\n",
    "    path_voice_file = os.path.join(path_voice, voice_file)\n",
    "    translate = whisper.transcribe(audio_path=path_voice_file)\n",
    "\n",
    "    resp = {\"file_name\": voice_file, \"original\": translate}\n",
    "\n",
    "    write_json(resp, f\"./data/output/{voice_file}.json\")\n",
    "    result.append(resp)"
   ]
  },
  {
   "cell_type": "code",
   "execution_count": null,
   "metadata": {},
   "outputs": [],
   "source": [
    "import duckdb\n",
    "\n",
    "df = duckdb.query(\"SELECT * FROM './data/output/*.json'\").df()\n",
    "\n",
    "df_file_name = df[\"file_name\"]\n",
    "df = pd.json_normalize(df[\"original\"])\n",
    "df = pd.concat([df_file_name, df], axis=1)\n",
    "df"
   ]
  },
  {
   "cell_type": "code",
   "execution_count": null,
   "metadata": {},
   "outputs": [],
   "source": [
    "df.loc[~df[\"language\"].str.contains(\"ko\")]"
   ]
  },
  {
   "cell_type": "code",
   "execution_count": null,
   "metadata": {},
   "outputs": [],
   "source": [
    "# del df[\"segments\"]\n",
    "\n",
    "df.to_csv(\"./data/output.csv\", index=False)"
   ]
  },
  {
   "cell_type": "markdown",
   "metadata": {},
   "source": [
    "### 프롬프트 테스트"
   ]
  },
  {
   "cell_type": "code",
   "execution_count": null,
   "metadata": {},
   "outputs": [],
   "source": [
    "prompt_system = \"\"\"\n",
    "<요청사항>\n",
    "- 당신은 개인정보 보호를 위해 수정 요청을 받았습니다.\n",
    "- 답변은 한국어(korean)로 작성 부탁드립니다.\n",
    "- <검토 내용>을 확인하고 개인정보라고 판단되는 내용을 마스킹합니다. \n",
    "- 마스킹은 별표(*)로만 처리하고 개인정보를 지우셔야 됩니다. (예시: 홍길동 -> ***)\n",
    "- 마스킹 후 <검토 내용> 전문 전체를 마스킹이 된 답변으로 제공해야 합니다.\n",
    "- 미스킹을 하지않고 답변을 낼 경우 개인정보 보호법에 위반될 수 있습니다.\n",
    "- 검토 내용을 요약하지 마세요\n",
    "\n",
    "<마스킹해야 하는 개인정보 목록>\n",
    "- 이름, 주민등록번호, 연락처, 주소, 이메일주소, 계좌번호, 신용카드번호, 생년월일, 성별, 소속, 사업자등록번호\n",
    "\"\"\"\n",
    "\n",
    "prompt_user = \"\"\"\n",
    "이하 내용 검토 후 한국어로 작성 부탁드립니다.\n",
    "\n",
    "<검토 내용>\n",
    "{input}\n",
    "\"\"\""
   ]
  },
  {
   "cell_type": "code",
   "execution_count": null,
   "metadata": {},
   "outputs": [],
   "source": [
    "llm = ChatOllama(model=\"solar\")\n",
    "prompt = ChatPromptTemplate.from_messages(\n",
    "    [\n",
    "        (\"system\", prompt_system),\n",
    "        (\"human\", prompt_user),\n",
    "    ]\n",
    ")\n",
    "chain = prompt | llm | StrOutputParser()"
   ]
  },
  {
   "cell_type": "code",
   "execution_count": null,
   "metadata": {},
   "outputs": [],
   "source": [
    "df = pd.read_csv(\"./data/voc-result-whisper-large-v3.csv\")"
   ]
  },
  {
   "cell_type": "code",
   "execution_count": null,
   "metadata": {},
   "outputs": [],
   "source": [
    "text = df.iloc[random.randint(0, len(df))][\"text\"]\n",
    "print(chain.invoke({\"input\": text}))"
   ]
  }
 ],
 "metadata": {
  "kernelspec": {
   "display_name": "study",
   "language": "python",
   "name": "python3"
  },
  "language_info": {
   "codemirror_mode": {
    "name": "ipython",
    "version": 3
   },
   "file_extension": ".py",
   "mimetype": "text/x-python",
   "name": "python",
   "nbconvert_exporter": "python",
   "pygments_lexer": "ipython3",
   "version": "3.11.5"
  }
 },
 "nbformat": 4,
 "nbformat_minor": 2
}
