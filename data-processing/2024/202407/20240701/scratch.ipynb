{
 "cells": [
  {
   "cell_type": "code",
   "execution_count": null,
   "metadata": {},
   "outputs": [],
   "source": [
    "import os\n",
    "import json\n",
    "\n",
    "import pandas as pd\n",
    "from lightning_whisper_mlx import LightningWhisperMLX\n",
    "from tqdm import tqdm"
   ]
  },
  {
   "cell_type": "code",
   "execution_count": null,
   "metadata": {},
   "outputs": [],
   "source": [
    "def write_json(data, filename):\n",
    "    with open(filename, \"w\") as f:\n",
    "        json.dump(data, f, ensure_ascii=False)"
   ]
  },
  {
   "cell_type": "markdown",
   "metadata": {},
   "source": [
    "### 전처리 이상 데이터 선별 및 재 변환"
   ]
  },
  {
   "cell_type": "code",
   "execution_count": null,
   "metadata": {},
   "outputs": [],
   "source": [
    "df = pd.read_csv(\"./1st/voc-result-whisper-large-v3.csv\")\n",
    "df"
   ]
  },
  {
   "cell_type": "code",
   "execution_count": null,
   "metadata": {},
   "outputs": [],
   "source": [
    "def segment_text(df, max_len=100):\n",
    "    for _, row in df.iterrows():\n",
    "        print(row[\"file_name\"])\n",
    "        for i in range(0, len(row[\"text\"]), max_len):\n",
    "            print(row[\"text\"][i : i + max_len])\n",
    "\n",
    "        print(\"-----------------------------\")"
   ]
  },
  {
   "cell_type": "code",
   "execution_count": null,
   "metadata": {},
   "outputs": [],
   "source": [
    "reprocessing_list = [\n",
    "    \"1438481_5113_5113_20240502_135754.mp3\",\n",
    "    \"1438504_5116_5116_20240502_140852.mp3\",\n",
    "    \"1439285_5110_5110_20240503_093824.mp3\",\n",
    "    \"1439507_5113_5113_20240503_111528.mp3\",\n",
    "    \"1439523_5113_5113_20240503_111907.mp3\",\n",
    "    \"1439596_5108_5108_20240503_115135.mp3\",\n",
    "    \"1439827_5110_5110_20240503_135043.mp3\",\n",
    "    \"1439853_5112_5112_20240503_140658.mp3\",\n",
    "    \"1439865_5111_5111_20240503_141642.mp3\",\n",
    "]"
   ]
  },
  {
   "cell_type": "code",
   "execution_count": null,
   "metadata": {},
   "outputs": [],
   "source": [
    "model = \"large-v3\"\n",
    "\n",
    "path_voice = \"./data/voices\"\n",
    "list_voice = tqdm(reprocessing_list)\n",
    "\n",
    "whisper = LightningWhisperMLX(model=model, batch_size=12, quant=None)\n",
    "result = []\n",
    "\n",
    "for voice_file in list_voice:\n",
    "    list_voice.set_description(voice_file)\n",
    "\n",
    "    path_voice_file = os.path.join(path_voice, voice_file)\n",
    "    translate = whisper.transcribe(audio_path=path_voice_file)\n",
    "\n",
    "    resp = {\"file_name\": voice_file, \"original\": translate}\n",
    "\n",
    "    write_json(resp, f\"./data/output/{voice_file}.json\")\n",
    "    result.append(resp)"
   ]
  },
  {
   "cell_type": "code",
   "execution_count": null,
   "metadata": {},
   "outputs": [],
   "source": [
    "import duckdb\n",
    "\n",
    "df = duckdb.query(\"SELECT * FROM './data/output/*.json'\").df()\n",
    "\n",
    "df_file_name = df[\"file_name\"]\n",
    "df = pd.json_normalize(df[\"original\"])\n",
    "df = pd.concat([df_file_name, df], axis=1)\n",
    "df"
   ]
  },
  {
   "cell_type": "code",
   "execution_count": null,
   "metadata": {},
   "outputs": [],
   "source": [
    "del df[\"segments\"]\n",
    "df.to_csv(\"./data/output.csv\", index=False)"
   ]
  },
  {
   "cell_type": "code",
   "execution_count": null,
   "metadata": {},
   "outputs": [],
   "source": [
    "segment_text(df)"
   ]
  },
  {
   "cell_type": "markdown",
   "metadata": {},
   "source": [
    "### 기존 전처리 데이터 업로드를 위한 작업"
   ]
  },
  {
   "cell_type": "code",
   "execution_count": null,
   "metadata": {},
   "outputs": [],
   "source": [
    "df = pd.read_csv(\"./1st/voc-result-whisper-large-v3.csv\")\n",
    "df"
   ]
  },
  {
   "cell_type": "code",
   "execution_count": null,
   "metadata": {},
   "outputs": [],
   "source": [
    "df[\"model_name\"] = \"large-v3\"\n",
    "df[\"extract_time\"] = None\n",
    "\n",
    "del df[\"language\"]"
   ]
  },
  {
   "cell_type": "code",
   "execution_count": null,
   "metadata": {},
   "outputs": [],
   "source": [
    "df"
   ]
  },
  {
   "cell_type": "code",
   "execution_count": null,
   "metadata": {},
   "outputs": [],
   "source": [
    "df = pd.concat(\n",
    "    [df[\"file_name\"], df[\"model_name\"], df[\"extract_time\"], df[\"text\"]], axis=1\n",
    ")\n",
    "df"
   ]
  },
  {
   "cell_type": "code",
   "execution_count": null,
   "metadata": {},
   "outputs": [],
   "source": [
    "def add_quotes(val):\n",
    "    if isinstance(val, str):\n",
    "        return f'\"{val}\"'\n",
    "    return val"
   ]
  },
  {
   "cell_type": "code",
   "execution_count": null,
   "metadata": {},
   "outputs": [],
   "source": [
    "quoted_df = df.map(add_quotes)\n",
    "quoted_df"
   ]
  },
  {
   "cell_type": "code",
   "execution_count": null,
   "metadata": {},
   "outputs": [],
   "source": [
    "df.to_csv(\"voc-test-sample-2nd.csv\", index=False, quotechar='\"', quoting=1)"
   ]
  },
  {
   "cell_type": "code",
   "execution_count": null,
   "metadata": {},
   "outputs": [],
   "source": [
    "quoted_df.to_csv(\"voc-test-sample-2nd.csv\", index=False)"
   ]
  },
  {
   "cell_type": "code",
   "execution_count": null,
   "metadata": {},
   "outputs": [],
   "source": []
  }
 ],
 "metadata": {
  "kernelspec": {
   "display_name": "study",
   "language": "python",
   "name": "python3"
  },
  "language_info": {
   "codemirror_mode": {
    "name": "ipython",
    "version": 3
   },
   "file_extension": ".py",
   "mimetype": "text/x-python",
   "name": "python",
   "nbconvert_exporter": "python",
   "pygments_lexer": "ipython3",
   "version": "3.11.5"
  }
 },
 "nbformat": 4,
 "nbformat_minor": 2
}
