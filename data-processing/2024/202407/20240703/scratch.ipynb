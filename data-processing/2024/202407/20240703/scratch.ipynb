{
 "cells": [
  {
   "cell_type": "code",
   "execution_count": null,
   "metadata": {},
   "outputs": [],
   "source": [
    "import json\n",
    "\n",
    "import duckdb\n",
    "import pandas as pd"
   ]
  },
  {
   "cell_type": "markdown",
   "metadata": {},
   "source": [
    "### 데이터 전처리 및 정리"
   ]
  },
  {
   "cell_type": "code",
   "execution_count": null,
   "metadata": {},
   "outputs": [],
   "source": [
    "df_res = duckdb.read_csv(\"./data/2024-07-03 1_19pm.tsv\", header=True, delimiter=\"\\t\")\n",
    "df_res = df_res.to_df()\n",
    "df_res[\"FILE_NAME\"] = df_res[\"FILE_NAME\"].apply(lambda x: x.replace('\"', \"\"))\n",
    "df_res"
   ]
  },
  {
   "cell_type": "code",
   "execution_count": null,
   "metadata": {},
   "outputs": [],
   "source": [
    "df_origin = duckdb.read_csv(\n",
    "    [\"data/voc-test-sample-2nd.csv\", \"data/voc-test-sample.csv\"],\n",
    "    header=True,\n",
    "    delimiter=\",\",\n",
    "    quotechar='\"',\n",
    ")\n",
    "df_origin = df_origin.to_df()\n",
    "df_origin = df_origin.apply(lambda x: x.str.replace('\"', \"\"))\n",
    "df_origin"
   ]
  },
  {
   "cell_type": "code",
   "execution_count": null,
   "metadata": {},
   "outputs": [],
   "source": [
    "df = df_origin.merge(df_res, left_on=\"file_name\", right_on=\"FILE_NAME\", how=\"inner\")\n",
    "df"
   ]
  },
  {
   "cell_type": "code",
   "execution_count": null,
   "metadata": {},
   "outputs": [],
   "source": [
    "results = []\n",
    "\n",
    "for idx, row in df.iterrows():\n",
    "    result = json.loads(row[\"RES\"])\n",
    "\n",
    "    file_name = row[\"FILE_NAME\"]\n",
    "    original = row[\"text\"]\n",
    "    model = {\n",
    "        \"asr\": \"whisper-large-v3\",\n",
    "        \"llm\": {\"model\": result[\"model\"], \"usage\": result[\"usage\"]},\n",
    "    }\n",
    "\n",
    "    result = json.loads(json.loads(row[\"RES\"])[\"choices\"][0][\"messages\"])\n",
    "\n",
    "    temp = []\n",
    "\n",
    "    if isinstance(result[\"title\"], list):\n",
    "        result[\"title\"] = result[\"title\"][0]\n",
    "\n",
    "    for content in result[\"contents\"]:\n",
    "        if isinstance(content, list):\n",
    "            temp.append(content[0])\n",
    "        else:\n",
    "            temp.append(content)\n",
    "\n",
    "    result[\"contents\"] = temp\n",
    "    temp = []\n",
    "\n",
    "    for category in result[\"categories\"]:\n",
    "        if isinstance(category, list):\n",
    "            temp.append(category[0])\n",
    "        else:\n",
    "            temp.append(category)\n",
    "\n",
    "    result[\"categories\"] = temp\n",
    "    temp = []\n",
    "\n",
    "    for tag in result[\"tags\"]:\n",
    "        if isinstance(tag, list):\n",
    "            temp.append(tag[0])\n",
    "        else:\n",
    "            temp.append(tag)\n",
    "\n",
    "    result[\"tags\"] = temp\n",
    "    temp = []\n",
    "\n",
    "    for category in result[\"sentiment\"][\"categories\"]:\n",
    "        if isinstance(category, list):\n",
    "            temp.append(category[0])\n",
    "        else:\n",
    "            temp.append(category)\n",
    "\n",
    "    result[\"sentiment\"][\"categories\"] = temp\n",
    "    temp = []\n",
    "\n",
    "    if isinstance(result[\"sentiment\"][\"description\"], list):\n",
    "        result[\"sentiment\"][\"description\"] = result[\"sentiment\"][\"description\"][0]\n",
    "\n",
    "    result = {\"file_name\": file_name, \"original\": original} | result | {\"model\": model}\n",
    "\n",
    "    print(result)\n",
    "\n",
    "    results.append(result)"
   ]
  },
  {
   "cell_type": "code",
   "execution_count": null,
   "metadata": {},
   "outputs": [],
   "source": [
    "datas = {\"data\": results}\n",
    "\n",
    "with open(\"data.json\", \"w\") as f:\n",
    "    json.dump(datas, f, ensure_ascii=False, indent=4)"
   ]
  },
  {
   "cell_type": "markdown",
   "metadata": {},
   "source": [
    "### 데이터 분석"
   ]
  },
  {
   "cell_type": "code",
   "execution_count": null,
   "metadata": {},
   "outputs": [],
   "source": [
    "df = duckdb.read_json(\"data.json\")\n",
    "# df = pd.DataFrame()\n",
    "\n",
    "df = pd.json_normalize(df[\"data\"].to_df()[\"data\"][0])\n",
    "df"
   ]
  }
 ],
 "metadata": {
  "kernelspec": {
   "display_name": "study",
   "language": "python",
   "name": "python3"
  },
  "language_info": {
   "codemirror_mode": {
    "name": "ipython",
    "version": 3
   },
   "file_extension": ".py",
   "mimetype": "text/x-python",
   "name": "python",
   "nbconvert_exporter": "python",
   "pygments_lexer": "ipython3",
   "version": "3.11.5"
  }
 },
 "nbformat": 4,
 "nbformat_minor": 2
}
