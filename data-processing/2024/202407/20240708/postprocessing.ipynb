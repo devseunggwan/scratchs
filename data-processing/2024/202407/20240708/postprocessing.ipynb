{
 "cells": [
  {
   "cell_type": "code",
   "execution_count": null,
   "metadata": {},
   "outputs": [],
   "source": [
    "import json\n",
    "\n",
    "import duckdb"
   ]
  },
  {
   "cell_type": "code",
   "execution_count": null,
   "metadata": {},
   "outputs": [],
   "source": [
    "df = duckdb.read_csv(\n",
    "    [\"./data/voc-test-sample.csv\", \"./data/voc-test-sample-2nd.csv\"],\n",
    "    header=True,\n",
    "    delimiter=\",\",\n",
    "    quotechar='\"',\n",
    ").to_df()\n",
    "df = df.replace('\"', \"\", regex=True)\n",
    "df = df[[\"file_name\", \"text\"]].values.tolist()\n",
    "df"
   ]
  },
  {
   "cell_type": "code",
   "execution_count": null,
   "metadata": {},
   "outputs": [],
   "source": [
    "with open(\"./results.json\", \"r\") as f:\n",
    "    results = json.load(f)\n",
    "\n",
    "results"
   ]
  },
  {
   "cell_type": "code",
   "execution_count": null,
   "metadata": {},
   "outputs": [],
   "source": [
    "new_results = []\n",
    "\n",
    "for asr, llm in zip(df, results[\"data\"]):\n",
    "    new_result = {\"file_name\": asr[0], \"original_text\": asr[1]} | llm\n",
    "\n",
    "    new_results.append(new_result)\n",
    "\n",
    "new_results"
   ]
  },
  {
   "cell_type": "code",
   "execution_count": null,
   "metadata": {},
   "outputs": [],
   "source": [
    "with open(\"./data/voc-data-apply-llm-2nd.json\", \"w\") as f:\n",
    "    json.dump(new_results, f, indent=4, ensure_ascii=False)"
   ]
  }
 ],
 "metadata": {
  "kernelspec": {
   "display_name": "study",
   "language": "python",
   "name": "python3"
  },
  "language_info": {
   "codemirror_mode": {
    "name": "ipython",
    "version": 3
   },
   "file_extension": ".py",
   "mimetype": "text/x-python",
   "name": "python",
   "nbconvert_exporter": "python",
   "pygments_lexer": "ipython3",
   "version": "3.11.5"
  }
 },
 "nbformat": 4,
 "nbformat_minor": 2
}
