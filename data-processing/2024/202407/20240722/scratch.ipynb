{
 "cells": [
  {
   "cell_type": "code",
   "execution_count": null,
   "metadata": {},
   "outputs": [],
   "source": [
    "import os\n",
    "\n",
    "import duckdb\n",
    "import httpx\n",
    "import pandas as pd\n",
    "from dotenv import load_dotenv\n",
    "\n",
    "load_dotenv()"
   ]
  },
  {
   "cell_type": "markdown",
   "metadata": {},
   "source": [
    "### 데이터 다운로드"
   ]
  },
  {
   "cell_type": "code",
   "execution_count": null,
   "metadata": {},
   "outputs": [],
   "source": [
    "def get_httpx_client():\n",
    "    transport = httpx.HTTPTransport(retries=3)\n",
    "    client = httpx.Client(transport=transport)\n",
    "\n",
    "    return client\n",
    "\n",
    "\n",
    "def get_collection_list_from_reservoir(network, client: httpx.Client):\n",
    "    result_data = []\n",
    "\n",
    "    network_domains = {\"ethereum\": \"api\", \"polygon\": \"api-polygon\", \"bnb\": \"api-bsc\"}\n",
    "\n",
    "    assert network in network_domains, f\"ambigious network: {network}\"\n",
    "\n",
    "    API_KEY = os.getenv(\"RESERVOIR_API_KEY\")\n",
    "    headers = {\"accept\": \"*/*\", \"x-api-key\": API_KEY}\n",
    "    params = {\n",
    "        \"limit\": 20,\n",
    "        \"sortBy\": \"1DayVolume\",\n",
    "        \"excludeSpam\": True,\n",
    "        \"excludeNsfw\": True,\n",
    "    }\n",
    "\n",
    "    url = f\"https://{network_domains[network]}.reservoir.tools/collections/v7\"\n",
    "    resp = None\n",
    "    while True:\n",
    "        if resp is not None:\n",
    "            params[\"continuation\"] = resp.get(\"continuation\")\n",
    "\n",
    "        resp = client.get(url=url, params=params, headers=headers, timeout=30)\n",
    "        resp = resp.json()\n",
    "\n",
    "        collections = [\n",
    "            collection\n",
    "            for collection in resp.get(\"collections\")\n",
    "            if collection[\"volume\"][\"30day\"] != 0\n",
    "        ]\n",
    "        result_data.extend(collections)\n",
    "\n",
    "        if len(collections) != 20:\n",
    "            break\n",
    "\n",
    "    return result_data\n",
    "\n",
    "\n",
    "def write_parquet(data, filename):\n",
    "    pd.DataFrame(data).to_parquet(filename, index=False, compression=\"gzip\")"
   ]
  },
  {
   "cell_type": "code",
   "execution_count": null,
   "metadata": {},
   "outputs": [],
   "source": [
    "network = \"ethereum\"\n",
    "\n",
    "resp = get_collection_list_from_reservoir(network, get_httpx_client())\n",
    "resp"
   ]
  },
  {
   "cell_type": "code",
   "execution_count": 23,
   "metadata": {},
   "outputs": [],
   "source": [
    "df = pd.DataFrame(resp).to_parquet(\"./data/collections_df.parquet\")"
   ]
  },
  {
   "cell_type": "code",
   "execution_count": null,
   "metadata": {},
   "outputs": [],
   "source": [
    "network = \"ethereum\"\n",
    "df = pd.read_json(f\"./data/{network}_collections.json\")\n",
    "df.to_parquet(\n",
    "    f\"./data/{network}_collections_pd.parquet\", index=False, compression=\"gzip\"\n",
    ")"
   ]
  },
  {
   "cell_type": "code",
   "execution_count": null,
   "metadata": {},
   "outputs": [],
   "source": [
    "df = pd.read_parquet(f\"./data/{network}_collections_pd.parquet\")\n",
    "df"
   ]
  },
  {
   "cell_type": "code",
   "execution_count": null,
   "metadata": {},
   "outputs": [],
   "source": [
    "df = pd.read_parquet(f\"./{network}_collections.parquet\")\n",
    "df"
   ]
  },
  {
   "cell_type": "markdown",
   "metadata": {},
   "source": [
    "### 데이터 가공"
   ]
  },
  {
   "cell_type": "code",
   "execution_count": null,
   "metadata": {},
   "outputs": [],
   "source": [
    "df = duckdb.read_json(\"./data/ethereum_collections.json\")\n",
    "df"
   ]
  },
  {
   "cell_type": "code",
   "execution_count": null,
   "metadata": {},
   "outputs": [],
   "source": [
    "df.to_parquet(\"ethereum_collections.parquet\", compression=\"gzip\")"
   ]
  },
  {
   "cell_type": "code",
   "execution_count": null,
   "metadata": {},
   "outputs": [],
   "source": [
    "df = duckdb.read_parquet(\"ethereum_collections.parquet\")\n",
    "\n",
    "df.to_arrow_table().schema()"
   ]
  },
  {
   "cell_type": "code",
   "execution_count": null,
   "metadata": {},
   "outputs": [],
   "source": []
  }
 ],
 "metadata": {
  "kernelspec": {
   "display_name": "study",
   "language": "python",
   "name": "python3"
  },
  "language_info": {
   "codemirror_mode": {
    "name": "ipython",
    "version": 3
   },
   "file_extension": ".py",
   "mimetype": "text/x-python",
   "name": "python",
   "nbconvert_exporter": "python",
   "pygments_lexer": "ipython3",
   "version": "3.11.5"
  }
 },
 "nbformat": 4,
 "nbformat_minor": 2
}
