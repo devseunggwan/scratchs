{
 "cells": [
  {
   "cell_type": "code",
   "execution_count": 1,
   "metadata": {},
   "outputs": [],
   "source": [
    "import pandas as pd"
   ]
  },
  {
   "cell_type": "code",
   "execution_count": null,
   "metadata": {},
   "outputs": [],
   "source": [
    "pd.DataFrame(\n",
    "    pd.concat(\n",
    "        [\n",
    "            pd.read_json(\"./data/20240502.json\", orient=\"records\")[\"data\"],\n",
    "            pd.read_json(\"./data/20240503.json\", orient=\"records\")[\"data\"],\n",
    "        ]\n",
    "    ).to_list()\n",
    ").rename(columns={\"sentences\": \"original_text\"}).to_csv(\n",
    "    \"voc-aws-transcribe.csv\", index=False, sep=\"\\t\", encoding=\"utf-8\"\n",
    ")"
   ]
  },
  {
   "cell_type": "code",
   "execution_count": 2,
   "metadata": {},
   "outputs": [],
   "source": [
    "pd.DataFrame(\n",
    "    pd.concat(\n",
    "        [\n",
    "            pd.read_json(\"./data/20240502.json\", orient=\"records\")[\"data\"],\n",
    "            pd.read_json(\"./data/20240503.json\", orient=\"records\")[\"data\"],\n",
    "        ]\n",
    "    ).to_list()\n",
    ").rename(columns={\"sentences\": \"original_text\"}).to_excel(\"voc-aws-transcribe.xlsx\")"
   ]
  }
 ],
 "metadata": {
  "kernelspec": {
   "display_name": "study",
   "language": "python",
   "name": "python3"
  },
  "language_info": {
   "codemirror_mode": {
    "name": "ipython",
    "version": 3
   },
   "file_extension": ".py",
   "mimetype": "text/x-python",
   "name": "python",
   "nbconvert_exporter": "python",
   "pygments_lexer": "ipython3",
   "version": "3.11.5"
  }
 },
 "nbformat": 4,
 "nbformat_minor": 2
}
