{
 "cells": [
  {
   "cell_type": "code",
   "execution_count": null,
   "metadata": {},
   "outputs": [],
   "source": [
    "import pandas as pd"
   ]
  },
  {
   "cell_type": "code",
   "execution_count": null,
   "metadata": {},
   "outputs": [],
   "source": [
    "file_name = \"file-name\"\n",
    "date = \"YYYY-MM-DD\"\n",
    "\n",
    "df = pd.read_csv(f\"data/{file_name}\", compression=\"gzip\", sep=\"\\t\")\n",
    "df = df.loc[df[\"Title\"].isin([\"ENTA\", \"엔타 Enta : 크리에이터 아트 커뮤니티\"])]\n",
    "df.to_csv(\n",
    "    f\"./output/salesReports_DAILY-SALES-SUMMARY_{date}.csv\",\n",
    "    index=False,\n",
    "    encoding=\"utf-8\",\n",
    ")\n",
    "\n",
    "df"
   ]
  },
  {
   "cell_type": "code",
   "execution_count": null,
   "metadata": {},
   "outputs": [],
   "source": [
    "file_name = \"file-name\"\n",
    "date = \"YYYY-MM-DD\"\n",
    "\n",
    "df = pd.read_csv(f\"data/{file_name}\", sep=\"\\t\")\n",
    "df = df.loc[df[\"Title\"].isin([\"ENTA\", \"엔타 Enta : 크리에이터 아트 커뮤니티\"])]\n",
    "df.to_csv(\n",
    "    f\"./output/salesReports_DAILY-SALES-SUMMARY_{date}.csv\",\n",
    "    index=False,\n",
    "    encoding=\"utf-8\",\n",
    ")\n",
    "\n",
    "df"
   ]
  }
 ],
 "metadata": {
  "kernelspec": {
   "display_name": "study",
   "language": "python",
   "name": "python3"
  },
  "language_info": {
   "codemirror_mode": {
    "name": "ipython",
    "version": 3
   },
   "file_extension": ".py",
   "mimetype": "text/x-python",
   "name": "python",
   "nbconvert_exporter": "python",
   "pygments_lexer": "ipython3",
   "version": "3.11.5"
  }
 },
 "nbformat": 4,
 "nbformat_minor": 2
}
