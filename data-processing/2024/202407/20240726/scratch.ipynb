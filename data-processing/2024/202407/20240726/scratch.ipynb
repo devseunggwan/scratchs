{
 "cells": [
  {
   "cell_type": "code",
   "execution_count": null,
   "metadata": {},
   "outputs": [],
   "source": [
    "%pip install ipfshttpclient"
   ]
  },
  {
   "cell_type": "code",
   "execution_count": 15,
   "metadata": {},
   "outputs": [
    {
     "data": {
      "text/plain": [
       "True"
      ]
     },
     "execution_count": 15,
     "metadata": {},
     "output_type": "execute_result"
    }
   ],
   "source": [
    "import json\n",
    "\n",
    "import httpx\n",
    "from dotenv import load_dotenv\n",
    "\n",
    "load_dotenv(override=True)"
   ]
  },
  {
   "cell_type": "markdown",
   "metadata": {},
   "source": [
    "### 로컬에 IPFS 설치해서 다운로드 받아보기"
   ]
  },
  {
   "cell_type": "code",
   "execution_count": null,
   "metadata": {},
   "outputs": [],
   "source": [
    "import ipfshttpclient\n",
    "\n",
    "# IPFS 노드에 연결\n",
    "client = ipfshttpclient.connect()\n",
    "\n",
    "# IPFS 경로 변환\n",
    "ipfs_uri = (\n",
    "    \"ipfs://bafyreigxn64z7e2uz3kkbjmxt2q4ns6nohdst5ned2irdb3lbevvuv4jzu/metadata.json\"\n",
    ")\n",
    "ipfs_path = ipfs_uri.replace(\"ipfs://\", \"/ipfs/\")\n",
    "\n",
    "# 데이터 가져오기\n",
    "data = client.cat(ipfs_path)\n",
    "\n",
    "# 파일로 저장\n",
    "file_path = \"metadata.json\"\n",
    "with open(file_path, \"wb\") as file:\n",
    "    file.write(data)\n",
    "\n",
    "print(f\"File downloaded and saved as {file_path}\")"
   ]
  },
  {
   "cell_type": "code",
   "execution_count": null,
   "metadata": {},
   "outputs": [],
   "source": [
    "ipfs_uri = (\n",
    "    \"ipfs://bafybeibxpzzw52s7ywlbt2zfm5bzle5o6ng5xiyllmkwr52zjpjvg6p6gq/image.jpg\"\n",
    ")\n",
    "ipfs_path = ipfs_uri.replace(\"ipfs://\", \"/ipfs/\")\n",
    "\n",
    "# 데이터 가져오기\n",
    "data = client.cat(ipfs_path)\n",
    "\n",
    "file_path = \"image.jpg\"\n",
    "with open(file_path, \"wb\") as file:\n",
    "    file.write(data)"
   ]
  },
  {
   "cell_type": "markdown",
   "metadata": {},
   "source": [
    "### 퍼블릭 IPFS 게이트웨이 사용하기"
   ]
  },
  {
   "cell_type": "code",
   "execution_count": 23,
   "metadata": {},
   "outputs": [
    {
     "name": "stdout",
     "output_type": "stream",
     "text": [
      "bafybeibxpzzw52s7ywlbt2zfm5bzle5o6ng5xiyllmkwr52zjpjvg6p6gq/image.jpg\n"
     ]
    }
   ],
   "source": [
    "# https://ipfs.github.io/public-gateway-checker/\n",
    "\n",
    "# IPFS 게이트웨이 URL\n",
    "gateway_url = \"https://gateway.pinata.cloud/ipfs/\"\n",
    "\n",
    "# IPFS 경로 변환\n",
    "ipfs_uri = (\n",
    "    \"ipfs://bafyreigxn64z7e2uz3kkbjmxt2q4ns6nohdst5ned2irdb3lbevvuv4jzu/metadata.json\"\n",
    ")\n",
    "ipfs_hash = ipfs_uri.replace(\"ipfs://\", \"\")\n",
    "\n",
    "# 전체 URL 생성\n",
    "url = gateway_url + ipfs_hash\n",
    "\n",
    "# 데이터 가져오기\n",
    "response = httpx.get(url)\n",
    "if response.status_code == 200:\n",
    "    data = response.content.decode(\"utf-8\")\n",
    "    data = json.loads(data)\n",
    "\n",
    "\n",
    "ipfs_image_uri = data[\"image\"]\n",
    "\n",
    "ipfs_image_hash = ipfs_image_uri.replace(\"ipfs://\", \"\")\n",
    "print(ipfs_image_hash)\n",
    "\n",
    "response = httpx.get(gateway_url + ipfs_image_hash)\n",
    "if response.status_code == 200:\n",
    "    file_path = \"image1.jpg\"\n",
    "    with open(file_path, \"wb\") as file:\n",
    "        file.write(response.content)"
   ]
  }
 ],
 "metadata": {
  "kernelspec": {
   "display_name": "study",
   "language": "python",
   "name": "python3"
  },
  "language_info": {
   "codemirror_mode": {
    "name": "ipython",
    "version": 3
   },
   "file_extension": ".py",
   "mimetype": "text/x-python",
   "name": "python",
   "nbconvert_exporter": "python",
   "pygments_lexer": "ipython3",
   "version": "3.11.5"
  }
 },
 "nbformat": 4,
 "nbformat_minor": 2
}
