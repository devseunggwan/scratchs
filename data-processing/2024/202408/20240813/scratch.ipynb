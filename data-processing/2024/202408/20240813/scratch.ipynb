{
 "cells": [
  {
   "cell_type": "code",
   "execution_count": null,
   "metadata": {},
   "outputs": [],
   "source": [
    "import os\n",
    "\n",
    "import PyPDF2\n",
    "import pandas as pd\n",
    "from langchain.text_splitter import RecursiveCharacterTextSplitter"
   ]
  },
  {
   "cell_type": "code",
   "execution_count": null,
   "metadata": {},
   "outputs": [],
   "source": [
    "class PdfTextChunker:\n",
    "    def read_pdf(self, file_path: str) -> str:\n",
    "        reader = PyPDF2.PdfReader(file_path)\n",
    "        texts = []\n",
    "        print(len(reader.pages))\n",
    "\n",
    "        for page in reader.pages:\n",
    "            text = page.extract_text()\n",
    "            text = (\n",
    "                text.strip()\n",
    "                .replace(\"\\n\", \" \")\n",
    "                .replace(\"\\\\0\", \" \")\n",
    "                .replace(\"      \", \"\")\n",
    "            )\n",
    "            texts.append(text)\n",
    "\n",
    "        return texts\n",
    "\n",
    "    def process(self, file_url: str):\n",
    "        text = self.read_pdf(file_url)\n",
    "        text_splitter = RecursiveCharacterTextSplitter(\n",
    "            chunk_size=4000,  # Adjust this as you see fit\n",
    "            chunk_overlap=400,  # This let''s text have some form of overlap. Useful for keeping chunks contextual\n",
    "            length_function=len,\n",
    "        )\n",
    "\n",
    "        chunks = text_splitter.split_text(text)\n",
    "        df = pd.DataFrame(chunks, columns=[\"chunks\"])\n",
    "\n",
    "        yield from df.itertuples(index=False, name=None)"
   ]
  },
  {
   "cell_type": "code",
   "execution_count": null,
   "metadata": {},
   "outputs": [],
   "source": [
    "chunker = PdfTextChunker()\n",
    "\n",
    "texts = chunker.read_pdf(\"./data/PDF/sample.pdf\")\n",
    "texts"
   ]
  },
  {
   "cell_type": "code",
   "execution_count": null,
   "metadata": {},
   "outputs": [],
   "source": [
    "chunker = PdfTextChunker()\n",
    "path_folder = \"./data/PDF\"\n",
    "\n",
    "texts = []\n",
    "\n",
    "for file_name in os.listdir(path_folder):\n",
    "    if file_name == \".DS_Store\":\n",
    "        continue\n",
    "\n",
    "    file_path = os.path.join(path_folder, file_name)\n",
    "    texts.extend(chunker.read_pdf(file_path=file_path))\n",
    "\n",
    "texts"
   ]
  },
  {
   "cell_type": "code",
   "execution_count": null,
   "metadata": {},
   "outputs": [],
   "source": [
    "import pptx\n",
    "from pptx import Presentation\n",
    "\n",
    "\n",
    "def extract_text_from_graphic_frame(graphic_frame):\n",
    "    text = \"\"\n",
    "\n",
    "    # 테이블의 텍스트 추출\n",
    "    if graphic_frame.has_table:\n",
    "        table = graphic_frame.table\n",
    "        for row in table.rows:\n",
    "            for cell in row.cells:\n",
    "                text += cell.text.strip() + \" \"\n",
    "\n",
    "    # SmartArt 텍스트 추출 (이 부분은 python-pptx에서 직접 지원되지 않을 수 있음)\n",
    "    elif graphic_frame.has_text_frame:\n",
    "        text_frame = graphic_frame.text_frame\n",
    "        for paragraph in text_frame.paragraphs:\n",
    "            text += paragraph.text.strip() + \" \"\n",
    "\n",
    "    text = text.replace(\"\\n\", \"\").replace(\"  \", \"\").strip()\n",
    "\n",
    "    return text\n",
    "\n",
    "\n",
    "def extract_text_from_pptx(file_path):\n",
    "    # PowerPoint 파일 열기\n",
    "    presentation = Presentation(file_path)\n",
    "\n",
    "    # 슬라이드 내의 텍스트를 저장할 리스트\n",
    "    text_runs = []\n",
    "\n",
    "    # 각 슬라이드에 대해\n",
    "    for slide in presentation.slides:\n",
    "        # 슬라이드 내의 모든 셰이프(텍스트 상자 등)를 순회\n",
    "        for shape in slide.shapes:\n",
    "            # print(shape)\n",
    "            # 셰이프가 텍스트 프레임을 가지고 있다면\n",
    "            if hasattr(shape, \"text_frame\"):\n",
    "                # 텍스트 프레임 내의 모든 문단을 순회\n",
    "                for paragraph in shape.text_frame.paragraphs:\n",
    "                    # 각 문단 내의 텍스트를 리스트에 추가\n",
    "                    text = paragraph.text.strip()\n",
    "\n",
    "                    if text != \"\":\n",
    "                        text_runs.append(text)\n",
    "\n",
    "            if isinstance(shape, pptx.shapes.graphfrm.GraphicFrame):\n",
    "                text = extract_text_from_graphic_frame(shape)\n",
    "\n",
    "                if text not in [\"\", \" \"]:\n",
    "                    text_runs.append(text)\n",
    "\n",
    "    # 모든 텍스트를 하나로 연결하여 반환\n",
    "    return \" \".join(text_runs)\n",
    "\n",
    "\n",
    "# PowerPoint 파일에서 텍스트 추출\n",
    "file_path = \"./data/PPTX/sample.pptx\"\n",
    "text = extract_text_from_pptx(file_path)\n",
    "\n",
    "\n",
    "# 추출한 텍스트 출력\n",
    "print(text)"
   ]
  },
  {
   "cell_type": "code",
   "execution_count": null,
   "metadata": {},
   "outputs": [],
   "source": [
    "df = pd.read_excel(\"./data/XLS/sample.xls\")\n",
    "df"
   ]
  },
  {
   "cell_type": "code",
   "execution_count": null,
   "metadata": {},
   "outputs": [],
   "source": [
    "import numpy as np\n",
    "\n",
    "texts = \"\"\n",
    "\n",
    "for idx, row in df.iterrows():\n",
    "    text = \" \".join([str(x) for x in row.values if x not in [\"nan\", np.nan]])\n",
    "\n",
    "    if text != \"\":\n",
    "        texts += text.replace(\"\\n\", \"\").replace(\"\\xad\", \"\")"
   ]
  },
  {
   "cell_type": "code",
   "execution_count": null,
   "metadata": {},
   "outputs": [],
   "source": [
    "texts"
   ]
  }
 ],
 "metadata": {
  "kernelspec": {
   "display_name": "study",
   "language": "python",
   "name": "python3"
  },
  "language_info": {
   "codemirror_mode": {
    "name": "ipython",
    "version": 3
   },
   "file_extension": ".py",
   "mimetype": "text/x-python",
   "name": "python",
   "nbconvert_exporter": "python",
   "pygments_lexer": "ipython3",
   "version": "3.11.5"
  }
 },
 "nbformat": 4,
 "nbformat_minor": 2
}
