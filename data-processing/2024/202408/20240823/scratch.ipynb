{
 "cells": [
  {
   "cell_type": "code",
   "execution_count": 1,
   "metadata": {},
   "outputs": [],
   "source": [
    "import re"
   ]
  },
  {
   "cell_type": "code",
   "execution_count": 148,
   "metadata": {},
   "outputs": [],
   "source": [
    "def contains_hangul(text):\n",
    "    # 한글을 찾기 위한 정규 표현식\n",
    "    hangul_pattern = re.compile(\"[ㄱ-ㅎ가-힣]+\")\n",
    "    # 문자열에서 한글이 있는지 확인\n",
    "    if hangul_pattern.search(text):\n",
    "        return True\n",
    "    else:\n",
    "        return False"
   ]
  },
  {
   "cell_type": "code",
   "execution_count": 120,
   "metadata": {},
   "outputs": [
    {
     "name": "stdout",
     "output_type": "stream",
     "text": [
      "None\n",
      "False\n"
     ]
    }
   ],
   "source": [
    "text = \"Hello, World!\"\n",
    "print(contains_hangul(text))"
   ]
  },
  {
   "cell_type": "code",
   "execution_count": 151,
   "metadata": {},
   "outputs": [
    {
     "name": "stdout",
     "output_type": "stream",
     "text": [
      "True\n",
      "b'\\xec\\x82\\xac\\xec\\x9a\\xa9\\xec\\x9e\\x90\\xeb\\xb3\\x84'\n",
      "사용자별\n",
      "True\n"
     ]
    }
   ],
   "source": [
    "# 완성형\n",
    "text = \"사용자별\"\n",
    "print(contains_hangul(text))\n",
    "print(text.encode(\"utf-8\"))\n",
    "print(text.encode(\"utf-8\").decode(\"utf-8\"))\n",
    "print(contains_hangul(text.encode(\"utf-8\").decode(\"utf-8\")))"
   ]
  },
  {
   "cell_type": "code",
   "execution_count": 153,
   "metadata": {},
   "outputs": [
    {
     "name": "stdout",
     "output_type": "stream",
     "text": [
      "False\n",
      "b'\\xe1\\x84\\x89\\xe1\\x85\\xa1\\xe1\\x84\\x8b\\xe1\\x85\\xad\\xe1\\x86\\xbc\\xe1\\x84\\x8c\\xe1\\x85\\xa1\\xe1\\x84\\x87\\xe1\\x85\\xa7\\xe1\\x86\\xaf'\n",
      "사용자별\n",
      "False\n",
      "사용자별\n",
      "False\n"
     ]
    }
   ],
   "source": [
    "# 조합형\n",
    "text = \"사용자별\"\n",
    "print(contains_hangul(text))\n",
    "print(text.encode(\"utf-8\"))\n",
    "print(text.encode(\"utf-8\").decode(\"utf-8\"))\n",
    "print(contains_hangul(text.encode(\"utf-8\").decode(\"utf-8\")))"
   ]
  },
  {
   "cell_type": "code",
   "execution_count": 155,
   "metadata": {},
   "outputs": [
    {
     "name": "stdout",
     "output_type": "stream",
     "text": [
      "사용자별\n",
      "b'\\xec\\x82\\xac\\xec\\x9a\\xa9\\xec\\x9e\\x90\\xeb\\xb3\\x84'\n",
      "True\n"
     ]
    }
   ],
   "source": [
    "import unicodedata\n",
    "\n",
    "text = \"사용자별\"\n",
    "nfd_text = unicodedata.normalize(\"NFC\", text)  # 완성형으로 변환\n",
    "\n",
    "print(nfd_text)\n",
    "print(nfd_text.encode(\"utf-8\"))\n",
    "print(contains_hangul(nfd_text))"
   ]
  },
  {
   "cell_type": "code",
   "execution_count": 156,
   "metadata": {},
   "outputs": [
    {
     "name": "stdout",
     "output_type": "stream",
     "text": [
      "사용자별\n",
      "b'\\xec\\x82\\xac\\xec\\x9a\\xa9\\xec\\x9e\\x90\\xeb\\xb3\\x84'\n",
      "True\n"
     ]
    }
   ],
   "source": [
    "import unicodedata\n",
    "\n",
    "# 완성형 함수 테스트\n",
    "text = \"사용자별\"\n",
    "nfd_text = unicodedata.normalize(\"NFC\", text)\n",
    "\n",
    "print(nfd_text)\n",
    "print(nfd_text.encode(\"utf-8\"))\n",
    "print(contains_hangul(nfd_text))"
   ]
  }
 ],
 "metadata": {
  "kernelspec": {
   "display_name": "study",
   "language": "python",
   "name": "python3"
  },
  "language_info": {
   "codemirror_mode": {
    "name": "ipython",
    "version": 3
   },
   "file_extension": ".py",
   "mimetype": "text/x-python",
   "name": "python",
   "nbconvert_exporter": "python",
   "pygments_lexer": "ipython3",
   "version": "3.11.5"
  }
 },
 "nbformat": 4,
 "nbformat_minor": 2
}
