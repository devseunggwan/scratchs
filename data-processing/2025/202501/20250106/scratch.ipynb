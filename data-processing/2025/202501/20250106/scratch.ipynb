{
 "cells": [
  {
   "cell_type": "code",
   "execution_count": 1,
   "metadata": {},
   "outputs": [],
   "source": [
    "import polars as pl"
   ]
  },
  {
   "cell_type": "markdown",
   "metadata": {},
   "source": [
    "# 1"
   ]
  },
  {
   "cell_type": "code",
   "execution_count": 13,
   "metadata": {},
   "outputs": [],
   "source": [
    "df = pl.read_csv(\"data/cust.csv\")\n",
    "df = df.with_columns(pl.col(\"columns\").str.to_uppercase())\n",
    "df = df[\"columns\"].unique().sort()\n",
    "df"
   ]
  },
  {
   "cell_type": "code",
   "execution_count": 20,
   "metadata": {},
   "outputs": [],
   "source": [
    "df.to_frame().write_csv(\"data/output/cust.csv\")"
   ]
  },
  {
   "cell_type": "markdown",
   "metadata": {},
   "source": [
    "# 2"
   ]
  },
  {
   "cell_type": "code",
   "execution_count": 11,
   "metadata": {},
   "outputs": [],
   "source": [
    "for file_name in [\"dbms\", \"nms\", \"sms\"]:\n",
    "    df = pl.read_csv(f\"./data/input/{file_name}.csv\", separator=\".\")\n",
    "    df.to_pandas().to_excel(f\"data/output/{file_name}.xlsx\", index=False)"
   ]
  },
  {
   "cell_type": "markdown",
   "metadata": {},
   "source": [
    "# 3"
   ]
  },
  {
   "cell_type": "code",
   "execution_count": 20,
   "metadata": {},
   "outputs": [],
   "source": [
    "df = pl.read_csv(\"data/cust_v2.csv\")\n",
    "df = df.with_columns(pl.col(\"columns\").str.to_uppercase())\n",
    "df = df.filter(pl.col(\"columns\").is_not_null())\n",
    "df = df[\"columns\"].unique().sort().to_frame()\n",
    "df.write_csv(\"data/output/cust_v2.csv\")"
   ]
  }
 ],
 "metadata": {
  "kernelspec": {
   "display_name": ".venv",
   "language": "python",
   "name": "python3"
  },
  "language_info": {
   "codemirror_mode": {
    "name": "ipython",
    "version": 3
   },
   "file_extension": ".py",
   "mimetype": "text/x-python",
   "name": "python",
   "nbconvert_exporter": "python",
   "pygments_lexer": "ipython3",
   "version": "3.11.11"
  }
 },
 "nbformat": 4,
 "nbformat_minor": 2
}
