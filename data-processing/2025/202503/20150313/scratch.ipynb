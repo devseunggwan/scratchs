{
 "cells": [
  {
   "cell_type": "code",
   "execution_count": null,
   "metadata": {},
   "outputs": [],
   "source": [
    "import polars as pl\n",
    "import pygwalker as pyg\n",
    "\n",
    "df = pl.read_csv(\"./data/schedule.csv\")\n",
    "df = df.with_columns(pl.col(\"STD_VAL\").map_elements(lambda x: int(str(x) + \"01\") if x < 999999 else x, return_dtype=pl.Int64))\n",
    "df = df.drop([\"RECON_KEY_VAL\", \"NOTE\", \"STD_VAL\", \"INS_DTTM\"])\n",
    "df = df.with_columns(pl.col(\"WORK_END_DTTM\").str.to_datetime(\"%Y/%m/%d %H:%M:%S\").alias(\"WORK_END_DTTM\"), pl.col(\"WORK_START_DTTM\").str.to_datetime(\"%Y/%m/%d %H:%M:%S\").alias(\"WORK_START_DTTM\"))\n",
    "df = df.with_columns((pl.col(\"WORK_END_DTTM\") - pl.col(\"WORK_START_DTTM\")).dt.total_seconds().cast(pl.Int64).fill_null(0).alias(\"SPEND_DTTM\"))"
   ]
  },
  {
   "cell_type": "code",
   "execution_count": null,
   "metadata": {},
   "outputs": [],
   "source": [
    "df"
   ]
  },
  {
   "cell_type": "code",
   "execution_count": null,
   "metadata": {},
   "outputs": [],
   "source": [
    "walker = pyg.walk(df)"
   ]
  },
  {
   "cell_type": "code",
   "execution_count": null,
   "metadata": {},
   "outputs": [],
   "source": [
    "df.filter(pl.col(\"CLS_CD\") == \"CM00450004\", pl.col(\"VAR_CD\") == \"CM00390409\", pl.col(\"SPEND_DTTM\") > 2000)"
   ]
  },
  {
   "cell_type": "code",
   "execution_count": null,
   "metadata": {},
   "outputs": [],
   "source": [
    "df.filter(pl.col(\"CLS_CD\") == \"CM00450004\", pl.col(\"VAR_CD\") == \"CM00390409\")[\"SPEND_DTTM\"].value_counts().sort(by=\"SPEND_DTTM\", descending=True).head(10)"
   ]
  },
  {
   "cell_type": "code",
   "execution_count": null,
   "metadata": {},
   "outputs": [],
   "source": [
    "df[\"CLS_CD\"].unique()"
   ]
  }
 ],
 "metadata": {
  "kernelspec": {
   "display_name": "Python 3",
   "language": "python",
   "name": "python3"
  },
  "language_info": {
   "codemirror_mode": {
    "name": "ipython",
    "version": 3
   },
   "file_extension": ".py",
   "mimetype": "text/x-python",
   "name": "python",
   "nbconvert_exporter": "python",
   "pygments_lexer": "ipython3",
   "version": "3.12.1"
  }
 },
 "nbformat": 4,
 "nbformat_minor": 2
}
