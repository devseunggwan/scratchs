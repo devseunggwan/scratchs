{
 "cells": [
  {
   "cell_type": "code",
   "execution_count": null,
   "metadata": {},
   "outputs": [],
   "source": [
    "import hashlib"
   ]
  },
  {
   "cell_type": "code",
   "execution_count": null,
   "metadata": {},
   "outputs": [],
   "source": [
    "type(hashlib.sha256())"
   ]
  },
  {
   "cell_type": "code",
   "execution_count": null,
   "metadata": {},
   "outputs": [],
   "source": [
    "def calculate_md5_hash(file_path: str, hash_func = hashlib.md5) -> str:\n",
    "    \"\"\"\n",
    "    파일의 MD5 해시 계산\n",
    "\n",
    "    Args:\n",
    "        file_path (str): 해시를 계산할 파일 경로\n",
    "        \n",
    "\n",
    "    Returns:\n",
    "        파일의 MD5 해시(16진수 문자열). 파일이 없거나 읽을 수 없는 경우 None 반환\n",
    "    \"\"\"\n",
    "    \n",
    "    \n",
    "    try:\n",
    "        with open(file_path, 'rb') as f:\n",
    "            file_hash = hash_func()\n",
    "            while chunk := f.read(8192):\n",
    "                file_hash.update(chunk)\n",
    "                \n",
    "        return file_hash.hexdigest()\n",
    "    \n",
    "    except FileNotFoundError:\n",
    "        print(f\"Error: File not found at {file_path}\")\n",
    "    \n",
    "    except Exception as e:\n",
    "        print(f\"Error reading file {file_path}: {e}\")\n",
    "    \n",
    "    return None"
   ]
  },
  {
   "cell_type": "code",
   "execution_count": null,
   "metadata": {},
   "outputs": [],
   "source": [
    "file_path = \"workspace.tar.gz\"\n",
    "\n",
    "md5_hash = calculate_md5_hash(file_path=file_path)\n",
    "md5_hash"
   ]
  },
  {
   "cell_type": "code",
   "execution_count": null,
   "metadata": {},
   "outputs": [],
   "source": [
    "file_path = \"./workspace/venv.tar.gz\"\n",
    "\n",
    "md5_hash = calculate_md5_hash(file_path=file_path)\n",
    "md5_hash"
   ]
  }
 ],
 "metadata": {
  "kernelspec": {
   "display_name": "Python 3",
   "language": "python",
   "name": "python3"
  },
  "language_info": {
   "codemirror_mode": {
    "name": "ipython",
    "version": 3
   },
   "file_extension": ".py",
   "mimetype": "text/x-python",
   "name": "python",
   "nbconvert_exporter": "python",
   "pygments_lexer": "ipython3",
   "version": "3.12.1"
  }
 },
 "nbformat": 4,
 "nbformat_minor": 2
}
