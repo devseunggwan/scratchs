{
 "cells": [
  {
   "cell_type": "code",
   "execution_count": null,
   "metadata": {},
   "outputs": [],
   "source": [
    "import polars as pl"
   ]
  },
  {
   "cell_type": "code",
   "execution_count": null,
   "metadata": {},
   "outputs": [],
   "source": [
    "s3_key_prefix = \"s3_key_prefix\"\n",
    "\n",
    "manifest = pl.read_json(\"./data/2025-05-27T01-00Z/manifest.json\")\n",
    "manifest = manifest[\"files\"][0].to_list()\n",
    "manifest = [meta[\"key\"].replace(s3_key_prefix, \"./data\") for meta in manifest]"
   ]
  },
  {
   "cell_type": "code",
   "execution_count": null,
   "metadata": {},
   "outputs": [],
   "source": [
    "import shutil\n",
    "import os\n",
    "\n",
    "for file_path in manifest:\n",
    "    shutil.move(src=file_path, dst=os.path.join(\"data\", \"latest\", os.path.basename(file_path)))"
   ]
  },
  {
   "cell_type": "code",
   "execution_count": null,
   "metadata": {},
   "outputs": [],
   "source": [
    "len(os.listdir(os.path.join(\"data\", \"latest\"))) == len(manifest)"
   ]
  },
  {
   "cell_type": "code",
   "execution_count": null,
   "metadata": {},
   "outputs": [],
   "source": [
    "len(manifest)"
   ]
  },
  {
   "cell_type": "code",
   "execution_count": null,
   "metadata": {},
   "outputs": [],
   "source": [
    "df = pl.scan_parquet(manifest)\n",
    "df"
   ]
  },
  {
   "cell_type": "code",
   "execution_count": null,
   "metadata": {},
   "outputs": [],
   "source": [
    "# stroage_class 별 사이즈 집꼐\n",
    "df_agg =  df.group_by(\"storage_class\").agg([\n",
    "    pl.len().alias(\"count\"),\n",
    "    pl.col(\"size\").sum().alias(\"total_size\"),\n",
    "    pl.col(\"size\").mean().alias(\"avg_size\"),\n",
    "    pl.col(\"size\").min().alias(\"min_size\"),\n",
    "    pl.col(\"size\").max().alias(\"max_size\")\n",
    "]).sort(\"total_size\", descending=True).collect(streaming=True)"
   ]
  },
  {
   "cell_type": "code",
   "execution_count": null,
   "metadata": {},
   "outputs": [],
   "source": [
    "# bucket 별 사이즈 집계\n",
    "df_agg = df.group_by(\"bucket\").agg([\n",
    "    pl.len().alias(\"count\"),\n",
    "    pl.col(\"size\").sum().alias(\"total_size\"),\n",
    "    pl.col(\"size\").mean().alias(\"avg_size\"),\n",
    "    pl.col(\"size\").min().alias(\"min_size\"),\n",
    "    pl.col(\"size\").max().alias(\"max_size\")\n",
    "]).sort(\"count\", descending=True).collect(streaming=True)"
   ]
  },
  {
   "cell_type": "code",
   "execution_count": null,
   "metadata": {},
   "outputs": [],
   "source": [
    "# s3 key prefix(3 level) 별 사이즈 집계\n",
    "df_res = df.with_columns(\n",
    "    [pl.col(\"key\").str.split_exact(\"/\", n=3).struct.rename_fields([\"level1\", \"level2\", \"level3\"])]\n",
    ").unnest(\n",
    "    \"key\"\n",
    ").group_by(\n",
    "    [\"level1\", \"level2\", \"level3\"]\n",
    ").agg(\n",
    "    [\n",
    "        pl.len().alias(\"count\"),\n",
    "        pl.col(\"size\").sum().alias(\"total_size\"),\n",
    "        pl.col(\"size\").mean().alias(\"avg_size\")\n",
    "    ]\n",
    ").sort(\"count\", descending=True).collect(streaming=True)"
   ]
  },
  {
   "cell_type": "code",
   "execution_count": null,
   "metadata": {},
   "outputs": [],
   "source": [
    "df_res"
   ]
  },
  {
   "cell_type": "code",
   "execution_count": null,
   "metadata": {},
   "outputs": [],
   "source": [
    "df_res.write_csv(\"data.csv\")"
   ]
  }
 ],
 "metadata": {
  "kernelspec": {
   "display_name": "youtube-scraper",
   "language": "python",
   "name": "python3"
  },
  "language_info": {
   "codemirror_mode": {
    "name": "ipython",
    "version": 3
   },
   "file_extension": ".py",
   "mimetype": "text/x-python",
   "name": "python",
   "nbconvert_exporter": "python",
   "pygments_lexer": "ipython3",
   "version": "3.11.11"
  }
 },
 "nbformat": 4,
 "nbformat_minor": 2
}
