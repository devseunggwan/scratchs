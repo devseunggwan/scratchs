{
 "cells": [
  {
   "cell_type": "code",
   "execution_count": null,
   "metadata": {},
   "outputs": [],
   "source": [
    "%pip install polars"
   ]
  },
  {
   "cell_type": "code",
   "execution_count": 31,
   "metadata": {},
   "outputs": [],
   "source": [
    "import polars as pl\n",
    "\n",
    "columns = [\n",
    "    \"customer_id\",\n",
    "    \"ad_group_id\",\n",
    "    \"ad_id\",\n",
    "    \"ad_creative_inspect_status\",\n",
    "    \"subject\",\n",
    "    \"description\",\n",
    "    \"landing_url_pc\",\n",
    "    \"landing_url_mobile\",\n",
    "    \"ad_status\",\n",
    "    \"regtm\",\n",
    "    \"deltm\",    \n",
    "]"
   ]
  },
  {
   "cell_type": "code",
   "execution_count": null,
   "metadata": {},
   "outputs": [],
   "source": [
    "df_part1 = pl.read_csv(\"./data/2800927/_tmp/part1/*/master/Ad/*.tsv\", separator=\"\\t\", has_header=False, new_columns=columns)\n",
    "df_part1"
   ]
  },
  {
   "cell_type": "code",
   "execution_count": null,
   "metadata": {},
   "outputs": [],
   "source": [
    "df_part1.unique()"
   ]
  },
  {
   "cell_type": "code",
   "execution_count": null,
   "metadata": {},
   "outputs": [],
   "source": [
    "df_part2 = pl.read_csv(\"./data/2800927/_tmp/part2/*/master/Ad/*.tsv\", separator=\"\\t\", has_header=False, new_columns=columns)\n",
    "df_part2"
   ]
  },
  {
   "cell_type": "code",
   "execution_count": null,
   "metadata": {},
   "outputs": [],
   "source": [
    "df_part2.unique()"
   ]
  },
  {
   "cell_type": "code",
   "execution_count": null,
   "metadata": {},
   "outputs": [],
   "source": [
    "df_stat_part2 = pl.read_csv(\"./data/2800927/_tmp/part2/*/stat/AD/*.tsv\", separator=\"\\t\")\n",
    "df_stat_part2"
   ]
  }
 ],
 "metadata": {
  "kernelspec": {
   "display_name": "scratch",
   "language": "python",
   "name": "python3"
  },
  "language_info": {
   "codemirror_mode": {
    "name": "ipython",
    "version": 3
   },
   "file_extension": ".py",
   "mimetype": "text/x-python",
   "name": "python",
   "nbconvert_exporter": "python",
   "pygments_lexer": "ipython3",
   "version": "3.13.3"
  }
 },
 "nbformat": 4,
 "nbformat_minor": 2
}
