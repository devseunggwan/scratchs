{
 "cells": [
  {
   "cell_type": "code",
   "execution_count": 1,
   "metadata": {},
   "outputs": [],
   "source": [
    "import pandas as pd"
   ]
  },
  {
   "cell_type": "code",
   "execution_count": 53,
   "metadata": {},
   "outputs": [],
   "source": [
    "class GenRuleMapping:\n",
    "    def __init__(self):        \n",
    "        self.start_priority = 1553\n",
    "        self.mapping_category = \"AD\"\n",
    "        self.mapping_provider = \"RULE\"\n",
    "        self.ad_channel_names = [\"기타\", \"미디어\", \"후기/바이럴\", \"유통채널 내 광고\"]\n",
    "        self.created_by = 3\n",
    "        self.updated_by = 3\n",
    "\n",
    "    def get_mapping_name(self, row):\n",
    "        return f\"[임시] {row[\"brand\"]} {row[\"market\"]} {row[\"item\"]}\"\n",
    "\n",
    "    def get_mapping_rule(self, row):\n",
    "        rule = {\"lhs\": {\"lhs\": \"ad_channel_name\", \"rhs\": self.ad_channel_names, \"_typeTag\": \"BinFunction\", \"_functionName\": \"IN\"}, \"rhs\": {\"lhs\": {\"lhs\": \"ad_account_name\", \"rhs\": row[\"brand\"], \"_typeTag\": \"BinFunction\", \"_functionName\": \"LIKE\"}, \"rhs\": {\"lhs\": {\"lhs\": \"campaign_name\", \"rhs\": row['market'], \"_typeTag\": \"BinFunction\", \"_functionName\": \"LIKE\"}, \"rhs\": {\"lhs\": \"adset_name\", \"rhs\": row[\"item\"], \"_typeTag\": \"BinFunction\", \"_functionName\": \"LIKE\"}, \"_typeTag\": \"And\"}, \"_typeTag\": \"And\"}, \"_typeTag\": \"And\"}\n",
    "        rule = str(rule).replace(\"'\", \"\\\"\").replace(\"False\", \"false\")\n",
    "        \n",
    "        return rule\n",
    "\n",
    "    def get_mapping_rule_fe(self, row):\n",
    "        rule = {\"nodeCnt\": 4, \"isAdvancedCondition\": False, \"conditionGroupBlocks\": [[{\"key\": 0, \"lhs\": \"ad_channel_name\", \"rhs\": self.ad_channel_names, \"_typeTag\": \"BinFunction\", \"_functionName\": \"IN\", \"groupNodesRelation\": \"And\"}, {\"key\": 1, \"lhs\": \"ad_account_name\", \"rhs\": row[\"brand\"], \"_typeTag\": \"BinFunction\", \"_functionName\": \"LIKE\", \"groupNodesRelation\": \"And\"}, {\"key\": 2, \"lhs\": \"campaign_name\", \"rhs\": row[\"market\"], \"_typeTag\": \"BinFunction\", \"_functionName\": \"LIKE\", \"groupNodesRelation\": \"And\"}, {\"key\": 3, \"lhs\": \"adset_name\", \"rhs\": row[\"item\"], \"_typeTag\": \"BinFunction\", \"_functionName\": \"LIKE\", \"groupNodesRelation\": \"And\"}]], \"groupConditionRelations\": []}\n",
    "        rule  = str(rule).replace(\"'\", \"\\\"\").replace(\"False\", \"false\")\n",
    "        \n",
    "        return rule\n",
    "\n",
    "    def get_mapping_sql(self, row):\n",
    "        return f\"(ad_channel_name IN ([''기타'', ''미디어'', ''후기/바이럴'', ''유통채널 내 광고'']) AND (ad_account_name LIKE ''%{row[\"brand\"]}%'' ESCAPE ''\\\\\\\\'' AND (campaign_name LIKE ''%{row[\"market\"]}%'' ESCAPE ''\\\\\\\\'' AND adset_name LIKE ''%{row[\"item\"]}%'' ESCAPE ''\\\\\\\\'')))\"\n",
    "    \n",
    "    def gen_mapping_row(self, row, priority):\n",
    "\n",
    "        return f\"('{self.mapping_category}', '{self.get_mapping_name(row)}', '{self.mapping_provider}', {priority}, CAST('{self.get_mapping_rule(row)}' AS JSON), CAST('{self.get_mapping_rule_fe(row)}' AS JSON), '{self.get_mapping_sql(row)}'),\"\n",
    "    \n",
    "    def run(self, df):\n",
    "        sql_rows = []\n",
    "        for index, row in df.iterrows():\n",
    "            priority = self.start_priority + index\n",
    "            sql_row = self.gen_mapping_row(row, priority)\n",
    "            sql_rows.append(sql_row)\n",
    "        return sql_rows\n",
    "        \n",
    "        "
   ]
  },
  {
   "cell_type": "code",
   "execution_count": null,
   "metadata": {},
   "outputs": [],
   "source": [
    "df = pd.read_csv(\"data/source.tsv\", sep=\"\\t\")\n",
    "\n",
    "gen_rule_mapping = GenRuleMapping()\n",
    "\n",
    "result = gen_rule_mapping.run(df)\n",
    "\n",
    "\n",
    "for sql_row in result:\n",
    "    print(sql_row)"
   ]
  }
 ],
 "metadata": {
  "kernelspec": {
   "display_name": "scratch",
   "language": "python",
   "name": "python3"
  },
  "language_info": {
   "codemirror_mode": {
    "name": "ipython",
    "version": 3
   },
   "file_extension": ".py",
   "mimetype": "text/x-python",
   "name": "python",
   "nbconvert_exporter": "python",
   "pygments_lexer": "ipython3",
   "version": "3.13.3"
  }
 },
 "nbformat": 4,
 "nbformat_minor": 2
}
