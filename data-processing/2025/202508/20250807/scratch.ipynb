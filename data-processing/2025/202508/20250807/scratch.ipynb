{
 "cells": [
  {
   "cell_type": "code",
   "execution_count": null,
   "id": "e57b3d8b",
   "metadata": {},
   "outputs": [],
   "source": [
    "import json\n",
    "\n",
    "import pandas as pd\n",
    "\n",
    "\n",
    "with open(\"data/none.json\", \"r\") as f:\n",
    "    none_json = json.load(f)\n",
    "    df_none = pd.DataFrame(none_json[\"content\"])\n",
    "\n",
    "with open(\"data/del.json\", \"r\") as f:\n",
    "    del_json = json.load(f)\n",
    "    df_del = pd.DataFrame(del_json[\"content\"])\n",
    "\n",
    "with open(\"data/all.json\", \"r\") as f:\n",
    "    all_json = json.load(f)\n",
    "    df_all = pd.DataFrame(all_json[\"content\"])\n"
   ]
  },
  {
   "cell_type": "code",
   "execution_count": null,
   "id": "eb7b7c47",
   "metadata": {},
   "outputs": [],
   "source": [
    "df_none[\"id\"].unique()"
   ]
  },
  {
   "cell_type": "code",
   "execution_count": null,
   "id": "badf4298",
   "metadata": {},
   "outputs": [],
   "source": [
    "df_del[\"id\"].unique()"
   ]
  },
  {
   "cell_type": "code",
   "execution_count": null,
   "id": "0159f6c2",
   "metadata": {},
   "outputs": [],
   "source": [
    "import numpy as np\n",
    "\n",
    "\n",
    "diff = np.intersect1d(df_none[\"id\"].unique(), df_del[\"id\"].unique())\n",
    "diff"
   ]
  },
  {
   "cell_type": "code",
   "execution_count": null,
   "id": "ef694d42",
   "metadata": {},
   "outputs": [],
   "source": [
    "import numpy as np\n",
    "\n",
    "\n",
    "diff = np.intersect1d(df_all[\"id\"].unique(), df_del[\"id\"].unique())\n",
    "diff"
   ]
  },
  {
   "cell_type": "code",
   "execution_count": null,
   "id": "77c27745",
   "metadata": {},
   "outputs": [],
   "source": [
    "import duckdb\n",
    "\n",
    "df = duckdb.read_parquet(\"./data/campaigns.parquet\")\n",
    "df"
   ]
  },
  {
   "cell_type": "code",
   "execution_count": null,
   "id": "86113519",
   "metadata": {},
   "outputs": [],
   "source": [
    "from pydantic import BaseModel, validator\n",
    "\n",
    "class QueryParams(BaseModel):\n",
    "    a: str = \"ON,OFF\"\n",
    "    b: str = \"\"\n",
    "    \n",
    "    @validator('a', pre=True)\n",
    "    def parse_comma_separated(cls, v):\n",
    "        if isinstance(v, list):\n",
    "            return \",\".join(v)\n",
    "        \n",
    "        return v"
   ]
  },
  {
   "cell_type": "code",
   "execution_count": null,
   "id": "3b446fb2",
   "metadata": {},
   "outputs": [],
   "source": [
    "QueryParams(a=\"1,2,3\", b=\"4\")"
   ]
  },
  {
   "cell_type": "code",
   "execution_count": null,
   "id": "ddf9f9a5",
   "metadata": {},
   "outputs": [],
   "source": [
    "QueryParams(a=[\"ON\", \"OFF\"], b=\"4\")"
   ]
  },
  {
   "cell_type": "code",
   "execution_count": null,
   "id": "c97a4c6e",
   "metadata": {},
   "outputs": [],
   "source": [
    "import duckdb\n",
    "\n",
    "df = duckdb.read_parquet(\"./data/creative_ids.parquet\")\n",
    "df.to_df()"
   ]
  }
 ],
 "metadata": {
  "kernelspec": {
   "display_name": "scratch",
   "language": "python",
   "name": "python3"
  },
  "language_info": {
   "codemirror_mode": {
    "name": "ipython",
    "version": 3
   },
   "file_extension": ".py",
   "mimetype": "text/x-python",
   "name": "python",
   "nbconvert_exporter": "python",
   "pygments_lexer": "ipython3",
   "version": "3.11.13"
  }
 },
 "nbformat": 4,
 "nbformat_minor": 5
}
