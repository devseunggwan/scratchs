{
 "cells": [
  {
   "cell_type": "code",
   "execution_count": null,
   "id": "03b0b0c4",
   "metadata": {},
   "outputs": [],
   "source": [
    "import pandas as pd\n",
    "\n",
    "df = pd.read_json(\"report_sourcing.jsonl\", lines=True)\n",
    "\n",
    "df.head()"
   ]
  },
  {
   "cell_type": "code",
   "execution_count": null,
   "id": "33ece583",
   "metadata": {},
   "outputs": [],
   "source": [
    "import gzip\n",
    "\n",
    "def compress_gz(input_file, output_file):\n",
    "    with open(input_file, 'rb') as f_in:\n",
    "        with gzip.open(output_file, 'wb') as f_out:\n",
    "            f_out.writelines(f_in)\n"
   ]
  },
  {
   "cell_type": "code",
   "execution_count": null,
   "id": "6fb67175",
   "metadata": {},
   "outputs": [],
   "source": [
    "compress_gz(\"2025-08-10T15_00_00+00_00~2025-08-10T15_00_00+00_00.json\", \"2025-08-10T15_00_00+00_00~2025-08-10T15_00_00+00_00.json.gz\")"
   ]
  },
  {
   "cell_type": "code",
   "execution_count": null,
   "id": "cbeea0e0",
   "metadata": {},
   "outputs": [],
   "source": [
    "import json\n",
    "\n",
    "with open(\"./data/20250812.json\", \"rb\") as f:\n",
    "    data = json.load(f)\n",
    "\n",
    "df = pd.DataFrame(data[\"content\"])\n",
    "df"
   ]
  },
  {
   "cell_type": "code",
   "execution_count": null,
   "id": "924790bd",
   "metadata": {},
   "outputs": [],
   "source": [
    "len(df[\"id\"].unique())"
   ]
  }
 ],
 "metadata": {
  "kernelspec": {
   "display_name": "scratch",
   "language": "python",
   "name": "python3"
  },
  "language_info": {
   "codemirror_mode": {
    "name": "ipython",
    "version": 3
   },
   "file_extension": ".py",
   "mimetype": "text/x-python",
   "name": "python",
   "nbconvert_exporter": "python",
   "pygments_lexer": "ipython3",
   "version": "3.11.13"
  }
 },
 "nbformat": 4,
 "nbformat_minor": 5
}
