{
 "cells": [
  {
   "cell_type": "code",
   "execution_count": null,
   "id": "75d0c3db",
   "metadata": {},
   "outputs": [],
   "source": [
    "import polars as pl\n",
    "\n",
    "\n",
    "df = pl.read_csv(\"./key_list.csv\", has_header=False)\n",
    "df = df.rename({\"column_1\": \"source_path\", \"column_2\": \"destination_path\"})\n",
    "df"
   ]
  },
  {
   "cell_type": "code",
   "execution_count": null,
   "id": "ac6c0c37",
   "metadata": {},
   "outputs": [],
   "source": [
    "duplicated_df = df.filter(pl.col(\"destination_path\").is_duplicated())\n",
    "duplicated_df"
   ]
  },
  {
   "cell_type": "code",
   "execution_count": null,
   "id": "f025839e",
   "metadata": {},
   "outputs": [],
   "source": [
    "for row in duplicated_df.iter_rows():\n",
    "    print(row)"
   ]
  },
  {
   "cell_type": "code",
   "execution_count": null,
   "id": "ed01344e",
   "metadata": {},
   "outputs": [],
   "source": [
    "# case 1: 2024-10-29T08:33:12.442289+00:00\n",
    "# case 2: 2023-11-11T00:00:00+00:00"
   ]
  },
  {
   "cell_type": "code",
   "execution_count": null,
   "id": "3b269ef2",
   "metadata": {},
   "outputs": [],
   "source": [
    "len(\"2024-10-29T08:33:12.442289+00:00\"[:19])"
   ]
  },
  {
   "cell_type": "code",
   "execution_count": null,
   "id": "31b62ab3",
   "metadata": {},
   "outputs": [],
   "source": [
    "print(\"2024-10-29T08:33:12.442289+00:00\"[:19])"
   ]
  },
  {
   "cell_type": "code",
   "execution_count": null,
   "id": "c37d4c7a",
   "metadata": {},
   "outputs": [],
   "source": [
    "print(\"2023-11-11T00:00:00+00:00\"[:19])"
   ]
  },
  {
   "cell_type": "code",
   "execution_count": null,
   "id": "32bc2cf7",
   "metadata": {},
   "outputs": [],
   "source": [
    "%pip install pendulum"
   ]
  },
  {
   "cell_type": "code",
   "execution_count": null,
   "id": "bff4c087",
   "metadata": {},
   "outputs": [],
   "source": [
    "import pendulum"
   ]
  },
  {
   "cell_type": "code",
   "execution_count": null,
   "id": "5ed956cb",
   "metadata": {},
   "outputs": [],
   "source": [
    "date =  pendulum.parse(\"2025-07-27T15:00:00+00:00\")\n",
    "date"
   ]
  },
  {
   "cell_type": "code",
   "execution_count": null,
   "id": "6cb97839",
   "metadata": {},
   "outputs": [],
   "source": [
    "date.in_timezone(\"Asia/Seoul\").add(days=1).strftime(\"%Y-%m-%d\")"
   ]
  }
 ],
 "metadata": {
  "kernelspec": {
   "display_name": "scratch",
   "language": "python",
   "name": "python3"
  },
  "language_info": {
   "codemirror_mode": {
    "name": "ipython",
    "version": 3
   },
   "file_extension": ".py",
   "mimetype": "text/x-python",
   "name": "python",
   "nbconvert_exporter": "python",
   "pygments_lexer": "ipython3",
   "version": "3.11.13"
  }
 },
 "nbformat": 4,
 "nbformat_minor": 5
}
