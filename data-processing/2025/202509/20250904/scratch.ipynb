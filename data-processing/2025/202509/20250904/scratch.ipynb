{
 "cells": [
  {
   "cell_type": "code",
   "execution_count": null,
   "id": "559981be",
   "metadata": {},
   "outputs": [],
   "source": [
    "import random\n",
    "import string\n",
    "\n",
    "\n",
    "def generate_sheet_range(sheet_name: str, use_pagnination: bool = False, start_row: int = 1, end_row: int = 1000) -> str:\n",
    "    # sheets range should be in the format of sheet_name!A:Z\n",
    "\n",
    "    # to bypass google spread api cache issue,\n",
    "    # we need to randomize the range\n",
    "    first_letter = random.choice([b for b in string.ascii_uppercase if b > \"C\"])\n",
    "    second_letter = random.choice([b for b in string.ascii_uppercase])\n",
    "    if use_pagnination:\n",
    "        return f\"{sheet_name}!A{start_row}:{first_letter}{second_letter}{end_row}\"\n",
    "\n",
    "    return f\"{sheet_name}!A:{first_letter}{second_letter}\"\n"
   ]
  },
  {
   "cell_type": "code",
   "execution_count": null,
   "id": "07c76577",
   "metadata": {},
   "outputs": [],
   "source": [
    "generate_sheet_range(sheet_name=\"올리브영_광고비\", use_pagnination=True, start_row=1, end_row=1)"
   ]
  },
  {
   "cell_type": "code",
   "execution_count": null,
   "id": "0e121374",
   "metadata": {},
   "outputs": [],
   "source": [
    "generate_sheet_range(sheet_name=\"올리브영_광고비\")"
   ]
  },
  {
   "cell_type": "code",
   "execution_count": null,
   "id": "a82a9813",
   "metadata": {},
   "outputs": [],
   "source": [
    "import pandas as pd\n",
    "\n",
    "df = pd.read_csv(\"bigbigbigdatas.tsv\", sep=\"\\t\")\n",
    "df.head()\n"
   ]
  },
  {
   "cell_type": "code",
   "execution_count": 5,
   "id": "0605787e",
   "metadata": {},
   "outputs": [],
   "source": [
    "import math\n",
    "\n",
    "rows_per_file = 30000\n",
    "total_rows = len(df)\n",
    "num_files = math.ceil(total_rows / rows_per_file)\n",
    "\n",
    "for i in range(num_files):\n",
    "    start_idx = i * rows_per_file\n",
    "    end_idx = min((i + 1) * rows_per_file, total_rows)\n",
    "    df_chunk = df.iloc[start_idx:end_idx]\n",
    "    df_chunk.to_csv(f\"./output/bigbigbigdatas_part{i+1}.tsv\", sep=\"\\t\", index=False)\n"
   ]
  }
 ],
 "metadata": {
  "kernelspec": {
   "display_name": "scratch",
   "language": "python",
   "name": "python3"
  },
  "language_info": {
   "codemirror_mode": {
    "name": "ipython",
    "version": 3
   },
   "file_extension": ".py",
   "mimetype": "text/x-python",
   "name": "python",
   "nbconvert_exporter": "python",
   "pygments_lexer": "ipython3",
   "version": "3.11.13"
  }
 },
 "nbformat": 4,
 "nbformat_minor": 5
}
