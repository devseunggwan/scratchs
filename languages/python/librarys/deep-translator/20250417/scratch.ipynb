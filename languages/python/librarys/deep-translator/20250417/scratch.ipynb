{
 "cells": [
  {
   "cell_type": "code",
   "execution_count": null,
   "id": "31e80b50",
   "metadata": {},
   "outputs": [],
   "source": [
    "import polars as pl\n",
    "from deep_translator import GoogleTranslator"
   ]
  },
  {
   "cell_type": "code",
   "execution_count": null,
   "id": "1c6afe14",
   "metadata": {},
   "outputs": [],
   "source": [
    "\n",
    "def snowflake_schema_desc_translator(source_path: str, source_lang: str=\"en\", target_lang: str=\"ko\") -> pl.DataFrame:\n",
    "    with open(source_path, \"r\") as f:\n",
    "        texts = [text.strip() for text in f.readlines()]\n",
    "        schemas = pl.DataFrame(\n",
    "            data=[texts[idx:idx + 5] for idx in range(0, len(texts), 5)], \n",
    "            schema=[\"NAME\", \"TYPE\", \"DESC\", \"TAGS\", \"ORDINAL\"]\n",
    "        )\n",
    "        schemas = schemas.with_columns(pl.col(\"DESC\").map_elements(lambda x: GoogleTranslator(source=source_lang, target=target_lang).translate(x)).alias(f\"DESC_{target_lang.upper()}\"))\n",
    "    \n",
    "    return schemas"
   ]
  },
  {
   "cell_type": "code",
   "execution_count": null,
   "id": "2e861e32",
   "metadata": {},
   "outputs": [],
   "source": [
    "schemas = snowflake_schema_desc_translator(\"./data/schema_sph_card_sales_info.txt\")\n",
    "schemas"
   ]
  },
  {
   "cell_type": "code",
   "execution_count": null,
   "id": "4a49b3cb",
   "metadata": {},
   "outputs": [],
   "source": [
    "schemas.write_csv(\"./data/schema_sph_card_sales_info_ko.csv\")"
   ]
  },
  {
   "cell_type": "code",
   "execution_count": null,
   "id": "cbedd1fa",
   "metadata": {},
   "outputs": [],
   "source": []
  }
 ],
 "metadata": {
  "kernelspec": {
   "display_name": "Python 3 (ipykernel)",
   "language": "python",
   "name": "python3"
  },
  "language_info": {
   "codemirror_mode": {
    "name": "ipython",
    "version": 3
   },
   "file_extension": ".py",
   "mimetype": "text/x-python",
   "name": "python",
   "nbconvert_exporter": "python",
   "pygments_lexer": "ipython3",
   "version": "3.12.1"
  }
 },
 "nbformat": 4,
 "nbformat_minor": 5
}
