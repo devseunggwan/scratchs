{
 "cells": [
  {
   "cell_type": "code",
   "execution_count": 2,
   "metadata": {},
   "outputs": [],
   "source": [
    "import base64\n",
    "import hashlib\n",
    "import re\n",
    "import secrets\n",
    "\n",
    "from faker import Faker\n"
   ]
  },
  {
   "cell_type": "code",
   "execution_count": 3,
   "metadata": {},
   "outputs": [],
   "source": [
    "fake = Faker(locale=\"ko_KR\")"
   ]
  },
  {
   "cell_type": "code",
   "execution_count": null,
   "metadata": {},
   "outputs": [],
   "source": [
    "address_pattern = r\"([가-힣]+(시|도))\\s*([가-힣]+(시|군|구))\"\n",
    "f_address = fake.address()\n",
    "\n",
    "match = re.search(address_pattern, f_address)\n",
    "\n",
    "if match:\n",
    "    print(match.group(0))"
   ]
  },
  {
   "cell_type": "code",
   "execution_count": 37,
   "metadata": {},
   "outputs": [],
   "source": [
    "def transfer_address(address: str):\n",
    "    return \" \".join(address.strip().split()[:2])\n",
    "\n",
    "\n",
    "def transfer_hash(text: str, salt: str):\n",
    "    text = hashlib.sha256((text + salt).encode(\"utf-8\")).hexdigest()\n",
    "    text = hashlib.sha256((text + salt).encode(\"utf-8\")).digest()\n",
    "    text = base64.b64encode(text).decode(\"utf-8\")\n",
    "    \n",
    "    return text"
   ]
  },
  {
   "cell_type": "code",
   "execution_count": null,
   "metadata": {},
   "outputs": [],
   "source": [
    "salt = secrets.token_bytes(16)\n",
    "salt = base64.b64encode(salt).decode(\"utf-8\")\n",
    "salt"
   ]
  },
  {
   "cell_type": "code",
   "execution_count": null,
   "metadata": {},
   "outputs": [],
   "source": [
    "profile = fake.profile()\n",
    "\n",
    "profile[\"ssn\"] = transfer_hash(profile[\"ssn\"], salt)\n",
    "profile[\"residence\"] = transfer_address(profile[\"residence\"])\n",
    "profile[\"username\"] = transfer_hash(profile[\"username\"], salt)\n",
    "profile[\"name\"] = transfer_hash(profile[\"name\"], salt)\n",
    "profile[\"address\"] = transfer_hash(profile[\"address\"], salt)\n",
    "profile[\"mail\"] = transfer_hash(profile[\"mail\"], salt)\n",
    "\n",
    "del (\n",
    "    profile[\"current_location\"],\n",
    "    profile[\"blood_group\"],\n",
    "    profile[\"website\"],\n",
    "    profile[\"birthdate\"],\n",
    ")\n",
    "\n",
    "profile"
   ]
  },
  {
   "cell_type": "code",
   "execution_count": null,
   "metadata": {},
   "outputs": [],
   "source": [
    "card_profile = fake.credit_card_full().strip().split(\"\\n\")\n",
    "\n",
    "card_name = card_profile[0]\n",
    "last_name, first_name = card_profile[1].strip().split()\n",
    "card_number, card_expire = card_profile[2].strip().split()\n",
    "security_type, security_number = card_profile[3].strip().split(\": \")\n",
    "\n",
    "card_profile = {\n",
    "    \"card_name\": card_name,\n",
    "    \"last_name\": last_name,\n",
    "    \"first_name\": first_name,\n",
    "    \"card_number\": card_number,\n",
    "    \"card_expire\": card_expire,\n",
    "    \"security_type\": security_type,\n",
    "    \"security_number\": security_number,\n",
    "}\n",
    "card_profile"
   ]
  },
  {
   "cell_type": "code",
   "execution_count": null,
   "metadata": {},
   "outputs": [],
   "source": [
    "card_profile[\"name\"] = transfer_hash(\n",
    "    card_profile[\"first_name\"] + card_profile[\"last_name\"], salt\n",
    ")\n",
    "card_profile[\"card_number\"] = transfer_hash(card_profile[\"card_number\"], salt)\n",
    "card_profile[\"security_number\"] = transfer_hash(card_profile[\"security_number\"], salt)\n",
    "\n",
    "del card_profile[\"first_name\"], card_profile[\"last_name\"]\n",
    "\n",
    "\n",
    "card_profile"
   ]
  },
  {
   "cell_type": "code",
   "execution_count": 23,
   "metadata": {},
   "outputs": [],
   "source": [
    "import polars as pl\n",
    "\n",
    "profiles = [fake.profile() for i in range(100000)]\n",
    "df_profiles = pl.DataFrame(profiles)"
   ]
  },
  {
   "cell_type": "code",
   "execution_count": null,
   "metadata": {},
   "outputs": [],
   "source": [
    "exprs = [\n",
    "    pl.col(\"ssn\").map_elements(lambda x: transfer_hash(x, salt), return_dtype=pl.String),\n",
    "    pl.col(\"username\").map_elements(lambda x: transfer_hash(x, salt), return_dtype=pl.String),\n",
    "    pl.col(\"name\").map_elements(lambda x: transfer_hash(x, salt), return_dtype=pl.String),\n",
    "    pl.col(\"residence\").map_elements(transfer_address, return_dtype=pl.String),\n",
    "    pl.col(\"address\").map_elements(transfer_address, return_dtype=pl.String),\n",
    "]\n",
    "\n",
    "df_profiles.with_columns(*exprs)"
   ]
  }
 ],
 "metadata": {
  "kernelspec": {
   "display_name": ".venv",
   "language": "python",
   "name": "python3"
  },
  "language_info": {
   "codemirror_mode": {
    "name": "ipython",
    "version": 3
   },
   "file_extension": ".py",
   "mimetype": "text/x-python",
   "name": "python",
   "nbconvert_exporter": "python",
   "pygments_lexer": "ipython3",
   "version": "3.11.11"
  }
 },
 "nbformat": 4,
 "nbformat_minor": 2
}
