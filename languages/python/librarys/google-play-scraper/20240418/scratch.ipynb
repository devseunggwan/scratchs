{
 "cells": [
  {
   "cell_type": "code",
   "execution_count": 1,
   "metadata": {},
   "outputs": [
    {
     "name": "stdout",
     "output_type": "stream",
     "text": [
      "Collecting google-play-scraper\n",
      "  Downloading google_play_scraper-1.2.6-py3-none-any.whl.metadata (50 kB)\n",
      "\u001b[2K     \u001b[90m━━━━━━━━━━━━━━━━━━━━━━━━━━━━━━━━━━━━━━━━\u001b[0m \u001b[32m50.2/50.2 kB\u001b[0m \u001b[31m2.8 MB/s\u001b[0m eta \u001b[36m0:00:00\u001b[0m\n",
      "\u001b[?25hDownloading google_play_scraper-1.2.6-py3-none-any.whl (28 kB)\n",
      "Installing collected packages: google-play-scraper\n",
      "Successfully installed google-play-scraper-1.2.6\n",
      "Note: you may need to restart the kernel to use updated packages.\n"
     ]
    }
   ],
   "source": [
    "%pip install google-play-scraper"
   ]
  },
  {
   "cell_type": "code",
   "execution_count": 1,
   "metadata": {},
   "outputs": [],
   "source": [
    "from google_play_scraper import app\n",
    "\n",
    "result = app(\n",
    "    \"io.nfttown.community\",\n",
    "    lang=\"ko\",  # defaults to 'en'\n",
    "    country=\"kr\",  # defaults to 'us'\n",
    ")"
   ]
  },
  {
   "cell_type": "code",
   "execution_count": 2,
   "metadata": {},
   "outputs": [
    {
     "data": {
      "text/plain": [
       "{'title': 'ENTA',\n",
       " 'description': '▶ 나만의 작품을 올리고, 공유하는 아트 크리에이터\\r\\n\\r\\nEnta(엔타)에서 나만의 작품 게시하고, 좋아요/댓글 등으로 소통할 수 있어요. 유저끼리 서로 팔로잉 할 수 있어요. 모두가 크리에이터가 될 수 있어요!\\r\\n\\r\\n\\r\\n▶ 소통 공간, 라운지 & 쪽지\\r\\n\\r\\nEnta(엔타)에서 전체 라운지에서 다양한 분야에 대해 모든 유저와 소통할 수 있어요. 일정 공지도 할 수 있어요. 다이렉트 쪽지도 보낼 수 있답니다.\\r\\n\\r\\n\\r\\n▶ 나만의 작품, 나만의 NFT\\r\\n\\r\\nEnta(엔타) 유저의 작품은 곧 크리에이터의 자산이에요. NFT 만들기 등을 통해 블록체인에 인증할 수 있어요.\\r\\n\\r\\n\\r\\n▶ 추천, 인기 알고리즘 & 전시관\\r\\n\\r\\nEnta(엔타) 유저의 작품, NFT, 게시글 등은 모두 추천, 인기 콘텐츠로 소개될 수 있어요. 이달의 커버로 선정될 수 있어요. 전시관을 통해 3D도 경험할 수 있어요.',\n",
       " 'descriptionHTML': '▶ 나만의 작품을 올리고, 공유하는 아트 크리에이터<br><br>Enta(엔타)에서 나만의 작품 게시하고, 좋아요/댓글 등으로 소통할 수 있어요. 유저끼리 서로 팔로잉 할 수 있어요. 모두가 크리에이터가 될 수 있어요!<br><br><br>▶ 소통 공간, 라운지 &amp; 쪽지<br><br>Enta(엔타)에서 전체 라운지에서 다양한 분야에 대해 모든 유저와 소통할 수 있어요. 일정 공지도 할 수 있어요. 다이렉트 쪽지도 보낼 수 있답니다.<br><br><br>▶ 나만의 작품, 나만의 NFT<br><br>Enta(엔타) 유저의 작품은 곧 크리에이터의 자산이에요. NFT 만들기 등을 통해 블록체인에 인증할 수 있어요.<br><br><br>▶ 추천, 인기 알고리즘 &amp; 전시관<br><br>Enta(엔타) 유저의 작품, NFT, 게시글 등은 모두 추천, 인기 콘텐츠로 소개될 수 있어요. 이달의 커버로 선정될 수 있어요. 전시관을 통해 3D도 경험할 수 있어요.',\n",
       " 'summary': 'Enta(엔타)는 일상 속 작품과 NFT를 즐기며, 크리에이터와 소통할 수 있는 아트 커뮤니티 플랫폼이에요',\n",
       " 'installs': '1,000+',\n",
       " 'minInstalls': 1000,\n",
       " 'realInstalls': 4323,\n",
       " 'score': 2.8947368,\n",
       " 'ratings': 19,\n",
       " 'reviews': 10,\n",
       " 'histogram': [10, 0, 0, 0, 9],\n",
       " 'price': 0,\n",
       " 'free': True,\n",
       " 'currency': 'KRW',\n",
       " 'sale': False,\n",
       " 'saleTime': None,\n",
       " 'originalPrice': None,\n",
       " 'saleText': None,\n",
       " 'offersIAP': False,\n",
       " 'inAppProductPrice': None,\n",
       " 'developer': 'TNS-DAP',\n",
       " 'developerId': 'TNS-DAP',\n",
       " 'developerEmail': 'tns_dap@hyosung.com',\n",
       " 'developerWebsite': 'https://nfttown.io/',\n",
       " 'developerAddress': None,\n",
       " 'privacyPolicy': 'https://nfttown.io/policy/privacy',\n",
       " 'genre': '커뮤니케이션',\n",
       " 'genreId': 'COMMUNICATION',\n",
       " 'categories': [{'name': '커뮤니케이션', 'id': 'COMMUNICATION'}],\n",
       " 'icon': 'https://play-lh.googleusercontent.com/kvxOUQI_-Flrez3U_vuLEnj3JmW_KaKfUtw_Kgin520qQ8kqWj34T3HyTeP4VOyeKCQ',\n",
       " 'headerImage': 'https://play-lh.googleusercontent.com/BOhxlNE-wzaA2O4GAZGkNqB9erHPpy_uWbY-nJqAaVMStoSVigRBfKcYxCHHPHRAsw4',\n",
       " 'screenshots': ['https://play-lh.googleusercontent.com/h1PqxizzF1_s3vbjMenI-L5lWPmtrQNyyXZ2hHGhqYJ_dIKWbrWl_1f4kn9_1mSgzL3o',\n",
       "  'https://play-lh.googleusercontent.com/UnEl20LDODQRRqCWe7HwSGLxQSFZElj8niJn873At2qaZFFhcG9jnl-efTWdksbWMg',\n",
       "  'https://play-lh.googleusercontent.com/zbnpTXBFu41WPxioaL0Exk2RmNE0CR0Y5NbE3DvAZ-uakLTK5gBcK4moYt_1TPC-bXM',\n",
       "  'https://play-lh.googleusercontent.com/3E2pqJ2pRnIqTliz3JoUhCl9ySxvILh0Z7BPle8LwHWPzzQEBdeHcrKWUTXMqob_RIo',\n",
       "  'https://play-lh.googleusercontent.com/y4kLnRz9XAt3BLyMAB6Cs-f3rQuzMO98IG5AKkl4S-0RMXkhrECU3VcSR8wipqdR_Zme',\n",
       "  'https://play-lh.googleusercontent.com/idaK6_2tHAuHz8kFQKzijaJbSUyz6Uf3QAN7vmYY-6usXlrNEY7yMkMeVaxtJPx4GuG8'],\n",
       " 'video': None,\n",
       " 'videoImage': None,\n",
       " 'contentRating': '12세 이상',\n",
       " 'contentRatingDescription': '보호자 동반 권장',\n",
       " 'adSupported': False,\n",
       " 'containsAds': False,\n",
       " 'released': '2024. 1. 12.',\n",
       " 'lastUpdatedOn': '2024. 4. 18.',\n",
       " 'updated': 1713429350,\n",
       " 'version': '1.0.92',\n",
       " 'comments': ['로그인이 안돼요;;; 와이파이 엄청 멀쩡하고 다른 앱은 잘 켜지는데 이거만 엄청 로딩 오래걸리고... 앱 쓰다가도 초기 화면으로 계속 튕기고,; 최악이에요.',\n",
       "  '사진은 후지필름!! 사진 모아 포토북 만들 수 있고 바로 인쇄할 수 있으니 넘 편합니다. 할인도 많이하네용^^',\n",
       "  '로그인이 절대 안되네요..제 구글 아이디만 가져가고 연동된다는데 제 개인정보가 너무 걱정되요. 뭐 탈퇴하려고 해도 로그인도 안되니 할수 있는게 아무것도 없어요.',\n",
       "  '로그인도 안 되고 접속 자체가 안 됨.',\n",
       "  '회원가입할때 타일선택이 이상해서 가입자체가 안되네요',\n",
       "  '많은 작가들의 훌륭한 작품들을 볼 수 있어요',\n",
       "  '로그인 자체가 안됩니다 자꾸 튕기고요 지웠다 깔아봐도 마찬가지네요',\n",
       "  '로그인을 하려는데 계속 홈으로 가져요',\n",
       "  '그 어떤 앱보다 쉽게 가상자산마켓에 접근할 수 있어 좋습니다. 딱딱한 금융 가치로만 내 자산을 보는것이 아닌 라이프스타일의 내 일부로서 대할 수 있어 좋아요',\n",
       "  '회원가입했는데 쿠키왜 안줘ㅠ'],\n",
       " 'appId': 'io.nfttown.community',\n",
       " 'url': 'https://play.google.com/store/apps/details?id=io.nfttown.community&hl=ko&gl=kr'}"
      ]
     },
     "execution_count": 2,
     "metadata": {},
     "output_type": "execute_result"
    }
   ],
   "source": [
    "result"
   ]
  },
  {
   "cell_type": "code",
   "execution_count": null,
   "metadata": {},
   "outputs": [],
   "source": []
  },
  {
   "cell_type": "code",
   "execution_count": 3,
   "metadata": {},
   "outputs": [],
   "source": [
    "import json\n",
    "\n",
    "with open(\"nfttown_community.json\", \"w\", encoding=\"utf-8\") as f:\n",
    "    f.write(json.dumps(result, indent=4, ensure_ascii=False))"
   ]
  }
 ],
 "metadata": {
  "kernelspec": {
   "display_name": "study",
   "language": "python",
   "name": "python3"
  },
  "language_info": {
   "codemirror_mode": {
    "name": "ipython",
    "version": 3
   },
   "file_extension": ".py",
   "mimetype": "text/x-python",
   "name": "python",
   "nbconvert_exporter": "python",
   "pygments_lexer": "ipython3",
   "version": "3.11.5"
  }
 },
 "nbformat": 4,
 "nbformat_minor": 2
}
