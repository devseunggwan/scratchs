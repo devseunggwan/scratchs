{
 "cells": [
  {
   "cell_type": "code",
   "execution_count": null,
   "metadata": {},
   "outputs": [],
   "source": [
    "%pip install \"litellm\""
   ]
  },
  {
   "cell_type": "code",
   "execution_count": null,
   "metadata": {},
   "outputs": [],
   "source": [
    "import os\n",
    "\n",
    "os.environ[\"LITELLM_LOG\"] = \"DEBUG\""
   ]
  },
  {
   "cell_type": "code",
   "execution_count": null,
   "metadata": {},
   "outputs": [],
   "source": [
    "system_message = \"\"\"\n",
    "\n",
    "\"\"\"\n",
    "\n",
    "user_message = \"\"\"\n",
    "\n",
    "\"\"\""
   ]
  },
  {
   "cell_type": "code",
   "execution_count": null,
   "metadata": {},
   "outputs": [],
   "source": [
    "import json\n",
    "\n",
    "from litellm import completion\n",
    "\n",
    "\n",
    "## GET CREDENTIALS\n",
    "file_path = \"\"\n",
    "\n",
    "# Load the JSON file\n",
    "with open(file_path, \"r\") as file:\n",
    "    vertex_credentials = json.load(file)\n",
    "\n",
    "# Convert to JSON string\n",
    "vertex_credentials_json = json.dumps(vertex_credentials)\n",
    "\n",
    "## COMPLETION CALL\n",
    "response = completion(\n",
    "    model=\"vertex_ai_beta/gemini-pro\",\n",
    "    messages=[\n",
    "        {\"content\": system_message, \"role\": \"system\"},\n",
    "        {\"content\": user_message, \"role\": \"user\"},\n",
    "    ],\n",
    "    vertex_credentials=vertex_credentials_json,\n",
    ")"
   ]
  },
  {
   "cell_type": "code",
   "execution_count": null,
   "metadata": {},
   "outputs": [],
   "source": [
    "response"
   ]
  }
 ],
 "metadata": {
  "kernelspec": {
   "display_name": "study",
   "language": "python",
   "name": "python3"
  },
  "language_info": {
   "codemirror_mode": {
    "name": "ipython",
    "version": 3
   },
   "file_extension": ".py",
   "mimetype": "text/x-python",
   "name": "python",
   "nbconvert_exporter": "python",
   "pygments_lexer": "ipython3",
   "version": "3.11.5"
  }
 },
 "nbformat": 4,
 "nbformat_minor": 2
}
