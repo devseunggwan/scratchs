{
 "cells": [
  {
   "cell_type": "code",
   "execution_count": 2,
   "metadata": {},
   "outputs": [
    {
     "name": "stdout",
     "output_type": "stream",
     "text": [
      "Collecting loguru\n",
      "  Downloading loguru-0.7.2-py3-none-any.whl.metadata (23 kB)\n",
      "Downloading loguru-0.7.2-py3-none-any.whl (62 kB)\n",
      "\u001b[2K   \u001b[90m━━━━━━━━━━━━━━━━━━━━━━━━━━━━━━━━━━━━━━━━\u001b[0m \u001b[32m62.5/62.5 kB\u001b[0m \u001b[31m1.4 MB/s\u001b[0m eta \u001b[36m0:00:00\u001b[0m:00:01\u001b[0m\n",
      "\u001b[?25hInstalling collected packages: loguru\n",
      "Successfully installed loguru-0.7.2\n",
      "\n",
      "\u001b[1m[\u001b[0m\u001b[34;49mnotice\u001b[0m\u001b[1;39;49m]\u001b[0m\u001b[39;49m A new release of pip is available: \u001b[0m\u001b[31;49m23.3\u001b[0m\u001b[39;49m -> \u001b[0m\u001b[32;49m23.3.1\u001b[0m\n",
      "\u001b[1m[\u001b[0m\u001b[34;49mnotice\u001b[0m\u001b[1;39;49m]\u001b[0m\u001b[39;49m To update, run: \u001b[0m\u001b[32;49mpip install --upgrade pip\u001b[0m\n",
      "Note: you may need to restart the kernel to use updated packages.\n"
     ]
    }
   ],
   "source": [
    "%pip install loguru"
   ]
  },
  {
   "cell_type": "code",
   "execution_count": 26,
   "metadata": {},
   "outputs": [],
   "source": [
    "import sys\n",
    "from loguru import logger"
   ]
  },
  {
   "cell_type": "code",
   "execution_count": 5,
   "metadata": {},
   "outputs": [
    {
     "name": "stderr",
     "output_type": "stream",
     "text": [
      "\u001b[32m2023-11-10 13:14:19.797\u001b[0m | \u001b[1mINFO    \u001b[0m | \u001b[36m__main__\u001b[0m:\u001b[36m<module>\u001b[0m:\u001b[36m1\u001b[0m - \u001b[1mHello, World!\u001b[0m\n"
     ]
    }
   ],
   "source": [
    "logger.info(\"Hello, World!\")"
   ]
  },
  {
   "cell_type": "code",
   "execution_count": 6,
   "metadata": {},
   "outputs": [
    {
     "name": "stderr",
     "output_type": "stream",
     "text": [
      "\u001b[32m2023-11-10 13:14:31.751\u001b[0m | \u001b[33m\u001b[1mWARNING \u001b[0m | \u001b[36m__main__\u001b[0m:\u001b[36m<module>\u001b[0m:\u001b[36m1\u001b[0m - \u001b[33m\u001b[1mHello, World!\u001b[0m\n"
     ]
    }
   ],
   "source": [
    "logger.warning(\"Hello, World!\")"
   ]
  },
  {
   "cell_type": "code",
   "execution_count": 7,
   "metadata": {},
   "outputs": [
    {
     "name": "stderr",
     "output_type": "stream",
     "text": [
      "\u001b[32m2023-11-10 13:14:42.640\u001b[0m | \u001b[31m\u001b[1mERROR   \u001b[0m | \u001b[36m__main__\u001b[0m:\u001b[36m<module>\u001b[0m:\u001b[36m1\u001b[0m - \u001b[31m\u001b[1mHello, World!\u001b[0m\n"
     ]
    }
   ],
   "source": [
    "logger.error(\"Hello, World!\")"
   ]
  },
  {
   "cell_type": "code",
   "execution_count": 27,
   "metadata": {},
   "outputs": [
    {
     "ename": "TypeError",
     "evalue": "add() got an unexpected keyword argument 'rotation'",
     "output_type": "error",
     "traceback": [
      "\u001b[0;31m---------------------------------------------------------------------------\u001b[0m",
      "\u001b[0;31mTypeError\u001b[0m                                 Traceback (most recent call last)",
      "\u001b[1;32m/workspaces/scratchs/librarys/loguru/test.ipynb 셀 6\u001b[0m line \u001b[0;36m1\n\u001b[0;32m----> <a href='vscode-notebook-cell://codespaces%2Bsupreme-rotary-phone-gp7jwqv79v39gjq/workspaces/scratchs/librarys/loguru/test.ipynb#W5sdnNjb2RlLXJlbW90ZQ%3D%3D?line=0'>1</a>\u001b[0m logger\u001b[39m.\u001b[39;49madd(sys\u001b[39m.\u001b[39;49mstderr, \u001b[39mformat\u001b[39;49m\u001b[39m=\u001b[39;49m\u001b[39m\"\u001b[39;49m\u001b[39m{time}\u001b[39;49;00m\u001b[39m | \u001b[39;49m\u001b[39m{level}\u001b[39;49;00m\u001b[39m | \u001b[39;49m\u001b[39m{message}\u001b[39;49;00m\u001b[39m\"\u001b[39;49m, rotation\u001b[39m=\u001b[39;49m\u001b[39m\"\u001b[39;49m\u001b[39m10 MB\u001b[39;49m\u001b[39m\"\u001b[39;49m, compression\u001b[39m=\u001b[39;49m\u001b[39m\"\u001b[39;49m\u001b[39mzip\u001b[39;49m\u001b[39m\"\u001b[39;49m, serialize\u001b[39m=\u001b[39;49m\u001b[39mTrue\u001b[39;49;00m)\n",
      "File \u001b[0;32m~/.python/current/lib/python3.10/site-packages/loguru/_logger.py:868\u001b[0m, in \u001b[0;36mLogger.add\u001b[0;34m(self, sink, level, format, filter, colorize, serialize, backtrace, diagnose, enqueue, context, catch, **kwargs)\u001b[0m\n\u001b[1;32m    865\u001b[0m     \u001b[39mraise\u001b[39;00m \u001b[39mTypeError\u001b[39;00m(\u001b[39m\"\u001b[39m\u001b[39mCannot log to objects of type \u001b[39m\u001b[39m'\u001b[39m\u001b[39m%s\u001b[39;00m\u001b[39m'\u001b[39m\u001b[39m\"\u001b[39m \u001b[39m%\u001b[39m \u001b[39mtype\u001b[39m(sink)\u001b[39m.\u001b[39m\u001b[39m__name__\u001b[39m)\n\u001b[1;32m    867\u001b[0m \u001b[39mif\u001b[39;00m kwargs:\n\u001b[0;32m--> 868\u001b[0m     \u001b[39mraise\u001b[39;00m \u001b[39mTypeError\u001b[39;00m(\u001b[39m\"\u001b[39m\u001b[39madd() got an unexpected keyword argument \u001b[39m\u001b[39m'\u001b[39m\u001b[39m%s\u001b[39;00m\u001b[39m'\u001b[39m\u001b[39m\"\u001b[39m \u001b[39m%\u001b[39m \u001b[39mnext\u001b[39m(\u001b[39miter\u001b[39m(kwargs)))\n\u001b[1;32m    870\u001b[0m \u001b[39mif\u001b[39;00m \u001b[39mfilter\u001b[39m \u001b[39mis\u001b[39;00m \u001b[39mNone\u001b[39;00m:\n\u001b[1;32m    871\u001b[0m     filter_func \u001b[39m=\u001b[39m \u001b[39mNone\u001b[39;00m\n",
      "\u001b[0;31mTypeError\u001b[0m: add() got an unexpected keyword argument 'rotation'"
     ]
    }
   ],
   "source": [
    "logger.add(\"./api.log\", format=\"{time} | {level} | {message}\", rotation=\"10 MB\", compression=\"zip\", serialize=True)"
   ]
  },
  {
   "cell_type": "code",
   "execution_count": 16,
   "metadata": {},
   "outputs": [
    {
     "name": "stderr",
     "output_type": "stream",
     "text": [
      "\u001b[32m2023-11-10 13:19:14.326\u001b[0m | \u001b[1mINFO    \u001b[0m | \u001b[36m__main__\u001b[0m:\u001b[36m<module>\u001b[0m:\u001b[36m1\u001b[0m - \u001b[1mHello, World!\u001b[0m\n"
     ]
    }
   ],
   "source": [
    "logger.info(\"Hello, World!\")"
   ]
  },
  {
   "cell_type": "code",
   "execution_count": 17,
   "metadata": {},
   "outputs": [],
   "source": [
    "@logger.catch\n",
    "def div_by_zero():\n",
    "    return 1 / 0"
   ]
  },
  {
   "cell_type": "code",
   "execution_count": 31,
   "metadata": {},
   "outputs": [
    {
     "name": "stderr",
     "output_type": "stream",
     "text": [
      "\u001b[32m2023-11-10 13:32:42.292\u001b[0m | \u001b[31m\u001b[1mERROR   \u001b[0m | \u001b[36m__main__\u001b[0m:\u001b[36m<module>\u001b[0m:\u001b[36m1\u001b[0m - \u001b[31m\u001b[1mAn error has been caught in function '<module>', process 'MainProcess' (2893), thread 'MainThread' (139768592691840):\u001b[0m\n",
      "\u001b[33m\u001b[1mTraceback (most recent call last):\u001b[0m\n",
      "\n",
      "  File \"/home/codespace/.python/current/lib/python3.10/runpy.py\", line 196, in _run_module_as_main\n",
      "    return _run_code(code, main_globals, None,\n",
      "           │         │     └ {'__name__': '__main__', '__doc__': 'Entry point for launching an IPython kernel.\\n\\nThis is separate from the ipykernel pack...\n",
      "           │         └ <code object <module> at 0x7f1e69082810, file \"/home/codespace/.local/lib/python3.10/site-packages/ipykernel_launcher.py\", li...\n",
      "           └ <function _run_code at 0x7f1e6908b0a0>\n",
      "  File \"/home/codespace/.python/current/lib/python3.10/runpy.py\", line 86, in _run_code\n",
      "    exec(code, run_globals)\n",
      "         │     └ {'__name__': '__main__', '__doc__': 'Entry point for launching an IPython kernel.\\n\\nThis is separate from the ipykernel pack...\n",
      "         └ <code object <module> at 0x7f1e69082810, file \"/home/codespace/.local/lib/python3.10/site-packages/ipykernel_launcher.py\", li...\n",
      "  File \"/home/codespace/.local/lib/python3.10/site-packages/ipykernel_launcher.py\", line 17, in <module>\n",
      "    app.launch_new_instance()\n",
      "    │   └ <bound method Application.launch_instance of <class 'ipykernel.kernelapp.IPKernelApp'>>\n",
      "    └ <module 'ipykernel.kernelapp' from '/home/codespace/.local/lib/python3.10/site-packages/ipykernel/kernelapp.py'>\n",
      "  File \"/home/codespace/.local/lib/python3.10/site-packages/traitlets/config/application.py\", line 1053, in launch_instance\n",
      "    app.start()\n",
      "    │   └ <function IPKernelApp.start at 0x7f1e66595630>\n",
      "    └ <ipykernel.kernelapp.IPKernelApp object at 0x7f1e69021a80>\n",
      "  File \"/home/codespace/.local/lib/python3.10/site-packages/ipykernel/kernelapp.py\", line 736, in start\n",
      "    self.io_loop.start()\n",
      "    │    │       └ <function BaseAsyncIOLoop.start at 0x7f1e66596290>\n",
      "    │    └ <tornado.platform.asyncio.AsyncIOMainLoop object at 0x7f1e665be260>\n",
      "    └ <ipykernel.kernelapp.IPKernelApp object at 0x7f1e69021a80>\n",
      "  File \"/home/codespace/.local/lib/python3.10/site-packages/tornado/platform/asyncio.py\", line 195, in start\n",
      "    self.asyncio_loop.run_forever()\n",
      "    │    │            └ <function BaseEventLoop.run_forever at 0x7f1e682ed5a0>\n",
      "    │    └ <_UnixSelectorEventLoop running=True closed=False debug=False>\n",
      "    └ <tornado.platform.asyncio.AsyncIOMainLoop object at 0x7f1e665be260>\n",
      "  File \"/home/codespace/.python/current/lib/python3.10/asyncio/base_events.py\", line 603, in run_forever\n",
      "    self._run_once()\n",
      "    │    └ <function BaseEventLoop._run_once at 0x7f1e682ef0a0>\n",
      "    └ <_UnixSelectorEventLoop running=True closed=False debug=False>\n",
      "  File \"/home/codespace/.python/current/lib/python3.10/asyncio/base_events.py\", line 1899, in _run_once\n",
      "    handle._run()\n",
      "    │      └ <function Handle._run at 0x7f1e6829e440>\n",
      "    └ <Handle Task.task_wakeup(<Future finis...8a0>, ...],))>)>\n",
      "  File \"/home/codespace/.python/current/lib/python3.10/asyncio/events.py\", line 80, in _run\n",
      "    self._context.run(self._callback, *self._args)\n",
      "    │    │            │    │           │    └ <member '_args' of 'Handle' objects>\n",
      "    │    │            │    │           └ <Handle Task.task_wakeup(<Future finis...8a0>, ...],))>)>\n",
      "    │    │            │    └ <member '_callback' of 'Handle' objects>\n",
      "    │    │            └ <Handle Task.task_wakeup(<Future finis...8a0>, ...],))>)>\n",
      "    │    └ <member '_context' of 'Handle' objects>\n",
      "    └ <Handle Task.task_wakeup(<Future finis...8a0>, ...],))>)>\n",
      "  File \"/home/codespace/.local/lib/python3.10/site-packages/ipykernel/kernelbase.py\", line 516, in dispatch_queue\n",
      "    await self.process_one()\n",
      "          │    └ <function Kernel.process_one at 0x7f1e669cfeb0>\n",
      "          └ <ipykernel.ipkernel.IPythonKernel object at 0x7f1e665be830>\n",
      "  File \"/home/codespace/.local/lib/python3.10/site-packages/ipykernel/kernelbase.py\", line 505, in process_one\n",
      "    await dispatch(*args)\n",
      "          │         └ ([<zmq.sugar.frame.Frame object at 0x7f1e54fd2820>, <zmq.sugar.frame.Frame object at 0x7f1e665e9430>, <zmq.sugar.frame.Frame ...\n",
      "          └ <bound method Kernel.dispatch_shell of <ipykernel.ipkernel.IPythonKernel object at 0x7f1e665be830>>\n",
      "  File \"/home/codespace/.local/lib/python3.10/site-packages/ipykernel/kernelbase.py\", line 412, in dispatch_shell\n",
      "    await result\n",
      "          └ <coroutine object Kernel.execute_request at 0x7f1e54bd5850>\n",
      "  File \"/home/codespace/.local/lib/python3.10/site-packages/ipykernel/kernelbase.py\", line 740, in execute_request\n",
      "    reply_content = await reply_content\n",
      "                          └ <coroutine object IPythonKernel.do_execute at 0x7f1e54bd5460>\n",
      "  File \"/home/codespace/.local/lib/python3.10/site-packages/ipykernel/ipkernel.py\", line 422, in do_execute\n",
      "    res = shell.run_cell(\n",
      "          │     └ <function ZMQInteractiveShell.run_cell at 0x7f1e66582ef0>\n",
      "          └ <ipykernel.zmqshell.ZMQInteractiveShell object at 0x7f1e665bed40>\n",
      "  File \"/home/codespace/.local/lib/python3.10/site-packages/ipykernel/zmqshell.py\", line 546, in run_cell\n",
      "    return super().run_cell(*args, **kwargs)\n",
      "                             │       └ {'store_history': True, 'silent': False, 'cell_id': 'vscode-notebook-cell://codespaces%2Bsupreme-rotary-phone-gp7jwqv79v39gjq...\n",
      "                             └ ('div_by_zero()',)\n",
      "  File \"/home/codespace/.local/lib/python3.10/site-packages/IPython/core/interactiveshell.py\", line 3024, in run_cell\n",
      "    result = self._run_cell(\n",
      "             │    └ <function InteractiveShell._run_cell at 0x7f1e6752ac20>\n",
      "             └ <ipykernel.zmqshell.ZMQInteractiveShell object at 0x7f1e665bed40>\n",
      "  File \"/home/codespace/.local/lib/python3.10/site-packages/IPython/core/interactiveshell.py\", line 3079, in _run_cell\n",
      "    result = runner(coro)\n",
      "             │      └ <coroutine object InteractiveShell.run_cell_async at 0x7f1e54a8daf0>\n",
      "             └ <function _pseudo_sync_runner at 0x7f1e67512560>\n",
      "  File \"/home/codespace/.local/lib/python3.10/site-packages/IPython/core/async_helpers.py\", line 129, in _pseudo_sync_runner\n",
      "    coro.send(None)\n",
      "    │    └ <method 'send' of 'coroutine' objects>\n",
      "    └ <coroutine object InteractiveShell.run_cell_async at 0x7f1e54a8daf0>\n",
      "  File \"/home/codespace/.local/lib/python3.10/site-packages/IPython/core/interactiveshell.py\", line 3284, in run_cell_async\n",
      "    has_raised = await self.run_ast_nodes(code_ast.body, cell_name,\n",
      "                       │    │             │        │     └ '/tmp/ipykernel_2893/626949325.py'\n",
      "                       │    │             │        └ [<ast.Expr object at 0x7f1e54b12ef0>]\n",
      "                       │    │             └ <ast.Module object at 0x7f1e54b11a50>\n",
      "                       │    └ <function InteractiveShell.run_ast_nodes at 0x7f1e6752aef0>\n",
      "                       └ <ipykernel.zmqshell.ZMQInteractiveShell object at 0x7f1e665bed40>\n",
      "  File \"/home/codespace/.local/lib/python3.10/site-packages/IPython/core/interactiveshell.py\", line 3466, in run_ast_nodes\n",
      "    if await self.run_code(code, result, async_=asy):\n",
      "             │    │        │     │              └ False\n",
      "             │    │        │     └ <ExecutionResult object at 7f1e54b122f0, execution_count=31 error_before_exec=None error_in_exec=None info=<ExecutionInfo obj...\n",
      "             │    │        └ <code object <module> at 0x7f1e54a959a0, file \"/tmp/ipykernel_2893/626949325.py\", line 1>\n",
      "             │    └ <function InteractiveShell.run_code at 0x7f1e6752af80>\n",
      "             └ <ipykernel.zmqshell.ZMQInteractiveShell object at 0x7f1e665bed40>\n",
      "  File \"/home/codespace/.local/lib/python3.10/site-packages/IPython/core/interactiveshell.py\", line 3526, in run_code\n",
      "    exec(code_obj, self.user_global_ns, self.user_ns)\n",
      "         │         │    │               │    └ {'__name__': '__main__', '__doc__': 'Automatically created module for IPython interactive environment', '__package__': None, ...\n",
      "         │         │    │               └ <ipykernel.zmqshell.ZMQInteractiveShell object at 0x7f1e665bed40>\n",
      "         │         │    └ <property object at 0x7f1e67516200>\n",
      "         │         └ <ipykernel.zmqshell.ZMQInteractiveShell object at 0x7f1e665bed40>\n",
      "         └ <code object <module> at 0x7f1e54a959a0, file \"/tmp/ipykernel_2893/626949325.py\", line 1>\n",
      "\n",
      "> File \"\u001b[32m/tmp/ipykernel_2893/\u001b[0m\u001b[32m\u001b[1m626949325.py\u001b[0m\", line \u001b[33m1\u001b[0m, in \u001b[35m<module>\u001b[0m\n",
      "    \u001b[1mdiv_by_zero\u001b[0m\u001b[1m(\u001b[0m\u001b[1m)\u001b[0m\n",
      "    \u001b[36m└ \u001b[0m\u001b[36m\u001b[1m<function div_by_zero at 0x7f1e54cfdd80>\u001b[0m\n",
      "\n",
      "  File \"\u001b[32m/tmp/ipykernel_2893/\u001b[0m\u001b[32m\u001b[1m3568762578.py\u001b[0m\", line \u001b[33m3\u001b[0m, in \u001b[35mdiv_by_zero\u001b[0m\n",
      "    \u001b[35m\u001b[1mreturn\u001b[0m \u001b[34m\u001b[1m1\u001b[0m \u001b[35m\u001b[1m/\u001b[0m \u001b[34m\u001b[1m0\u001b[0m\n",
      "\n",
      "\u001b[31m\u001b[1mZeroDivisionError\u001b[0m:\u001b[1m division by zero\u001b[0m\n",
      "2023-11-10T13:32:42.292620+0000 | ERROR | An error has been caught in function '<module>', process 'MainProcess' (2893), thread 'MainThread' (139768592691840):\n",
      "\u001b[33m\u001b[1mTraceback (most recent call last):\u001b[0m\n",
      "\n",
      "  File \"/home/codespace/.python/current/lib/python3.10/runpy.py\", line 196, in _run_module_as_main\n",
      "    return _run_code(code, main_globals, None,\n",
      "           │         │     └ {'__name__': '__main__', '__doc__': 'Entry point for launching an IPython kernel.\\n\\nThis is separate from the ipykernel pack...\n",
      "           │         └ <code object <module> at 0x7f1e69082810, file \"/home/codespace/.local/lib/python3.10/site-packages/ipykernel_launcher.py\", li...\n",
      "           └ <function _run_code at 0x7f1e6908b0a0>\n",
      "  File \"/home/codespace/.python/current/lib/python3.10/runpy.py\", line 86, in _run_code\n",
      "    exec(code, run_globals)\n",
      "         │     └ {'__name__': '__main__', '__doc__': 'Entry point for launching an IPython kernel.\\n\\nThis is separate from the ipykernel pack...\n",
      "         └ <code object <module> at 0x7f1e69082810, file \"/home/codespace/.local/lib/python3.10/site-packages/ipykernel_launcher.py\", li...\n",
      "  File \"/home/codespace/.local/lib/python3.10/site-packages/ipykernel_launcher.py\", line 17, in <module>\n",
      "    app.launch_new_instance()\n",
      "    │   └ <bound method Application.launch_instance of <class 'ipykernel.kernelapp.IPKernelApp'>>\n",
      "    └ <module 'ipykernel.kernelapp' from '/home/codespace/.local/lib/python3.10/site-packages/ipykernel/kernelapp.py'>\n",
      "  File \"/home/codespace/.local/lib/python3.10/site-packages/traitlets/config/application.py\", line 1053, in launch_instance\n",
      "    app.start()\n",
      "    │   └ <function IPKernelApp.start at 0x7f1e66595630>\n",
      "    └ <ipykernel.kernelapp.IPKernelApp object at 0x7f1e69021a80>\n",
      "  File \"/home/codespace/.local/lib/python3.10/site-packages/ipykernel/kernelapp.py\", line 736, in start\n",
      "    self.io_loop.start()\n",
      "    │    │       └ <function BaseAsyncIOLoop.start at 0x7f1e66596290>\n",
      "    │    └ <tornado.platform.asyncio.AsyncIOMainLoop object at 0x7f1e665be260>\n",
      "    └ <ipykernel.kernelapp.IPKernelApp object at 0x7f1e69021a80>\n",
      "  File \"/home/codespace/.local/lib/python3.10/site-packages/tornado/platform/asyncio.py\", line 195, in start\n",
      "    self.asyncio_loop.run_forever()\n",
      "    │    │            └ <function BaseEventLoop.run_forever at 0x7f1e682ed5a0>\n",
      "    │    └ <_UnixSelectorEventLoop running=True closed=False debug=False>\n",
      "    └ <tornado.platform.asyncio.AsyncIOMainLoop object at 0x7f1e665be260>\n",
      "  File \"/home/codespace/.python/current/lib/python3.10/asyncio/base_events.py\", line 603, in run_forever\n",
      "    self._run_once()\n",
      "    │    └ <function BaseEventLoop._run_once at 0x7f1e682ef0a0>\n",
      "    └ <_UnixSelectorEventLoop running=True closed=False debug=False>\n",
      "  File \"/home/codespace/.python/current/lib/python3.10/asyncio/base_events.py\", line 1899, in _run_once\n",
      "    handle._run()\n",
      "    │      └ <function Handle._run at 0x7f1e6829e440>\n",
      "    └ <Handle Task.task_wakeup(<Future finis...8a0>, ...],))>)>\n",
      "  File \"/home/codespace/.python/current/lib/python3.10/asyncio/events.py\", line 80, in _run\n",
      "    self._context.run(self._callback, *self._args)\n",
      "    │    │            │    │           │    └ <member '_args' of 'Handle' objects>\n",
      "    │    │            │    │           └ <Handle Task.task_wakeup(<Future finis...8a0>, ...],))>)>\n",
      "    │    │            │    └ <member '_callback' of 'Handle' objects>\n",
      "    │    │            └ <Handle Task.task_wakeup(<Future finis...8a0>, ...],))>)>\n",
      "    │    └ <member '_context' of 'Handle' objects>\n",
      "    └ <Handle Task.task_wakeup(<Future finis...8a0>, ...],))>)>\n",
      "  File \"/home/codespace/.local/lib/python3.10/site-packages/ipykernel/kernelbase.py\", line 516, in dispatch_queue\n",
      "    await self.process_one()\n",
      "          │    └ <function Kernel.process_one at 0x7f1e669cfeb0>\n",
      "          └ <ipykernel.ipkernel.IPythonKernel object at 0x7f1e665be830>\n",
      "  File \"/home/codespace/.local/lib/python3.10/site-packages/ipykernel/kernelbase.py\", line 505, in process_one\n",
      "    await dispatch(*args)\n",
      "          │         └ ([<zmq.sugar.frame.Frame object at 0x7f1e54fd2820>, <zmq.sugar.frame.Frame object at 0x7f1e665e9430>, <zmq.sugar.frame.Frame ...\n",
      "          └ <bound method Kernel.dispatch_shell of <ipykernel.ipkernel.IPythonKernel object at 0x7f1e665be830>>\n",
      "  File \"/home/codespace/.local/lib/python3.10/site-packages/ipykernel/kernelbase.py\", line 412, in dispatch_shell\n",
      "    await result\n",
      "          └ <coroutine object Kernel.execute_request at 0x7f1e54bd5850>\n",
      "  File \"/home/codespace/.local/lib/python3.10/site-packages/ipykernel/kernelbase.py\", line 740, in execute_request\n",
      "    reply_content = await reply_content\n",
      "                          └ <coroutine object IPythonKernel.do_execute at 0x7f1e54bd5460>\n",
      "  File \"/home/codespace/.local/lib/python3.10/site-packages/ipykernel/ipkernel.py\", line 422, in do_execute\n",
      "    res = shell.run_cell(\n",
      "          │     └ <function ZMQInteractiveShell.run_cell at 0x7f1e66582ef0>\n",
      "          └ <ipykernel.zmqshell.ZMQInteractiveShell object at 0x7f1e665bed40>\n",
      "  File \"/home/codespace/.local/lib/python3.10/site-packages/ipykernel/zmqshell.py\", line 546, in run_cell\n",
      "    return super().run_cell(*args, **kwargs)\n",
      "                             │       └ {'store_history': True, 'silent': False, 'cell_id': 'vscode-notebook-cell://codespaces%2Bsupreme-rotary-phone-gp7jwqv79v39gjq...\n",
      "                             └ ('div_by_zero()',)\n",
      "  File \"/home/codespace/.local/lib/python3.10/site-packages/IPython/core/interactiveshell.py\", line 3024, in run_cell\n",
      "    result = self._run_cell(\n",
      "             │    └ <function InteractiveShell._run_cell at 0x7f1e6752ac20>\n",
      "             └ <ipykernel.zmqshell.ZMQInteractiveShell object at 0x7f1e665bed40>\n",
      "  File \"/home/codespace/.local/lib/python3.10/site-packages/IPython/core/interactiveshell.py\", line 3079, in _run_cell\n",
      "    result = runner(coro)\n",
      "             │      └ <coroutine object InteractiveShell.run_cell_async at 0x7f1e54a8daf0>\n",
      "             └ <function _pseudo_sync_runner at 0x7f1e67512560>\n",
      "  File \"/home/codespace/.local/lib/python3.10/site-packages/IPython/core/async_helpers.py\", line 129, in _pseudo_sync_runner\n",
      "    coro.send(None)\n",
      "    │    └ <method 'send' of 'coroutine' objects>\n",
      "    └ <coroutine object InteractiveShell.run_cell_async at 0x7f1e54a8daf0>\n",
      "  File \"/home/codespace/.local/lib/python3.10/site-packages/IPython/core/interactiveshell.py\", line 3284, in run_cell_async\n",
      "    has_raised = await self.run_ast_nodes(code_ast.body, cell_name,\n",
      "                       │    │             │        │     └ '/tmp/ipykernel_2893/626949325.py'\n",
      "                       │    │             │        └ [<ast.Expr object at 0x7f1e54b12ef0>]\n",
      "                       │    │             └ <ast.Module object at 0x7f1e54b11a50>\n",
      "                       │    └ <function InteractiveShell.run_ast_nodes at 0x7f1e6752aef0>\n",
      "                       └ <ipykernel.zmqshell.ZMQInteractiveShell object at 0x7f1e665bed40>\n",
      "  File \"/home/codespace/.local/lib/python3.10/site-packages/IPython/core/interactiveshell.py\", line 3466, in run_ast_nodes\n",
      "    if await self.run_code(code, result, async_=asy):\n",
      "             │    │        │     │              └ False\n",
      "             │    │        │     └ <ExecutionResult object at 7f1e54b122f0, execution_count=31 error_before_exec=None error_in_exec=None info=<ExecutionInfo obj...\n",
      "             │    │        └ <code object <module> at 0x7f1e54a959a0, file \"/tmp/ipykernel_2893/626949325.py\", line 1>\n",
      "             │    └ <function InteractiveShell.run_code at 0x7f1e6752af80>\n",
      "             └ <ipykernel.zmqshell.ZMQInteractiveShell object at 0x7f1e665bed40>\n",
      "  File \"/home/codespace/.local/lib/python3.10/site-packages/IPython/core/interactiveshell.py\", line 3526, in run_code\n",
      "    exec(code_obj, self.user_global_ns, self.user_ns)\n",
      "         │         │    │               │    └ {'__name__': '__main__', '__doc__': 'Automatically created module for IPython interactive environment', '__package__': None, ...\n",
      "         │         │    │               └ <ipykernel.zmqshell.ZMQInteractiveShell object at 0x7f1e665bed40>\n",
      "         │         │    └ <property object at 0x7f1e67516200>\n",
      "         │         └ <ipykernel.zmqshell.ZMQInteractiveShell object at 0x7f1e665bed40>\n",
      "         └ <code object <module> at 0x7f1e54a959a0, file \"/tmp/ipykernel_2893/626949325.py\", line 1>\n",
      "\n",
      "> File \"\u001b[32m/tmp/ipykernel_2893/\u001b[0m\u001b[32m\u001b[1m626949325.py\u001b[0m\", line \u001b[33m1\u001b[0m, in \u001b[35m<module>\u001b[0m\n",
      "    \u001b[1mdiv_by_zero\u001b[0m\u001b[1m(\u001b[0m\u001b[1m)\u001b[0m\n",
      "    \u001b[36m└ \u001b[0m\u001b[36m\u001b[1m<function div_by_zero at 0x7f1e54cfdd80>\u001b[0m\n",
      "\n",
      "  File \"\u001b[32m/tmp/ipykernel_2893/\u001b[0m\u001b[32m\u001b[1m3568762578.py\u001b[0m\", line \u001b[33m3\u001b[0m, in \u001b[35mdiv_by_zero\u001b[0m\n",
      "    \u001b[35m\u001b[1mreturn\u001b[0m \u001b[34m\u001b[1m1\u001b[0m \u001b[35m\u001b[1m/\u001b[0m \u001b[34m\u001b[1m0\u001b[0m\n",
      "\n",
      "\u001b[31m\u001b[1mZeroDivisionError\u001b[0m:\u001b[1m division by zero\u001b[0m\n"
     ]
    }
   ],
   "source": [
    "div_by_zero()"
   ]
  },
  {
   "cell_type": "code",
   "execution_count": 30,
   "metadata": {},
   "outputs": [
    {
     "data": {
      "text/plain": [
       "12"
      ]
     },
     "execution_count": 30,
     "metadata": {},
     "output_type": "execute_result"
    }
   ],
   "source": [
    "logger.add(sys.stderr, format=\"{time} | {level} | {message}\")"
   ]
  }
 ],
 "metadata": {
  "kernelspec": {
   "display_name": "Python 3",
   "language": "python",
   "name": "python3"
  },
  "language_info": {
   "codemirror_mode": {
    "name": "ipython",
    "version": 3
   },
   "file_extension": ".py",
   "mimetype": "text/x-python",
   "name": "python",
   "nbconvert_exporter": "python",
   "pygments_lexer": "ipython3",
   "version": "3.10.8"
  }
 },
 "nbformat": 4,
 "nbformat_minor": 2
}
