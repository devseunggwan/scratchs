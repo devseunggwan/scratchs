{
 "cells": [
  {
   "cell_type": "code",
   "execution_count": 2,
   "metadata": {},
   "outputs": [],
   "source": [
    "from ntscraper import Nitter"
   ]
  },
  {
   "cell_type": "code",
   "execution_count": 3,
   "metadata": {},
   "outputs": [
    {
     "name": "stderr",
     "output_type": "stream",
     "text": [
      "Testing instances: 100%|██████████| 30/30 [01:10<00:00,  2.34s/it]\n"
     ]
    }
   ],
   "source": [
    "scraper = Nitter(log_level=1, skip_instance_check=False)\n"
   ]
  },
  {
   "cell_type": "code",
   "execution_count": 6,
   "metadata": {},
   "outputs": [
    {
     "name": "stdout",
     "output_type": "stream",
     "text": [
      "08-Jan-24 07:53:46 - No instance specified, using random instance https://nitter.eu.projectsegfau.lt\n",
      "08-Jan-24 07:54:01 - Current stats for github: 7 tweets, 0 threads...\n",
      "08-Jan-24 07:54:10 - Current stats for github: 11 tweets, 0 threads...\n",
      "08-Jan-24 07:54:17 - Current stats for github: 13 tweets, 0 threads...\n",
      "08-Jan-24 07:54:26 - Current stats for github: 17 tweets, 0 threads...\n",
      "08-Jan-24 07:54:28 - Empty page on https://nitter.eu.projectsegfau.lt\n"
     ]
    }
   ],
   "source": [
    "github_hash_tweets = scraper.get_tweets(\"github\", mode='hashtag')"
   ]
  },
  {
   "cell_type": "code",
   "execution_count": 4,
   "metadata": {},
   "outputs": [
    {
     "name": "stdout",
     "output_type": "stream",
     "text": [
      "08-Jan-24 07:58:37 - No instance specified, using random instance https://nitter.soopy.moe\n"
     ]
    },
    {
     "data": {
      "text/plain": [
       "{'image': 'https://pbs.twimg.com/profile_images/1582612357599047680/hEPSJV1e_400x400.jpg',\n",
       " 'name': 'NFTtown',\n",
       " 'username': '@_NFTtown_',\n",
       " 'id': '1541994054246084613',\n",
       " 'bio': 'Discover, Learn and Play NFT town is the best place where you can get all the information about NFT.',\n",
       " 'location': '',\n",
       " 'website': 'https://nfttown.io/',\n",
       " 'joined': '3:57 AM - 29 Jun 2022',\n",
       " 'stats': {'tweets': 264,\n",
       "  'following': 159,\n",
       "  'followers': 5992,\n",
       "  'likes': 144,\n",
       "  'media': 78}}"
      ]
     },
     "execution_count": 4,
     "metadata": {},
     "output_type": "execute_result"
    }
   ],
   "source": [
    "results = scraper.get_profile_info(\"_NFTtown_\")\n",
    "results"
   ]
  },
  {
   "cell_type": "code",
   "execution_count": null,
   "metadata": {},
   "outputs": [],
   "source": [
    "import json\n",
    "\n",
    "with open('data.json', 'w') as outfile:\n",
    "    json.dump(results, outfile)"
   ]
  }
 ],
 "metadata": {
  "kernelspec": {
   "display_name": "Python 3",
   "language": "python",
   "name": "python3"
  },
  "language_info": {
   "codemirror_mode": {
    "name": "ipython",
    "version": 3
   },
   "file_extension": ".py",
   "mimetype": "text/x-python",
   "name": "python",
   "nbconvert_exporter": "python",
   "pygments_lexer": "ipython3",
   "version": "3.10.13"
  }
 },
 "nbformat": 4,
 "nbformat_minor": 2
}
