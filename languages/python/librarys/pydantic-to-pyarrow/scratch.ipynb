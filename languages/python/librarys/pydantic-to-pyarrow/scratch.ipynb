{
 "cells": [
  {
   "cell_type": "code",
   "execution_count": null,
   "id": "de87c029",
   "metadata": {},
   "outputs": [],
   "source": [
    "from datetime import time\n",
    "from typing import Optional\n",
    "\n",
    "from pydantic import BaseModel\n",
    "from pydantic_to_pyarrow import get_pyarrow_schema\n"
   ]
  },
  {
   "cell_type": "code",
   "execution_count": null,
   "id": "3dbea38c",
   "metadata": {},
   "outputs": [],
   "source": [
    "class TmpBaseModel(BaseModel):\n",
    "    date_id: time\n",
    "    emitted_at: time\n",
    "\n",
    "\n",
    "class TestPyarrowModel(TmpBaseModel):\n",
    "    customer_id: Optional[str]\n",
    "    login_id: Optional[str]\n",
    "    company_name: Optional[str]\n",
    "    link_status: Optional[str]\n",
    "    owner_type: Optional[str]\n",
    "    regtm: Optional[str]"
   ]
  },
  {
   "cell_type": "code",
   "execution_count": null,
   "id": "bbe310d5",
   "metadata": {},
   "outputs": [
    {
     "data": {
      "text/plain": [
       "date_id: time64[us] not null\n",
       "emitted_at: time64[us] not null\n",
       "customer_id: string\n",
       "login_id: string\n",
       "company_name: string\n",
       "link_status: string\n",
       "owner_type: string\n",
       "regtm: string"
      ]
     },
     "execution_count": 27,
     "metadata": {},
     "output_type": "execute_result"
    }
   ],
   "source": [
    "schema = get_pyarrow_schema(TestPyarrowModel)\n",
    "schema"
   ]
  }
 ],
 "metadata": {
  "kernelspec": {
   "display_name": "scratch",
   "language": "python",
   "name": "python3"
  },
  "language_info": {
   "codemirror_mode": {
    "name": "ipython",
    "version": 3
   },
   "file_extension": ".py",
   "mimetype": "text/x-python",
   "name": "python",
   "nbconvert_exporter": "python",
   "pygments_lexer": "ipython3",
   "version": "3.11.13"
  }
 },
 "nbformat": 4,
 "nbformat_minor": 5
}
