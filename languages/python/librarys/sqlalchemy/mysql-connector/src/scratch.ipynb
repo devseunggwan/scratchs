{
 "cells": [
  {
   "cell_type": "code",
   "execution_count": 2,
   "metadata": {},
   "outputs": [],
   "source": [
    "import os\n",
    "\n",
    "import loguru\n",
    "import polars as pl\n",
    "from polars.exceptions import ComputeError\n",
    "from sqlalchemy import create_engine, text\n",
    "from sqlalchemy.exc import SQLAlchemyError, OperationalError, DataError\n",
    "from dotenv import load_dotenv\n",
    "\n",
    "load_dotenv()\n",
    "logger = loguru.logger"
   ]
  },
  {
   "cell_type": "code",
   "execution_count": 4,
   "metadata": {},
   "outputs": [],
   "source": [
    "__connect_args = {\n",
    "    # 필수 파라미터\n",
    "    \"host\": os.getenv(\"DB_HOST\"),  # 데이터베이스 호스트\n",
    "    \"user\": os.getenv(\"DB_USER\"),  # 데이터베이스 사용자\n",
    "    \"password\": os.getenv(\"DB_PASSWORD\"),  # 사용자 비밀번호\n",
    "    \"database\": os.getenv(\"DB_NAME\"),  # 데이터베이스 이름\n",
    "    \n",
    "    # 선택적 파라미터\n",
    "    \"port\": int(os.getenv(\"DB_PORT\", 3306)),  # 포트 (기본값: 3306)\n",
    "    \"charset\": \"utf8mb4\",  # 문자 인코딩\n",
    "    \"collation\": \"utf8mb4_unicode_ci\",  # 정렬 규칙\n",
    "    \"use_unicode\": True,  # 유니코드 사용\n",
    "    \n",
    "    # 성능 관련 파라미터\n",
    "    \"pool_size\": 5,  # 커넥션 풀 크기\n",
    "    \"pool_timeout\": 30,  # 풀 타임아웃(초)\n",
    "    \"pool_recycle\": 1800,  # 커넥션 재사용 시간(초)\n",
    "    \n",
    "    # SSL 설정 (필요시)\n",
    "    # \"ssl\": {\n",
    "    #     \"ca\": \"/path/to/ca.pem\",\n",
    "    #     \"cert\": \"/path/to/client-cert.pem\",\n",
    "    #     \"key\": \"/path/to/client-key.pem\"\n",
    "    # }\n",
    "}"
   ]
  },
  {
   "cell_type": "code",
   "execution_count": null,
   "metadata": {},
   "outputs": [],
   "source": [
    "class MysqlConnector:\n",
    "    def __init__(self, connection_args: dict):\n",
    "        self.__connect_args = connection_args\n",
    "        self.__engine = create_engine(\n",
    "            \"mysql+pymysql://:@\",\n",
    "            connect_args=self.__connect_args\n",
    "        )\n",
    "    \n",
    "    def execute(self, query: str) -> pl.DataFrame | None:\n",
    "        result = None\n",
    "        \n",
    "        try:\n",
    "            with self.__engine.connect() as connection:\n",
    "                result = pl.read_database(query=text(query), connection=connection)\n",
    "        except OperationalError as e:\n",
    "            logger.error(f\"데이터베이스 연결 오류: {e}\")\n",
    "        except DataError as e:\n",
    "            logger.error(f\"데이터 형식 오류: {e}\")\n",
    "        except ComputeError as e:\n",
    "            logger.error(f\"Polars 계산 오류: {e}\")\n",
    "        except SQLAlchemyError as e:\n",
    "            logger.error(f\"SQLAlchemy 오류: {e}\")\n",
    "        except Exception as e:\n",
    "            logger.error(f\"Error while executing query: {e}\")\n",
    "        \n",
    "        return result"
   ]
  },
  {
   "cell_type": "code",
   "execution_count": 6,
   "metadata": {},
   "outputs": [],
   "source": [
    "connector = MysqlConnector(__connect_args)"
   ]
  },
  {
   "cell_type": "code",
   "execution_count": 7,
   "metadata": {},
   "outputs": [
    {
     "name": "stderr",
     "output_type": "stream",
     "text": [
      "\u001b[32m2024-11-21 00:17:22.042\u001b[0m | \u001b[31m\u001b[1mERROR   \u001b[0m | \u001b[36m__main__\u001b[0m:\u001b[36mexecute\u001b[0m:\u001b[36m25\u001b[0m - \u001b[31m\u001b[1mError while executing query: Connection.__init__() got an unexpected keyword argument 'pool_size'\u001b[0m\n"
     ]
    }
   ],
   "source": [
    "connector.execute(\"SELECT * FROM MY_TABLE\")"
   ]
  }
 ],
 "metadata": {
  "kernelspec": {
   "display_name": "study",
   "language": "python",
   "name": "python3"
  },
  "language_info": {
   "codemirror_mode": {
    "name": "ipython",
    "version": 3
   },
   "file_extension": ".py",
   "mimetype": "text/x-python",
   "name": "python",
   "nbconvert_exporter": "python",
   "pygments_lexer": "ipython3",
   "version": "3.13.0"
  }
 },
 "nbformat": 4,
 "nbformat_minor": 2
}
