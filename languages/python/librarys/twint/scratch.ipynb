{
 "cells": [
  {
   "cell_type": "code",
   "execution_count": null,
   "metadata": {},
   "outputs": [],
   "source": [
    "import asyncio\n",
    "\n",
    "import twint\n"
   ]
  },
  {
   "cell_type": "code",
   "execution_count": null,
   "metadata": {},
   "outputs": [],
   "source": [
    "# Configure\n",
    "config = twint.Config()\n",
    "config.Search = 'squid game'\n",
    "config.Lang = \"en\"\n",
    "config.Since = '2021-09-17'\n",
    "config.Until = '2021-11-26'\n",
    "config.Store_json = True\n",
    "config.Output = \"squid game.json\""
   ]
  },
  {
   "cell_type": "code",
   "execution_count": null,
   "metadata": {},
   "outputs": [],
   "source": [
    "await asyncio.run(twint.run.Search(config))"
   ]
  }
 ],
 "metadata": {
  "kernelspec": {
   "display_name": "twint",
   "language": "python",
   "name": "python3"
  },
  "language_info": {
   "codemirror_mode": {
    "name": "ipython",
    "version": 3
   },
   "file_extension": ".py",
   "mimetype": "text/x-python",
   "name": "python",
   "nbconvert_exporter": "python",
   "pygments_lexer": "ipython3",
   "version": "3.8.18"
  }
 },
 "nbformat": 4,
 "nbformat_minor": 2
}
