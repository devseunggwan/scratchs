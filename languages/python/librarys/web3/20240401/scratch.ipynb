{
 "cells": [
  {
   "cell_type": "code",
   "execution_count": null,
   "metadata": {},
   "outputs": [],
   "source": [
    "import os\n",
    "\n",
    "from web3 import Web3, HTTPProvider\n",
    "from dotenv import load_dotenv\n",
    "\n",
    "load_dotenv()"
   ]
  },
  {
   "cell_type": "code",
   "execution_count": null,
   "metadata": {},
   "outputs": [],
   "source": [
    "ETH_URL = os.getenv(\"ETHEREUM_RPC_URL\")\n",
    "POLY_URL = os.getenv(\"POLYGON_RPC_URL\")\n",
    "KLAY_URL = os.getenv(\"KLAYTN_RPC_URL\")"
   ]
  },
  {
   "cell_type": "code",
   "execution_count": null,
   "metadata": {},
   "outputs": [],
   "source": [
    "account = \"0x577ebc5de943e35cdf9ecb5bbe1f7d7cb6c7c647\"\n",
    "account = Web3.toChecksumAddress(account)"
   ]
  },
  {
   "cell_type": "code",
   "execution_count": null,
   "metadata": {},
   "outputs": [],
   "source": [
    "eth_rpc = Web3(HTTPProvider(ETH_URL))\n",
    "poly_rpc = Web3(HTTPProvider(POLY_URL))\n",
    "klay_rpc = Web3(HTTPProvider(KLAY_URL))\n",
    "\n",
    "print(eth_rpc.is_connected())\n",
    "print(poly_rpc.is_connected())\n",
    "print(klay_rpc.is_connected())"
   ]
  },
  {
   "cell_type": "code",
   "execution_count": null,
   "metadata": {},
   "outputs": [],
   "source": [
    "print(eth_rpc.eth.get_balance(account))\n",
    "print(poly_rpc.eth.get_balance(account))\n",
    "print(klay_rpc.eth.get_balance(account))"
   ]
  },
  {
   "cell_type": "code",
   "execution_count": null,
   "metadata": {},
   "outputs": [],
   "source": [
    "balance = eth_rpc.eth.get_balance(account)\n",
    "balance = eth_rpc.from_wei(balance, \"ether\")\n",
    "balance"
   ]
  }
 ],
 "metadata": {
  "kernelspec": {
   "display_name": "web3",
   "language": "python",
   "name": "python3"
  },
  "language_info": {
   "codemirror_mode": {
    "name": "ipython",
    "version": 3
   },
   "file_extension": ".py",
   "mimetype": "text/x-python",
   "name": "python",
   "nbconvert_exporter": "python",
   "pygments_lexer": "ipython3",
   "version": "3.11.5"
  }
 },
 "nbformat": 4,
 "nbformat_minor": 2
}
