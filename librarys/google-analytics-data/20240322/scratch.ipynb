{
 "cells": [
  {
   "cell_type": "code",
   "execution_count": null,
   "metadata": {},
   "outputs": [],
   "source": [
    "%pip install google-analytics-data"
   ]
  },
  {
   "cell_type": "code",
   "execution_count": null,
   "metadata": {},
   "outputs": [],
   "source": [
    "import os\n",
    "\n",
    "from dotenv import load_dotenv\n",
    "\n",
    "load_dotenv()"
   ]
  },
  {
   "cell_type": "code",
   "execution_count": null,
   "metadata": {},
   "outputs": [],
   "source": [
    "from google.analytics.data_v1beta import BetaAnalyticsDataClient\n",
    "from google.analytics.data_v1beta.types import (\n",
    "    Dimension,\n",
    "    DateRange,\n",
    "    MinuteRange,\n",
    "    Metric,\n",
    "    MetricType,\n",
    "    RunReportRequest,\n",
    "    RunRealtimeReportRequest,\n",
    ")"
   ]
  },
  {
   "cell_type": "code",
   "execution_count": null,
   "metadata": {},
   "outputs": [],
   "source": [
    "def print_run_report_response(response):\n",
    "    \"\"\"Prints results of a runReport call.\"\"\"\n",
    "    # [START analyticsdata_print_run_report_response_header]\n",
    "    print(f\"{response.row_count} rows received\")\n",
    "    for dimensionHeader in response.dimension_headers:\n",
    "        print(f\"Dimension header name: {dimensionHeader.name}\")\n",
    "    for metricHeader in response.metric_headers:\n",
    "        metric_type = MetricType(metricHeader.type_).name\n",
    "        print(f\"Metric header name: {metricHeader.name} ({metric_type})\")\n",
    "    # [END analyticsdata_print_run_report_response_header]\n",
    "\n",
    "    # [START analyticsdata_print_run_report_response_rows]\n",
    "    print(\"Report result:\")\n",
    "    for rowIdx, row in enumerate(response.rows):\n",
    "        print(f\"\\nRow {rowIdx}\")\n",
    "        for i, dimension_value in enumerate(row.dimension_values):\n",
    "            dimension_name = response.dimension_headers[i].name\n",
    "            print(f\"{dimension_name}: {dimension_value.value}\")\n",
    "\n",
    "        for i, metric_value in enumerate(row.metric_values):\n",
    "            metric_name = response.metric_headers[i].name\n",
    "            print(f\"{metric_name}: {metric_value.value}\")"
   ]
  },
  {
   "cell_type": "code",
   "execution_count": null,
   "metadata": {},
   "outputs": [],
   "source": [
    "def sample_run_report(property_id=os.getenv(\"GA4_PROPERTY_ID\")):\n",
    "    \"\"\"Runs a simple report on a Google Analytics 4 property.\"\"\"\n",
    "    # TODO(developer): Uncomment this variable and replace with your\n",
    "    #  Google Analytics 4 property ID before running the sample.\n",
    "    # property_id = \"YOUR-GA4-PROPERTY-ID\"\n",
    "\n",
    "    # Using a default constructor instructs the client to use the credentials\n",
    "    # specified in GOOGLE_APPLICATION_CREDENTIALS environment variable.\n",
    "    client = BetaAnalyticsDataClient()\n",
    "\n",
    "    request = RunReportRequest(\n",
    "        property=f\"properties/{property_id}\",\n",
    "        dimensions=[Dimension(name=\"hour\")],\n",
    "        metrics=[Metric(name=\"newUsers\"), Metric(name=\"totalUsers\")],\n",
    "        date_ranges=[DateRange(start_date=\"2024-03-21\", end_date=\"2024-03-22\")],\n",
    "    )\n",
    "    response = client.run_report(request)\n",
    "\n",
    "    resp = []\n",
    "\n",
    "    for row in response.rows:\n",
    "        resp.append(\n",
    "            {\n",
    "                \"hour\": int(row.dimension_values[0].value),\n",
    "                \"new_users\": int(row.metric_values[0].value),\n",
    "                \"total_users\": int(row.metric_values[1].value),\n",
    "            }\n",
    "        )\n",
    "\n",
    "    resp = sorted(resp, key=lambda x: x[\"hour\"])\n",
    "\n",
    "    return resp"
   ]
  },
  {
   "cell_type": "code",
   "execution_count": null,
   "metadata": {},
   "outputs": [],
   "source": [
    "sample = sample_run_report(os.getenv(\"GA4_PROPERTY_ID\"))"
   ]
  },
  {
   "cell_type": "code",
   "execution_count": null,
   "metadata": {},
   "outputs": [],
   "source": [
    "def run_realtime_report(property_id):\n",
    "    \"\"\"Runs a realtime report on a Google Analytics 4 property.\"\"\"\n",
    "    client = BetaAnalyticsDataClient()\n",
    "\n",
    "    request = RunRealtimeReportRequest(\n",
    "        property=f\"properties/{property_id}\",\n",
    "        dimensions=[Dimension(name=\"country\")],\n",
    "        metrics=[Metric(name=\"activeUsers\")],\n",
    "    )\n",
    "    response = client.run_realtime_report(request)\n",
    "\n",
    "    count = 0\n",
    "\n",
    "    for row in response.rows:\n",
    "        count += row.metric_values[0].value\n",
    "\n",
    "    return count"
   ]
  },
  {
   "cell_type": "code",
   "execution_count": null,
   "metadata": {},
   "outputs": [],
   "source": [
    "PROPERTY_ID = os.getenv(\"GA4_PROPERTY_ID\")\n",
    "run_realtime_report(PROPERTY_ID)"
   ]
  },
  {
   "cell_type": "code",
   "execution_count": null,
   "metadata": {},
   "outputs": [],
   "source": [
    "def run_realtime_report_with_minute_ranges(property_id=\"YOUR-GA4-PROPERTY-ID\"):\n",
    "    \"\"\"Runs a realtime report on a Google Analytics 4 property. Dimensions\n",
    "    field is omitted in the query, which results in total values of active users\n",
    "    returned for each minute range in the report.\n",
    "\n",
    "    Note the `dateRange` dimension added to the report response automatically\n",
    "    as a result of querying multiple minute ranges.\n",
    "    \"\"\"\n",
    "    client = BetaAnalyticsDataClient()\n",
    "\n",
    "    request = RunRealtimeReportRequest(\n",
    "        property=f\"properties/{property_id}\",\n",
    "        metrics=[Metric(name=\"activeUsers\")],\n",
    "        minute_ranges=[\n",
    "            MinuteRange(name=\"1-30 minutes ago\", start_minutes_ago=30),\n",
    "        ],\n",
    "    )\n",
    "    response = client.run_realtime_report(request)\n",
    "    print_run_report_response(response)"
   ]
  }
 ],
 "metadata": {
  "kernelspec": {
   "display_name": "study",
   "language": "python",
   "name": "python3"
  },
  "language_info": {
   "codemirror_mode": {
    "name": "ipython",
    "version": 3
   },
   "file_extension": ".py",
   "mimetype": "text/x-python",
   "name": "python",
   "nbconvert_exporter": "python",
   "pygments_lexer": "ipython3",
   "version": "3.11.5"
  }
 },
 "nbformat": 4,
 "nbformat_minor": 2
}
