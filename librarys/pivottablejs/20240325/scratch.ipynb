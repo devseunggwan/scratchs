{
 "cells": [
  {
   "cell_type": "code",
   "execution_count": null,
   "metadata": {},
   "outputs": [],
   "source": [
    "%pip install pivottablejs"
   ]
  },
  {
   "cell_type": "code",
   "execution_count": 2,
   "metadata": {},
   "outputs": [],
   "source": [
    "import duckdb"
   ]
  },
  {
   "cell_type": "markdown",
   "metadata": {},
   "source": [
    "##### Code"
   ]
  },
  {
   "cell_type": "code",
   "execution_count": 3,
   "metadata": {},
   "outputs": [
    {
     "data": {
      "text/plain": [
       "┌──────────────────────┬─────────┬──────────────────────┬───┬────────┬────────────┬────────────┬─────────┐\n",
       "│       contract       │ tokenId │        image         │ … │ price  │ validFrom  │ validUntil │ source  │\n",
       "│       varchar        │ varchar │       varchar        │   │ double │   int64    │   int64    │ varchar │\n",
       "├──────────────────────┼─────────┼──────────────────────┼───┼────────┼────────────┼────────────┼─────────┤\n",
       "│ 0x8d04a8c79ceb0889…  │ 581     │ https://img.reserv…  │ … │  0.625 │ 1710308612 │          0 │ blur.io │\n",
       "│ 0x8d04a8c79ceb0889…  │ 1619    │ https://img.reserv…  │ … │   0.69 │ 1709325824 │ 1712000624 │ OpenSea │\n",
       "│ 0x8d04a8c79ceb0889…  │ 759     │ https://img.reserv…  │ … │    0.7 │ 1709760335 │ 1725308735 │ OpenSea │\n",
       "│ 0x8d04a8c79ceb0889…  │ 1623    │ https://img.reserv…  │ … │   0.72 │ 1709325778 │ 1712000578 │ OpenSea │\n",
       "│ 0x8d04a8c79ceb0889…  │ 1163    │ https://img.reserv…  │ … │    0.8 │ 1709760335 │ 1725308735 │ OpenSea │\n",
       "│ 0x8d04a8c79ceb0889…  │ 1164    │ https://img.reserv…  │ … │    0.8 │ 1710350567 │ 1725308567 │ OpenSea │\n",
       "│ 0x8d04a8c79ceb0889…  │ 371     │ https://img.reserv…  │ … │   0.95 │ 1706827832 │          0 │ blur.io │\n",
       "│ 0x8d04a8c79ceb0889…  │ 1570    │ https://img.reserv…  │ … │    1.0 │ 1701466058 │ 1717273635 │ OpenSea │\n",
       "│ 0x8d04a8c79ceb0889…  │ 362     │ https://img.reserv…  │ … │   1.75 │ 1710154709 │ 1726052305 │ OpenSea │\n",
       "│ 0x8d04a8c79ceb0889…  │ 1299    │ https://img.reserv…  │ … │    1.9 │ 1709771407 │ 1715689479 │ OpenSea │\n",
       "│          ·           │  ·      │          ·           │ · │     ·  │      ·     │      ·     │    ·    │\n",
       "│          ·           │  ·      │          ·           │ · │     ·  │      ·     │      ·     │    ·    │\n",
       "│          ·           │  ·      │          ·           │ · │     ·  │      ·     │      ·     │    ·    │\n",
       "│ 0x8d04a8c79ceb0889…  │ 499     │ https://img.reserv…  │ … │   3.32 │ 1709111030 │ 1717232580 │ OpenSea │\n",
       "│ 0x8d04a8c79ceb0889…  │ 196     │ https://img.reserv…  │ … │  3.333 │ 1711108323 │ 1726656723 │ OpenSea │\n",
       "│ 0x8d04a8c79ceb0889…  │ 966     │ https://img.reserv…  │ … │    8.0 │ 1707279174 │          0 │ blur.io │\n",
       "│ 0x8d04a8c79ceb0889…  │ 884     │ https://img.reserv…  │ … │    9.0 │ 1709419942 │ 1725313937 │ OpenSea │\n",
       "│ 0x8d04a8c79ceb0889…  │ 130     │ https://img.reserv…  │ … │   10.0 │ 1710832276 │ 1711437070 │ OpenSea │\n",
       "│ 0x8d04a8c79ceb0889…  │ 75      │ https://img.reserv…  │ … │   11.0 │ 1708417984 │ 1716190379 │ OpenSea │\n",
       "│ 0x8d04a8c79ceb0889…  │ 89      │ https://img.reserv…  │ … │   11.0 │ 1701466173 │ 1717273721 │ OpenSea │\n",
       "│ 0x8d04a8c79ceb0889…  │ 470     │ https://img.reserv…  │ … │   50.0 │ 1709116022 │          0 │ blur.io │\n",
       "│ 0x8d04a8c79ceb0889…  │ 1265    │ https://img.reserv…  │ … │   65.0 │ 1708905008 │ 1711407008 │ OpenSea │\n",
       "│ 0x8d04a8c79ceb0889…  │ 401     │ https://img.reserv…  │ … │   99.0 │ 1709115991 │          0 │ blur.io │\n",
       "├──────────────────────┴─────────┴──────────────────────┴───┴────────┴────────────┴────────────┴─────────┤\n",
       "│ 27 rows (20 shown)                                                                 9 columns (7 shown) │\n",
       "└────────────────────────────────────────────────────────────────────────────────────────────────────────┘"
      ]
     },
     "execution_count": 3,
     "metadata": {},
     "output_type": "execute_result"
    }
   ],
   "source": [
    "js = duckdb.read_json(\"sample.json\")\n",
    "js"
   ]
  },
  {
   "cell_type": "code",
   "execution_count": null,
   "metadata": {},
   "outputs": [],
   "source": [
    "from pivottablejs import pivot_ui\n",
    "\n",
    "df = js.df()\n",
    "\n",
    "pivot_ui(df)"
   ]
  },
  {
   "cell_type": "code",
   "execution_count": 5,
   "metadata": {},
   "outputs": [],
   "source": [
    "import pygwalker"
   ]
  },
  {
   "cell_type": "code",
   "execution_count": 7,
   "metadata": {},
   "outputs": [
    {
     "data": {
      "application/vnd.jupyter.widget-view+json": {
       "model_id": "5fff93fc5025447db914aebe5993bcc4",
       "version_major": 2,
       "version_minor": 0
      },
      "text/plain": [
       "Box(children=(HTML(value='<div id=\"ifr-pyg-00061471a42cfb27r7cmIftAFU9jgdWn\" style=\"height: auto\">\\n    <head>…"
      ]
     },
     "metadata": {},
     "output_type": "display_data"
    },
    {
     "data": {
      "text/html": [],
      "text/plain": [
       "<IPython.core.display.HTML object>"
      ]
     },
     "metadata": {},
     "output_type": "display_data"
    },
    {
     "data": {
      "text/plain": [
       "<pygwalker.api.pygwalker.PygWalker at 0x15e8492d0>"
      ]
     },
     "execution_count": 7,
     "metadata": {},
     "output_type": "execute_result"
    }
   ],
   "source": [
    "df = js.df()\n",
    "pygwalker.walk(df)"
   ]
  }
 ],
 "metadata": {
  "kernelspec": {
   "display_name": "study",
   "language": "python",
   "name": "python3"
  },
  "language_info": {
   "codemirror_mode": {
    "name": "ipython",
    "version": 3
   },
   "file_extension": ".py",
   "mimetype": "text/x-python",
   "name": "python",
   "nbconvert_exporter": "python",
   "pygments_lexer": "ipython3",
   "version": "3.11.5"
  }
 },
 "nbformat": 4,
 "nbformat_minor": 2
}
