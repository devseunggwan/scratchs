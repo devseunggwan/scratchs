{
 "cells": [
  {
   "cell_type": "code",
   "execution_count": null,
   "metadata": {},
   "outputs": [],
   "source": [
    "from uuid import uuid4\n",
    "\n",
    "import chromadb\n",
    "import nltk\n",
    "from langchain_chroma import Chroma\n",
    "from langchain_huggingface import HuggingFaceEmbeddings\n",
    "from langchain_community.document_loaders import UnstructuredURLLoader\n",
    "from langchain_community.vectorstores.utils import DistanceStrategy"
   ]
  },
  {
   "cell_type": "markdown",
   "metadata": {},
   "source": [
    "### 문서 로드 & 전처리"
   ]
  },
  {
   "cell_type": "code",
   "execution_count": null,
   "metadata": {},
   "outputs": [],
   "source": [
    "nltk.download(\"punkt\")\n",
    "nltk.download(\"averaged_perceptron_tagger\")"
   ]
  },
  {
   "cell_type": "code",
   "execution_count": null,
   "metadata": {},
   "outputs": [],
   "source": [
    "version = \"v4.49.0\"\n",
    "\n",
    "urls = [\n",
    "    f\"https://huggingface.co/docs/transformers/{version}/ko/pipeline_tutorial\",\n",
    "    f\"https://huggingface.co/docs/transformers/{version}/ko/autoclass_tutorial\",\n",
    "    f\"https://huggingface.co/docs/transformers/{version}/ko/preprocessing\",\n",
    "    f\"https://huggingface.co/docs/transformers/{version}/ko/training\",\n",
    "    f\"https://huggingface.co/docs/transformers/{version}/ko/run_scripts\",\n",
    "    f\"https://huggingface.co/docs/transformers/{version}/ko/tokenizer_summary\",\n",
    "    f\"https://huggingface.co/docs/transformers/{version}/ko/attention\",\n",
    "    f\"https://huggingface.co/docs/transformers/{version}/ko/pad_truncation\",\n",
    "    f\"https://huggingface.co/docs/transformers/{version}/ko/pipeline_webserver\",\n",
    "    f\"https://huggingface.co/docs/transformers/{version}/ko/tasks_explained\",\n",
    "    f\"https://huggingface.co/docs/transformers/{version}/ko/hpo_train\",\n",
    "    f\"https://huggingface.co/docs/transformers/{version}/ko/tasks/sequence_classification\",\n",
    "    f\"https://huggingface.co/docs/transformers/{version}/ko/tasks/token_classification\",\n",
    "    f\"https://huggingface.co/docs/transformers/{version}/ko/tasks/question_answering\",\n",
    "    f\"https://huggingface.co/docs/transformers/{version}/ko/tasks/language_modeling\",\n",
    "    f\"https://huggingface.co/docs/transformers/{version}/ko/tasks/masked_language_modeling\",\n",
    "    f\"https://huggingface.co/docs/transformers/{version}/ko/tasks/translation\",\n",
    "    f\"https://huggingface.co/docs/transformers/{version}/ko/tasks/summarization\",\n",
    "]\n",
    "loader = UnstructuredURLLoader(urls=urls)\n",
    "docs = loader.load()"
   ]
  },
  {
   "cell_type": "code",
   "execution_count": null,
   "metadata": {},
   "outputs": [],
   "source": [
    "docs[0].page_content.split(\"→\")"
   ]
  },
  {
   "cell_type": "code",
   "execution_count": null,
   "metadata": {},
   "outputs": [],
   "source": [
    "\"\"\"\n",
    "튜토리얼에 나온 것처럼 ToC를 사용하고 싶었는데 \n",
    "UnstructuredURLLoader에서 ToC까지 가져오지 못함\n",
    "\"\"\"\n",
    "\n",
    "for doc in docs:\n",
    "    doc.page_content = doc.page_content.split(\"to get started\\n\\n\")[-1].split(\"< > Update on GitHub\\n\\n\")[0]"
   ]
  },
  {
   "cell_type": "code",
   "execution_count": null,
   "metadata": {},
   "outputs": [],
   "source": [
    "embedding_model_name = \"sentence-transformers/all-mpnet-base-v2\"\n",
    "embedding_model = HuggingFaceEmbeddings(\n",
    "    model_name=embedding_model_name,\n",
    "    encode_kwargs={\"normalize_embeddings\": True}\n",
    ")"
   ]
  },
  {
   "cell_type": "code",
   "execution_count": null,
   "metadata": {},
   "outputs": [],
   "source": [
    "collection_name = \"collection_huggingface_transformer\"\n",
    "\n",
    "vector_store = Chroma(\n",
    "    collection_name=collection_name,\n",
    "    embedding_function=embedding_model,\n",
    "    persist_directory=\"./chroma.db\"\n",
    ")"
   ]
  },
  {
   "cell_type": "code",
   "execution_count": null,
   "metadata": {},
   "outputs": [],
   "source": [
    "uuids = [str(uuid4()) for _ in range(len(docs))]\n",
    "vector_store.add_documents(documents=docs, ids=uuids)"
   ]
  },
  {
   "cell_type": "code",
   "execution_count": null,
   "metadata": {},
   "outputs": [],
   "source": [
    "vector_store.get()"
   ]
  },
  {
   "cell_type": "code",
   "execution_count": null,
   "metadata": {},
   "outputs": [],
   "source": [
    "vector_store.delete_collection()"
   ]
  },
  {
   "cell_type": "code",
   "execution_count": null,
   "metadata": {},
   "outputs": [],
   "source": [
    "user_query = \"어텐션 매커니즘이 무엇인가요?\"\n",
    "query_vector = embedding_model.embed_query(user_query)"
   ]
  },
  {
   "cell_type": "code",
   "execution_count": null,
   "metadata": {},
   "outputs": [],
   "source": [
    "len(query_vector)"
   ]
  },
  {
   "cell_type": "code",
   "execution_count": null,
   "metadata": {},
   "outputs": [],
   "source": [
    "result = vector_store.similarity_search(\n",
    "    user_query,\n",
    "    k=2\n",
    ")"
   ]
  }
 ],
 "metadata": {
  "kernelspec": {
   "display_name": "Python 3 (ipykernel)",
   "language": "python",
   "name": "python3"
  },
  "language_info": {
   "codemirror_mode": {
    "name": "ipython",
    "version": 3
   },
   "file_extension": ".py",
   "mimetype": "text/x-python",
   "name": "python",
   "nbconvert_exporter": "python",
   "pygments_lexer": "ipython3",
   "version": "3.13.2"
  }
 },
 "nbformat": 4,
 "nbformat_minor": 2
}
