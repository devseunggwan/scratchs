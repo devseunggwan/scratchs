{
 "cells": [
  {
   "cell_type": "code",
   "execution_count": 62,
   "id": "b67ff806",
   "metadata": {},
   "outputs": [],
   "source": [
    "import pandas as pd\n",
    "import matplotlib.pyplot as plt\n",
    "\n",
    "from prophet import Prophet\n",
    "from prophet.plot import add_changepoints_to_plot\n"
   ]
  },
  {
   "cell_type": "code",
   "execution_count": null,
   "id": "53619c3b",
   "metadata": {},
   "outputs": [],
   "source": [
    "df = pd.read_parquet(\"./data/keyword_trend.parquet\")\n",
    "df.rename(columns={\"date\": \"ds\", \"stat\": \"y\"}, inplace=True)\n",
    "\n",
    "# df = df.loc[df[\"ds\"] >= \"2020-01-01\"]\n",
    "\n",
    "df"
   ]
  },
  {
   "cell_type": "code",
   "execution_count": null,
   "id": "8b6a13bb",
   "metadata": {},
   "outputs": [],
   "source": [
    "model = Prophet(interval_width=0.95, changepoint_prior_scale=0.05)\n",
    "model.fit(df=df)"
   ]
  },
  {
   "cell_type": "code",
   "execution_count": null,
   "id": "8a89eaa8",
   "metadata": {},
   "outputs": [],
   "source": [
    "future = model.make_future_dataframe(periods=0, freq=\"D\")\n",
    "forecast = model.predict()\n",
    "\n",
    "forecast"
   ]
  },
  {
   "cell_type": "code",
   "execution_count": null,
   "id": "5e5693d5",
   "metadata": {},
   "outputs": [],
   "source": [
    "model.plot(forecast)\n",
    "plt.show()"
   ]
  },
  {
   "cell_type": "code",
   "execution_count": null,
   "id": "d2017381",
   "metadata": {},
   "outputs": [],
   "source": [
    "model.plot_components(forecast)\n",
    "plt.show()"
   ]
  },
  {
   "cell_type": "code",
   "execution_count": null,
   "id": "b28a3690",
   "metadata": {},
   "outputs": [],
   "source": [
    "\n",
    "fig = model.plot(forecast)\n",
    "a = add_changepoints_to_plot(fig.gca(), model, forecast)\n"
   ]
  },
  {
   "cell_type": "code",
   "execution_count": null,
   "id": "56d3d7c8",
   "metadata": {},
   "outputs": [],
   "source": [
    "# forecast[\"anomaly\"] = forecast[\"trend\"].gt(forecast[\"yhat_upper\"]) | forecast[\"trend\"].lt(forecast[\"yhat_lower\"])\n",
    "forecast[\"anomaly\"] = forecast[\"trend\"].gt(forecast[\"yhat_upper\"])\n",
    "forecast"
   ]
  },
  {
   "cell_type": "code",
   "execution_count": null,
   "id": "18b83288",
   "metadata": {},
   "outputs": [],
   "source": [
    "forecast.loc[forecast[\"anomaly\"]]"
   ]
  },
  {
   "cell_type": "code",
   "execution_count": null,
   "id": "6b7ddf26",
   "metadata": {},
   "outputs": [],
   "source": [
    "threshold = 2.2\n",
    "\n",
    "forecast['resid'] = forecast['trend'] - forecast['yhat']\n",
    "sigma = forecast['resid'].std()\n",
    "forecast['anomaly'] = forecast['resid'].abs().gt(threshold * sigma)\n",
    "\n",
    "forecast"
   ]
  },
  {
   "cell_type": "code",
   "execution_count": null,
   "id": "3bb13f3a",
   "metadata": {},
   "outputs": [],
   "source": [
    "forecast.loc[forecast[\"anomaly\"]]"
   ]
  }
 ],
 "metadata": {
  "kernelspec": {
   "display_name": "Python 3 (ipykernel)",
   "language": "python",
   "name": "python3"
  },
  "language_info": {
   "codemirror_mode": {
    "name": "ipython",
    "version": 3
   },
   "file_extension": ".py",
   "mimetype": "text/x-python",
   "name": "python",
   "nbconvert_exporter": "python",
   "pygments_lexer": "ipython3",
   "version": "3.8.20"
  }
 },
 "nbformat": 4,
 "nbformat_minor": 5
}
