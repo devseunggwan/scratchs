{
 "cells": [
  {
   "cell_type": "code",
   "execution_count": 1,
   "metadata": {},
   "outputs": [],
   "source": [
    "from pyspark.sql import SparkSession\n",
    "from pyspark.sql.functions import col, desc"
   ]
  },
  {
   "cell_type": "code",
   "execution_count": 2,
   "metadata": {},
   "outputs": [
    {
     "name": "stderr",
     "output_type": "stream",
     "text": [
      "25/02/04 01:34:10 WARN Utils: Your hostname, codespaces-10f702 resolves to a loopback address: 127.0.0.1; using 10.0.1.11 instead (on interface eth0)\n",
      "25/02/04 01:34:10 WARN Utils: Set SPARK_LOCAL_IP if you need to bind to another address\n",
      "Setting default log level to \"WARN\".\n",
      "To adjust logging level use sc.setLogLevel(newLevel). For SparkR, use setLogLevel(newLevel).\n",
      "25/02/04 01:34:11 WARN NativeCodeLoader: Unable to load native-hadoop library for your platform... using builtin-java classes where applicable\n"
     ]
    }
   ],
   "source": [
    "spark = SparkSession.builder.appName(\"spark-sql-example-app\").getOrCreate()"
   ]
  },
  {
   "cell_type": "code",
   "execution_count": 8,
   "metadata": {},
   "outputs": [
    {
     "name": "stderr",
     "output_type": "stream",
     "text": [
      "                                                                                \r"
     ]
    }
   ],
   "source": [
    "csv_file = \"./datasets/flights/departuredelays.csv\"\n",
    "df = (\n",
    "    spark.read.format(\"csv\")\n",
    "    .option(\"inferSchema\", \"true\")\n",
    "    .option(\"header\", \"true\")\n",
    "    .load(csv_file)\n",
    ")\n",
    "df.createOrReplaceTempView(\"us_delay_flights_tbl\")"
   ]
  },
  {
   "cell_type": "code",
   "execution_count": 9,
   "metadata": {},
   "outputs": [
    {
     "name": "stdout",
     "output_type": "stream",
     "text": [
      "+-------+-----+--------+------+-----------+\n",
      "|   date|delay|distance|origin|destination|\n",
      "+-------+-----+--------+------+-----------+\n",
      "|1011245|    6|     602|   ABE|        ATL|\n",
      "|1020600|   -8|     369|   ABE|        DTW|\n",
      "|1021245|   -2|     602|   ABE|        ATL|\n",
      "|1020605|   -4|     602|   ABE|        ATL|\n",
      "|1031245|   -4|     602|   ABE|        ATL|\n",
      "+-------+-----+--------+------+-----------+\n",
      "only showing top 5 rows\n",
      "\n"
     ]
    }
   ],
   "source": [
    "df.show(5)"
   ]
  },
  {
   "cell_type": "code",
   "execution_count": 10,
   "metadata": {},
   "outputs": [
    {
     "name": "stderr",
     "output_type": "stream",
     "text": [
      "[Stage 8:>                                                          (0 + 2) / 2]\r"
     ]
    },
    {
     "name": "stdout",
     "output_type": "stream",
     "text": [
      "+--------+------+-----------+\n",
      "|distance|origin|destination|\n",
      "+--------+------+-----------+\n",
      "|    4330|   JFK|        HNL|\n",
      "|    4330|   HNL|        JFK|\n",
      "|    4312|   HNL|        EWR|\n",
      "|    4312|   EWR|        HNL|\n",
      "|    4186|   IAD|        HNL|\n",
      "|    4186|   HNL|        IAD|\n",
      "|    3912|   ATL|        HNL|\n",
      "|    3912|   HNL|        ATL|\n",
      "|    3687|   HNL|        ORD|\n",
      "|    3687|   ORD|        HNL|\n",
      "+--------+------+-----------+\n",
      "only showing top 10 rows\n",
      "\n"
     ]
    },
    {
     "name": "stderr",
     "output_type": "stream",
     "text": [
      "                                                                                \r"
     ]
    }
   ],
   "source": [
    "# 비행거리가 1000마일 이상인 상위 10개 항공편\n",
    "spark.sql(\n",
    "    \"\"\"\n",
    "        SELECT \n",
    "      DISTINCT   distance\n",
    "               , origin\n",
    "               , destination\n",
    "          FROM   us_delay_flights_tbl\n",
    "         WHERE   distance > 1000\n",
    "         ORDER\n",
    "            BY   distance DESC            \n",
    "    ;\n",
    "    \"\"\"\n",
    ").show(10)"
   ]
  },
  {
   "cell_type": "code",
   "execution_count": 11,
   "metadata": {},
   "outputs": [
    {
     "name": "stderr",
     "output_type": "stream",
     "text": [
      "[Stage 11:>                                                         (0 + 2) / 2]\r"
     ]
    },
    {
     "name": "stdout",
     "output_type": "stream",
     "text": [
      "+-------+-----+------+-----------+\n",
      "|   date|delay|origin|destination|\n",
      "+-------+-----+------+-----------+\n",
      "|2190925| 1638|   SFO|        ORD|\n",
      "|1031755|  396|   SFO|        ORD|\n",
      "|1022330|  326|   SFO|        ORD|\n",
      "|1051205|  320|   SFO|        ORD|\n",
      "|1190925|  297|   SFO|        ORD|\n",
      "|2171115|  296|   SFO|        ORD|\n",
      "|1071040|  279|   SFO|        ORD|\n",
      "|1051550|  274|   SFO|        ORD|\n",
      "|3120730|  266|   SFO|        ORD|\n",
      "|1261104|  258|   SFO|        ORD|\n",
      "+-------+-----+------+-----------+\n",
      "only showing top 10 rows\n",
      "\n"
     ]
    },
    {
     "name": "stderr",
     "output_type": "stream",
     "text": [
      "                                                                                \r"
     ]
    }
   ],
   "source": [
    "# 샌프란시스코(SFO)와 시카고(ORD) 간 2시간 이상 지연이 있었던 상위 10개 항공편\n",
    "spark.sql(\n",
    "    \"\"\"\n",
    "        SELECT   date\n",
    "               , delay\n",
    "               , origin\n",
    "               , destination\n",
    "          FROM   us_delay_flights_tbl\n",
    "         WHERE   delay > 120\n",
    "           AND   origin = 'SFO'\n",
    "           AND   destination = 'ORD'\n",
    "         ORDER\n",
    "            BY   delay DESC\n",
    "    \"\"\"\n",
    ").show(10)"
   ]
  },
  {
   "cell_type": "code",
   "execution_count": 12,
   "metadata": {},
   "outputs": [
    {
     "name": "stderr",
     "output_type": "stream",
     "text": [
      "[Stage 12:=============================>                            (1 + 1) / 2]\r"
     ]
    },
    {
     "name": "stdout",
     "output_type": "stream",
     "text": [
      "+-----+------+-----------+-------------+\n",
      "|delay|origin|destination|flight_delays|\n",
      "+-----+------+-----------+-------------+\n",
      "|  333|   ABE|        ATL|  Long Delays|\n",
      "|  305|   ABE|        ATL|  Long Delays|\n",
      "|  275|   ABE|        ATL|  Long Delays|\n",
      "|  257|   ABE|        ATL|  Long Delays|\n",
      "|  247|   ABE|        DTW|  Long Delays|\n",
      "|  247|   ABE|        ATL|  Long Delays|\n",
      "|  219|   ABE|        ORD|  Long Delays|\n",
      "|  211|   ABE|        ATL|  Long Delays|\n",
      "|  197|   ABE|        DTW|  Long Delays|\n",
      "|  192|   ABE|        ORD|  Long Delays|\n",
      "+-----+------+-----------+-------------+\n",
      "only showing top 10 rows\n",
      "\n"
     ]
    },
    {
     "name": "stderr",
     "output_type": "stream",
     "text": [
      "                                                                                \r"
     ]
    }
   ],
   "source": [
    "spark.sql(\n",
    "    \"\"\"\n",
    "        SELECT   delay\n",
    "               , origin\n",
    "               , destination\n",
    "               , CASE\n",
    "                    WHEN delay > 360 THEN 'Very Long Delays'\n",
    "                    WHEN delay >= 120 AND delay <= 360 THEN 'Long Delays'\n",
    "                    WHEN delay >= 60 AND delay <= 120 THEN 'Short Delays'\n",
    "                    WHEN delay >= 0 AND delay < 60 THEN 'Tolarable Delays'\n",
    "                    WHEN delay = 0 THEN 'No Delays'\n",
    "                    ELSE 'Early'\n",
    "                 END AS flight_delays\n",
    "          FROM   us_delay_flights_tbl\n",
    "         ORDER\n",
    "            BY   origin\n",
    "               , delay DESC\n",
    "    \n",
    "    \"\"\"\n",
    ").show(10)"
   ]
  },
  {
   "cell_type": "code",
   "execution_count": 17,
   "metadata": {},
   "outputs": [
    {
     "name": "stderr",
     "output_type": "stream",
     "text": [
      "[Stage 17:>                                                         (0 + 2) / 2]\r"
     ]
    },
    {
     "name": "stdout",
     "output_type": "stream",
     "text": [
      "+--------+------+-----------+\n",
      "|distance|origin|destination|\n",
      "+--------+------+-----------+\n",
      "|    4330|   JFK|        HNL|\n",
      "|    4330|   HNL|        JFK|\n",
      "|    4312|   HNL|        EWR|\n",
      "|    4312|   EWR|        HNL|\n",
      "|    4186|   IAD|        HNL|\n",
      "|    4186|   HNL|        IAD|\n",
      "|    3912|   ATL|        HNL|\n",
      "|    3912|   HNL|        ATL|\n",
      "|    3687|   HNL|        ORD|\n",
      "|    3687|   ORD|        HNL|\n",
      "+--------+------+-----------+\n",
      "only showing top 10 rows\n",
      "\n"
     ]
    },
    {
     "name": "stderr",
     "output_type": "stream",
     "text": [
      "                                                                                \r"
     ]
    }
   ],
   "source": [
    "(\n",
    "    df\n",
    "    .select(\"distance\", \"origin\", \"destination\")\n",
    "    .distinct()\n",
    "    .where(col(\"distance\") > 1000)\n",
    "    .orderBy(desc(\"distance\"))\n",
    ").show(10)"
   ]
  },
  {
   "cell_type": "code",
   "execution_count": 4,
   "metadata": {},
   "outputs": [
    {
     "name": "stderr",
     "output_type": "stream",
     "text": [
      "25/02/04 01:34:22 WARN GarbageCollectionMetrics: To enable non-built-in garbage collector(s) List(G1 Concurrent GC), users should configure it(them) to spark.eventLog.gcMetrics.youngGenerationGarbageCollectors or spark.eventLog.gcMetrics.oldGenerationGarbageCollectors\n"
     ]
    },
    {
     "data": {
      "text/plain": [
       "DataFrame[]"
      ]
     },
     "execution_count": 4,
     "metadata": {},
     "output_type": "execute_result"
    }
   ],
   "source": [
    "spark.sql(\"CREATE DATABASE learn_spark_db;\")\n",
    "spark.sql(\"USE learn_spark_db;\")"
   ]
  },
  {
   "cell_type": "code",
   "execution_count": null,
   "metadata": {},
   "outputs": [],
   "source": [
    "spark.sql(\n",
    "    \"\"\"\n",
    "        CREATE TABLE managed_us_delay_flights_tbl (\n",
    "              date          STRING\n",
    "            , delay         INT\n",
    "            , distance      INT\n",
    "            , origin        STRING\n",
    "            , destination   STRING\n",
    "        )\n",
    "    \n",
    "    \"\"\"\n",
    ")\n",
    "\n",
    "csv_file = \"./datasets/flights/departuredelays.csv\"\n",
    "schema = \"\"\"\n",
    "      date          STRING\n",
    "    , delay         INT\n",
    "    , distance      INT\n",
    "    , origin        STRING\n",
    "    , destination   STRING\n",
    "\"\"\"\n",
    "\n",
    "flights_df = spark.read_csv(csv_file, schema=schema)\n",
    "flights_df.write.saveAsTable(\"managed_us_delay_flights_tbl\")"
   ]
  },
  {
   "cell_type": "code",
   "execution_count": 5,
   "metadata": {},
   "outputs": [
    {
     "name": "stderr",
     "output_type": "stream",
     "text": [
      "25/02/04 01:40:29 WARN HadoopFSUtils: The directory file:/workspaces/scratchs/platforms/apache-spark/learning-spark-v2/spark-warehouse/learn_spark_db.db/datasets/flights/departuredelays.csv was not found. Was it deleted very recently?\n"
     ]
    },
    {
     "data": {
      "text/plain": [
       "DataFrame[]"
      ]
     },
     "execution_count": 5,
     "metadata": {},
     "output_type": "execute_result"
    }
   ],
   "source": [
    "spark.sql(\n",
    "    \"\"\"\n",
    "        CREATE TABLE us_delay_flights_tbl (\n",
    "              date          STRING\n",
    "            , delay         INT\n",
    "            , distance      INT\n",
    "            , origin        STRING\n",
    "            , destination   STRING\n",
    "        )\n",
    "    \n",
    "        USING csv OPTIONS(PATH './datasets/flights/departuredelays.csv')\n",
    "    \"\"\"\n",
    ")"
   ]
  },
  {
   "cell_type": "code",
   "execution_count": 11,
   "metadata": {},
   "outputs": [],
   "source": [
    "df_sfo = spark.sql(\n",
    "    \"\"\"\n",
    "        SELECT   date\n",
    "               , delay\n",
    "               , origin\n",
    "               , destination\n",
    "          FROM   us_delay_flights_tbl\n",
    "         WHERE   origin = 'SFO'       \n",
    "    \"\"\"\n",
    ")\n",
    "df_jfk = spark.sql(\n",
    "    \"\"\"\n",
    "        SELECT   date\n",
    "               , delay\n",
    "               , origin\n",
    "               , destination\n",
    "          FROM   us_delay_flights_tbl\n",
    "         WHERE   origin = 'JFK'       \n",
    "    \"\"\"\n",
    ")\n",
    "\n",
    "df_sfo.createOrReplaceGlobalTempView(\"us_origin_airport_sfo_global_tmp_view\")\n",
    "df_jfk.createOrReplaceTempView(\"us_origin_airport_jfk_tmp_view\")"
   ]
  },
  {
   "cell_type": "code",
   "execution_count": 13,
   "metadata": {},
   "outputs": [
    {
     "name": "stderr",
     "output_type": "stream",
     "text": [
      "[Stage 4:>                                                          (0 + 1) / 1]\r"
     ]
    },
    {
     "name": "stdout",
     "output_type": "stream",
     "text": [
      "+-------+-----+------+-----------+\n",
      "|   date|delay|origin|destination|\n",
      "+-------+-----+------+-----------+\n",
      "|1010900|   14|   JFK|        LAX|\n",
      "|1011200|   -3|   JFK|        LAX|\n",
      "|1011900|    2|   JFK|        LAX|\n",
      "|1011700|   11|   JFK|        LAS|\n",
      "|1010800|   -1|   JFK|        SFO|\n",
      "|1011540|   -4|   JFK|        DFW|\n",
      "|1011705|    5|   JFK|        SAN|\n",
      "|1011530|   -3|   JFK|        SFO|\n",
      "|1011630|   -3|   JFK|        SJU|\n",
      "|1011345|    2|   JFK|        LAX|\n",
      "|1011545|   -3|   JFK|        LAX|\n",
      "|1011510|   -1|   JFK|        MIA|\n",
      "|1011745|    7|   JFK|        SFO|\n",
      "|1011250|    3|   JFK|        BOS|\n",
      "|1011645|  142|   JFK|        LAX|\n",
      "|1012135|   -2|   JFK|        LAX|\n",
      "|1011715|   18|   JFK|        ORD|\n",
      "|1011615|   25|   JFK|        IAH|\n",
      "|1011850|   -2|   JFK|        SEA|\n",
      "|1011725|   -5|   JFK|        BOS|\n",
      "+-------+-----+------+-----------+\n",
      "only showing top 20 rows\n",
      "\n"
     ]
    },
    {
     "name": "stderr",
     "output_type": "stream",
     "text": [
      "                                                                                \r"
     ]
    }
   ],
   "source": [
    "spark.sql(\"\"\"\n",
    "    SELECT   *\n",
    "      FROM   us_origin_airport_jfk_tmp_view          \n",
    "\"\"\").show()"
   ]
  },
  {
   "cell_type": "code",
   "execution_count": 14,
   "metadata": {},
   "outputs": [
    {
     "data": {
      "text/plain": [
       "True"
      ]
     },
     "execution_count": 14,
     "metadata": {},
     "output_type": "execute_result"
    }
   ],
   "source": [
    "spark.catalog.dropGlobalTempView(\"us_origin_airport_sfo_global_tmp_view\")\n",
    "spark.catalog.dropTempView(\"us_origin_airport_jfk_tmp_view\")"
   ]
  },
  {
   "cell_type": "code",
   "execution_count": 15,
   "metadata": {},
   "outputs": [
    {
     "data": {
      "text/plain": [
       "[Database(name='default', catalog='spark_catalog', description='default database', locationUri='file:/workspaces/scratchs/platforms/apache-spark/learning-spark-v2/spark-warehouse'),\n",
       " Database(name='learn_spark_db', catalog='spark_catalog', description='', locationUri='file:/workspaces/scratchs/platforms/apache-spark/learning-spark-v2/spark-warehouse/learn_spark_db.db')]"
      ]
     },
     "execution_count": 15,
     "metadata": {},
     "output_type": "execute_result"
    }
   ],
   "source": [
    "spark.catalog.listDatabases()"
   ]
  },
  {
   "cell_type": "code",
   "execution_count": 16,
   "metadata": {},
   "outputs": [
    {
     "data": {
      "text/plain": [
       "[Table(name='us_delay_flights_tbl', catalog='spark_catalog', namespace=['learn_spark_db'], description=None, tableType='EXTERNAL', isTemporary=False),\n",
       " Table(name='us_delay_flights_tbl', catalog=None, namespace=[], description=None, tableType='TEMPORARY', isTemporary=True)]"
      ]
     },
     "execution_count": 16,
     "metadata": {},
     "output_type": "execute_result"
    }
   ],
   "source": [
    "spark.catalog.listTables()"
   ]
  },
  {
   "cell_type": "code",
   "execution_count": 18,
   "metadata": {},
   "outputs": [
    {
     "data": {
      "text/plain": [
       "[Column(name='date', description=None, dataType='string', nullable=True, isPartition=False, isBucket=False),\n",
       " Column(name='delay', description=None, dataType='int', nullable=True, isPartition=False, isBucket=False),\n",
       " Column(name='distance', description=None, dataType='int', nullable=True, isPartition=False, isBucket=False),\n",
       " Column(name='origin', description=None, dataType='string', nullable=True, isPartition=False, isBucket=False),\n",
       " Column(name='destination', description=None, dataType='string', nullable=True, isPartition=False, isBucket=False)]"
      ]
     },
     "execution_count": 18,
     "metadata": {},
     "output_type": "execute_result"
    }
   ],
   "source": [
    "spark.catalog.listColumns(\"learn_spark_db.us_delay_flights_tbl\")"
   ]
  }
 ],
 "metadata": {
  "kernelspec": {
   "display_name": "Python 3 (ipykernel)",
   "language": "python",
   "name": "python3"
  },
  "language_info": {
   "codemirror_mode": {
    "name": "ipython",
    "version": 3
   },
   "file_extension": ".py",
   "mimetype": "text/x-python",
   "name": "python",
   "nbconvert_exporter": "python",
   "pygments_lexer": "ipython3",
   "version": "3.12.8"
  }
 },
 "nbformat": 4,
 "nbformat_minor": 2
}
