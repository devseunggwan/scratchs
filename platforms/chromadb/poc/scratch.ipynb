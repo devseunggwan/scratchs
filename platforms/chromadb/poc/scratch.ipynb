{
 "cells": [
  {
   "cell_type": "code",
   "execution_count": 2,
   "metadata": {},
   "outputs": [],
   "source": [
    "import json\n",
    "\n",
    "import polars as pl\n",
    "from polars import col, lit"
   ]
  },
  {
   "cell_type": "code",
   "execution_count": null,
   "metadata": {},
   "outputs": [],
   "source": [
    "with open(\"./data/playlists_UCdUkQwI7Ozo5KnTGMPhzuhw_20230826T182800.json\", \"r\") as f:\n",
    "    data = json.load(f)"
   ]
  },
  {
   "cell_type": "code",
   "execution_count": 34,
   "metadata": {},
   "outputs": [],
   "source": [
    "videos = []\n",
    "\n",
    "for playlist in data:\n",
    "    videos.extend(playlist[\"items\"])"
   ]
  },
  {
   "cell_type": "code",
   "execution_count": null,
   "metadata": {},
   "outputs": [],
   "source": [
    "df = pl.DataFrame(videos)\n",
    "df = df.filter(col(\"transcript\").is_not_null())"
   ]
  },
  {
   "cell_type": "code",
   "execution_count": null,
   "metadata": {},
   "outputs": [],
   "source": [
    "videos = []\n",
    "\n",
    "for idx in range(len(df)):\n",
    "    video = {\n",
    "        \"id\": df[idx][\"snippet\"][0][\"resourceId\"][\"videoId\"],\n",
    "        \"title\": df[idx][\"snippet\"][0][\"title\"],\n",
    "        \"published_at\": datetime.strptime(df[idx][\"snippet\"][0][\"publishedAt\"], \"%Y-%m-%dT%H:%M:%SZ\"),\n",
    "        \"description\": df[idx][\"snippet\"][0].get(\"description\", None),\n",
    "        \"view_count\": int(df[idx][\"statistics\"][0].get(\"viewCount\", 0)),\n",
    "        \"like_count\": int(df[idx][\"statistics\"][0].get(\"likeCount\", 0)),\n",
    "        \"favorite_count\": int(df[idx][\"statistics\"][0].get(\"favoriteCount\", 0)),\n",
    "        \"transcript\": \" \".join([item[\"text\"] for item in df[idx][\"transcript\"][0]]) if df[idx][\"transcript\"][0] is not None else None\n",
    "    }\n",
    "    \n",
    "    videos.append(video)"
   ]
  },
  {
   "cell_type": "code",
   "execution_count": 38,
   "metadata": {},
   "outputs": [],
   "source": [
    "df = pl.DataFrame(videos)\n",
    "df.write_parquet(\"./data/videos.parquet\")"
   ]
  },
  {
   "cell_type": "code",
   "execution_count": null,
   "metadata": {},
   "outputs": [],
   "source": [
    "df = pl.read_parquet(\"./data/videos.parquet\")\n",
    "df"
   ]
  },
  {
   "cell_type": "code",
   "execution_count": null,
   "metadata": {},
   "outputs": [],
   "source": [
    "df = df.unique(subset=[\"id\"])"
   ]
  },
  {
   "cell_type": "code",
   "execution_count": null,
   "metadata": {},
   "outputs": [],
   "source": [
    "df.group_by(\"id\").len().filter(col(\"len\") > 1).sort(\"len\", descending=True)"
   ]
  },
  {
   "cell_type": "code",
   "execution_count": 2,
   "metadata": {},
   "outputs": [],
   "source": [
    "from datetime import datetime\n",
    "\n",
    "import chromadb\n",
    "from chromadb.utils import embedding_functions"
   ]
  },
  {
   "cell_type": "code",
   "execution_count": 3,
   "metadata": {},
   "outputs": [],
   "source": [
    "chromadb_client = chromadb.PersistentClient(\"./data/chromadb\")"
   ]
  },
  {
   "cell_type": "code",
   "execution_count": 51,
   "metadata": {},
   "outputs": [],
   "source": [
    "collection = chromadb_client.create_collection(\n",
    "    name=\"samil_church_youtube\", \n",
    "    embedding_function=embedding_functions.DefaultEmbeddingFunction(),\n",
    "    metadata={\n",
    "        \"description\": \"samilchurch youtube videos\",\n",
    "        \"created\": str(datetime.now())\n",
    "    }  \n",
    ")"
   ]
  },
  {
   "cell_type": "code",
   "execution_count": null,
   "metadata": {},
   "outputs": [],
   "source": [
    "collection = chromadb_client.get_collection(\"samil_church_youtube\")\n",
    "collection"
   ]
  },
  {
   "cell_type": "code",
   "execution_count": null,
   "metadata": {},
   "outputs": [],
   "source": [
    "documents = []\n",
    "metadatas = []\n",
    "ids = []\n",
    "\n",
    "for idx in range(len(df)):\n",
    "    id = df[idx][\"id\"][0]\n",
    "    transcript = df[idx][\"transcript\"][0]\n",
    "    \n",
    "    metadata = {\n",
    "        \"published_at\": str(df[idx][\"published_at\"][0].timestamp()),\n",
    "        \"created_at\": str(datetime.now().timestamp()),\n",
    "    }\n",
    "    \n",
    "    documents.append(transcript)\n",
    "    metadatas.append(metadata)\n",
    "    ids.append(id)\n",
    "    \n",
    "collection.add(documents=documents, metadatas=metadatas, ids=ids)"
   ]
  },
  {
   "cell_type": "code",
   "execution_count": null,
   "metadata": {},
   "outputs": [],
   "source": [
    "collection"
   ]
  },
  {
   "cell_type": "code",
   "execution_count": null,
   "metadata": {},
   "outputs": [],
   "source": [
    "collection.query(query_texts=[\"이사야와 관련된 영상\"], n_results=10)"
   ]
  },
  {
   "cell_type": "code",
   "execution_count": null,
   "metadata": {},
   "outputs": [],
   "source": [
    "collection.count()"
   ]
  }
 ],
 "metadata": {
  "kernelspec": {
   "display_name": "study",
   "language": "python",
   "name": "python3"
  },
  "language_info": {
   "codemirror_mode": {
    "name": "ipython",
    "version": 3
   },
   "file_extension": ".py",
   "mimetype": "text/x-python",
   "name": "python",
   "nbconvert_exporter": "python",
   "pygments_lexer": "ipython3",
   "version": "3.12.7"
  }
 },
 "nbformat": 4,
 "nbformat_minor": 2
}
