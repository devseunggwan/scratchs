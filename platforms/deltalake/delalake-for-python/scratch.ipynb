{
 "cells": [
  {
   "cell_type": "markdown",
   "metadata": {},
   "source": [
    "https://delta-io.github.io/delta-rs/"
   ]
  },
  {
   "cell_type": "code",
   "execution_count": 1,
   "metadata": {},
   "outputs": [],
   "source": [
    "import pandas as pd\n",
    "from deltalake import DeltaTable, write_deltalake"
   ]
  },
  {
   "cell_type": "code",
   "execution_count": 2,
   "metadata": {},
   "outputs": [],
   "source": [
    "df = pd.DataFrame({\"x\": [1, 2, 3]})\n",
    "write_deltalake(\"my_table\", df)"
   ]
  },
  {
   "cell_type": "code",
   "execution_count": 4,
   "metadata": {},
   "outputs": [
    {
     "data": {
      "text/plain": [
       "pyarrow.Table\n",
       "x: int64\n",
       "----\n",
       "x: [[1,2,3]]"
      ]
     },
     "execution_count": 4,
     "metadata": {},
     "output_type": "execute_result"
    }
   ],
   "source": [
    "DeltaTable(\"my_table\").to_pyarrow_table()"
   ]
  },
  {
   "cell_type": "code",
   "execution_count": 22,
   "metadata": {},
   "outputs": [],
   "source": [
    "dt = DeltaTable(\"my_table\")"
   ]
  },
  {
   "cell_type": "code",
   "execution_count": 5,
   "metadata": {},
   "outputs": [
    {
     "data": {
      "text/html": [
       "<div>\n",
       "<style scoped>\n",
       "    .dataframe tbody tr th:only-of-type {\n",
       "        vertical-align: middle;\n",
       "    }\n",
       "\n",
       "    .dataframe tbody tr th {\n",
       "        vertical-align: top;\n",
       "    }\n",
       "\n",
       "    .dataframe thead th {\n",
       "        text-align: right;\n",
       "    }\n",
       "</style>\n",
       "<table border=\"1\" class=\"dataframe\">\n",
       "  <thead>\n",
       "    <tr style=\"text-align: right;\">\n",
       "      <th></th>\n",
       "      <th>x</th>\n",
       "    </tr>\n",
       "  </thead>\n",
       "  <tbody>\n",
       "    <tr>\n",
       "      <th>0</th>\n",
       "      <td>4</td>\n",
       "    </tr>\n",
       "    <tr>\n",
       "      <th>1</th>\n",
       "      <td>5</td>\n",
       "    </tr>\n",
       "    <tr>\n",
       "      <th>2</th>\n",
       "      <td>6</td>\n",
       "    </tr>\n",
       "    <tr>\n",
       "      <th>3</th>\n",
       "      <td>1</td>\n",
       "    </tr>\n",
       "    <tr>\n",
       "      <th>4</th>\n",
       "      <td>2</td>\n",
       "    </tr>\n",
       "    <tr>\n",
       "      <th>5</th>\n",
       "      <td>3</td>\n",
       "    </tr>\n",
       "  </tbody>\n",
       "</table>\n",
       "</div>"
      ],
      "text/plain": [
       "   x\n",
       "0  4\n",
       "1  5\n",
       "2  6\n",
       "3  1\n",
       "4  2\n",
       "5  3"
      ]
     },
     "execution_count": 5,
     "metadata": {},
     "output_type": "execute_result"
    }
   ],
   "source": [
    "df = pd.DataFrame({\"x\": [4, 5, 6]})\n",
    "write_deltalake(\"my_table\", df, mode=\"append\")\n",
    "DeltaTable(\"my_table\").to_pandas()"
   ]
  },
  {
   "cell_type": "code",
   "execution_count": null,
   "metadata": {},
   "outputs": [
    {
     "data": {
      "text/html": [
       "<div>\n",
       "<style scoped>\n",
       "    .dataframe tbody tr th:only-of-type {\n",
       "        vertical-align: middle;\n",
       "    }\n",
       "\n",
       "    .dataframe tbody tr th {\n",
       "        vertical-align: top;\n",
       "    }\n",
       "\n",
       "    .dataframe thead th {\n",
       "        text-align: right;\n",
       "    }\n",
       "</style>\n",
       "<table border=\"1\" class=\"dataframe\">\n",
       "  <thead>\n",
       "    <tr style=\"text-align: right;\">\n",
       "      <th></th>\n",
       "      <th>x</th>\n",
       "    </tr>\n",
       "  </thead>\n",
       "  <tbody>\n",
       "    <tr>\n",
       "      <th>0</th>\n",
       "      <td>4</td>\n",
       "    </tr>\n",
       "    <tr>\n",
       "      <th>1</th>\n",
       "      <td>5</td>\n",
       "    </tr>\n",
       "    <tr>\n",
       "      <th>2</th>\n",
       "      <td>6</td>\n",
       "    </tr>\n",
       "  </tbody>\n",
       "</table>\n",
       "</div>"
      ],
      "text/plain": [
       "   x\n",
       "0  4\n",
       "1  5\n",
       "2  6"
      ]
     },
     "execution_count": 6,
     "metadata": {},
     "output_type": "execute_result"
    }
   ],
   "source": [
    "df = pd.DataFrame({\"x\": [4, 5, 6]})\n",
    "write_deltalake(\"my_table\", df, mode=\"overwrite\")\n",
    "dt.to_pandas()"
   ]
  },
  {
   "cell_type": "code",
   "execution_count": 11,
   "metadata": {},
   "outputs": [
    {
     "data": {
      "text/html": [
       "<div>\n",
       "<style scoped>\n",
       "    .dataframe tbody tr th:only-of-type {\n",
       "        vertical-align: middle;\n",
       "    }\n",
       "\n",
       "    .dataframe tbody tr th {\n",
       "        vertical-align: top;\n",
       "    }\n",
       "\n",
       "    .dataframe thead th {\n",
       "        text-align: right;\n",
       "    }\n",
       "</style>\n",
       "<table border=\"1\" class=\"dataframe\">\n",
       "  <thead>\n",
       "    <tr style=\"text-align: right;\">\n",
       "      <th></th>\n",
       "      <th>x</th>\n",
       "    </tr>\n",
       "  </thead>\n",
       "  <tbody>\n",
       "    <tr>\n",
       "      <th>0</th>\n",
       "      <td>1</td>\n",
       "    </tr>\n",
       "    <tr>\n",
       "      <th>1</th>\n",
       "      <td>2</td>\n",
       "    </tr>\n",
       "    <tr>\n",
       "      <th>2</th>\n",
       "      <td>3</td>\n",
       "    </tr>\n",
       "  </tbody>\n",
       "</table>\n",
       "</div>"
      ],
      "text/plain": [
       "   x\n",
       "0  1\n",
       "1  2\n",
       "2  3"
      ]
     },
     "execution_count": 11,
     "metadata": {},
     "output_type": "execute_result"
    }
   ],
   "source": [
    "DeltaTable(\"my_table\", version=0).to_pandas()"
   ]
  },
  {
   "cell_type": "code",
   "execution_count": 10,
   "metadata": {},
   "outputs": [
    {
     "data": {
      "text/html": [
       "<div>\n",
       "<style scoped>\n",
       "    .dataframe tbody tr th:only-of-type {\n",
       "        vertical-align: middle;\n",
       "    }\n",
       "\n",
       "    .dataframe tbody tr th {\n",
       "        vertical-align: top;\n",
       "    }\n",
       "\n",
       "    .dataframe thead th {\n",
       "        text-align: right;\n",
       "    }\n",
       "</style>\n",
       "<table border=\"1\" class=\"dataframe\">\n",
       "  <thead>\n",
       "    <tr style=\"text-align: right;\">\n",
       "      <th></th>\n",
       "      <th>x</th>\n",
       "    </tr>\n",
       "  </thead>\n",
       "  <tbody>\n",
       "    <tr>\n",
       "      <th>0</th>\n",
       "      <td>4</td>\n",
       "    </tr>\n",
       "    <tr>\n",
       "      <th>1</th>\n",
       "      <td>5</td>\n",
       "    </tr>\n",
       "    <tr>\n",
       "      <th>2</th>\n",
       "      <td>6</td>\n",
       "    </tr>\n",
       "    <tr>\n",
       "      <th>3</th>\n",
       "      <td>1</td>\n",
       "    </tr>\n",
       "    <tr>\n",
       "      <th>4</th>\n",
       "      <td>2</td>\n",
       "    </tr>\n",
       "    <tr>\n",
       "      <th>5</th>\n",
       "      <td>3</td>\n",
       "    </tr>\n",
       "  </tbody>\n",
       "</table>\n",
       "</div>"
      ],
      "text/plain": [
       "   x\n",
       "0  4\n",
       "1  5\n",
       "2  6\n",
       "3  1\n",
       "4  2\n",
       "5  3"
      ]
     },
     "execution_count": 10,
     "metadata": {},
     "output_type": "execute_result"
    }
   ],
   "source": [
    "DeltaTable(\"my_table\", version=1).to_pandas()"
   ]
  },
  {
   "cell_type": "code",
   "execution_count": null,
   "metadata": {},
   "outputs": [
    {
     "data": {
      "text/plain": [
       "Schema([Field(x, PrimitiveType(\"long\"), nullable=True)])"
      ]
     },
     "execution_count": 12,
     "metadata": {},
     "output_type": "execute_result"
    }
   ],
   "source": [
    "dt.schema()"
   ]
  },
  {
   "cell_type": "code",
   "execution_count": null,
   "metadata": {},
   "outputs": [],
   "source": [
    "dt.alter.add_constraint({\"gt_0\": \"x > 2\"})"
   ]
  },
  {
   "cell_type": "code",
   "execution_count": 17,
   "metadata": {},
   "outputs": [
    {
     "data": {
      "text/html": [
       "<div><style>\n",
       ".dataframe > thead > tr,\n",
       ".dataframe > tbody > tr {\n",
       "  text-align: right;\n",
       "  white-space: pre-wrap;\n",
       "}\n",
       "</style>\n",
       "<small>shape: (12, 4)</small><table border=\"1\" class=\"dataframe\"><thead><tr><th>x</th><th>_change_type</th><th>_commit_version</th><th>_commit_timestamp</th></tr><tr><td>i64</td><td>str</td><td>i64</td><td>datetime[ms]</td></tr></thead><tbody><tr><td>4</td><td>&quot;insert&quot;</td><td>1</td><td>2025-02-24 02:30:34.604</td></tr><tr><td>5</td><td>&quot;insert&quot;</td><td>1</td><td>2025-02-24 02:30:34.604</td></tr><tr><td>6</td><td>&quot;insert&quot;</td><td>1</td><td>2025-02-24 02:30:34.604</td></tr><tr><td>4</td><td>&quot;insert&quot;</td><td>2</td><td>2025-02-24 02:30:51.406</td></tr><tr><td>5</td><td>&quot;insert&quot;</td><td>2</td><td>2025-02-24 02:30:51.406</td></tr><tr><td>&hellip;</td><td>&hellip;</td><td>&hellip;</td><td>&hellip;</td></tr><tr><td>5</td><td>&quot;delete&quot;</td><td>2</td><td>2025-02-24 02:30:51.406</td></tr><tr><td>6</td><td>&quot;delete&quot;</td><td>2</td><td>2025-02-24 02:30:51.406</td></tr><tr><td>1</td><td>&quot;delete&quot;</td><td>2</td><td>2025-02-24 02:30:51.406</td></tr><tr><td>2</td><td>&quot;delete&quot;</td><td>2</td><td>2025-02-24 02:30:51.406</td></tr><tr><td>3</td><td>&quot;delete&quot;</td><td>2</td><td>2025-02-24 02:30:51.406</td></tr></tbody></table></div>"
      ],
      "text/plain": [
       "shape: (12, 4)\n",
       "┌─────┬──────────────┬─────────────────┬─────────────────────────┐\n",
       "│ x   ┆ _change_type ┆ _commit_version ┆ _commit_timestamp       │\n",
       "│ --- ┆ ---          ┆ ---             ┆ ---                     │\n",
       "│ i64 ┆ str          ┆ i64             ┆ datetime[ms]            │\n",
       "╞═════╪══════════════╪═════════════════╪═════════════════════════╡\n",
       "│ 4   ┆ insert       ┆ 1               ┆ 2025-02-24 02:30:34.604 │\n",
       "│ 5   ┆ insert       ┆ 1               ┆ 2025-02-24 02:30:34.604 │\n",
       "│ 6   ┆ insert       ┆ 1               ┆ 2025-02-24 02:30:34.604 │\n",
       "│ 4   ┆ insert       ┆ 2               ┆ 2025-02-24 02:30:51.406 │\n",
       "│ 5   ┆ insert       ┆ 2               ┆ 2025-02-24 02:30:51.406 │\n",
       "│ …   ┆ …            ┆ …               ┆ …                       │\n",
       "│ 5   ┆ delete       ┆ 2               ┆ 2025-02-24 02:30:51.406 │\n",
       "│ 6   ┆ delete       ┆ 2               ┆ 2025-02-24 02:30:51.406 │\n",
       "│ 1   ┆ delete       ┆ 2               ┆ 2025-02-24 02:30:51.406 │\n",
       "│ 2   ┆ delete       ┆ 2               ┆ 2025-02-24 02:30:51.406 │\n",
       "│ 3   ┆ delete       ┆ 2               ┆ 2025-02-24 02:30:51.406 │\n",
       "└─────┴──────────────┴─────────────────┴─────────────────────────┘"
      ]
     },
     "execution_count": 17,
     "metadata": {},
     "output_type": "execute_result"
    }
   ],
   "source": [
    "import polars as pl\n",
    "\n",
    "df = pl.from_arrow(DeltaTable(\"my_table\").load_cdf(starting_version=1, ending_version=2).read_all())\n",
    "df"
   ]
  },
  {
   "cell_type": "code",
   "execution_count": 18,
   "metadata": {},
   "outputs": [
    {
     "data": {
      "text/html": [
       "<div><style>\n",
       ".dataframe > thead > tr,\n",
       ".dataframe > tbody > tr {\n",
       "  text-align: right;\n",
       "  white-space: pre-wrap;\n",
       "}\n",
       "</style>\n",
       "<small>shape: (2, 2)</small><table border=\"1\" class=\"dataframe\"><thead><tr><th>_commit_version</th><th>len</th></tr><tr><td>i64</td><td>u32</td></tr></thead><tbody><tr><td>2</td><td>9</td></tr><tr><td>1</td><td>3</td></tr></tbody></table></div>"
      ],
      "text/plain": [
       "shape: (2, 2)\n",
       "┌─────────────────┬─────┐\n",
       "│ _commit_version ┆ len │\n",
       "│ ---             ┆ --- │\n",
       "│ i64             ┆ u32 │\n",
       "╞═════════════════╪═════╡\n",
       "│ 2               ┆ 9   │\n",
       "│ 1               ┆ 3   │\n",
       "└─────────────────┴─────┘"
      ]
     },
     "execution_count": 18,
     "metadata": {},
     "output_type": "execute_result"
    }
   ],
   "source": [
    "df.group_by(\"_commit_version\").len().sort(\"len\", descending=True)"
   ]
  },
  {
   "cell_type": "code",
   "execution_count": 23,
   "metadata": {},
   "outputs": [
    {
     "data": {
      "text/plain": [
       "[{'timestamp': 1740364406323,\n",
       "  'operation': 'ADD CONSTRAINT',\n",
       "  'operationParameters': {'expr': 'x > 2', 'name': 'gt_0'},\n",
       "  'clientVersion': 'delta-rs.0.24.0',\n",
       "  'version': 3},\n",
       " {'timestamp': 1740364251406,\n",
       "  'operation': 'WRITE',\n",
       "  'operationParameters': {'mode': 'Overwrite'},\n",
       "  'clientVersion': 'delta-rs.0.24.0',\n",
       "  'operationMetrics': {'execution_time_ms': 3,\n",
       "   'num_added_files': 1,\n",
       "   'num_added_rows': 3,\n",
       "   'num_partitions': 0,\n",
       "   'num_removed_files': 2},\n",
       "  'version': 2},\n",
       " {'timestamp': 1740364234604,\n",
       "  'operation': 'WRITE',\n",
       "  'operationParameters': {'mode': 'Append'},\n",
       "  'clientVersion': 'delta-rs.0.24.0',\n",
       "  'operationMetrics': {'execution_time_ms': 12,\n",
       "   'num_added_files': 1,\n",
       "   'num_added_rows': 3,\n",
       "   'num_partitions': 0,\n",
       "   'num_removed_files': 0},\n",
       "  'version': 1},\n",
       " {'timestamp': 1740363072317,\n",
       "  'operation': 'WRITE',\n",
       "  'operationParameters': {'mode': 'ErrorIfExists'},\n",
       "  'operationMetrics': {'execution_time_ms': 165,\n",
       "   'num_added_files': 1,\n",
       "   'num_added_rows': 3,\n",
       "   'num_partitions': 0,\n",
       "   'num_removed_files': 0},\n",
       "  'clientVersion': 'delta-rs.0.24.0',\n",
       "  'version': 0}]"
      ]
     },
     "execution_count": 23,
     "metadata": {},
     "output_type": "execute_result"
    }
   ],
   "source": [
    "dt.history()"
   ]
  },
  {
   "cell_type": "code",
   "execution_count": 24,
   "metadata": {},
   "outputs": [
    {
     "data": {
      "text/plain": [
       "[]"
      ]
     },
     "execution_count": 24,
     "metadata": {},
     "output_type": "execute_result"
    }
   ],
   "source": [
    "dt.vacuum(dry_run=False)"
   ]
  },
  {
   "cell_type": "code",
   "execution_count": 27,
   "metadata": {},
   "outputs": [
    {
     "data": {
      "text/plain": [
       "{'num_added_files': 1,\n",
       " 'num_removed_files': 1,\n",
       " 'num_deleted_rows': 1,\n",
       " 'num_copied_rows': 2,\n",
       " 'execution_time_ms': 38,\n",
       " 'scan_time_ms': 33,\n",
       " 'rewrite_time_ms': 5}"
      ]
     },
     "execution_count": 27,
     "metadata": {},
     "output_type": "execute_result"
    }
   ],
   "source": [
    "dt.delete(\"x > 5\")"
   ]
  },
  {
   "cell_type": "code",
   "execution_count": 28,
   "metadata": {},
   "outputs": [
    {
     "data": {
      "text/html": [
       "<div>\n",
       "<style scoped>\n",
       "    .dataframe tbody tr th:only-of-type {\n",
       "        vertical-align: middle;\n",
       "    }\n",
       "\n",
       "    .dataframe tbody tr th {\n",
       "        vertical-align: top;\n",
       "    }\n",
       "\n",
       "    .dataframe thead th {\n",
       "        text-align: right;\n",
       "    }\n",
       "</style>\n",
       "<table border=\"1\" class=\"dataframe\">\n",
       "  <thead>\n",
       "    <tr style=\"text-align: right;\">\n",
       "      <th></th>\n",
       "      <th>x</th>\n",
       "    </tr>\n",
       "  </thead>\n",
       "  <tbody>\n",
       "    <tr>\n",
       "      <th>0</th>\n",
       "      <td>4</td>\n",
       "    </tr>\n",
       "    <tr>\n",
       "      <th>1</th>\n",
       "      <td>5</td>\n",
       "    </tr>\n",
       "  </tbody>\n",
       "</table>\n",
       "</div>"
      ],
      "text/plain": [
       "   x\n",
       "0  4\n",
       "1  5"
      ]
     },
     "execution_count": 28,
     "metadata": {},
     "output_type": "execute_result"
    }
   ],
   "source": [
    "dt.to_pandas()"
   ]
  },
  {
   "cell_type": "code",
   "execution_count": 29,
   "metadata": {},
   "outputs": [
    {
     "data": {
      "text/plain": [
       "{'numFilesAdded': 1,\n",
       " 'numFilesRemoved': 1,\n",
       " 'filesAdded': '{\"avg\":520.0,\"max\":520,\"min\":520,\"totalFiles\":1,\"totalSize\":520}',\n",
       " 'filesRemoved': '{\"avg\":508.0,\"max\":508,\"min\":508,\"totalFiles\":1,\"totalSize\":508}',\n",
       " 'partitionsOptimized': 0,\n",
       " 'numBatches': 1,\n",
       " 'totalConsideredFiles': 1,\n",
       " 'totalFilesSkipped': 0,\n",
       " 'preserveInsertionOrder': True}"
      ]
     },
     "execution_count": 29,
     "metadata": {},
     "output_type": "execute_result"
    }
   ],
   "source": [
    "dt.optimize.z_order([\"x\"])"
   ]
  }
 ],
 "metadata": {
  "kernelspec": {
   "display_name": "Python 3 (ipykernel)",
   "language": "python",
   "name": "python3"
  },
  "language_info": {
   "codemirror_mode": {
    "name": "ipython",
    "version": 3
   },
   "file_extension": ".py",
   "mimetype": "text/x-python",
   "name": "python",
   "nbconvert_exporter": "python",
   "pygments_lexer": "ipython3",
   "version": "3.12.1"
  }
 },
 "nbformat": 4,
 "nbformat_minor": 2
}
