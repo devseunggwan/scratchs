{
 "cells": [
  {
   "cell_type": "markdown",
   "metadata": {},
   "source": [
    "## Snowflake Connector 설정"
   ]
  },
  {
   "cell_type": "code",
   "execution_count": 1,
   "metadata": {},
   "outputs": [
    {
     "name": "stdout",
     "output_type": "stream",
     "text": [
      "Requirement already satisfied: pip in /Users/user/.pyenv/versions/3.12.0/envs/web3/lib/python3.12/site-packages (23.2.1)\n",
      "Collecting pip\n",
      "  Obtaining dependency information for pip from https://files.pythonhosted.org/packages/8a/6a/19e9fe04fca059ccf770861c7d5721ab4c2aebc539889e97c7977528a53b/pip-24.0-py3-none-any.whl.metadata\n",
      "  Downloading pip-24.0-py3-none-any.whl.metadata (3.6 kB)\n",
      "Downloading pip-24.0-py3-none-any.whl (2.1 MB)\n",
      "\u001b[2K   \u001b[90m━━━━━━━━━━━━━━━━━━━━━━━━━━━━━━━━━━━━━━━━\u001b[0m \u001b[32m2.1/2.1 MB\u001b[0m \u001b[31m5.8 MB/s\u001b[0m eta \u001b[36m0:00:00\u001b[0ma \u001b[36m0:00:01\u001b[0m\n",
      "\u001b[?25hInstalling collected packages: pip\n",
      "  Attempting uninstall: pip\n",
      "    Found existing installation: pip 23.2.1\n",
      "    Uninstalling pip-23.2.1:\n",
      "      Successfully uninstalled pip-23.2.1\n",
      "Successfully installed pip-24.0\n",
      "Note: you may need to restart the kernel to use updated packages.\n",
      "Collecting snowflake-connector-python\n",
      "  Downloading snowflake_connector_python-3.7.0-cp312-cp312-macosx_11_0_arm64.whl.metadata (59 kB)\n",
      "\u001b[2K     \u001b[90m━━━━━━━━━━━━━━━━━━━━━━━━━━━━━━━━━━━━━━━━\u001b[0m \u001b[32m59.4/59.4 kB\u001b[0m \u001b[31m2.5 MB/s\u001b[0m eta \u001b[36m0:00:00\u001b[0m\n",
      "\u001b[?25hCollecting asn1crypto<2.0.0,>0.24.0 (from snowflake-connector-python)\n",
      "  Downloading asn1crypto-1.5.1-py2.py3-none-any.whl (105 kB)\n",
      "\u001b[2K     \u001b[90m━━━━━━━━━━━━━━━━━━━━━━━━━━━━━━━━━━━━━━━\u001b[0m \u001b[32m105.0/105.0 kB\u001b[0m \u001b[31m4.3 MB/s\u001b[0m eta \u001b[36m0:00:00\u001b[0m\n",
      "\u001b[?25hRequirement already satisfied: cffi<2.0.0,>=1.9 in /Users/user/.pyenv/versions/3.12.0/envs/web3/lib/python3.12/site-packages (from snowflake-connector-python) (1.16.0)\n",
      "Collecting cryptography<42.0.0,>=3.1.0 (from snowflake-connector-python)\n",
      "  Downloading cryptography-41.0.7-cp37-abi3-macosx_10_12_universal2.whl.metadata (5.2 kB)\n",
      "Collecting pyOpenSSL<24.0.0,>=16.2.0 (from snowflake-connector-python)\n",
      "  Downloading pyOpenSSL-23.3.0-py3-none-any.whl.metadata (12 kB)\n",
      "Collecting pyjwt<3.0.0 (from snowflake-connector-python)\n",
      "  Downloading PyJWT-2.8.0-py3-none-any.whl.metadata (4.2 kB)\n",
      "Requirement already satisfied: pytz in /Users/user/.pyenv/versions/3.12.0/envs/web3/lib/python3.12/site-packages (from snowflake-connector-python) (2023.3.post1)\n",
      "Requirement already satisfied: requests<3.0.0 in /Users/user/.pyenv/versions/3.12.0/envs/web3/lib/python3.12/site-packages (from snowflake-connector-python) (2.31.0)\n",
      "Requirement already satisfied: packaging in /Users/user/.pyenv/versions/3.12.0/envs/web3/lib/python3.12/site-packages (from snowflake-connector-python) (23.2)\n",
      "Requirement already satisfied: charset-normalizer<4,>=2 in /Users/user/.pyenv/versions/3.12.0/envs/web3/lib/python3.12/site-packages (from snowflake-connector-python) (3.3.2)\n",
      "Requirement already satisfied: idna<4,>=2.5 in /Users/user/.pyenv/versions/3.12.0/envs/web3/lib/python3.12/site-packages (from snowflake-connector-python) (3.6)\n",
      "Requirement already satisfied: certifi>=2017.4.17 in /Users/user/.pyenv/versions/3.12.0/envs/web3/lib/python3.12/site-packages (from snowflake-connector-python) (2023.11.17)\n",
      "Requirement already satisfied: typing-extensions<5,>=4.3 in /Users/user/.pyenv/versions/3.12.0/envs/web3/lib/python3.12/site-packages (from snowflake-connector-python) (4.8.0)\n",
      "Requirement already satisfied: filelock<4,>=3.5 in /Users/user/.pyenv/versions/3.12.0/envs/web3/lib/python3.12/site-packages (from snowflake-connector-python) (3.13.1)\n",
      "Collecting sortedcontainers>=2.4.0 (from snowflake-connector-python)\n",
      "  Downloading sortedcontainers-2.4.0-py2.py3-none-any.whl (29 kB)\n",
      "Requirement already satisfied: platformdirs<4.0.0,>=2.6.0 in /Users/user/.pyenv/versions/3.12.0/envs/web3/lib/python3.12/site-packages (from snowflake-connector-python) (3.11.0)\n",
      "Requirement already satisfied: tomlkit in /Users/user/.pyenv/versions/3.12.0/envs/web3/lib/python3.12/site-packages (from snowflake-connector-python) (0.12.3)\n",
      "Requirement already satisfied: pycparser in /Users/user/.pyenv/versions/3.12.0/envs/web3/lib/python3.12/site-packages (from cffi<2.0.0,>=1.9->snowflake-connector-python) (2.21)\n",
      "Requirement already satisfied: urllib3<3,>=1.21.1 in /Users/user/.pyenv/versions/3.12.0/envs/web3/lib/python3.12/site-packages (from requests<3.0.0->snowflake-connector-python) (2.0.7)\n",
      "Downloading snowflake_connector_python-3.7.0-cp312-cp312-macosx_11_0_arm64.whl (938 kB)\n",
      "\u001b[2K   \u001b[90m━━━━━━━━━━━━━━━━━━━━━━━━━━━━━━━━━━━━━━━━\u001b[0m \u001b[32m938.4/938.4 kB\u001b[0m \u001b[31m5.8 MB/s\u001b[0m eta \u001b[36m0:00:00\u001b[0m00:01\u001b[0m00:01\u001b[0m\n",
      "\u001b[?25hDownloading cryptography-41.0.7-cp37-abi3-macosx_10_12_universal2.whl (5.3 MB)\n",
      "\u001b[2K   \u001b[90m━━━━━━━━━━━━━━━━━━━━━━━━━━━━━━━━━━━━━━━━\u001b[0m \u001b[32m5.3/5.3 MB\u001b[0m \u001b[31m5.9 MB/s\u001b[0m eta \u001b[36m0:00:00\u001b[0m00:01\u001b[0m00:01\u001b[0m\n",
      "\u001b[?25hDownloading PyJWT-2.8.0-py3-none-any.whl (22 kB)\n",
      "Downloading pyOpenSSL-23.3.0-py3-none-any.whl (58 kB)\n",
      "\u001b[2K   \u001b[90m━━━━━━━━━━━━━━━━━━━━━━━━━━━━━━━━━━━━━━━━\u001b[0m \u001b[32m58.8/58.8 kB\u001b[0m \u001b[31m6.1 MB/s\u001b[0m eta \u001b[36m0:00:00\u001b[0m\n",
      "\u001b[?25hInstalling collected packages: sortedcontainers, asn1crypto, pyjwt, cryptography, pyOpenSSL, snowflake-connector-python\n",
      "Successfully installed asn1crypto-1.5.1 cryptography-41.0.7 pyOpenSSL-23.3.0 pyjwt-2.8.0 snowflake-connector-python-3.7.0 sortedcontainers-2.4.0\n",
      "Note: you may need to restart the kernel to use updated packages.\n"
     ]
    }
   ],
   "source": [
    "%pip install --upgrade pip\n",
    "%pip install --upgrade snowflake-connector-python"
   ]
  },
  {
   "cell_type": "markdown",
   "metadata": {},
   "source": [
    "## Snowflake 연결 & 설치 테스트"
   ]
  },
  {
   "cell_type": "code",
   "execution_count": 1,
   "metadata": {},
   "outputs": [
    {
     "name": "stdout",
     "output_type": "stream",
     "text": [
      "8.5.1\n"
     ]
    }
   ],
   "source": [
    "import os\n",
    "\n",
    "import snowflake.connector\n",
    "from dotenv import load_dotenv\n",
    "\n",
    "load_dotenv()\n",
    "\n",
    "ctx = snowflake.connector.connect(\n",
    "    user=os.getenv(\"SNOWFLAKE_USER\"),\n",
    "    password=os.getenv(\"SNOWFLAKE_PASSWORD\"),\n",
    "    account=os.getenv(\"SNOWFLAKE_ACCOUNT\"),\n",
    ")\n",
    "\n",
    "cs = ctx.cursor()\n",
    "\n",
    "try:\n",
    "    cs.execute(\"SELECT current_version()\")\n",
    "    one_row = cs.fetchone()\n",
    "\n",
    "    print(one_row[0])\n",
    "finally:\n",
    "    cs.close()\n",
    "\n",
    "ctx.close()"
   ]
  },
  {
   "cell_type": "markdown",
   "metadata": {},
   "source": [
    "## 웨어하우스 생성\n",
    "\n",
    "Snowflake와 상호 작용하기 위한 SQL 명령에 익숙하다면 Python Connector 내 명령에도 익숙하실 것입니다. 명령이 어떻게 구성되어 있는지 분석해 보겠습니다.\n",
    "\n",
    "conn은 여러분을 여러분의 Snowflake 계정과 연결하는 오브젝트임을 기억하십시오. 이를 사용하여 다음 형식을 가진 SQL 명령을 실행할 수 있습니다."
   ]
  },
  {
   "cell_type": "code",
   "execution_count": null,
   "metadata": {},
   "outputs": [],
   "source": [
    "conn.cursor().execute(\"SELECT * FROM my_table\")"
   ]
  },
  {
   "cell_type": "markdown",
   "metadata": {},
   "source": [
    "우선 가상 웨어하우스를 생성하겠습니다.\n",
    "\n",
    "가상 웨어하우스에는 Snowflake를 통해 쿼리와 DML 작업을 수행하기 위해 필요한 서버가 포함되어 있습니다. \n",
    "\n",
    "CREATE WAREHOUSE SQL 명령을 통합하여 하나의 가상 웨어하우스를 생성할 수 있습니다."
   ]
  },
  {
   "cell_type": "code",
   "execution_count": null,
   "metadata": {},
   "outputs": [],
   "source": [
    "conn.cursor().execute(\"CREATE WAREHOUSE IF NOT EXISTS tiny_warehouse_mg\")"
   ]
  },
  {
   "cell_type": "markdown",
   "metadata": {},
   "source": [
    "CREATE WAREHOUSE 명령은 예상대로 웨어하우스를 생성하지만 암시적으로 해당 웨어하우스를 여러분의 세션을 위한 활성 웨어하우스로 설정하기도 합니다. \n",
    "\n",
    "이미 웨어하우스를 생성했다면 USE WAREHOUSE 명령을 사용하여 명시적으로 이를 활성 웨어하우스로 설정할 수 있습니다."
   ]
  },
  {
   "cell_type": "code",
   "execution_count": null,
   "metadata": {},
   "outputs": [],
   "source": [
    "conn.cursor().execute(\"USE WAREHOUSE tine_warehouse_mg\")"
   ]
  },
  {
   "cell_type": "markdown",
   "metadata": {},
   "source": [
    "## 데이터베이스 생성\n",
    "\n",
    "다음 단계는 데이터베이스 생성입니다. 데이터베이스는 여러분의 데이터베이스 오브젝트가 포함되어 있는 스키마를 포함합니다.\n",
    "\n",
    "웨어하우스를 생성했을 때와 동일한 방식으로 데이터베이스를 생성할 수 있습니다. \n",
    "\n",
    "다만 이번에는 CREATE DATABASE 명령을 사용하겠습니다.\n"
   ]
  },
  {
   "cell_type": "code",
   "execution_count": null,
   "metadata": {},
   "outputs": [],
   "source": [
    "conn.cursor().execute(\"CREATE DATABASE IF NOT EXISTS my_db\")\n",
    "conn.cursor().execute(\"USE DATABASE my_db\")"
   ]
  },
  {
   "cell_type": "markdown",
   "metadata": {},
   "source": [
    "## 스키마 생성\n",
    "\n",
    "스키마는 여러분의 데이터베이스 오브젝트의 그룹화입니다. 스키마에는 여러분의 테이블, 테이블에 있는 데이터 및 뷰가 포함되어 있습니다. 스키마는 데이터베이스 내에 있습니다. CREATE SCHEMA 명령으로 스키마를 생성할 수 있습니다.\n",
    "\n",
    "CREATE SCHEMA는 또한 여러분의 세션을 위해 이를 활성 스키마로 설정하기에 명시적으로 USE SCHEMA 또한 호출할 필요가 없습니다. 이미 생성된 스키마를 사용하고 싶을 때만 사용하십시오."
   ]
  },
  {
   "cell_type": "code",
   "execution_count": null,
   "metadata": {},
   "outputs": [],
   "source": [
    "conn.cursor().execute(\"CREATE SCHEMA IF NOT EXISTS test_schema\")\n",
    "conn.cursor().execute(\"USE SCHEMA test_schema\")\n",
    "conn.cursor().execute(\"USE SCHEMA other_db.other_schema\")"
   ]
  },
  {
   "cell_type": "markdown",
   "metadata": {},
   "source": [
    "## 테이블 생성\n",
    "\n",
    "웨어하우스, 데이터베이스 및 스키마를 생성했으니 데이터에 있는 데이터 조작에 필요한 모든 것이 준비되었습니다. 우선 테이블을 생성해야 합니다. CREATE TABLE 명령을 통해 생성합니다."
   ]
  },
  {
   "cell_type": "code",
   "execution_count": null,
   "metadata": {},
   "outputs": [],
   "source": [
    "conn.cursor().execute(\n",
    "    \"\"\"\n",
    "    CREATE OR REPLACE TABLE test_table (\n",
    "        col1 integer\n",
    "        , col2 string\n",
    "    )                      \n",
    "\"\"\"\n",
    ")"
   ]
  },
  {
   "cell_type": "markdown",
   "metadata": {},
   "source": [
    "## 데이터 삽입\n",
    "\n",
    "test_table 테이블을 생성했으니 여기에 데이터를 추가할 수 있습니다. INSERT 명령으로 추가할 수 있습니다."
   ]
  },
  {
   "cell_type": "code",
   "execution_count": null,
   "metadata": {},
   "outputs": [],
   "source": [
    "conn.cursor().execute(\n",
    "    \"\"\"\n",
    "        INSERT INTO \n",
    "            test_table(col1, col2)\n",
    "        VALUES\n",
    "            (1, 'a')\n",
    "            , (456, 'test string')\n",
    "    \"\"\"\n",
    ")"
   ]
  },
  {
   "cell_type": "code",
   "execution_count": null,
   "metadata": {},
   "outputs": [],
   "source": [
    "conn.cursor().execute(\"PUT file:///tmp/data/file* @%test_table\")\n",
    "conn.cursor().execute(\"COPY INTO test_table\")"
   ]
  },
  {
   "cell_type": "markdown",
   "metadata": {},
   "source": [
    "## 데이터 쿼리\n",
    "\n",
    "당연히 언젠가 여러분의 데이터를 쿼리하고 싶을 것입니다. Python Connector 내에서 이를 쉽게 진행할 수 있습니다. print 명령으로 쉽게 테이블에서 가져온 값을 확인할 수 있습니다."
   ]
  },
  {
   "cell_type": "code",
   "execution_count": null,
   "metadata": {},
   "outputs": [],
   "source": [
    "col1, col2 = conn.cursor().execute(\"SELECT col1, col2 FROM test_table\").fetchone()\n",
    "print(f\"{col1}, {col2}\")\n",
    "\n",
    "for col1, col2 in conn.cursor().execute(\"SELECT col1, col2 FROM test_table\"):\n",
    "    print(f\"{col1}, {col2}\")"
   ]
  },
  {
   "cell_type": "code",
   "execution_count": null,
   "metadata": {},
   "outputs": [],
   "source": [
    "connection.close()"
   ]
  }
 ],
 "metadata": {
  "kernelspec": {
   "display_name": "web3",
   "language": "python",
   "name": "python3"
  },
  "language_info": {
   "codemirror_mode": {
    "name": "ipython",
    "version": 3
   },
   "file_extension": ".py",
   "mimetype": "text/x-python",
   "name": "python",
   "nbconvert_exporter": "python",
   "pygments_lexer": "ipython3",
   "version": "3.12.0"
  }
 },
 "nbformat": 4,
 "nbformat_minor": 2
}
