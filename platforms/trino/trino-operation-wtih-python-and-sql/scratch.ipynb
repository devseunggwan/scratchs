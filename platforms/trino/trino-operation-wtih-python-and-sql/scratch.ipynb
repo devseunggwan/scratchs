{
 "cells": [
  {
   "cell_type": "code",
   "execution_count": null,
   "id": "47224e0d",
   "metadata": {},
   "outputs": [],
   "source": [
    "import os\n",
    "\n",
    "import polars as pl\n",
    "import matplotlib.pyplot as plt\n",
    "import seaborn as sns\n",
    "from trino.dbapi import connect\n",
    "from dotenv import load_dotenv\n",
    "\n",
    "load_dotenv()\n",
    "\n",
    "conn = connect(\n",
    "    host=os.getenv(\"TRINO_HOST\", \"localhost\"),\n",
    "    port=int(os.getenv(\"TRINO_PORT\", 8080)),\n",
    "    user=os.getenv(\"TRINO_USER\", \"trino\")\n",
    ")\n"
   ]
  },
  {
   "cell_type": "code",
   "execution_count": null,
   "id": "9f854db5",
   "metadata": {},
   "outputs": [],
   "source": [
    "def trino_executor(conn, sql_file_path) -> pl.DataFrame:\n",
    "    with open(sql_file_path, \"r\", encoding=\"utf-8\") as f:\n",
    "        sql = f.read()\n",
    "\n",
    "    with conn.cursor() as cursor:\n",
    "        cursor.execute(sql)\n",
    "        rows = cursor.fetchall()\n",
    "        columns = [desc[0] for desc in cursor.description]\n",
    "\n",
    "    df = pl.DataFrame(rows, schema=columns, infer_schema_length=10000)\n",
    "        \n",
    "    return df"
   ]
  },
  {
   "cell_type": "code",
   "execution_count": null,
   "id": "6d58a0aa",
   "metadata": {},
   "outputs": [],
   "source": [
    "df_before = trino_executor(conn, \"./query.sql\")\n",
    "df_count = df_before = trino_executor(conn, \"./query/bef.sql\").group_by(\"ad_datetime_id\").agg(pl.len()).rename({\"len\": \"count\"})\n",
    "\n",
    "plt.figure(figsize=(20, 5))\n",
    "sns.lineplot(x=\"ad_datetime_id\", y=\"count\", data=df_count)\n",
    "plt.xlabel(\"ad_datetime_id\")\n",
    "plt.ylabel(\"count\")\n",
    "plt.xticks(rotation=45)\n",
    "plt.tight_layout()\n",
    "plt.show()\n"
   ]
  }
 ],
 "metadata": {
  "kernelspec": {
   "display_name": "scratch",
   "language": "python",
   "name": "python3"
  },
  "language_info": {
   "codemirror_mode": {
    "name": "ipython",
    "version": 3
   },
   "file_extension": ".py",
   "mimetype": "text/x-python",
   "name": "python",
   "nbconvert_exporter": "python",
   "pygments_lexer": "ipython3",
   "version": "3.11.13"
  }
 },
 "nbformat": 4,
 "nbformat_minor": 5
}
